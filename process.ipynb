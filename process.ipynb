{
 "cells": [
  {
   "cell_type": "code",
   "execution_count": 126,
   "metadata": {},
   "outputs": [],
   "source": [
    "import pandas as pd\n",
    "import pycountry_convert as pc\n",
    "\n",
    "# Import libraries\n",
    "import numpy as np\n",
    "import os\n",
    "from sklearn.utils import resample\n",
    "from sklearn.preprocessing import LabelEncoder, OneHotEncoder\n",
    "from sklearn.model_selection import train_test_split\n",
    "import shap\n",
    "import xgboost as xgb"
   ]
  },
  {
   "cell_type": "code",
   "execution_count": 127,
   "metadata": {},
   "outputs": [],
   "source": [
    "# Define data folder\n",
    "data_folder = \"./DASS_data\"\n",
    "dataset = pd.read_csv(\"./DASS_data/data.csv\", delimiter='\\t', on_bad_lines='skip')"
   ]
  },
  {
   "cell_type": "code",
   "execution_count": 128,
   "metadata": {},
   "outputs": [
    {
     "name": "stdout",
     "output_type": "stream",
     "text": [
      "Q1A               0\n",
      "Q1I               0\n",
      "Q1E               0\n",
      "Q2A               0\n",
      "Q2I               0\n",
      "              ...  \n",
      "race              0\n",
      "voted             0\n",
      "married           0\n",
      "familysize        0\n",
      "major         11403\n",
      "Length: 172, dtype: int64\n"
     ]
    }
   ],
   "source": [
    "missing_values = dataset.isna().sum()\n",
    "print(missing_values)"
   ]
  },
  {
   "cell_type": "code",
   "execution_count": 129,
   "metadata": {},
   "outputs": [],
   "source": [
    "# Drop multiple columns in-place\n",
    "dataset.drop([\"major\"], axis=1, inplace=True)"
   ]
  },
  {
   "cell_type": "code",
   "execution_count": 130,
   "metadata": {},
   "outputs": [
    {
     "name": "stdout",
     "output_type": "stream",
     "text": [
      "['Q1A', 'Q2A', 'Q3A', 'Q4A', 'Q5A', 'Q6A', 'Q7A', 'Q8A', 'Q9A', 'Q10A', 'Q11A', 'Q12A', 'Q13A', 'Q14A', 'Q15A', 'Q16A', 'Q17A', 'Q18A', 'Q19A', 'Q20A', 'Q21A', 'Q22A', 'Q23A', 'Q24A', 'Q25A', 'Q26A', 'Q27A', 'Q28A', 'Q29A', 'Q30A', 'Q31A', 'Q32A', 'Q33A', 'Q34A', 'Q35A', 'Q36A', 'Q37A', 'Q38A', 'Q39A', 'Q40A', 'Q41A', 'Q42A']\n"
     ]
    }
   ],
   "source": [
    "# Define the questions contributing to each score\n",
    "depression_questions = ['Q3A', 'Q5A', 'Q10A', 'Q13A', 'Q16A', 'Q17A', 'Q21A', 'Q24A', 'Q26A', 'Q31A', 'Q34A', 'Q37A', 'Q38A', 'Q42A']\n",
    "anxiety_questions = ['Q2A', 'Q4A', 'Q7A', 'Q9A', 'Q15A', 'Q19A', 'Q20A', 'Q23A', 'Q25A', 'Q28A', 'Q30A', 'Q36A', 'Q40A', 'Q41A']\n",
    "stress_questions = ['Q1A', 'Q6A', 'Q8A', 'Q11A', 'Q12A', 'Q14A', 'Q18A', 'Q22A', 'Q27A', 'Q29A', 'Q32A', 'Q33A', 'Q35A', 'Q39A']\n",
    "\n",
    "# Identify columns that end with 'A'\n",
    "columns_to_update = [col for col in dataset.columns if col.endswith('A')]\n",
    "print(columns_to_update)\n",
    "\n",
    "# Add 1 to each of these columns\n",
    "for col in columns_to_update:\n",
    "    dataset[col] = dataset[col] - 1\n",
    "\n",
    "# Calculate the Depression, Anxiety, and Stress scores\n",
    "dataset['Depression_Score'] = dataset[depression_questions].sum(axis=1)\n",
    "dataset['Anxiety_Score'] = dataset[anxiety_questions].sum(axis=1)\n",
    "dataset['Stress_Score'] = dataset[stress_questions].sum(axis=1)"
   ]
  },
  {
   "cell_type": "code",
   "execution_count": 131,
   "metadata": {},
   "outputs": [],
   "source": [
    "# Define functions to categorize the scores\n",
    "def categorize_depression(score):\n",
    "    if score <= 9:\n",
    "        return 0\n",
    "    elif score <= 13:\n",
    "        return 1\n",
    "    elif score <= 20:\n",
    "        return 2\n",
    "    elif score <= 27:\n",
    "        return 3\n",
    "    else:\n",
    "        return 4\n",
    "\n",
    "def categorize_anxiety(score):\n",
    "    if score <= 7:\n",
    "        return 0\n",
    "    elif score <= 9:\n",
    "        return 1\n",
    "    elif score <= 14:\n",
    "        return 2\n",
    "    elif score <= 19:\n",
    "        return 3\n",
    "    else:\n",
    "        return 4\n",
    "\n",
    "def categorize_stress(score):\n",
    "    if score <= 14:\n",
    "        return 0\n",
    "    elif score <= 18:\n",
    "        return 1\n",
    "    elif score <= 25:\n",
    "        return 2\n",
    "    elif score <= 33:\n",
    "        return 3\n",
    "    else:\n",
    "        return 4"
   ]
  },
  {
   "cell_type": "code",
   "execution_count": 132,
   "metadata": {},
   "outputs": [],
   "source": [
    "# Apply the categorization functions\n",
    "dataset['Depression_Level'] = dataset['Depression_Score'].apply(categorize_depression)\n",
    "dataset['Anxiety_Level'] = dataset['Anxiety_Score'].apply(categorize_anxiety)\n",
    "dataset['Stress_Level'] = dataset['Stress_Score'].apply(categorize_stress)"
   ]
  },
  {
   "cell_type": "code",
   "execution_count": 133,
   "metadata": {},
   "outputs": [],
   "source": [
    "anxiety_data = dataset.drop(['Depression_Level', 'Stress_Level', 'Depression_Score', 'Stress_Score'], axis=1)"
   ]
  },
  {
   "cell_type": "code",
   "execution_count": 134,
   "metadata": {},
   "outputs": [],
   "source": [
    "# Step 1: Identify columns ending with 'E'\n",
    "time_columns = [col for col in anxiety_data.columns if col.endswith('E')]\n",
    "\n",
    "# Step 3: Filter out rows with extreme values in any of the time columns\n",
    "for col in time_columns:\n",
    "    cutoff_value = 100000\n",
    "    anxiety_data = anxiety_data[dataset[col] <= cutoff_value]"
   ]
  },
  {
   "cell_type": "code",
   "execution_count": 135,
   "metadata": {},
   "outputs": [],
   "source": [
    "def encode_country(row):\n",
    "    # Encode country into three major regions (east, west, other)\n",
    "    country_code = row[\"country\"]\n",
    "    try:\n",
    "        if country_code and country_code != \"NONE\":\n",
    "            continent_name = pc.country_alpha2_to_continent_code(country_code)\n",
    "            if continent_name == \"AS\":\n",
    "                region_name = \"east\"\n",
    "            elif continent_name in [\"NA\", \"EU\", \"OC\"]:\n",
    "                region_name = \"west\"\n",
    "            else:\n",
    "                region_name = \"other\"\n",
    "        else:\n",
    "            region_name = \"\"\n",
    "    except:\n",
    "        region_name = \"\"\n",
    "    return region_name\n",
    "    \n",
    "def encode_continent(row):\n",
    "    # Encode country into three major regions (east, west, other)\n",
    "    country_code = row[\"country\"]\n",
    "    try:\n",
    "        if country_code and country_code != \"NONE\":\n",
    "            continent_name = pc.country_alpha2_to_continent_code(country_code)\n",
    "        else:\n",
    "            continent_name = \"\"\n",
    "    except:\n",
    "        continent_name = \"\"\n",
    "    return continent_name\n",
    "\n",
    "def encode_age(row):\n",
    "    # Encode age into groups\n",
    "    age = int(row['age'])\n",
    "    if age < 18:\n",
    "        agegroup = 0\n",
    "    elif age < 28:\n",
    "        agegroup = 1\n",
    "    elif age < 38:\n",
    "        agegroup = 2\n",
    "    elif age < 48:\n",
    "        agegroup = 3\n",
    "    elif age < 58:\n",
    "        agegroup = 4\n",
    "    elif age < 68:\n",
    "        agegroup = 5\n",
    "    else:\n",
    "        agegroup = 6\n",
    "    return agegroup"
   ]
  },
  {
   "cell_type": "code",
   "execution_count": 136,
   "metadata": {},
   "outputs": [],
   "source": [
    "anxiety_data[\"agegroup\"] = dataset.apply(lambda row: encode_age(row), axis=1)\n",
    "anxiety_data[\"continent\"] = dataset.apply(lambda row: encode_continent(row), axis=1)\n",
    "anxiety_data[\"region\"] = dataset.apply(lambda row: encode_country(row), axis=1)"
   ]
  },
  {
   "cell_type": "code",
   "execution_count": 137,
   "metadata": {},
   "outputs": [],
   "source": [
    "# Filter data\n",
    "anxiety_data.drop(anxiety_data[(anxiety_data['gender'] == 0) | (anxiety_data['gender'] == 3)].index, inplace=True)  # Male and females only\n",
    "anxiety_data[anxiety_data['age'] >= 18]  # Adults only\n",
    "anxiety_data = anxiety_data[anxiety_data['region'] != \"\"]  # Must have region\n",
    "anxiety_data = anxiety_data.dropna()\n",
    "\n",
    "# Remove data with countries that have strict data privacy laws (for public use only)\n",
    "# Define the list of countries to exclude\n",
    "countries_to_exclude = [\"CH\", \"IN\", \"JA\", \"AU\"]\n",
    "# Filter the dataset to exclude the specified countries and continent\n",
    "anxiety_data = anxiety_data[(anxiety_data['continent'] != \"EU\") & ~anxiety_data['country'].isin(countries_to_exclude)]"
   ]
  },
  {
   "cell_type": "code",
   "execution_count": 138,
   "metadata": {},
   "outputs": [
    {
     "name": "stdout",
     "output_type": "stream",
     "text": [
      "Number of samples: 31629\n"
     ]
    }
   ],
   "source": [
    "num_samples = anxiety_data.shape[0]\n",
    "print(\"Number of samples:\", num_samples)"
   ]
  },
  {
   "cell_type": "code",
   "execution_count": 139,
   "metadata": {},
   "outputs": [
    {
     "name": "stdout",
     "output_type": "stream",
     "text": [
      "\n",
      "After filtering:\n",
      "2    25094\n",
      "1     6535\n",
      "Name: gender, dtype: int64\n",
      "1    20888\n",
      "0     5434\n",
      "2     3393\n",
      "3     1043\n",
      "4      592\n",
      "5      216\n",
      "6       63\n",
      "Name: agegroup, dtype: int64\n",
      "23.420689873217615 23.621835097052116\n",
      "AS    22357\n",
      "NA     8546\n",
      "SA      306\n",
      "AF      216\n",
      "OC      204\n",
      "Name: continent, dtype: int64\n",
      "east     22357\n",
      "west      8750\n",
      "other      522\n",
      "Name: region, dtype: int64\n",
      "10    1166\n",
      "13    1150\n",
      "7     1134\n",
      "6     1109\n",
      "12    1106\n",
      "8     1100\n",
      "9     1097\n",
      "14    1083\n",
      "11    1078\n",
      "16    1046\n",
      "5     1018\n",
      "4     1016\n",
      "3      999\n",
      "15     984\n",
      "17     963\n",
      "18     944\n",
      "22     922\n",
      "19     908\n",
      "20     901\n",
      "21     887\n",
      "2      856\n",
      "23     813\n",
      "24     796\n",
      "25     745\n",
      "1      739\n",
      "0      671\n",
      "26     660\n",
      "28     628\n",
      "27     624\n",
      "29     563\n",
      "30     529\n",
      "31     468\n",
      "32     465\n",
      "33     378\n",
      "34     356\n",
      "35     320\n",
      "36     294\n",
      "37     262\n",
      "38     214\n",
      "39     185\n",
      "42     184\n",
      "40     149\n",
      "41     119\n",
      "Name: Anxiety_Score, dtype: int64\n"
     ]
    }
   ],
   "source": [
    "# Data summary (after filtering)\n",
    "print(\"\\nAfter filtering:\")\n",
    "print(anxiety_data['gender'].value_counts())\n",
    "print(anxiety_data['agegroup'].value_counts())\n",
    "print(anxiety_data['age'].mean(), anxiety_data['age'].std())\n",
    "print(anxiety_data['continent'].value_counts())\n",
    "print(anxiety_data['region'].value_counts())\n",
    "print(anxiety_data['Anxiety_Score'].value_counts())"
   ]
  },
  {
   "cell_type": "code",
   "execution_count": 140,
   "metadata": {},
   "outputs": [
    {
     "name": "stdout",
     "output_type": "stream",
     "text": [
      "       Continent  Mean Age (years)  Standard deviation Age (years)  Males  \\\n",
      "0           Asia              23.6                            27.0   3896   \n",
      "1         Europe              28.5                            11.3    955   \n",
      "2  North America              29.9                            12.9   2016   \n",
      "3          Other              28.7                            11.6    350   \n",
      "\n",
      "   Females  \n",
      "0    18246  \n",
      "1     1543  \n",
      "2     3990  \n",
      "3      719  \n",
      "\\begin{table}\n",
      "\\centering\n",
      "\\caption{Demographic Information by Continent}\n",
      "\\begin{tabular}{lrrrr}\n",
      "\\toprule\n",
      "    Continent &  Mean Age (years) &  Standard deviation Age (years) &  Males &  Females \\\\\n",
      "\\midrule\n",
      "         Asia &              23.6 &                            27.0 &   3896 &    18246 \\\\\n",
      "       Europe &              28.5 &                            11.3 &    955 &     1543 \\\\\n",
      "North America &              29.9 &                            12.9 &   2016 &     3990 \\\\\n",
      "        Other &              28.7 &                            11.6 &    350 &      719 \\\\\n",
      "\\bottomrule\n",
      "\\end{tabular}\n",
      "\\end{table}\n",
      "\n"
     ]
    }
   ],
   "source": [
    "# Define the data based on your provided summary\n",
    "table_data = {\n",
    "    'Continent': ['Asia', 'Europe', 'North America', 'Other'],\n",
    "    'Mean Age (years)': [23.6, 28.5, 29.9, 28.7],\n",
    "    'Standard deviation Age (years)': [27.0, 11.3, 12.9, 11.6],\n",
    "    'Males': [3896, 955, 2016, 350],\n",
    "    'Females': [18246, 1543, 3990, 719]\n",
    "}\n",
    "\n",
    "# Create DataFrame\n",
    "df = pd.DataFrame(table_data)\n",
    "\n",
    "# Display the DataFrame\n",
    "print(df)\n",
    "\n",
    "# Convert the DataFrame to LaTeX format\n",
    "latex_table = df.to_latex(index=False, caption=\"Demographic Information by Continent\")\n",
    "\n",
    "# Print the LaTeX table\n",
    "print(latex_table)"
   ]
  },
  {
   "cell_type": "code",
   "execution_count": 141,
   "metadata": {},
   "outputs": [],
   "source": [
    "for col in anxiety_data.columns:\n",
    "    if \"TIPI\" in col or \"VCL\" in col:\n",
    "        anxiety_data = anxiety_data.drop([col], axis=1)\n",
    "    elif col[0] == \"Q\" and (col[-1] == \"E\" or col[-1] == \"I\"):\n",
    "        anxiety_data = anxiety_data.drop([col], axis=1)"
   ]
  },
  {
   "cell_type": "code",
   "execution_count": 142,
   "metadata": {},
   "outputs": [],
   "source": [
    "# Define data folder\n",
    "seed = 100\n",
    "data_folder = \"./DASS_data\"\n",
    "\n",
    "features_dataframe = anxiety_data.drop(['Anxiety_Level', 'Anxiety_Score'], axis=1)\n",
    "features_dataframe.to_csv(os.path.join(data_folder, \"original_features.csv\"), index=None)"
   ]
  },
  {
   "cell_type": "code",
   "execution_count": 143,
   "metadata": {},
   "outputs": [
    {
     "data": {
      "text/plain": [
       "(4    11462\n",
       " 0     7542\n",
       " 2     5583\n",
       " 3     4845\n",
       " 1     2197\n",
       " Name: Anxiety_Level, dtype: int64,\n",
       " 4    0.362389\n",
       " 0    0.238452\n",
       " 2    0.176515\n",
       " 3    0.153182\n",
       " 1    0.069462\n",
       " Name: Anxiety_Level, dtype: float64)"
      ]
     },
     "execution_count": 143,
     "metadata": {},
     "output_type": "execute_result"
    }
   ],
   "source": [
    "anxiety_score_counts = anxiety_data['Anxiety_Level'].value_counts()\n",
    "anxiety_score_proportions = anxiety_score_counts / len(anxiety_data)\n",
    "anxiety_score_counts, anxiety_score_proportions"
   ]
  },
  {
   "cell_type": "code",
   "execution_count": 144,
   "metadata": {},
   "outputs": [],
   "source": [
    "def preprocess(dataframe):\n",
    "    \n",
    "    anxiety_level_0 = dataframe[dataframe['Anxiety_Level'] == 0]\n",
    "    anxiety_level_1 = dataframe[dataframe['Anxiety_Level'] == 1]\n",
    "    anxiety_level_2 = dataframe[dataframe['Anxiety_Level'] == 2]\n",
    "    anxiety_level_3 = dataframe[dataframe['Anxiety_Level'] == 3]\n",
    "    anxiety_level_4 = dataframe[dataframe['Anxiety_Level'] == 4]\n",
    "    \n",
    "    # Upsample the minority classes\n",
    "    anxiety_level_0_upsampled = resample(anxiety_level_0, replace=True, n_samples=len(anxiety_level_4.index), random_state=seed)\n",
    "    anxiety_level_1_upsampled = resample(anxiety_level_1, replace=True, n_samples=len(anxiety_level_4.index), random_state=seed)\n",
    "    anxiety_level_2_upsampled = resample(anxiety_level_2, replace=True, n_samples=len(anxiety_level_4.index), random_state=seed)\n",
    "    anxiety_level_3_upsampled = resample(anxiety_level_3, replace=True, n_samples=len(anxiety_level_4.index), random_state=seed)\n",
    "    \n",
    "    anxiety_data_upsampled = pd.concat([anxiety_level_0_upsampled, anxiety_level_1_upsampled, anxiety_level_2_upsampled, anxiety_level_3_upsampled, anxiety_level_4])\n",
    "    anxiety_data = anxiety_data_upsampled.reset_index(drop=True)\n",
    "    \n",
    "    labels_dataframe = anxiety_data[['Anxiety_Level']].copy()\n",
    "    features_dataframe = anxiety_data.drop(['Anxiety_Level', 'Anxiety_Score'], axis=1)\n",
    "    features_dataframe.to_csv(os.path.join(data_folder, \"original_features.csv\"), index=None)\n",
    "    \n",
    "    # z-score normalization\n",
    "    def z_score_norm(row, col, mean, stdev):\n",
    "        z_score = (float(row[col]) - mean) / stdev\n",
    "        return float(z_score)\n",
    "    \n",
    "    # One-hot encode gender and region\n",
    "    label_encoder = LabelEncoder()\n",
    "    onehot_encoder = OneHotEncoder()\n",
    "    \n",
    "    # Label encode the target\n",
    "    label_encoder = LabelEncoder()\n",
    "    dataframe['Anxiety_Level'] = label_encoder.fit_transform(dataframe['Anxiety_Level'])\n",
    "    \n",
    "    # Gender\n",
    "    gender = label_encoder.fit_transform(features_dataframe[\"gender\"])\n",
    "    gender = pd.DataFrame(gender)\n",
    "    gender = pd.DataFrame(onehot_encoder.fit_transform(gender).toarray())\n",
    "    gender.columns = [\"gender_m\", \"gender_f\"]\n",
    "    \n",
    "    # Region\n",
    "    region = label_encoder.fit_transform(features_dataframe[\"region\"])\n",
    "    region = pd.DataFrame(region)\n",
    "    region = pd.DataFrame(onehot_encoder.fit_transform(region).toarray())\n",
    "    region.columns = [\"region_other\", \"region_east\", \"region_west\"]\n",
    "    \n",
    "    # Combine and remove original columns\n",
    "    features_dataframe = features_dataframe.drop([\"gender\", \"country\", \"region\", \"agegroup\", \"continent\"], axis=1)\n",
    "    features_dataframe = pd.concat([features_dataframe, gender, region], axis=1)\n",
    "    \n",
    "    # One-hot encode question answers\n",
    "    for col in features_dataframe.columns:\n",
    "        if col[0] == \"Q\" and col[-1] == \"A\":\n",
    "            temp = label_encoder.fit_transform(features_dataframe[col])\n",
    "            temp = pd.DataFrame(temp)\n",
    "            temp = pd.DataFrame(onehot_encoder.fit_transform(temp).toarray())\n",
    "\n",
    "            col_names = []\n",
    "            for c in temp.columns:\n",
    "                col_names.append(\"{0}_{1}\".format(col, c))\n",
    "            temp.columns = col_names\n",
    "\n",
    "            features_dataframe = features_dataframe.drop([col], axis=1)\n",
    "            features_dataframe = pd.concat([features_dataframe, temp], axis=1)\n",
    "    \n",
    "    # Normalize numerical columns (Use z-score)\n",
    "    mean = features_dataframe[\"age\"].mean()\n",
    "    stdev = features_dataframe[\"age\"].std()\n",
    "    features_dataframe[\"age_norm\"] = features_dataframe.apply(\n",
    "                    lambda row: z_score_norm(row, \"age\", mean, stdev), axis=1)\n",
    "    features_dataframe = features_dataframe.drop([\"age\"], axis=1)\n",
    "    \n",
    "\n",
    "    return features_dataframe, labels_dataframe"
   ]
  },
  {
   "cell_type": "code",
   "execution_count": 145,
   "metadata": {},
   "outputs": [],
   "source": [
    "# Split into features and labels, save as CSV\n",
    "features_df, labels_df = preprocess(anxiety_data)\n",
    "# One hot coded. Save as CSV\n",
    "features_df.to_csv(os.path.join(data_folder, \"features.csv\"), index=None)\n",
    "labels_df.to_csv(os.path.join(data_folder, \"labels.csv\"), index=None)"
   ]
  },
  {
   "cell_type": "code",
   "execution_count": 146,
   "metadata": {},
   "outputs": [
    {
     "data": {
      "text/plain": [
       "(0    11462\n",
       " 1    11462\n",
       " 2    11462\n",
       " 3    11462\n",
       " 4    11462\n",
       " Name: Anxiety_Level, dtype: int64,\n",
       " 0    0.2\n",
       " 1    0.2\n",
       " 2    0.2\n",
       " 3    0.2\n",
       " 4    0.2\n",
       " Name: Anxiety_Level, dtype: float64)"
      ]
     },
     "execution_count": 146,
     "metadata": {},
     "output_type": "execute_result"
    }
   ],
   "source": [
    "anxiety_score_counts = labels_df['Anxiety_Level'].value_counts()\n",
    "anxiety_score_proportions = anxiety_score_counts / len(labels_df)\n",
    "anxiety_score_counts, anxiety_score_proportions"
   ]
  },
  {
   "cell_type": "code",
   "execution_count": 147,
   "metadata": {},
   "outputs": [
    {
     "ename": "KeyboardInterrupt",
     "evalue": "",
     "output_type": "error",
     "traceback": [
      "\u001b[0;31m---------------------------------------------------------------------------\u001b[0m",
      "\u001b[0;31mKeyboardInterrupt\u001b[0m                         Traceback (most recent call last)",
      "Cell \u001b[0;32mIn[147], line 10\u001b[0m\n\u001b[1;32m      6\u001b[0m labels \u001b[38;5;241m=\u001b[39m pd\u001b[38;5;241m.\u001b[39mread_csv(os\u001b[38;5;241m.\u001b[39mpath\u001b[38;5;241m.\u001b[39mjoin(data_folder, \u001b[38;5;124m\"\u001b[39m\u001b[38;5;124mlabels.csv\u001b[39m\u001b[38;5;124m\"\u001b[39m))\n\u001b[1;32m      8\u001b[0m labels \u001b[38;5;241m=\u001b[39m labels[\u001b[38;5;124m\"\u001b[39m\u001b[38;5;124mAnxiety_Level\u001b[39m\u001b[38;5;124m\"\u001b[39m]\n\u001b[0;32m---> 10\u001b[0m selected_features \u001b[38;5;241m=\u001b[39m \u001b[43mmrmr_classif\u001b[49m\u001b[43m(\u001b[49m\u001b[43mX\u001b[49m\u001b[38;5;241;43m=\u001b[39;49m\u001b[43mtrain_feats\u001b[49m\u001b[43m,\u001b[49m\u001b[43m \u001b[49m\u001b[43my\u001b[49m\u001b[38;5;241;43m=\u001b[39;49m\u001b[43mlabels\u001b[49m\u001b[43m,\u001b[49m\u001b[43m \u001b[49m\u001b[43mK\u001b[49m\u001b[38;5;241;43m=\u001b[39;49m\u001b[38;5;241;43m10\u001b[39;49m\u001b[43m)\u001b[49m\n\u001b[1;32m     11\u001b[0m \u001b[38;5;28mprint\u001b[39m(selected_features)\n",
      "File \u001b[0;32m~/Documents/long_to_short_dass/long_to_short/lib/python3.10/site-packages/mrmr/pandas.py:171\u001b[0m, in \u001b[0;36mmrmr_classif\u001b[0;34m(X, y, K, relevance, redundancy, denominator, cat_features, cat_encoding, only_same_domain, return_scores, n_jobs, show_progress)\u001b[0m\n\u001b[1;32m    168\u001b[0m relevance_args \u001b[38;5;241m=\u001b[39m {\u001b[38;5;124m'\u001b[39m\u001b[38;5;124mX\u001b[39m\u001b[38;5;124m'\u001b[39m: X, \u001b[38;5;124m'\u001b[39m\u001b[38;5;124my\u001b[39m\u001b[38;5;124m'\u001b[39m: y}\n\u001b[1;32m    169\u001b[0m redundancy_args \u001b[38;5;241m=\u001b[39m {\u001b[38;5;124m'\u001b[39m\u001b[38;5;124mX\u001b[39m\u001b[38;5;124m'\u001b[39m: X}\n\u001b[0;32m--> 171\u001b[0m \u001b[38;5;28;01mreturn\u001b[39;00m \u001b[43mmrmr_base\u001b[49m\u001b[43m(\u001b[49m\u001b[43mK\u001b[49m\u001b[38;5;241;43m=\u001b[39;49m\u001b[43mK\u001b[49m\u001b[43m,\u001b[49m\u001b[43m \u001b[49m\u001b[43mrelevance_func\u001b[49m\u001b[38;5;241;43m=\u001b[39;49m\u001b[43mrelevance_func\u001b[49m\u001b[43m,\u001b[49m\u001b[43m \u001b[49m\u001b[43mredundancy_func\u001b[49m\u001b[38;5;241;43m=\u001b[39;49m\u001b[43mredundancy_func\u001b[49m\u001b[43m,\u001b[49m\n\u001b[1;32m    172\u001b[0m \u001b[43m                 \u001b[49m\u001b[43mrelevance_args\u001b[49m\u001b[38;5;241;43m=\u001b[39;49m\u001b[43mrelevance_args\u001b[49m\u001b[43m,\u001b[49m\u001b[43m \u001b[49m\u001b[43mredundancy_args\u001b[49m\u001b[38;5;241;43m=\u001b[39;49m\u001b[43mredundancy_args\u001b[49m\u001b[43m,\u001b[49m\n\u001b[1;32m    173\u001b[0m \u001b[43m                 \u001b[49m\u001b[43mdenominator_func\u001b[49m\u001b[38;5;241;43m=\u001b[39;49m\u001b[43mdenominator_func\u001b[49m\u001b[43m,\u001b[49m\u001b[43m \u001b[49m\u001b[43monly_same_domain\u001b[49m\u001b[38;5;241;43m=\u001b[39;49m\u001b[43monly_same_domain\u001b[49m\u001b[43m,\u001b[49m\n\u001b[1;32m    174\u001b[0m \u001b[43m                 \u001b[49m\u001b[43mreturn_scores\u001b[49m\u001b[38;5;241;43m=\u001b[39;49m\u001b[43mreturn_scores\u001b[49m\u001b[43m,\u001b[49m\u001b[43m \u001b[49m\u001b[43mshow_progress\u001b[49m\u001b[38;5;241;43m=\u001b[39;49m\u001b[43mshow_progress\u001b[49m\u001b[43m)\u001b[49m\n",
      "File \u001b[0;32m~/Documents/long_to_short_dass/long_to_short/lib/python3.10/site-packages/mrmr/main.py:98\u001b[0m, in \u001b[0;36mmrmr_base\u001b[0;34m(K, relevance_func, redundancy_func, relevance_args, redundancy_args, denominator_func, only_same_domain, return_scores, show_progress)\u001b[0m\n\u001b[1;32m     44\u001b[0m \u001b[38;5;28;01mdef\u001b[39;00m \u001b[38;5;21mmrmr_base\u001b[39m(K, relevance_func, redundancy_func,\n\u001b[1;32m     45\u001b[0m               relevance_args\u001b[38;5;241m=\u001b[39m{}, redundancy_args\u001b[38;5;241m=\u001b[39m{},\n\u001b[1;32m     46\u001b[0m               denominator_func\u001b[38;5;241m=\u001b[39mnp\u001b[38;5;241m.\u001b[39mmean, only_same_domain\u001b[38;5;241m=\u001b[39m\u001b[38;5;28;01mFalse\u001b[39;00m,\n\u001b[1;32m     47\u001b[0m               return_scores\u001b[38;5;241m=\u001b[39m\u001b[38;5;28;01mFalse\u001b[39;00m, show_progress\u001b[38;5;241m=\u001b[39m\u001b[38;5;28;01mTrue\u001b[39;00m):\n\u001b[1;32m     48\u001b[0m \u001b[38;5;250m    \u001b[39m\u001b[38;5;124;03m\"\"\"General function for mRMR algorithm.\u001b[39;00m\n\u001b[1;32m     49\u001b[0m \n\u001b[1;32m     50\u001b[0m \u001b[38;5;124;03m    Parameters\u001b[39;00m\n\u001b[0;32m   (...)\u001b[0m\n\u001b[1;32m     95\u001b[0m \u001b[38;5;124;03m        List of selected features.\u001b[39;00m\n\u001b[1;32m     96\u001b[0m \u001b[38;5;124;03m    \"\"\"\u001b[39;00m\n\u001b[0;32m---> 98\u001b[0m     relevance \u001b[38;5;241m=\u001b[39m \u001b[43mrelevance_func\u001b[49m\u001b[43m(\u001b[49m\u001b[38;5;241;43m*\u001b[39;49m\u001b[38;5;241;43m*\u001b[39;49m\u001b[43mrelevance_args\u001b[49m\u001b[43m)\u001b[49m\n\u001b[1;32m     99\u001b[0m     features \u001b[38;5;241m=\u001b[39m relevance[relevance\u001b[38;5;241m.\u001b[39mfillna(\u001b[38;5;241m0\u001b[39m) \u001b[38;5;241m>\u001b[39m \u001b[38;5;241m0\u001b[39m]\u001b[38;5;241m.\u001b[39mindex\u001b[38;5;241m.\u001b[39mto_list()\n\u001b[1;32m    100\u001b[0m     relevance \u001b[38;5;241m=\u001b[39m relevance\u001b[38;5;241m.\u001b[39mloc[features]\n",
      "File \u001b[0;32m~/Documents/long_to_short_dass/long_to_short/lib/python3.10/site-packages/mrmr/pandas.py:45\u001b[0m, in \u001b[0;36mf_classif\u001b[0;34m(X, y, n_jobs)\u001b[0m\n\u001b[1;32m     44\u001b[0m \u001b[38;5;28;01mdef\u001b[39;00m \u001b[38;5;21mf_classif\u001b[39m(X, y, n_jobs):\n\u001b[0;32m---> 45\u001b[0m     \u001b[38;5;28;01mreturn\u001b[39;00m \u001b[43mparallel_df\u001b[49m\u001b[43m(\u001b[49m\u001b[43m_f_classif\u001b[49m\u001b[43m,\u001b[49m\u001b[43m \u001b[49m\u001b[43mX\u001b[49m\u001b[43m,\u001b[49m\u001b[43m \u001b[49m\u001b[43my\u001b[49m\u001b[43m,\u001b[49m\u001b[43m \u001b[49m\u001b[43mn_jobs\u001b[49m\u001b[38;5;241;43m=\u001b[39;49m\u001b[43mn_jobs\u001b[49m\u001b[43m)\u001b[49m\n",
      "File \u001b[0;32m~/Documents/long_to_short_dass/long_to_short/lib/python3.10/site-packages/mrmr/pandas.py:17\u001b[0m, in \u001b[0;36mparallel_df\u001b[0;34m(func, df, series, n_jobs)\u001b[0m\n\u001b[1;32m     15\u001b[0m n_jobs \u001b[38;5;241m=\u001b[39m \u001b[38;5;28mmin\u001b[39m(cpu_count(), \u001b[38;5;28mlen\u001b[39m(df\u001b[38;5;241m.\u001b[39mcolumns)) \u001b[38;5;28;01mif\u001b[39;00m n_jobs \u001b[38;5;241m==\u001b[39m \u001b[38;5;241m-\u001b[39m\u001b[38;5;241m1\u001b[39m \u001b[38;5;28;01melse\u001b[39;00m \u001b[38;5;28mmin\u001b[39m(cpu_count(), n_jobs)\n\u001b[1;32m     16\u001b[0m col_chunks \u001b[38;5;241m=\u001b[39m np\u001b[38;5;241m.\u001b[39marray_split(\u001b[38;5;28mrange\u001b[39m(\u001b[38;5;28mlen\u001b[39m(df\u001b[38;5;241m.\u001b[39mcolumns)), n_jobs)\n\u001b[0;32m---> 17\u001b[0m lst \u001b[38;5;241m=\u001b[39m \u001b[43mParallel\u001b[49m\u001b[43m(\u001b[49m\u001b[43mn_jobs\u001b[49m\u001b[38;5;241;43m=\u001b[39;49m\u001b[43mn_jobs\u001b[49m\u001b[43m)\u001b[49m\u001b[43m(\u001b[49m\n\u001b[1;32m     18\u001b[0m \u001b[43m    \u001b[49m\u001b[43mdelayed\u001b[49m\u001b[43m(\u001b[49m\u001b[43mfunc\u001b[49m\u001b[43m)\u001b[49m\u001b[43m(\u001b[49m\u001b[43mdf\u001b[49m\u001b[38;5;241;43m.\u001b[39;49m\u001b[43miloc\u001b[49m\u001b[43m[\u001b[49m\u001b[43m:\u001b[49m\u001b[43m,\u001b[49m\u001b[43m \u001b[49m\u001b[43mcol_chunk\u001b[49m\u001b[43m]\u001b[49m\u001b[43m,\u001b[49m\u001b[43m \u001b[49m\u001b[43mseries\u001b[49m\u001b[43m)\u001b[49m\n\u001b[1;32m     19\u001b[0m \u001b[43m    \u001b[49m\u001b[38;5;28;43;01mfor\u001b[39;49;00m\u001b[43m \u001b[49m\u001b[43mcol_chunk\u001b[49m\u001b[43m \u001b[49m\u001b[38;5;129;43;01min\u001b[39;49;00m\u001b[43m \u001b[49m\u001b[43mcol_chunks\u001b[49m\n\u001b[1;32m     20\u001b[0m \u001b[43m\u001b[49m\u001b[43m)\u001b[49m\n\u001b[1;32m     21\u001b[0m \u001b[38;5;28;01mreturn\u001b[39;00m pd\u001b[38;5;241m.\u001b[39mconcat(lst)\n",
      "File \u001b[0;32m~/Documents/long_to_short_dass/long_to_short/lib/python3.10/site-packages/joblib/parallel.py:1952\u001b[0m, in \u001b[0;36mParallel.__call__\u001b[0;34m(self, iterable)\u001b[0m\n\u001b[1;32m   1946\u001b[0m \u001b[38;5;66;03m# The first item from the output is blank, but it makes the interpreter\u001b[39;00m\n\u001b[1;32m   1947\u001b[0m \u001b[38;5;66;03m# progress until it enters the Try/Except block of the generator and\u001b[39;00m\n\u001b[1;32m   1948\u001b[0m \u001b[38;5;66;03m# reach the first `yield` statement. This starts the aynchronous\u001b[39;00m\n\u001b[1;32m   1949\u001b[0m \u001b[38;5;66;03m# dispatch of the tasks to the workers.\u001b[39;00m\n\u001b[1;32m   1950\u001b[0m \u001b[38;5;28mnext\u001b[39m(output)\n\u001b[0;32m-> 1952\u001b[0m \u001b[38;5;28;01mreturn\u001b[39;00m output \u001b[38;5;28;01mif\u001b[39;00m \u001b[38;5;28mself\u001b[39m\u001b[38;5;241m.\u001b[39mreturn_generator \u001b[38;5;28;01melse\u001b[39;00m \u001b[38;5;28;43mlist\u001b[39;49m\u001b[43m(\u001b[49m\u001b[43moutput\u001b[49m\u001b[43m)\u001b[49m\n",
      "File \u001b[0;32m~/Documents/long_to_short_dass/long_to_short/lib/python3.10/site-packages/joblib/parallel.py:1595\u001b[0m, in \u001b[0;36mParallel._get_outputs\u001b[0;34m(self, iterator, pre_dispatch)\u001b[0m\n\u001b[1;32m   1592\u001b[0m     \u001b[38;5;28;01myield\u001b[39;00m\n\u001b[1;32m   1594\u001b[0m     \u001b[38;5;28;01mwith\u001b[39;00m \u001b[38;5;28mself\u001b[39m\u001b[38;5;241m.\u001b[39m_backend\u001b[38;5;241m.\u001b[39mretrieval_context():\n\u001b[0;32m-> 1595\u001b[0m         \u001b[38;5;28;01myield from\u001b[39;00m \u001b[38;5;28mself\u001b[39m\u001b[38;5;241m.\u001b[39m_retrieve()\n\u001b[1;32m   1597\u001b[0m \u001b[38;5;28;01mexcept\u001b[39;00m \u001b[38;5;167;01mGeneratorExit\u001b[39;00m:\n\u001b[1;32m   1598\u001b[0m     \u001b[38;5;66;03m# The generator has been garbage collected before being fully\u001b[39;00m\n\u001b[1;32m   1599\u001b[0m     \u001b[38;5;66;03m# consumed. This aborts the remaining tasks if possible and warn\u001b[39;00m\n\u001b[1;32m   1600\u001b[0m     \u001b[38;5;66;03m# the user if necessary.\u001b[39;00m\n\u001b[1;32m   1601\u001b[0m     \u001b[38;5;28mself\u001b[39m\u001b[38;5;241m.\u001b[39m_exception \u001b[38;5;241m=\u001b[39m \u001b[38;5;28;01mTrue\u001b[39;00m\n",
      "File \u001b[0;32m~/Documents/long_to_short_dass/long_to_short/lib/python3.10/site-packages/joblib/parallel.py:1707\u001b[0m, in \u001b[0;36mParallel._retrieve\u001b[0;34m(self)\u001b[0m\n\u001b[1;32m   1702\u001b[0m \u001b[38;5;66;03m# If the next job is not ready for retrieval yet, we just wait for\u001b[39;00m\n\u001b[1;32m   1703\u001b[0m \u001b[38;5;66;03m# async callbacks to progress.\u001b[39;00m\n\u001b[1;32m   1704\u001b[0m \u001b[38;5;28;01mif\u001b[39;00m ((\u001b[38;5;28mlen\u001b[39m(\u001b[38;5;28mself\u001b[39m\u001b[38;5;241m.\u001b[39m_jobs) \u001b[38;5;241m==\u001b[39m \u001b[38;5;241m0\u001b[39m) \u001b[38;5;129;01mor\u001b[39;00m\n\u001b[1;32m   1705\u001b[0m     (\u001b[38;5;28mself\u001b[39m\u001b[38;5;241m.\u001b[39m_jobs[\u001b[38;5;241m0\u001b[39m]\u001b[38;5;241m.\u001b[39mget_status(\n\u001b[1;32m   1706\u001b[0m         timeout\u001b[38;5;241m=\u001b[39m\u001b[38;5;28mself\u001b[39m\u001b[38;5;241m.\u001b[39mtimeout) \u001b[38;5;241m==\u001b[39m TASK_PENDING)):\n\u001b[0;32m-> 1707\u001b[0m     \u001b[43mtime\u001b[49m\u001b[38;5;241;43m.\u001b[39;49m\u001b[43msleep\u001b[49m\u001b[43m(\u001b[49m\u001b[38;5;241;43m0.01\u001b[39;49m\u001b[43m)\u001b[49m\n\u001b[1;32m   1708\u001b[0m     \u001b[38;5;28;01mcontinue\u001b[39;00m\n\u001b[1;32m   1710\u001b[0m \u001b[38;5;66;03m# We need to be careful: the job list can be filling up as\u001b[39;00m\n\u001b[1;32m   1711\u001b[0m \u001b[38;5;66;03m# we empty it and Python list are not thread-safe by\u001b[39;00m\n\u001b[1;32m   1712\u001b[0m \u001b[38;5;66;03m# default hence the use of the lock\u001b[39;00m\n",
      "\u001b[0;31mKeyboardInterrupt\u001b[0m: "
     ]
    }
   ],
   "source": [
    "from mrmr import mrmr_classif\n",
    "\n",
    "\n",
    "train_feats = pd.read_csv(os.path.join(data_folder, \"features.csv\"))\n",
    "train_feats = train_feats.drop([\"age_norm\", \"gender_m\", \"gender_f\", \"region_other\", \"region_east\", \"region_west\"], axis=1)  # Comment this line to include demographics\n",
    "labels = pd.read_csv(os.path.join(data_folder, \"labels.csv\"))\n",
    "\n",
    "labels = labels[\"Anxiety_Level\"]\n",
    "\n",
    "selected_features = mrmr_classif(X=train_feats, y=labels, K=10)\n",
    "print(selected_features)"
   ]
  },
  {
   "cell_type": "code",
   "execution_count": null,
   "metadata": {},
   "outputs": [
    {
     "name": "stderr",
     "output_type": "stream",
     "text": [
      "100%|██████████| 10/10 [00:01<00:00,  6.38it/s]"
     ]
    },
    {
     "name": "stdout",
     "output_type": "stream",
     "text": [
      "['Q28A', 'Q20A', 'Q40A', 'Q7A', 'Q36A', 'Q9A', 'Q4A', 'Q41A', 'Q30A', 'Q25A']\n"
     ]
    },
    {
     "name": "stderr",
     "output_type": "stream",
     "text": [
      "\n"
     ]
    }
   ],
   "source": [
    "# Not one-hot encoded dataset\n",
    "train_feats = anxiety_data # Using sample dataset. Change the file name accordingly if using another dataset.\n",
    "train_feats = train_feats.drop([\"country\",\"gender\",\"age\",\"agegroup\",\"continent\",\"region\",\"Anxiety_Score\", \"Anxiety_Level\"], axis=1)\n",
    "\n",
    "labels = anxiety_data[\"Anxiety_Level\"]\n",
    "\n",
    "# print(MRMR(train_feats.to_numpy(), labels.to_numpy().ravel(), show_top)) # The customized function approach\n",
    "selected_features = mrmr_classif(X=train_feats, y=labels, K=10) # The mrmr library approach\n",
    "print(selected_features)"
   ]
  },
  {
   "cell_type": "code",
   "execution_count": null,
   "metadata": {},
   "outputs": [
    {
     "name": "stdout",
     "output_type": "stream",
     "text": [
      "(57310, 42) (57310, 1)\n"
     ]
    }
   ],
   "source": [
    "import pandas as pd\n",
    "from sklearn.linear_model import LogisticRegression\n",
    "from sklearn.model_selection import train_test_split\n",
    "from sklearn.ensemble import RandomForestClassifier\n",
    "from sklearn.metrics import accuracy_score, classification_report\n",
    "from xgboost import XGBClassifier\n",
    "\n",
    "# Load the dataset\n",
    "X = pd.read_csv(os.path.join(data_folder, \"original_features.csv\"))\n",
    "y = pd.read_csv(os.path.join(data_folder, \"labels.csv\"))\n",
    "for column in X.columns:\n",
    "    if \"A\" not in column:\n",
    "        X.drop([column], axis=1, inplace=True)\n",
    "\n",
    "print(X.shape, y.shape)\n"
   ]
  },
  {
   "cell_type": "code",
   "execution_count": null,
   "metadata": {},
   "outputs": [
    {
     "name": "stdout",
     "output_type": "stream",
     "text": [
      "(45848, 42) (11462, 42) (45848, 1) (11462, 1)\n"
     ]
    }
   ],
   "source": [
    "# Split into train and test sets\n",
    "X_train, X_test, y_train, y_test = train_test_split(X, y, test_size=0.2, random_state=42)\n",
    "print(X_train.shape, X_test.shape, y_train.shape, y_test.shape)"
   ]
  },
  {
   "cell_type": "code",
   "execution_count": null,
   "metadata": {},
   "outputs": [
    {
     "data": {
      "text/html": [
       "<style>#sk-container-id-2 {\n",
       "  /* Definition of color scheme common for light and dark mode */\n",
       "  --sklearn-color-text: black;\n",
       "  --sklearn-color-line: gray;\n",
       "  /* Definition of color scheme for unfitted estimators */\n",
       "  --sklearn-color-unfitted-level-0: #fff5e6;\n",
       "  --sklearn-color-unfitted-level-1: #f6e4d2;\n",
       "  --sklearn-color-unfitted-level-2: #ffe0b3;\n",
       "  --sklearn-color-unfitted-level-3: chocolate;\n",
       "  /* Definition of color scheme for fitted estimators */\n",
       "  --sklearn-color-fitted-level-0: #f0f8ff;\n",
       "  --sklearn-color-fitted-level-1: #d4ebff;\n",
       "  --sklearn-color-fitted-level-2: #b3dbfd;\n",
       "  --sklearn-color-fitted-level-3: cornflowerblue;\n",
       "\n",
       "  /* Specific color for light theme */\n",
       "  --sklearn-color-text-on-default-background: var(--sg-text-color, var(--theme-code-foreground, var(--jp-content-font-color1, black)));\n",
       "  --sklearn-color-background: var(--sg-background-color, var(--theme-background, var(--jp-layout-color0, white)));\n",
       "  --sklearn-color-border-box: var(--sg-text-color, var(--theme-code-foreground, var(--jp-content-font-color1, black)));\n",
       "  --sklearn-color-icon: #696969;\n",
       "\n",
       "  @media (prefers-color-scheme: dark) {\n",
       "    /* Redefinition of color scheme for dark theme */\n",
       "    --sklearn-color-text-on-default-background: var(--sg-text-color, var(--theme-code-foreground, var(--jp-content-font-color1, white)));\n",
       "    --sklearn-color-background: var(--sg-background-color, var(--theme-background, var(--jp-layout-color0, #111)));\n",
       "    --sklearn-color-border-box: var(--sg-text-color, var(--theme-code-foreground, var(--jp-content-font-color1, white)));\n",
       "    --sklearn-color-icon: #878787;\n",
       "  }\n",
       "}\n",
       "\n",
       "#sk-container-id-2 {\n",
       "  color: var(--sklearn-color-text);\n",
       "}\n",
       "\n",
       "#sk-container-id-2 pre {\n",
       "  padding: 0;\n",
       "}\n",
       "\n",
       "#sk-container-id-2 input.sk-hidden--visually {\n",
       "  border: 0;\n",
       "  clip: rect(1px 1px 1px 1px);\n",
       "  clip: rect(1px, 1px, 1px, 1px);\n",
       "  height: 1px;\n",
       "  margin: -1px;\n",
       "  overflow: hidden;\n",
       "  padding: 0;\n",
       "  position: absolute;\n",
       "  width: 1px;\n",
       "}\n",
       "\n",
       "#sk-container-id-2 div.sk-dashed-wrapped {\n",
       "  border: 1px dashed var(--sklearn-color-line);\n",
       "  margin: 0 0.4em 0.5em 0.4em;\n",
       "  box-sizing: border-box;\n",
       "  padding-bottom: 0.4em;\n",
       "  background-color: var(--sklearn-color-background);\n",
       "}\n",
       "\n",
       "#sk-container-id-2 div.sk-container {\n",
       "  /* jupyter's `normalize.less` sets `[hidden] { display: none; }`\n",
       "     but bootstrap.min.css set `[hidden] { display: none !important; }`\n",
       "     so we also need the `!important` here to be able to override the\n",
       "     default hidden behavior on the sphinx rendered scikit-learn.org.\n",
       "     See: https://github.com/scikit-learn/scikit-learn/issues/21755 */\n",
       "  display: inline-block !important;\n",
       "  position: relative;\n",
       "}\n",
       "\n",
       "#sk-container-id-2 div.sk-text-repr-fallback {\n",
       "  display: none;\n",
       "}\n",
       "\n",
       "div.sk-parallel-item,\n",
       "div.sk-serial,\n",
       "div.sk-item {\n",
       "  /* draw centered vertical line to link estimators */\n",
       "  background-image: linear-gradient(var(--sklearn-color-text-on-default-background), var(--sklearn-color-text-on-default-background));\n",
       "  background-size: 2px 100%;\n",
       "  background-repeat: no-repeat;\n",
       "  background-position: center center;\n",
       "}\n",
       "\n",
       "/* Parallel-specific style estimator block */\n",
       "\n",
       "#sk-container-id-2 div.sk-parallel-item::after {\n",
       "  content: \"\";\n",
       "  width: 100%;\n",
       "  border-bottom: 2px solid var(--sklearn-color-text-on-default-background);\n",
       "  flex-grow: 1;\n",
       "}\n",
       "\n",
       "#sk-container-id-2 div.sk-parallel {\n",
       "  display: flex;\n",
       "  align-items: stretch;\n",
       "  justify-content: center;\n",
       "  background-color: var(--sklearn-color-background);\n",
       "  position: relative;\n",
       "}\n",
       "\n",
       "#sk-container-id-2 div.sk-parallel-item {\n",
       "  display: flex;\n",
       "  flex-direction: column;\n",
       "}\n",
       "\n",
       "#sk-container-id-2 div.sk-parallel-item:first-child::after {\n",
       "  align-self: flex-end;\n",
       "  width: 50%;\n",
       "}\n",
       "\n",
       "#sk-container-id-2 div.sk-parallel-item:last-child::after {\n",
       "  align-self: flex-start;\n",
       "  width: 50%;\n",
       "}\n",
       "\n",
       "#sk-container-id-2 div.sk-parallel-item:only-child::after {\n",
       "  width: 0;\n",
       "}\n",
       "\n",
       "/* Serial-specific style estimator block */\n",
       "\n",
       "#sk-container-id-2 div.sk-serial {\n",
       "  display: flex;\n",
       "  flex-direction: column;\n",
       "  align-items: center;\n",
       "  background-color: var(--sklearn-color-background);\n",
       "  padding-right: 1em;\n",
       "  padding-left: 1em;\n",
       "}\n",
       "\n",
       "\n",
       "/* Toggleable style: style used for estimator/Pipeline/ColumnTransformer box that is\n",
       "clickable and can be expanded/collapsed.\n",
       "- Pipeline and ColumnTransformer use this feature and define the default style\n",
       "- Estimators will overwrite some part of the style using the `sk-estimator` class\n",
       "*/\n",
       "\n",
       "/* Pipeline and ColumnTransformer style (default) */\n",
       "\n",
       "#sk-container-id-2 div.sk-toggleable {\n",
       "  /* Default theme specific background. It is overwritten whether we have a\n",
       "  specific estimator or a Pipeline/ColumnTransformer */\n",
       "  background-color: var(--sklearn-color-background);\n",
       "}\n",
       "\n",
       "/* Toggleable label */\n",
       "#sk-container-id-2 label.sk-toggleable__label {\n",
       "  cursor: pointer;\n",
       "  display: block;\n",
       "  width: 100%;\n",
       "  margin-bottom: 0;\n",
       "  padding: 0.5em;\n",
       "  box-sizing: border-box;\n",
       "  text-align: center;\n",
       "}\n",
       "\n",
       "#sk-container-id-2 label.sk-toggleable__label-arrow:before {\n",
       "  /* Arrow on the left of the label */\n",
       "  content: \"▸\";\n",
       "  float: left;\n",
       "  margin-right: 0.25em;\n",
       "  color: var(--sklearn-color-icon);\n",
       "}\n",
       "\n",
       "#sk-container-id-2 label.sk-toggleable__label-arrow:hover:before {\n",
       "  color: var(--sklearn-color-text);\n",
       "}\n",
       "\n",
       "/* Toggleable content - dropdown */\n",
       "\n",
       "#sk-container-id-2 div.sk-toggleable__content {\n",
       "  max-height: 0;\n",
       "  max-width: 0;\n",
       "  overflow: hidden;\n",
       "  text-align: left;\n",
       "  /* unfitted */\n",
       "  background-color: var(--sklearn-color-unfitted-level-0);\n",
       "}\n",
       "\n",
       "#sk-container-id-2 div.sk-toggleable__content.fitted {\n",
       "  /* fitted */\n",
       "  background-color: var(--sklearn-color-fitted-level-0);\n",
       "}\n",
       "\n",
       "#sk-container-id-2 div.sk-toggleable__content pre {\n",
       "  margin: 0.2em;\n",
       "  border-radius: 0.25em;\n",
       "  color: var(--sklearn-color-text);\n",
       "  /* unfitted */\n",
       "  background-color: var(--sklearn-color-unfitted-level-0);\n",
       "}\n",
       "\n",
       "#sk-container-id-2 div.sk-toggleable__content.fitted pre {\n",
       "  /* unfitted */\n",
       "  background-color: var(--sklearn-color-fitted-level-0);\n",
       "}\n",
       "\n",
       "#sk-container-id-2 input.sk-toggleable__control:checked~div.sk-toggleable__content {\n",
       "  /* Expand drop-down */\n",
       "  max-height: 200px;\n",
       "  max-width: 100%;\n",
       "  overflow: auto;\n",
       "}\n",
       "\n",
       "#sk-container-id-2 input.sk-toggleable__control:checked~label.sk-toggleable__label-arrow:before {\n",
       "  content: \"▾\";\n",
       "}\n",
       "\n",
       "/* Pipeline/ColumnTransformer-specific style */\n",
       "\n",
       "#sk-container-id-2 div.sk-label input.sk-toggleable__control:checked~label.sk-toggleable__label {\n",
       "  color: var(--sklearn-color-text);\n",
       "  background-color: var(--sklearn-color-unfitted-level-2);\n",
       "}\n",
       "\n",
       "#sk-container-id-2 div.sk-label.fitted input.sk-toggleable__control:checked~label.sk-toggleable__label {\n",
       "  background-color: var(--sklearn-color-fitted-level-2);\n",
       "}\n",
       "\n",
       "/* Estimator-specific style */\n",
       "\n",
       "/* Colorize estimator box */\n",
       "#sk-container-id-2 div.sk-estimator input.sk-toggleable__control:checked~label.sk-toggleable__label {\n",
       "  /* unfitted */\n",
       "  background-color: var(--sklearn-color-unfitted-level-2);\n",
       "}\n",
       "\n",
       "#sk-container-id-2 div.sk-estimator.fitted input.sk-toggleable__control:checked~label.sk-toggleable__label {\n",
       "  /* fitted */\n",
       "  background-color: var(--sklearn-color-fitted-level-2);\n",
       "}\n",
       "\n",
       "#sk-container-id-2 div.sk-label label.sk-toggleable__label,\n",
       "#sk-container-id-2 div.sk-label label {\n",
       "  /* The background is the default theme color */\n",
       "  color: var(--sklearn-color-text-on-default-background);\n",
       "}\n",
       "\n",
       "/* On hover, darken the color of the background */\n",
       "#sk-container-id-2 div.sk-label:hover label.sk-toggleable__label {\n",
       "  color: var(--sklearn-color-text);\n",
       "  background-color: var(--sklearn-color-unfitted-level-2);\n",
       "}\n",
       "\n",
       "/* Label box, darken color on hover, fitted */\n",
       "#sk-container-id-2 div.sk-label.fitted:hover label.sk-toggleable__label.fitted {\n",
       "  color: var(--sklearn-color-text);\n",
       "  background-color: var(--sklearn-color-fitted-level-2);\n",
       "}\n",
       "\n",
       "/* Estimator label */\n",
       "\n",
       "#sk-container-id-2 div.sk-label label {\n",
       "  font-family: monospace;\n",
       "  font-weight: bold;\n",
       "  display: inline-block;\n",
       "  line-height: 1.2em;\n",
       "}\n",
       "\n",
       "#sk-container-id-2 div.sk-label-container {\n",
       "  text-align: center;\n",
       "}\n",
       "\n",
       "/* Estimator-specific */\n",
       "#sk-container-id-2 div.sk-estimator {\n",
       "  font-family: monospace;\n",
       "  border: 1px dotted var(--sklearn-color-border-box);\n",
       "  border-radius: 0.25em;\n",
       "  box-sizing: border-box;\n",
       "  margin-bottom: 0.5em;\n",
       "  /* unfitted */\n",
       "  background-color: var(--sklearn-color-unfitted-level-0);\n",
       "}\n",
       "\n",
       "#sk-container-id-2 div.sk-estimator.fitted {\n",
       "  /* fitted */\n",
       "  background-color: var(--sklearn-color-fitted-level-0);\n",
       "}\n",
       "\n",
       "/* on hover */\n",
       "#sk-container-id-2 div.sk-estimator:hover {\n",
       "  /* unfitted */\n",
       "  background-color: var(--sklearn-color-unfitted-level-2);\n",
       "}\n",
       "\n",
       "#sk-container-id-2 div.sk-estimator.fitted:hover {\n",
       "  /* fitted */\n",
       "  background-color: var(--sklearn-color-fitted-level-2);\n",
       "}\n",
       "\n",
       "/* Specification for estimator info (e.g. \"i\" and \"?\") */\n",
       "\n",
       "/* Common style for \"i\" and \"?\" */\n",
       "\n",
       ".sk-estimator-doc-link,\n",
       "a:link.sk-estimator-doc-link,\n",
       "a:visited.sk-estimator-doc-link {\n",
       "  float: right;\n",
       "  font-size: smaller;\n",
       "  line-height: 1em;\n",
       "  font-family: monospace;\n",
       "  background-color: var(--sklearn-color-background);\n",
       "  border-radius: 1em;\n",
       "  height: 1em;\n",
       "  width: 1em;\n",
       "  text-decoration: none !important;\n",
       "  margin-left: 1ex;\n",
       "  /* unfitted */\n",
       "  border: var(--sklearn-color-unfitted-level-1) 1pt solid;\n",
       "  color: var(--sklearn-color-unfitted-level-1);\n",
       "}\n",
       "\n",
       ".sk-estimator-doc-link.fitted,\n",
       "a:link.sk-estimator-doc-link.fitted,\n",
       "a:visited.sk-estimator-doc-link.fitted {\n",
       "  /* fitted */\n",
       "  border: var(--sklearn-color-fitted-level-1) 1pt solid;\n",
       "  color: var(--sklearn-color-fitted-level-1);\n",
       "}\n",
       "\n",
       "/* On hover */\n",
       "div.sk-estimator:hover .sk-estimator-doc-link:hover,\n",
       ".sk-estimator-doc-link:hover,\n",
       "div.sk-label-container:hover .sk-estimator-doc-link:hover,\n",
       ".sk-estimator-doc-link:hover {\n",
       "  /* unfitted */\n",
       "  background-color: var(--sklearn-color-unfitted-level-3);\n",
       "  color: var(--sklearn-color-background);\n",
       "  text-decoration: none;\n",
       "}\n",
       "\n",
       "div.sk-estimator.fitted:hover .sk-estimator-doc-link.fitted:hover,\n",
       ".sk-estimator-doc-link.fitted:hover,\n",
       "div.sk-label-container:hover .sk-estimator-doc-link.fitted:hover,\n",
       ".sk-estimator-doc-link.fitted:hover {\n",
       "  /* fitted */\n",
       "  background-color: var(--sklearn-color-fitted-level-3);\n",
       "  color: var(--sklearn-color-background);\n",
       "  text-decoration: none;\n",
       "}\n",
       "\n",
       "/* Span, style for the box shown on hovering the info icon */\n",
       ".sk-estimator-doc-link span {\n",
       "  display: none;\n",
       "  z-index: 9999;\n",
       "  position: relative;\n",
       "  font-weight: normal;\n",
       "  right: .2ex;\n",
       "  padding: .5ex;\n",
       "  margin: .5ex;\n",
       "  width: min-content;\n",
       "  min-width: 20ex;\n",
       "  max-width: 50ex;\n",
       "  color: var(--sklearn-color-text);\n",
       "  box-shadow: 2pt 2pt 4pt #999;\n",
       "  /* unfitted */\n",
       "  background: var(--sklearn-color-unfitted-level-0);\n",
       "  border: .5pt solid var(--sklearn-color-unfitted-level-3);\n",
       "}\n",
       "\n",
       ".sk-estimator-doc-link.fitted span {\n",
       "  /* fitted */\n",
       "  background: var(--sklearn-color-fitted-level-0);\n",
       "  border: var(--sklearn-color-fitted-level-3);\n",
       "}\n",
       "\n",
       ".sk-estimator-doc-link:hover span {\n",
       "  display: block;\n",
       "}\n",
       "\n",
       "/* \"?\"-specific style due to the `<a>` HTML tag */\n",
       "\n",
       "#sk-container-id-2 a.estimator_doc_link {\n",
       "  float: right;\n",
       "  font-size: 1rem;\n",
       "  line-height: 1em;\n",
       "  font-family: monospace;\n",
       "  background-color: var(--sklearn-color-background);\n",
       "  border-radius: 1rem;\n",
       "  height: 1rem;\n",
       "  width: 1rem;\n",
       "  text-decoration: none;\n",
       "  /* unfitted */\n",
       "  color: var(--sklearn-color-unfitted-level-1);\n",
       "  border: var(--sklearn-color-unfitted-level-1) 1pt solid;\n",
       "}\n",
       "\n",
       "#sk-container-id-2 a.estimator_doc_link.fitted {\n",
       "  /* fitted */\n",
       "  border: var(--sklearn-color-fitted-level-1) 1pt solid;\n",
       "  color: var(--sklearn-color-fitted-level-1);\n",
       "}\n",
       "\n",
       "/* On hover */\n",
       "#sk-container-id-2 a.estimator_doc_link:hover {\n",
       "  /* unfitted */\n",
       "  background-color: var(--sklearn-color-unfitted-level-3);\n",
       "  color: var(--sklearn-color-background);\n",
       "  text-decoration: none;\n",
       "}\n",
       "\n",
       "#sk-container-id-2 a.estimator_doc_link.fitted:hover {\n",
       "  /* fitted */\n",
       "  background-color: var(--sklearn-color-fitted-level-3);\n",
       "}\n",
       "</style><div id=\"sk-container-id-2\" class=\"sk-top-container\"><div class=\"sk-text-repr-fallback\"><pre>RandomForestClassifier(random_state=1200)</pre><b>In a Jupyter environment, please rerun this cell to show the HTML representation or trust the notebook. <br />On GitHub, the HTML representation is unable to render, please try loading this page with nbviewer.org.</b></div><div class=\"sk-container\" hidden><div class=\"sk-item\"><div class=\"sk-estimator fitted sk-toggleable\"><input class=\"sk-toggleable__control sk-hidden--visually\" id=\"sk-estimator-id-2\" type=\"checkbox\" checked><label for=\"sk-estimator-id-2\" class=\"sk-toggleable__label fitted sk-toggleable__label-arrow fitted\">&nbsp;&nbsp;RandomForestClassifier<a class=\"sk-estimator-doc-link fitted\" rel=\"noreferrer\" target=\"_blank\" href=\"https://scikit-learn.org/1.4/modules/generated/sklearn.ensemble.RandomForestClassifier.html\">?<span>Documentation for RandomForestClassifier</span></a><span class=\"sk-estimator-doc-link fitted\">i<span>Fitted</span></span></label><div class=\"sk-toggleable__content fitted\"><pre>RandomForestClassifier(random_state=1200)</pre></div> </div></div></div></div>"
      ],
      "text/plain": [
       "RandomForestClassifier(random_state=1200)"
      ]
     },
     "execution_count": 98,
     "metadata": {},
     "output_type": "execute_result"
    }
   ],
   "source": [
    "model = RandomForestClassifier(n_estimators=100,random_state=1200)\n",
    "model.fit(X_train, y_train.values.ravel())"
   ]
  },
  {
   "cell_type": "code",
   "execution_count": null,
   "metadata": {},
   "outputs": [],
   "source": [
    "# Create a SHAP explainer object\n",
    "explainer = shap.TreeExplainer(model)\n",
    "\n"
   ]
  },
  {
   "cell_type": "code",
   "execution_count": null,
   "metadata": {},
   "outputs": [
    {
     "name": "stdout",
     "output_type": "stream",
     "text": [
      "(45848, 42, 5)\n"
     ]
    }
   ],
   "source": [
    "# Calculate SHAP values for the training set\n",
    "shap_values = explainer.shap_values(X_train)\n",
    "print(shap_values.shape)"
   ]
  },
  {
   "cell_type": "code",
   "execution_count": null,
   "metadata": {},
   "outputs": [],
   "source": [
    "shap_obj = explainer(X_train)"
   ]
  },
  {
   "cell_type": "code",
   "execution_count": null,
   "metadata": {},
   "outputs": [
    {
     "name": "stdout",
     "output_type": "stream",
     "text": [
      "(42,)\n",
      "(42,)\n"
     ]
    }
   ],
   "source": [
    "# Aggregate SHAP values across classes and samples\n",
    "shap_values_abs = np.abs(shap_values).sum(axis=2).mean(axis=0)\n",
    "print(shap_values_abs.shape)\n",
    "# Ensure the resulting array is 1-dimensional\n",
    "shap_values_abs = shap_values_abs.flatten()\n",
    "print(shap_values_abs.shape)"
   ]
  },
  {
   "cell_type": "code",
   "execution_count": null,
   "metadata": {},
   "outputs": [
    {
     "name": "stdout",
     "output_type": "stream",
     "text": [
      "   feature   importance\n",
      "0      Q1A  1250.325967\n",
      "1      Q2A  3854.401470\n",
      "2      Q3A   456.574936\n",
      "3      Q4A  6136.385015\n",
      "4      Q5A   487.003125\n",
      "5      Q6A   613.457387\n",
      "6      Q7A  7218.079453\n",
      "7      Q8A   930.949496\n",
      "8      Q9A  5739.837215\n",
      "9     Q10A   510.126603\n",
      "10    Q11A   834.631792\n",
      "11    Q12A  2192.956648\n",
      "12    Q13A   714.704552\n",
      "13    Q14A   603.436080\n",
      "14    Q15A  3557.987580\n",
      "15    Q16A   558.713982\n",
      "16    Q17A   914.411125\n",
      "17    Q18A   556.415738\n",
      "18    Q19A  4272.656590\n",
      "19    Q20A  7045.723733\n",
      "20    Q21A   644.863426\n",
      "21    Q22A   707.762499\n",
      "22    Q23A  2705.023629\n",
      "23    Q24A   524.215813\n",
      "24    Q25A  5568.601538\n",
      "25    Q26A   583.141893\n",
      "26    Q27A   594.565074\n",
      "27    Q28A  7965.206378\n",
      "28    Q29A   875.293954\n",
      "29    Q30A  5267.050812\n",
      "30    Q31A   464.968455\n",
      "31    Q32A   660.064808\n",
      "32    Q33A  2115.823412\n",
      "33    Q34A   817.389309\n",
      "34    Q35A   530.811453\n",
      "35    Q36A  7712.739053\n",
      "36    Q37A   533.273005\n",
      "37    Q38A   576.136388\n",
      "38    Q39A   554.014598\n",
      "39    Q40A  9182.809838\n",
      "40    Q41A  6061.565379\n",
      "41    Q42A   455.843690\n",
      "<class 'pandas.core.frame.DataFrame'>\n"
     ]
    }
   ],
   "source": [
    "feature_names = [f\"Q{i}A\" for i in range(1, 43)]\n",
    "# Assuming shap_values and feature_names are already defined\n",
    "abs_shap_values = np.abs(shap_values).sum(axis=(0, 2))\n",
    "# Create a DataFrame for feature importance\n",
    "feature_importance_df = pd.DataFrame({'feature': feature_names, 'importance': abs_shap_values})\n",
    "\n",
    "print(feature_importance_df)\n",
    "print(type(feature_importance_df))\n"
   ]
  },
  {
   "cell_type": "code",
   "execution_count": 149,
   "metadata": {},
   "outputs": [
    {
     "name": "stdout",
     "output_type": "stream",
     "text": [
      "   feature   importance\n",
      "39    Q40A  9182.809838\n",
      "27    Q28A  7965.206378\n",
      "35    Q36A  7712.739053\n",
      "6      Q7A  7218.079453\n",
      "19    Q20A  7045.723733\n",
      "3      Q4A  6136.385015\n",
      "40    Q41A  6061.565379\n",
      "8      Q9A  5739.837215\n",
      "24    Q25A  5568.601538\n",
      "29    Q30A  5267.050812\n",
      "['Q40A' 'Q28A' 'Q36A' 'Q7A' 'Q20A' 'Q4A' 'Q41A' 'Q9A' 'Q25A' 'Q30A']\n",
      "[39 27 35  6 19  3 40  8 24 29]\n",
      "(45848, 10, 5)\n"
     ]
    }
   ],
   "source": [
    "top_10_features_df = feature_importance_df.sort_values(by='importance', ascending=False).head(10)\n",
    "print(top_10_features_df)\n",
    "top_10_features = top_10_features_df['feature'].values\n",
    "print(top_10_features)\n",
    "top_10_indices = top_10_features_df.index.values\n",
    "print(top_10_indices)\n",
    "top_10_shap_values = shap_values[:, top_10_indices, :]\n",
    "print(top_10_shap_values.shape)"
   ]
  },
  {
   "cell_type": "code",
   "execution_count": 150,
   "metadata": {},
   "outputs": [],
   "source": [
    "X_train_selected = X_train.loc[:, top_10_features]"
   ]
  },
  {
   "cell_type": "code",
   "execution_count": 170,
   "metadata": {},
   "outputs": [
    {
     "data": {
      "image/png": "[encoded data removed]",
      "text/plain": [
       "<Figure size 800x550 with 2 Axes>"
      ]
     },
     "metadata": {},
     "output_type": "display_data"
    }
   ],
   "source": [
    "# Generate the plot\n",
    "shap.summary_plot(shap_values=np.take(shap_obj.values, 0, axis=-1),\n",
    "                  features=X_train,\n",
    "                  feature_names=X_train.columns,\n",
    "                  max_display=10)\n"
   ]
  },
  {
   "cell_type": "code",
   "execution_count": 171,
   "metadata": {},
   "outputs": [],
   "source": [
    "import pandas as pd\n",
    "import numpy as np\n",
    "from sklearn.model_selection import train_test_split\n",
    "from sklearn.preprocessing import StandardScaler\n",
    "from tensorflow.keras.models import Sequential\n",
    "from tensorflow.keras.layers import Dense, Dropout\n",
    "from tensorflow.keras.optimizers import Adam\n",
    "from tensorflow.keras.losses import SparseCategoricalCrossentropy\n",
    "from tensorflow.keras.utils import to_categorical\n",
    "from sklearn.metrics import accuracy_score, classification_report, confusion_matrix\n",
    "from sklearn.metrics import classification_report"
   ]
  },
  {
   "cell_type": "code",
   "execution_count": 172,
   "metadata": {},
   "outputs": [],
   "source": [
    "# Load the data\n",
    "features = pd.read_csv('DASS_data/original_features.csv')  # Update with the correct file path\n",
    "labels = pd.read_csv('DASS_data/labels.csv')      # Update with the correct file path"
   ]
  },
  {
   "cell_type": "code",
   "execution_count": 173,
   "metadata": {},
   "outputs": [],
   "source": [
    "# Specify the desired features\n",
    "selected_features = ['Q40A', 'Q28A', 'Q20A', 'Q36A', 'Q9A', 'Q9A', 'Q25A', 'Q30A', 'Q7A', 'Q4A']\n",
    "\n",
    "# Extract the selected features\n",
    "X = features[selected_features]\n",
    "y = labels['Anxiety_Level']  # Ensure 'label' column contains the multi-class labels (0-4)\n",
    "\n",
    "# Split the data into training and testing sets\n",
    "X_train, X_test, y_train, y_test = train_test_split(X, y, test_size=0.2, random_state=42)\n",
    "\n",
    "# Scale the features\n",
    "scaler = StandardScaler()\n",
    "X_train = scaler.fit_transform(X_train)\n",
    "X_test = scaler.transform(X_test)"
   ]
  },
  {
   "cell_type": "code",
   "execution_count": 174,
   "metadata": {},
   "outputs": [
    {
     "name": "stdout",
     "output_type": "stream",
     "text": [
      "Epoch 1/1000\n",
      "\u001b[1m1147/1147\u001b[0m \u001b[32m━━━━━━━━━━━━━━━━━━━━\u001b[0m\u001b[37m\u001b[0m \u001b[1m1s\u001b[0m 782us/step - accuracy: 0.4853 - loss: 1.1684 - val_accuracy: 0.6781 - val_loss: 0.6936\n",
      "Epoch 2/1000\n",
      "\u001b[1m1147/1147\u001b[0m \u001b[32m━━━━━━━━━━━━━━━━━━━━\u001b[0m\u001b[37m\u001b[0m \u001b[1m1s\u001b[0m 716us/step - accuracy: 0.6621 - loss: 0.7548 - val_accuracy: 0.7055 - val_loss: 0.6462\n",
      "Epoch 3/1000\n",
      "\u001b[1m1147/1147\u001b[0m \u001b[32m━━━━━━━━━━━━━━━━━━━━\u001b[0m\u001b[37m\u001b[0m \u001b[1m1s\u001b[0m 730us/step - accuracy: 0.6814 - loss: 0.7167 - val_accuracy: 0.7261 - val_loss: 0.6167\n",
      "Epoch 4/1000\n",
      "\u001b[1m1147/1147\u001b[0m \u001b[32m━━━━━━━━━━━━━━━━━━━━\u001b[0m\u001b[37m\u001b[0m \u001b[1m1s\u001b[0m 699us/step - accuracy: 0.6947 - loss: 0.6920 - val_accuracy: 0.7305 - val_loss: 0.6062\n",
      "Epoch 5/1000\n",
      "\u001b[1m1147/1147\u001b[0m \u001b[32m━━━━━━━━━━━━━━━━━━━━\u001b[0m\u001b[37m\u001b[0m \u001b[1m1s\u001b[0m 710us/step - accuracy: 0.6996 - loss: 0.6804 - val_accuracy: 0.7292 - val_loss: 0.6053\n",
      "Epoch 6/1000\n",
      "\u001b[1m1147/1147\u001b[0m \u001b[32m━━━━━━━━━━━━━━━━━━━━\u001b[0m\u001b[37m\u001b[0m \u001b[1m1s\u001b[0m 699us/step - accuracy: 0.7052 - loss: 0.6672 - val_accuracy: 0.7304 - val_loss: 0.6019\n",
      "Epoch 7/1000\n",
      "\u001b[1m1147/1147\u001b[0m \u001b[32m━━━━━━━━━━━━━━━━━━━━\u001b[0m\u001b[37m\u001b[0m \u001b[1m1s\u001b[0m 707us/step - accuracy: 0.7120 - loss: 0.6569 - val_accuracy: 0.7389 - val_loss: 0.5933\n",
      "Epoch 8/1000\n",
      "\u001b[1m1147/1147\u001b[0m \u001b[32m━━━━━━━━━━━━━━━━━━━━\u001b[0m\u001b[37m\u001b[0m \u001b[1m1s\u001b[0m 711us/step - accuracy: 0.7156 - loss: 0.6562 - val_accuracy: 0.7425 - val_loss: 0.5878\n",
      "Epoch 9/1000\n",
      "\u001b[1m1147/1147\u001b[0m \u001b[32m━━━━━━━━━━━━━━━━━━━━\u001b[0m\u001b[37m\u001b[0m \u001b[1m1s\u001b[0m 709us/step - accuracy: 0.7148 - loss: 0.6496 - val_accuracy: 0.7449 - val_loss: 0.5907\n",
      "Epoch 10/1000\n",
      "\u001b[1m1147/1147\u001b[0m \u001b[32m━━━━━━━━━━━━━━━━━━━━\u001b[0m\u001b[37m\u001b[0m \u001b[1m1s\u001b[0m 705us/step - accuracy: 0.7230 - loss: 0.6354 - val_accuracy: 0.7434 - val_loss: 0.5847\n",
      "Epoch 11/1000\n",
      "\u001b[1m1147/1147\u001b[0m \u001b[32m━━━━━━━━━━━━━━━━━━━━\u001b[0m\u001b[37m\u001b[0m \u001b[1m1s\u001b[0m 705us/step - accuracy: 0.7159 - loss: 0.6462 - val_accuracy: 0.7458 - val_loss: 0.5828\n",
      "Epoch 12/1000\n",
      "\u001b[1m1147/1147\u001b[0m \u001b[32m━━━━━━━━━━━━━━━━━━━━\u001b[0m\u001b[37m\u001b[0m \u001b[1m1s\u001b[0m 704us/step - accuracy: 0.7224 - loss: 0.6296 - val_accuracy: 0.7403 - val_loss: 0.5855\n",
      "Epoch 13/1000\n",
      "\u001b[1m1147/1147\u001b[0m \u001b[32m━━━━━━━━━━━━━━━━━━━━\u001b[0m\u001b[37m\u001b[0m \u001b[1m1s\u001b[0m 788us/step - accuracy: 0.7178 - loss: 0.6381 - val_accuracy: 0.7403 - val_loss: 0.5855\n",
      "Epoch 14/1000\n",
      "\u001b[1m1147/1147\u001b[0m \u001b[32m━━━━━━━━━━━━━━━━━━━━\u001b[0m\u001b[37m\u001b[0m \u001b[1m1s\u001b[0m 911us/step - accuracy: 0.7248 - loss: 0.6291 - val_accuracy: 0.7437 - val_loss: 0.5825\n",
      "Epoch 15/1000\n",
      "\u001b[1m1147/1147\u001b[0m \u001b[32m━━━━━━━━━━━━━━━━━━━━\u001b[0m\u001b[37m\u001b[0m \u001b[1m1s\u001b[0m 709us/step - accuracy: 0.7206 - loss: 0.6293 - val_accuracy: 0.7371 - val_loss: 0.5911\n",
      "Epoch 16/1000\n",
      "\u001b[1m1147/1147\u001b[0m \u001b[32m━━━━━━━━━━━━━━━━━━━━\u001b[0m\u001b[37m\u001b[0m \u001b[1m1s\u001b[0m 703us/step - accuracy: 0.7283 - loss: 0.6236 - val_accuracy: 0.7397 - val_loss: 0.5869\n",
      "Epoch 17/1000\n",
      "\u001b[1m1147/1147\u001b[0m \u001b[32m━━━━━━━━━━━━━━━━━━━━\u001b[0m\u001b[37m\u001b[0m \u001b[1m1s\u001b[0m 703us/step - accuracy: 0.7330 - loss: 0.6180 - val_accuracy: 0.7408 - val_loss: 0.5846\n",
      "Epoch 18/1000\n",
      "\u001b[1m1147/1147\u001b[0m \u001b[32m━━━━━━━━━━━━━━━━━━━━\u001b[0m\u001b[37m\u001b[0m \u001b[1m1s\u001b[0m 696us/step - accuracy: 0.7254 - loss: 0.6218 - val_accuracy: 0.7376 - val_loss: 0.5937\n",
      "Epoch 19/1000\n",
      "\u001b[1m1147/1147\u001b[0m \u001b[32m━━━━━━━━━━━━━━━━━━━━\u001b[0m\u001b[37m\u001b[0m \u001b[1m1s\u001b[0m 712us/step - accuracy: 0.7263 - loss: 0.6164 - val_accuracy: 0.7438 - val_loss: 0.5821\n",
      "Epoch 20/1000\n",
      "\u001b[1m1147/1147\u001b[0m \u001b[32m━━━━━━━━━━━━━━━━━━━━\u001b[0m\u001b[37m\u001b[0m \u001b[1m1s\u001b[0m 703us/step - accuracy: 0.7265 - loss: 0.6266 - val_accuracy: 0.7439 - val_loss: 0.5842\n",
      "Epoch 21/1000\n",
      "\u001b[1m1147/1147\u001b[0m \u001b[32m━━━━━━━━━━━━━━━━━━━━\u001b[0m\u001b[37m\u001b[0m \u001b[1m1s\u001b[0m 724us/step - accuracy: 0.7277 - loss: 0.6251 - val_accuracy: 0.7415 - val_loss: 0.5832\n",
      "Epoch 22/1000\n",
      "\u001b[1m1147/1147\u001b[0m \u001b[32m━━━━━━━━━━━━━━━━━━━━\u001b[0m\u001b[37m\u001b[0m \u001b[1m1s\u001b[0m 711us/step - accuracy: 0.7317 - loss: 0.6149 - val_accuracy: 0.7361 - val_loss: 0.5963\n",
      "Epoch 23/1000\n",
      "\u001b[1m1147/1147\u001b[0m \u001b[32m━━━━━━━━━━━━━━━━━━━━\u001b[0m\u001b[37m\u001b[0m \u001b[1m1s\u001b[0m 703us/step - accuracy: 0.7365 - loss: 0.6063 - val_accuracy: 0.7376 - val_loss: 0.5935\n",
      "Epoch 24/1000\n",
      "\u001b[1m1147/1147\u001b[0m \u001b[32m━━━━━━━━━━━━━━━━━━━━\u001b[0m\u001b[37m\u001b[0m \u001b[1m1s\u001b[0m 712us/step - accuracy: 0.7276 - loss: 0.6137 - val_accuracy: 0.7374 - val_loss: 0.5950\n",
      "Epoch 25/1000\n",
      "\u001b[1m1147/1147\u001b[0m \u001b[32m━━━━━━━━━━━━━━━━━━━━\u001b[0m\u001b[37m\u001b[0m \u001b[1m1s\u001b[0m 699us/step - accuracy: 0.7277 - loss: 0.6138 - val_accuracy: 0.7389 - val_loss: 0.5901\n",
      "Epoch 26/1000\n",
      "\u001b[1m1147/1147\u001b[0m \u001b[32m━━━━━━━━━━━━━━━━━━━━\u001b[0m\u001b[37m\u001b[0m \u001b[1m1s\u001b[0m 728us/step - accuracy: 0.7315 - loss: 0.6110 - val_accuracy: 0.7337 - val_loss: 0.5961\n",
      "Epoch 27/1000\n",
      "\u001b[1m1147/1147\u001b[0m \u001b[32m━━━━━━━━━━━━━━━━━━━━\u001b[0m\u001b[37m\u001b[0m \u001b[1m1s\u001b[0m 709us/step - accuracy: 0.7311 - loss: 0.6117 - val_accuracy: 0.7370 - val_loss: 0.5970\n",
      "Epoch 28/1000\n",
      "\u001b[1m1147/1147\u001b[0m \u001b[32m━━━━━━━━━━━━━━━━━━━━\u001b[0m\u001b[37m\u001b[0m \u001b[1m1s\u001b[0m 695us/step - accuracy: 0.7286 - loss: 0.6093 - val_accuracy: 0.7429 - val_loss: 0.5905\n",
      "Epoch 29/1000\n",
      "\u001b[1m1147/1147\u001b[0m \u001b[32m━━━━━━━━━━━━━━━━━━━━\u001b[0m\u001b[37m\u001b[0m \u001b[1m1s\u001b[0m 733us/step - accuracy: 0.7317 - loss: 0.6074 - val_accuracy: 0.7387 - val_loss: 0.5892\n",
      "Epoch 30/1000\n",
      "\u001b[1m1147/1147\u001b[0m \u001b[32m━━━━━━━━━━━━━━━━━━━━\u001b[0m\u001b[37m\u001b[0m \u001b[1m1s\u001b[0m 698us/step - accuracy: 0.7332 - loss: 0.6088 - val_accuracy: 0.7383 - val_loss: 0.5897\n",
      "Epoch 31/1000\n",
      "\u001b[1m1147/1147\u001b[0m \u001b[32m━━━━━━━━━━━━━━━━━━━━\u001b[0m\u001b[37m\u001b[0m \u001b[1m1s\u001b[0m 707us/step - accuracy: 0.7307 - loss: 0.6095 - val_accuracy: 0.7351 - val_loss: 0.5981\n",
      "Epoch 32/1000\n",
      "\u001b[1m1147/1147\u001b[0m \u001b[32m━━━━━━━━━━━━━━━━━━━━\u001b[0m\u001b[37m\u001b[0m \u001b[1m1s\u001b[0m 712us/step - accuracy: 0.7311 - loss: 0.6058 - val_accuracy: 0.7324 - val_loss: 0.5981\n",
      "Epoch 33/1000\n",
      "\u001b[1m1147/1147\u001b[0m \u001b[32m━━━━━━━━━━━━━━━━━━━━\u001b[0m\u001b[37m\u001b[0m \u001b[1m1s\u001b[0m 693us/step - accuracy: 0.7327 - loss: 0.6057 - val_accuracy: 0.7284 - val_loss: 0.6033\n",
      "Epoch 34/1000\n",
      "\u001b[1m1147/1147\u001b[0m \u001b[32m━━━━━━━━━━━━━━━━━━━━\u001b[0m\u001b[37m\u001b[0m \u001b[1m1s\u001b[0m 729us/step - accuracy: 0.7345 - loss: 0.6064 - val_accuracy: 0.7268 - val_loss: 0.6091\n",
      "Epoch 35/1000\n",
      "\u001b[1m1147/1147\u001b[0m \u001b[32m━━━━━━━━━━━━━━━━━━━━\u001b[0m\u001b[37m\u001b[0m \u001b[1m1s\u001b[0m 699us/step - accuracy: 0.7315 - loss: 0.6032 - val_accuracy: 0.7305 - val_loss: 0.6044\n",
      "Epoch 36/1000\n",
      "\u001b[1m1147/1147\u001b[0m \u001b[32m━━━━━━━━━━━━━━━━━━━━\u001b[0m\u001b[37m\u001b[0m \u001b[1m1s\u001b[0m 718us/step - accuracy: 0.7368 - loss: 0.5961 - val_accuracy: 0.7210 - val_loss: 0.6232\n",
      "Epoch 37/1000\n",
      "\u001b[1m1147/1147\u001b[0m \u001b[32m━━━━━━━━━━━━━━━━━━━━\u001b[0m\u001b[37m\u001b[0m \u001b[1m1s\u001b[0m 708us/step - accuracy: 0.7347 - loss: 0.5966 - val_accuracy: 0.7279 - val_loss: 0.6050\n",
      "Epoch 38/1000\n",
      "\u001b[1m1147/1147\u001b[0m \u001b[32m━━━━━━━━━━━━━━━━━━━━\u001b[0m\u001b[37m\u001b[0m \u001b[1m1s\u001b[0m 730us/step - accuracy: 0.7301 - loss: 0.6065 - val_accuracy: 0.7323 - val_loss: 0.6007\n",
      "Epoch 39/1000\n",
      "\u001b[1m1147/1147\u001b[0m \u001b[32m━━━━━━━━━━━━━━━━━━━━\u001b[0m\u001b[37m\u001b[0m \u001b[1m1s\u001b[0m 740us/step - accuracy: 0.7312 - loss: 0.6053 - val_accuracy: 0.7305 - val_loss: 0.6009\n",
      "Epoch 40/1000\n",
      "\u001b[1m1147/1147\u001b[0m \u001b[32m━━━━━━━━━━━━━━━━━━━━\u001b[0m\u001b[37m\u001b[0m \u001b[1m1s\u001b[0m 703us/step - accuracy: 0.7360 - loss: 0.5974 - val_accuracy: 0.7286 - val_loss: 0.6059\n",
      "Epoch 41/1000\n",
      "\u001b[1m1147/1147\u001b[0m \u001b[32m━━━━━━━━━━━━━━━━━━━━\u001b[0m\u001b[37m\u001b[0m \u001b[1m1s\u001b[0m 707us/step - accuracy: 0.7324 - loss: 0.6050 - val_accuracy: 0.7292 - val_loss: 0.5992\n",
      "Epoch 42/1000\n",
      "\u001b[1m1147/1147\u001b[0m \u001b[32m━━━━━━━━━━━━━━━━━━━━\u001b[0m\u001b[37m\u001b[0m \u001b[1m1s\u001b[0m 768us/step - accuracy: 0.7363 - loss: 0.5983 - val_accuracy: 0.7195 - val_loss: 0.6252\n",
      "Epoch 43/1000\n",
      "\u001b[1m1147/1147\u001b[0m \u001b[32m━━━━━━━━━━━━━━━━━━━━\u001b[0m\u001b[37m\u001b[0m \u001b[1m1s\u001b[0m 709us/step - accuracy: 0.7360 - loss: 0.5968 - val_accuracy: 0.7169 - val_loss: 0.6278\n",
      "Epoch 44/1000\n",
      "\u001b[1m1147/1147\u001b[0m \u001b[32m━━━━━━━━━━━━━━━━━━━━\u001b[0m\u001b[37m\u001b[0m \u001b[1m1s\u001b[0m 711us/step - accuracy: 0.7385 - loss: 0.5981 - val_accuracy: 0.7230 - val_loss: 0.6114\n",
      "Epoch 45/1000\n",
      "\u001b[1m1147/1147\u001b[0m \u001b[32m━━━━━━━━━━━━━━━━━━━━\u001b[0m\u001b[37m\u001b[0m \u001b[1m1s\u001b[0m 694us/step - accuracy: 0.7360 - loss: 0.6010 - val_accuracy: 0.7227 - val_loss: 0.6155\n",
      "Epoch 46/1000\n",
      "\u001b[1m1147/1147\u001b[0m \u001b[32m━━━━━━━━━━━━━━━━━━━━\u001b[0m\u001b[37m\u001b[0m \u001b[1m1s\u001b[0m 704us/step - accuracy: 0.7371 - loss: 0.5965 - val_accuracy: 0.7263 - val_loss: 0.6051\n",
      "Epoch 47/1000\n",
      "\u001b[1m1147/1147\u001b[0m \u001b[32m━━━━━━━━━━━━━━━━━━━━\u001b[0m\u001b[37m\u001b[0m \u001b[1m1s\u001b[0m 721us/step - accuracy: 0.7402 - loss: 0.5968 - val_accuracy: 0.7231 - val_loss: 0.6167\n",
      "Epoch 48/1000\n",
      "\u001b[1m1147/1147\u001b[0m \u001b[32m━━━━━━━━━━━━━━━━━━━━\u001b[0m\u001b[37m\u001b[0m \u001b[1m1s\u001b[0m 703us/step - accuracy: 0.7386 - loss: 0.5986 - val_accuracy: 0.7264 - val_loss: 0.6118\n",
      "Epoch 49/1000\n",
      "\u001b[1m1147/1147\u001b[0m \u001b[32m━━━━━━━━━━━━━━━━━━━━\u001b[0m\u001b[37m\u001b[0m \u001b[1m1s\u001b[0m 710us/step - accuracy: 0.7409 - loss: 0.5869 - val_accuracy: 0.7230 - val_loss: 0.6164\n",
      "Epoch 50/1000\n",
      "\u001b[1m1147/1147\u001b[0m \u001b[32m━━━━━━━━━━━━━━━━━━━━\u001b[0m\u001b[37m\u001b[0m \u001b[1m1s\u001b[0m 707us/step - accuracy: 0.7378 - loss: 0.5946 - val_accuracy: 0.7124 - val_loss: 0.6343\n",
      "Epoch 51/1000\n",
      "\u001b[1m1147/1147\u001b[0m \u001b[32m━━━━━━━━━━━━━━━━━━━━\u001b[0m\u001b[37m\u001b[0m \u001b[1m1s\u001b[0m 713us/step - accuracy: 0.7378 - loss: 0.5884 - val_accuracy: 0.7138 - val_loss: 0.6299\n",
      "Epoch 52/1000\n",
      "\u001b[1m1147/1147\u001b[0m \u001b[32m━━━━━━━━━━━━━━━━━━━━\u001b[0m\u001b[37m\u001b[0m \u001b[1m1s\u001b[0m 729us/step - accuracy: 0.7389 - loss: 0.5953 - val_accuracy: 0.7277 - val_loss: 0.6113\n",
      "Epoch 53/1000\n",
      "\u001b[1m1147/1147\u001b[0m \u001b[32m━━━━━━━━━━━━━━━━━━━━\u001b[0m\u001b[37m\u001b[0m \u001b[1m1s\u001b[0m 705us/step - accuracy: 0.7443 - loss: 0.5865 - val_accuracy: 0.7208 - val_loss: 0.6159\n",
      "Epoch 54/1000\n",
      "\u001b[1m1147/1147\u001b[0m \u001b[32m━━━━━━━━━━━━━━━━━━━━\u001b[0m\u001b[37m\u001b[0m \u001b[1m1s\u001b[0m 698us/step - accuracy: 0.7403 - loss: 0.5910 - val_accuracy: 0.7273 - val_loss: 0.6120\n",
      "Epoch 55/1000\n",
      "\u001b[1m1147/1147\u001b[0m \u001b[32m━━━━━━━━━━━━━━━━━━━━\u001b[0m\u001b[37m\u001b[0m \u001b[1m1s\u001b[0m 706us/step - accuracy: 0.7373 - loss: 0.5929 - val_accuracy: 0.7202 - val_loss: 0.6177\n",
      "Epoch 56/1000\n",
      "\u001b[1m1147/1147\u001b[0m \u001b[32m━━━━━━━━━━━━━━━━━━━━\u001b[0m\u001b[37m\u001b[0m \u001b[1m1s\u001b[0m 752us/step - accuracy: 0.7400 - loss: 0.5948 - val_accuracy: 0.7232 - val_loss: 0.6153\n",
      "Epoch 57/1000\n",
      "\u001b[1m1147/1147\u001b[0m \u001b[32m━━━━━━━━━━━━━━━━━━━━\u001b[0m\u001b[37m\u001b[0m \u001b[1m1s\u001b[0m 700us/step - accuracy: 0.7392 - loss: 0.5933 - val_accuracy: 0.7191 - val_loss: 0.6172\n",
      "Epoch 58/1000\n",
      "\u001b[1m1147/1147\u001b[0m \u001b[32m━━━━━━━━━━━━━━━━━━━━\u001b[0m\u001b[37m\u001b[0m \u001b[1m1s\u001b[0m 711us/step - accuracy: 0.7409 - loss: 0.5859 - val_accuracy: 0.7122 - val_loss: 0.6377\n",
      "Epoch 59/1000\n",
      "\u001b[1m1147/1147\u001b[0m \u001b[32m━━━━━━━━━━━━━━━━━━━━\u001b[0m\u001b[37m\u001b[0m \u001b[1m1s\u001b[0m 709us/step - accuracy: 0.7381 - loss: 0.5886 - val_accuracy: 0.7291 - val_loss: 0.6090\n",
      "Epoch 60/1000\n",
      "\u001b[1m1147/1147\u001b[0m \u001b[32m━━━━━━━━━━━━━━━━━━━━\u001b[0m\u001b[37m\u001b[0m \u001b[1m1s\u001b[0m 737us/step - accuracy: 0.7381 - loss: 0.5917 - val_accuracy: 0.7220 - val_loss: 0.6163\n",
      "Epoch 61/1000\n",
      "\u001b[1m1147/1147\u001b[0m \u001b[32m━━━━━━━━━━━━━━━━━━━━\u001b[0m\u001b[37m\u001b[0m \u001b[1m1s\u001b[0m 705us/step - accuracy: 0.7403 - loss: 0.5883 - val_accuracy: 0.7264 - val_loss: 0.6086\n",
      "Epoch 62/1000\n",
      "\u001b[1m1147/1147\u001b[0m \u001b[32m━━━━━━━━━━━━━━━━━━━━\u001b[0m\u001b[37m\u001b[0m \u001b[1m1s\u001b[0m 695us/step - accuracy: 0.7371 - loss: 0.5917 - val_accuracy: 0.7276 - val_loss: 0.5998\n",
      "Epoch 63/1000\n",
      "\u001b[1m1147/1147\u001b[0m \u001b[32m━━━━━━━━━━━━━━━━━━━━\u001b[0m\u001b[37m\u001b[0m \u001b[1m1s\u001b[0m 707us/step - accuracy: 0.7381 - loss: 0.5951 - val_accuracy: 0.7228 - val_loss: 0.6130\n",
      "Epoch 64/1000\n",
      "\u001b[1m1147/1147\u001b[0m \u001b[32m━━━━━━━━━━━━━━━━━━━━\u001b[0m\u001b[37m\u001b[0m \u001b[1m1s\u001b[0m 692us/step - accuracy: 0.7406 - loss: 0.5853 - val_accuracy: 0.7174 - val_loss: 0.6237\n",
      "Epoch 65/1000\n",
      "\u001b[1m1147/1147\u001b[0m \u001b[32m━━━━━━━━━━━━━━━━━━━━\u001b[0m\u001b[37m\u001b[0m \u001b[1m1s\u001b[0m 738us/step - accuracy: 0.7383 - loss: 0.5919 - val_accuracy: 0.7233 - val_loss: 0.6114\n",
      "Epoch 66/1000\n",
      "\u001b[1m1147/1147\u001b[0m \u001b[32m━━━━━━━━━━━━━━━━━━━━\u001b[0m\u001b[37m\u001b[0m \u001b[1m1s\u001b[0m 699us/step - accuracy: 0.7417 - loss: 0.5867 - val_accuracy: 0.7207 - val_loss: 0.6173\n",
      "Epoch 67/1000\n",
      "\u001b[1m1147/1147\u001b[0m \u001b[32m━━━━━━━━━━━━━━━━━━━━\u001b[0m\u001b[37m\u001b[0m \u001b[1m1s\u001b[0m 716us/step - accuracy: 0.7410 - loss: 0.5889 - val_accuracy: 0.7182 - val_loss: 0.6217\n",
      "Epoch 68/1000\n",
      "\u001b[1m1147/1147\u001b[0m \u001b[32m━━━━━━━━━━━━━━━━━━━━\u001b[0m\u001b[37m\u001b[0m \u001b[1m1s\u001b[0m 722us/step - accuracy: 0.7414 - loss: 0.5877 - val_accuracy: 0.7188 - val_loss: 0.6199\n",
      "Epoch 69/1000\n",
      "\u001b[1m1147/1147\u001b[0m \u001b[32m━━━━━━━━━━━━━━━━━━━━\u001b[0m\u001b[37m\u001b[0m \u001b[1m1s\u001b[0m 728us/step - accuracy: 0.7372 - loss: 0.5909 - val_accuracy: 0.7162 - val_loss: 0.6289\n",
      "Epoch 70/1000\n",
      "\u001b[1m1147/1147\u001b[0m \u001b[32m━━━━━━━━━━━━━━━━━━━━\u001b[0m\u001b[37m\u001b[0m \u001b[1m1s\u001b[0m 705us/step - accuracy: 0.7419 - loss: 0.5876 - val_accuracy: 0.7222 - val_loss: 0.6108\n",
      "Epoch 71/1000\n",
      "\u001b[1m1147/1147\u001b[0m \u001b[32m━━━━━━━━━━━━━━━━━━━━\u001b[0m\u001b[37m\u001b[0m \u001b[1m1s\u001b[0m 705us/step - accuracy: 0.7419 - loss: 0.5845 - val_accuracy: 0.7081 - val_loss: 0.6353\n",
      "Epoch 72/1000\n",
      "\u001b[1m1147/1147\u001b[0m \u001b[32m━━━━━━━━━━━━━━━━━━━━\u001b[0m\u001b[37m\u001b[0m \u001b[1m1s\u001b[0m 704us/step - accuracy: 0.7381 - loss: 0.5926 - val_accuracy: 0.7258 - val_loss: 0.6084\n",
      "Epoch 73/1000\n",
      "\u001b[1m1147/1147\u001b[0m \u001b[32m━━━━━━━━━━━━━━━━━━━━\u001b[0m\u001b[37m\u001b[0m \u001b[1m1s\u001b[0m 735us/step - accuracy: 0.7418 - loss: 0.5895 - val_accuracy: 0.7310 - val_loss: 0.6008\n",
      "Epoch 74/1000\n",
      "\u001b[1m1147/1147\u001b[0m \u001b[32m━━━━━━━━━━━━━━━━━━━━\u001b[0m\u001b[37m\u001b[0m \u001b[1m1s\u001b[0m 702us/step - accuracy: 0.7352 - loss: 0.5911 - val_accuracy: 0.7207 - val_loss: 0.6215\n",
      "Epoch 75/1000\n",
      "\u001b[1m1147/1147\u001b[0m \u001b[32m━━━━━━━━━━━━━━━━━━━━\u001b[0m\u001b[37m\u001b[0m \u001b[1m1s\u001b[0m 698us/step - accuracy: 0.7431 - loss: 0.5844 - val_accuracy: 0.7208 - val_loss: 0.6174\n",
      "Epoch 76/1000\n",
      "\u001b[1m1147/1147\u001b[0m \u001b[32m━━━━━━━━━━━━━━━━━━━━\u001b[0m\u001b[37m\u001b[0m \u001b[1m1s\u001b[0m 702us/step - accuracy: 0.7393 - loss: 0.5905 - val_accuracy: 0.7221 - val_loss: 0.6164\n",
      "Epoch 77/1000\n",
      "\u001b[1m1147/1147\u001b[0m \u001b[32m━━━━━━━━━━━━━━━━━━━━\u001b[0m\u001b[37m\u001b[0m \u001b[1m1s\u001b[0m 741us/step - accuracy: 0.7433 - loss: 0.5840 - val_accuracy: 0.7251 - val_loss: 0.6100\n",
      "Epoch 78/1000\n",
      "\u001b[1m1147/1147\u001b[0m \u001b[32m━━━━━━━━━━━━━━━━━━━━\u001b[0m\u001b[37m\u001b[0m \u001b[1m1s\u001b[0m 712us/step - accuracy: 0.7394 - loss: 0.5850 - val_accuracy: 0.7160 - val_loss: 0.6250\n",
      "Epoch 79/1000\n",
      "\u001b[1m1147/1147\u001b[0m \u001b[32m━━━━━━━━━━━━━━━━━━━━\u001b[0m\u001b[37m\u001b[0m \u001b[1m1s\u001b[0m 700us/step - accuracy: 0.7382 - loss: 0.5892 - val_accuracy: 0.7177 - val_loss: 0.6205\n",
      "Epoch 80/1000\n",
      "\u001b[1m1147/1147\u001b[0m \u001b[32m━━━━━━━━━━━━━━━━━━━━\u001b[0m\u001b[37m\u001b[0m \u001b[1m1s\u001b[0m 755us/step - accuracy: 0.7382 - loss: 0.5887 - val_accuracy: 0.7164 - val_loss: 0.6224\n",
      "Epoch 81/1000\n",
      "\u001b[1m1147/1147\u001b[0m \u001b[32m━━━━━━━━━━━━━━━━━━━━\u001b[0m\u001b[37m\u001b[0m \u001b[1m1s\u001b[0m 698us/step - accuracy: 0.7411 - loss: 0.5889 - val_accuracy: 0.7136 - val_loss: 0.6294\n",
      "Epoch 82/1000\n",
      "\u001b[1m1147/1147\u001b[0m \u001b[32m━━━━━━━━━━━━━━━━━━━━\u001b[0m\u001b[37m\u001b[0m \u001b[1m1s\u001b[0m 712us/step - accuracy: 0.7429 - loss: 0.5850 - val_accuracy: 0.7180 - val_loss: 0.6199\n",
      "Epoch 83/1000\n",
      "\u001b[1m1147/1147\u001b[0m \u001b[32m━━━━━━━━━━━━━━━━━━━━\u001b[0m\u001b[37m\u001b[0m \u001b[1m1s\u001b[0m 711us/step - accuracy: 0.7402 - loss: 0.5850 - val_accuracy: 0.7071 - val_loss: 0.6377\n",
      "Epoch 84/1000\n",
      "\u001b[1m1147/1147\u001b[0m \u001b[32m━━━━━━━━━━━━━━━━━━━━\u001b[0m\u001b[37m\u001b[0m \u001b[1m1s\u001b[0m 737us/step - accuracy: 0.7381 - loss: 0.5874 - val_accuracy: 0.7023 - val_loss: 0.6497\n",
      "Epoch 85/1000\n",
      "\u001b[1m1147/1147\u001b[0m \u001b[32m━━━━━━━━━━━━━━━━━━━━\u001b[0m\u001b[37m\u001b[0m \u001b[1m1s\u001b[0m 725us/step - accuracy: 0.7453 - loss: 0.5806 - val_accuracy: 0.7246 - val_loss: 0.6075\n",
      "Epoch 86/1000\n",
      "\u001b[1m1147/1147\u001b[0m \u001b[32m━━━━━━━━━━━━━━━━━━━━\u001b[0m\u001b[37m\u001b[0m \u001b[1m1s\u001b[0m 709us/step - accuracy: 0.7411 - loss: 0.5814 - val_accuracy: 0.7137 - val_loss: 0.6298\n",
      "Epoch 87/1000\n",
      "\u001b[1m1147/1147\u001b[0m \u001b[32m━━━━━━━━━━━━━━━━━━━━\u001b[0m\u001b[37m\u001b[0m \u001b[1m1s\u001b[0m 738us/step - accuracy: 0.7418 - loss: 0.5858 - val_accuracy: 0.7183 - val_loss: 0.6193\n",
      "Epoch 88/1000\n",
      "\u001b[1m1147/1147\u001b[0m \u001b[32m━━━━━━━━━━━━━━━━━━━━\u001b[0m\u001b[37m\u001b[0m \u001b[1m1s\u001b[0m 713us/step - accuracy: 0.7452 - loss: 0.5757 - val_accuracy: 0.7052 - val_loss: 0.6417\n",
      "Epoch 89/1000\n",
      "\u001b[1m1147/1147\u001b[0m \u001b[32m━━━━━━━━━━━━━━━━━━━━\u001b[0m\u001b[37m\u001b[0m \u001b[1m1s\u001b[0m 705us/step - accuracy: 0.7417 - loss: 0.5853 - val_accuracy: 0.7129 - val_loss: 0.6273\n",
      "Epoch 90/1000\n",
      "\u001b[1m1147/1147\u001b[0m \u001b[32m━━━━━━━━━━━━━━━━━━━━\u001b[0m\u001b[37m\u001b[0m \u001b[1m1s\u001b[0m 704us/step - accuracy: 0.7415 - loss: 0.5840 - val_accuracy: 0.7225 - val_loss: 0.6153\n",
      "Epoch 91/1000\n",
      "\u001b[1m1147/1147\u001b[0m \u001b[32m━━━━━━━━━━━━━━━━━━━━\u001b[0m\u001b[37m\u001b[0m \u001b[1m1s\u001b[0m 730us/step - accuracy: 0.7457 - loss: 0.5829 - val_accuracy: 0.7129 - val_loss: 0.6251\n",
      "Epoch 92/1000\n",
      "\u001b[1m1147/1147\u001b[0m \u001b[32m━━━━━━━━━━━━━━━━━━━━\u001b[0m\u001b[37m\u001b[0m \u001b[1m1s\u001b[0m 705us/step - accuracy: 0.7425 - loss: 0.5824 - val_accuracy: 0.7092 - val_loss: 0.6379\n",
      "Epoch 93/1000\n",
      "\u001b[1m1147/1147\u001b[0m \u001b[32m━━━━━━━━━━━━━━━━━━━━\u001b[0m\u001b[37m\u001b[0m \u001b[1m1s\u001b[0m 711us/step - accuracy: 0.7420 - loss: 0.5808 - val_accuracy: 0.7144 - val_loss: 0.6279\n",
      "Epoch 94/1000\n",
      "\u001b[1m1147/1147\u001b[0m \u001b[32m━━━━━━━━━━━━━━━━━━━━\u001b[0m\u001b[37m\u001b[0m \u001b[1m1s\u001b[0m 730us/step - accuracy: 0.7444 - loss: 0.5826 - val_accuracy: 0.7167 - val_loss: 0.6230\n",
      "Epoch 95/1000\n",
      "\u001b[1m1147/1147\u001b[0m \u001b[32m━━━━━━━━━━━━━━━━━━━━\u001b[0m\u001b[37m\u001b[0m \u001b[1m1s\u001b[0m 708us/step - accuracy: 0.7413 - loss: 0.5819 - val_accuracy: 0.7173 - val_loss: 0.6196\n",
      "Epoch 96/1000\n",
      "\u001b[1m1147/1147\u001b[0m \u001b[32m━━━━━━━━━━━━━━━━━━━━\u001b[0m\u001b[37m\u001b[0m \u001b[1m1s\u001b[0m 705us/step - accuracy: 0.7472 - loss: 0.5769 - val_accuracy: 0.7218 - val_loss: 0.6154\n",
      "Epoch 97/1000\n",
      "\u001b[1m1147/1147\u001b[0m \u001b[32m━━━━━━━━━━━━━━━━━━━━\u001b[0m\u001b[37m\u001b[0m \u001b[1m1s\u001b[0m 740us/step - accuracy: 0.7448 - loss: 0.5748 - val_accuracy: 0.6962 - val_loss: 0.6603\n",
      "Epoch 98/1000\n",
      "\u001b[1m1147/1147\u001b[0m \u001b[32m━━━━━━━━━━━━━━━━━━━━\u001b[0m\u001b[37m\u001b[0m \u001b[1m1s\u001b[0m 694us/step - accuracy: 0.7419 - loss: 0.5830 - val_accuracy: 0.7104 - val_loss: 0.6325\n",
      "Epoch 99/1000\n",
      "\u001b[1m1147/1147\u001b[0m \u001b[32m━━━━━━━━━━━━━━━━━━━━\u001b[0m\u001b[37m\u001b[0m \u001b[1m1s\u001b[0m 709us/step - accuracy: 0.7426 - loss: 0.5840 - val_accuracy: 0.7252 - val_loss: 0.6074\n",
      "Epoch 100/1000\n",
      "\u001b[1m1147/1147\u001b[0m \u001b[32m━━━━━━━━━━━━━━━━━━━━\u001b[0m\u001b[37m\u001b[0m \u001b[1m1s\u001b[0m 709us/step - accuracy: 0.7432 - loss: 0.5808 - val_accuracy: 0.7178 - val_loss: 0.6212\n",
      "Epoch 101/1000\n",
      "\u001b[1m1147/1147\u001b[0m \u001b[32m━━━━━━━━━━━━━━━━━━━━\u001b[0m\u001b[37m\u001b[0m \u001b[1m1s\u001b[0m 732us/step - accuracy: 0.7424 - loss: 0.5848 - val_accuracy: 0.7003 - val_loss: 0.6523\n",
      "Epoch 102/1000\n",
      "\u001b[1m1147/1147\u001b[0m \u001b[32m━━━━━━━━━━━━━━━━━━━━\u001b[0m\u001b[37m\u001b[0m \u001b[1m1s\u001b[0m 710us/step - accuracy: 0.7480 - loss: 0.5830 - val_accuracy: 0.7108 - val_loss: 0.6309\n",
      "Epoch 103/1000\n",
      "\u001b[1m1147/1147\u001b[0m \u001b[32m━━━━━━━━━━━━━━━━━━━━\u001b[0m\u001b[37m\u001b[0m \u001b[1m1s\u001b[0m 697us/step - accuracy: 0.7443 - loss: 0.5778 - val_accuracy: 0.7058 - val_loss: 0.6429\n",
      "Epoch 104/1000\n",
      "\u001b[1m1147/1147\u001b[0m \u001b[32m━━━━━━━━━━━━━━━━━━━━\u001b[0m\u001b[37m\u001b[0m \u001b[1m1s\u001b[0m 734us/step - accuracy: 0.7397 - loss: 0.5853 - val_accuracy: 0.7098 - val_loss: 0.6315\n",
      "Epoch 105/1000\n",
      "\u001b[1m1147/1147\u001b[0m \u001b[32m━━━━━━━━━━━━━━━━━━━━\u001b[0m\u001b[37m\u001b[0m \u001b[1m1s\u001b[0m 713us/step - accuracy: 0.7451 - loss: 0.5821 - val_accuracy: 0.6979 - val_loss: 0.6553\n",
      "Epoch 106/1000\n",
      "\u001b[1m1147/1147\u001b[0m \u001b[32m━━━━━━━━━━━━━━━━━━━━\u001b[0m\u001b[37m\u001b[0m \u001b[1m1s\u001b[0m 702us/step - accuracy: 0.7405 - loss: 0.5854 - val_accuracy: 0.7086 - val_loss: 0.6355\n",
      "Epoch 107/1000\n",
      "\u001b[1m1147/1147\u001b[0m \u001b[32m━━━━━━━━━━━━━━━━━━━━\u001b[0m\u001b[37m\u001b[0m \u001b[1m1s\u001b[0m 709us/step - accuracy: 0.7429 - loss: 0.5803 - val_accuracy: 0.7234 - val_loss: 0.6094\n",
      "Epoch 108/1000\n",
      "\u001b[1m1147/1147\u001b[0m \u001b[32m━━━━━━━━━━━━━━━━━━━━\u001b[0m\u001b[37m\u001b[0m \u001b[1m1s\u001b[0m 733us/step - accuracy: 0.7418 - loss: 0.5765 - val_accuracy: 0.7207 - val_loss: 0.6181\n",
      "Epoch 109/1000\n",
      "\u001b[1m1147/1147\u001b[0m \u001b[32m━━━━━━━━━━━━━━━━━━━━\u001b[0m\u001b[37m\u001b[0m \u001b[1m1s\u001b[0m 705us/step - accuracy: 0.7472 - loss: 0.5746 - val_accuracy: 0.7046 - val_loss: 0.6401\n",
      "Epoch 110/1000\n",
      "\u001b[1m1147/1147\u001b[0m \u001b[32m━━━━━━━━━━━━━━━━━━━━\u001b[0m\u001b[37m\u001b[0m \u001b[1m1s\u001b[0m 712us/step - accuracy: 0.7469 - loss: 0.5734 - val_accuracy: 0.7195 - val_loss: 0.6155\n",
      "Epoch 111/1000\n",
      "\u001b[1m1147/1147\u001b[0m \u001b[32m━━━━━━━━━━━━━━━━━━━━\u001b[0m\u001b[37m\u001b[0m \u001b[1m1s\u001b[0m 729us/step - accuracy: 0.7459 - loss: 0.5827 - val_accuracy: 0.7135 - val_loss: 0.6242\n",
      "Epoch 112/1000\n",
      "\u001b[1m1147/1147\u001b[0m \u001b[32m━━━━━━━━━━━━━━━━━━━━\u001b[0m\u001b[37m\u001b[0m \u001b[1m1s\u001b[0m 709us/step - accuracy: 0.7435 - loss: 0.5794 - val_accuracy: 0.7097 - val_loss: 0.6371\n",
      "Epoch 113/1000\n",
      "\u001b[1m1147/1147\u001b[0m \u001b[32m━━━━━━━━━━━━━━━━━━━━\u001b[0m\u001b[37m\u001b[0m \u001b[1m1s\u001b[0m 701us/step - accuracy: 0.7470 - loss: 0.5737 - val_accuracy: 0.7098 - val_loss: 0.6321\n",
      "Epoch 114/1000\n",
      "\u001b[1m1147/1147\u001b[0m \u001b[32m━━━━━━━━━━━━━━━━━━━━\u001b[0m\u001b[37m\u001b[0m \u001b[1m1s\u001b[0m 736us/step - accuracy: 0.7420 - loss: 0.5853 - val_accuracy: 0.7153 - val_loss: 0.6268\n",
      "Epoch 115/1000\n",
      "\u001b[1m1147/1147\u001b[0m \u001b[32m━━━━━━━━━━━━━━━━━━━━\u001b[0m\u001b[37m\u001b[0m \u001b[1m1s\u001b[0m 708us/step - accuracy: 0.7407 - loss: 0.5811 - val_accuracy: 0.7174 - val_loss: 0.6191\n",
      "Epoch 116/1000\n",
      "\u001b[1m1147/1147\u001b[0m \u001b[32m━━━━━━━━━━━━━━━━━━━━\u001b[0m\u001b[37m\u001b[0m \u001b[1m1s\u001b[0m 694us/step - accuracy: 0.7420 - loss: 0.5802 - val_accuracy: 0.6965 - val_loss: 0.6615\n",
      "Epoch 117/1000\n",
      "\u001b[1m1147/1147\u001b[0m \u001b[32m━━━━━━━━━━━━━━━━━━━━\u001b[0m\u001b[37m\u001b[0m \u001b[1m1s\u001b[0m 705us/step - accuracy: 0.7404 - loss: 0.5837 - val_accuracy: 0.7192 - val_loss: 0.6172\n",
      "Epoch 118/1000\n",
      "\u001b[1m1147/1147\u001b[0m \u001b[32m━━━━━━━━━━━━━━━━━━━━\u001b[0m\u001b[37m\u001b[0m \u001b[1m1s\u001b[0m 731us/step - accuracy: 0.7425 - loss: 0.5818 - val_accuracy: 0.6997 - val_loss: 0.6501\n",
      "Epoch 119/1000\n",
      "\u001b[1m1147/1147\u001b[0m \u001b[32m━━━━━━━━━━━━━━━━━━━━\u001b[0m\u001b[37m\u001b[0m \u001b[1m1s\u001b[0m 707us/step - accuracy: 0.7446 - loss: 0.5792 - val_accuracy: 0.7160 - val_loss: 0.6210\n",
      "Epoch 120/1000\n",
      "\u001b[1m1147/1147\u001b[0m \u001b[32m━━━━━━━━━━━━━━━━━━━━\u001b[0m\u001b[37m\u001b[0m \u001b[1m1s\u001b[0m 697us/step - accuracy: 0.7461 - loss: 0.5774 - val_accuracy: 0.7008 - val_loss: 0.6533\n",
      "Epoch 121/1000\n",
      "\u001b[1m1147/1147\u001b[0m \u001b[32m━━━━━━━━━━━━━━━━━━━━\u001b[0m\u001b[37m\u001b[0m \u001b[1m1s\u001b[0m 736us/step - accuracy: 0.7411 - loss: 0.5804 - val_accuracy: 0.7170 - val_loss: 0.6166\n",
      "Epoch 122/1000\n",
      "\u001b[1m1147/1147\u001b[0m \u001b[32m━━━━━━━━━━━━━━━━━━━━\u001b[0m\u001b[37m\u001b[0m \u001b[1m1s\u001b[0m 719us/step - accuracy: 0.7422 - loss: 0.5797 - val_accuracy: 0.7222 - val_loss: 0.6128\n",
      "Epoch 123/1000\n",
      "\u001b[1m1147/1147\u001b[0m \u001b[32m━━━━━━━━━━━━━━━━━━━━\u001b[0m\u001b[37m\u001b[0m \u001b[1m1s\u001b[0m 738us/step - accuracy: 0.7463 - loss: 0.5754 - val_accuracy: 0.7112 - val_loss: 0.6262\n",
      "Epoch 124/1000\n",
      "\u001b[1m1147/1147\u001b[0m \u001b[32m━━━━━━━━━━━━━━━━━━━━\u001b[0m\u001b[37m\u001b[0m \u001b[1m1s\u001b[0m 697us/step - accuracy: 0.7447 - loss: 0.5780 - val_accuracy: 0.7270 - val_loss: 0.6047\n",
      "Epoch 125/1000\n",
      "\u001b[1m1147/1147\u001b[0m \u001b[32m━━━━━━━━━━━━━━━━━━━━\u001b[0m\u001b[37m\u001b[0m \u001b[1m1s\u001b[0m 704us/step - accuracy: 0.7404 - loss: 0.5868 - val_accuracy: 0.7071 - val_loss: 0.6386\n",
      "Epoch 126/1000\n",
      "\u001b[1m1147/1147\u001b[0m \u001b[32m━━━━━━━━━━━━━━━━━━━━\u001b[0m\u001b[37m\u001b[0m \u001b[1m1s\u001b[0m 748us/step - accuracy: 0.7449 - loss: 0.5752 - val_accuracy: 0.6966 - val_loss: 0.6605\n",
      "Epoch 127/1000\n",
      "\u001b[1m1147/1147\u001b[0m \u001b[32m━━━━━━━━━━━━━━━━━━━━\u001b[0m\u001b[37m\u001b[0m \u001b[1m1s\u001b[0m 709us/step - accuracy: 0.7474 - loss: 0.5739 - val_accuracy: 0.7060 - val_loss: 0.6383\n",
      "Epoch 128/1000\n",
      "\u001b[1m1147/1147\u001b[0m \u001b[32m━━━━━━━━━━━━━━━━━━━━\u001b[0m\u001b[37m\u001b[0m \u001b[1m1s\u001b[0m 705us/step - accuracy: 0.7483 - loss: 0.5709 - val_accuracy: 0.7106 - val_loss: 0.6346\n",
      "Epoch 129/1000\n",
      "\u001b[1m1147/1147\u001b[0m \u001b[32m━━━━━━━━━━━━━━━━━━━━\u001b[0m\u001b[37m\u001b[0m \u001b[1m1s\u001b[0m 735us/step - accuracy: 0.7451 - loss: 0.5781 - val_accuracy: 0.7180 - val_loss: 0.6209\n",
      "Epoch 130/1000\n",
      "\u001b[1m1147/1147\u001b[0m \u001b[32m━━━━━━━━━━━━━━━━━━━━\u001b[0m\u001b[37m\u001b[0m \u001b[1m1s\u001b[0m 706us/step - accuracy: 0.7454 - loss: 0.5794 - val_accuracy: 0.6984 - val_loss: 0.6571\n",
      "Epoch 131/1000\n",
      "\u001b[1m1147/1147\u001b[0m \u001b[32m━━━━━━━━━━━━━━━━━━━━\u001b[0m\u001b[37m\u001b[0m \u001b[1m1s\u001b[0m 708us/step - accuracy: 0.7426 - loss: 0.5753 - val_accuracy: 0.7098 - val_loss: 0.6417\n",
      "Epoch 132/1000\n",
      "\u001b[1m1147/1147\u001b[0m \u001b[32m━━━━━━━━━━━━━━━━━━━━\u001b[0m\u001b[37m\u001b[0m \u001b[1m1s\u001b[0m 734us/step - accuracy: 0.7518 - loss: 0.5702 - val_accuracy: 0.7055 - val_loss: 0.6447\n",
      "Epoch 133/1000\n",
      "\u001b[1m1147/1147\u001b[0m \u001b[32m━━━━━━━━━━━━━━━━━━━━\u001b[0m\u001b[37m\u001b[0m \u001b[1m1s\u001b[0m 711us/step - accuracy: 0.7460 - loss: 0.5740 - val_accuracy: 0.7152 - val_loss: 0.6262\n",
      "Epoch 134/1000\n",
      "\u001b[1m1147/1147\u001b[0m \u001b[32m━━━━━━━━━━━━━━━━━━━━\u001b[0m\u001b[37m\u001b[0m \u001b[1m1s\u001b[0m 721us/step - accuracy: 0.7442 - loss: 0.5754 - val_accuracy: 0.6983 - val_loss: 0.6532\n",
      "Epoch 135/1000\n",
      "\u001b[1m1147/1147\u001b[0m \u001b[32m━━━━━━━━━━━━━━━━━━━━\u001b[0m\u001b[37m\u001b[0m \u001b[1m1s\u001b[0m 761us/step - accuracy: 0.7450 - loss: 0.5696 - val_accuracy: 0.7198 - val_loss: 0.6173\n",
      "Epoch 136/1000\n",
      "\u001b[1m1147/1147\u001b[0m \u001b[32m━━━━━━━━━━━━━━━━━━━━\u001b[0m\u001b[37m\u001b[0m \u001b[1m1s\u001b[0m 794us/step - accuracy: 0.7359 - loss: 0.5847 - val_accuracy: 0.7257 - val_loss: 0.6071\n",
      "Epoch 137/1000\n",
      "\u001b[1m1147/1147\u001b[0m \u001b[32m━━━━━━━━━━━━━━━━━━━━\u001b[0m\u001b[37m\u001b[0m \u001b[1m1s\u001b[0m 714us/step - accuracy: 0.7420 - loss: 0.5786 - val_accuracy: 0.7100 - val_loss: 0.6367\n",
      "Epoch 138/1000\n",
      "\u001b[1m1147/1147\u001b[0m \u001b[32m━━━━━━━━━━━━━━━━━━━━\u001b[0m\u001b[37m\u001b[0m \u001b[1m1s\u001b[0m 785us/step - accuracy: 0.7486 - loss: 0.5659 - val_accuracy: 0.7239 - val_loss: 0.6128\n",
      "Epoch 139/1000\n",
      "\u001b[1m1147/1147\u001b[0m \u001b[32m━━━━━━━━━━━━━━━━━━━━\u001b[0m\u001b[37m\u001b[0m \u001b[1m1s\u001b[0m 707us/step - accuracy: 0.7445 - loss: 0.5724 - val_accuracy: 0.7153 - val_loss: 0.6246\n",
      "Epoch 140/1000\n",
      "\u001b[1m1147/1147\u001b[0m \u001b[32m━━━━━━━━━━━━━━━━━━━━\u001b[0m\u001b[37m\u001b[0m \u001b[1m1s\u001b[0m 723us/step - accuracy: 0.7484 - loss: 0.5692 - val_accuracy: 0.7161 - val_loss: 0.6233\n",
      "Epoch 141/1000\n",
      "\u001b[1m1147/1147\u001b[0m \u001b[32m━━━━━━━━━━━━━━━━━━━━\u001b[0m\u001b[37m\u001b[0m \u001b[1m1s\u001b[0m 732us/step - accuracy: 0.7443 - loss: 0.5745 - val_accuracy: 0.7186 - val_loss: 0.6190\n",
      "Epoch 142/1000\n",
      "\u001b[1m1147/1147\u001b[0m \u001b[32m━━━━━━━━━━━━━━━━━━━━\u001b[0m\u001b[37m\u001b[0m \u001b[1m1s\u001b[0m 699us/step - accuracy: 0.7465 - loss: 0.5743 - val_accuracy: 0.7245 - val_loss: 0.6136\n",
      "Epoch 143/1000\n",
      "\u001b[1m1147/1147\u001b[0m \u001b[32m━━━━━━━━━━━━━━━━━━━━\u001b[0m\u001b[37m\u001b[0m \u001b[1m1s\u001b[0m 711us/step - accuracy: 0.7463 - loss: 0.5769 - val_accuracy: 0.7069 - val_loss: 0.6396\n",
      "Epoch 144/1000\n",
      "\u001b[1m1147/1147\u001b[0m \u001b[32m━━━━━━━━━━━━━━━━━━━━\u001b[0m\u001b[37m\u001b[0m \u001b[1m1s\u001b[0m 737us/step - accuracy: 0.7455 - loss: 0.5783 - val_accuracy: 0.6957 - val_loss: 0.6642\n",
      "Epoch 145/1000\n",
      "\u001b[1m1147/1147\u001b[0m \u001b[32m━━━━━━━━━━━━━━━━━━━━\u001b[0m\u001b[37m\u001b[0m \u001b[1m1s\u001b[0m 715us/step - accuracy: 0.7446 - loss: 0.5696 - val_accuracy: 0.7201 - val_loss: 0.6189\n",
      "Epoch 146/1000\n",
      "\u001b[1m1147/1147\u001b[0m \u001b[32m━━━━━━━━━━━━━━━━━━━━\u001b[0m\u001b[37m\u001b[0m \u001b[1m1s\u001b[0m 707us/step - accuracy: 0.7464 - loss: 0.5739 - val_accuracy: 0.7232 - val_loss: 0.6105\n",
      "Epoch 147/1000\n",
      "\u001b[1m1147/1147\u001b[0m \u001b[32m━━━━━━━━━━━━━━━━━━━━\u001b[0m\u001b[37m\u001b[0m \u001b[1m1s\u001b[0m 732us/step - accuracy: 0.7516 - loss: 0.5658 - val_accuracy: 0.7020 - val_loss: 0.6492\n",
      "Epoch 148/1000\n",
      "\u001b[1m1147/1147\u001b[0m \u001b[32m━━━━━━━━━━━━━━━━━━━━\u001b[0m\u001b[37m\u001b[0m \u001b[1m1s\u001b[0m 701us/step - accuracy: 0.7471 - loss: 0.5755 - val_accuracy: 0.7173 - val_loss: 0.6239\n",
      "Epoch 149/1000\n",
      "\u001b[1m1147/1147\u001b[0m \u001b[32m━━━━━━━━━━━━━━━━━━━━\u001b[0m\u001b[37m\u001b[0m \u001b[1m1s\u001b[0m 711us/step - accuracy: 0.7450 - loss: 0.5732 - val_accuracy: 0.7180 - val_loss: 0.6206\n",
      "Epoch 150/1000\n",
      "\u001b[1m1147/1147\u001b[0m \u001b[32m━━━━━━━━━━━━━━━━━━━━\u001b[0m\u001b[37m\u001b[0m \u001b[1m1s\u001b[0m 742us/step - accuracy: 0.7426 - loss: 0.5768 - val_accuracy: 0.7131 - val_loss: 0.6267\n",
      "Epoch 151/1000\n",
      "\u001b[1m1147/1147\u001b[0m \u001b[32m━━━━━━━━━━━━━━━━━━━━\u001b[0m\u001b[37m\u001b[0m \u001b[1m1s\u001b[0m 718us/step - accuracy: 0.7484 - loss: 0.5714 - val_accuracy: 0.7162 - val_loss: 0.6236\n",
      "Epoch 152/1000\n",
      "\u001b[1m1147/1147\u001b[0m \u001b[32m━━━━━━━━━━━━━━━━━━━━\u001b[0m\u001b[37m\u001b[0m \u001b[1m1s\u001b[0m 757us/step - accuracy: 0.7479 - loss: 0.5711 - val_accuracy: 0.7181 - val_loss: 0.6229\n",
      "Epoch 153/1000\n",
      "\u001b[1m1147/1147\u001b[0m \u001b[32m━━━━━━━━━━━━━━━━━━━━\u001b[0m\u001b[37m\u001b[0m \u001b[1m1s\u001b[0m 714us/step - accuracy: 0.7463 - loss: 0.5764 - val_accuracy: 0.7153 - val_loss: 0.6235\n",
      "Epoch 154/1000\n",
      "\u001b[1m1147/1147\u001b[0m \u001b[32m━━━━━━━━━━━━━━━━━━━━\u001b[0m\u001b[37m\u001b[0m \u001b[1m1s\u001b[0m 700us/step - accuracy: 0.7455 - loss: 0.5728 - val_accuracy: 0.7091 - val_loss: 0.6342\n",
      "Epoch 155/1000\n",
      "\u001b[1m1147/1147\u001b[0m \u001b[32m━━━━━━━━━━━━━━━━━━━━\u001b[0m\u001b[37m\u001b[0m \u001b[1m1s\u001b[0m 738us/step - accuracy: 0.7488 - loss: 0.5713 - val_accuracy: 0.7181 - val_loss: 0.6214\n",
      "Epoch 156/1000\n",
      "\u001b[1m1147/1147\u001b[0m \u001b[32m━━━━━━━━━━━━━━━━━━━━\u001b[0m\u001b[37m\u001b[0m \u001b[1m1s\u001b[0m 717us/step - accuracy: 0.7519 - loss: 0.5721 - val_accuracy: 0.7072 - val_loss: 0.6407\n",
      "Epoch 157/1000\n",
      "\u001b[1m1147/1147\u001b[0m \u001b[32m━━━━━━━━━━━━━━━━━━━━\u001b[0m\u001b[37m\u001b[0m \u001b[1m1s\u001b[0m 828us/step - accuracy: 0.7447 - loss: 0.5757 - val_accuracy: 0.7238 - val_loss: 0.6140\n",
      "Epoch 158/1000\n",
      "\u001b[1m1147/1147\u001b[0m \u001b[32m━━━━━━━━━━━━━━━━━━━━\u001b[0m\u001b[37m\u001b[0m \u001b[1m1s\u001b[0m 740us/step - accuracy: 0.7455 - loss: 0.5726 - val_accuracy: 0.7135 - val_loss: 0.6277\n",
      "Epoch 159/1000\n",
      "\u001b[1m1147/1147\u001b[0m \u001b[32m━━━━━━━━━━━━━━━━━━━━\u001b[0m\u001b[37m\u001b[0m \u001b[1m1s\u001b[0m 758us/step - accuracy: 0.7466 - loss: 0.5728 - val_accuracy: 0.7192 - val_loss: 0.6233\n",
      "Epoch 160/1000\n",
      "\u001b[1m1147/1147\u001b[0m \u001b[32m━━━━━━━━━━━━━━━━━━━━\u001b[0m\u001b[37m\u001b[0m \u001b[1m1s\u001b[0m 785us/step - accuracy: 0.7501 - loss: 0.5658 - val_accuracy: 0.7095 - val_loss: 0.6350\n",
      "Epoch 161/1000\n",
      "\u001b[1m1147/1147\u001b[0m \u001b[32m━━━━━━━━━━━━━━━━━━━━\u001b[0m\u001b[37m\u001b[0m \u001b[1m1s\u001b[0m 734us/step - accuracy: 0.7532 - loss: 0.5651 - val_accuracy: 0.6992 - val_loss: 0.6556\n",
      "Epoch 162/1000\n",
      "\u001b[1m1147/1147\u001b[0m \u001b[32m━━━━━━━━━━━━━━━━━━━━\u001b[0m\u001b[37m\u001b[0m \u001b[1m1s\u001b[0m 703us/step - accuracy: 0.7527 - loss: 0.5654 - val_accuracy: 0.7144 - val_loss: 0.6273\n",
      "Epoch 163/1000\n",
      "\u001b[1m1147/1147\u001b[0m \u001b[32m━━━━━━━━━━━━━━━━━━━━\u001b[0m\u001b[37m\u001b[0m \u001b[1m1s\u001b[0m 732us/step - accuracy: 0.7491 - loss: 0.5752 - val_accuracy: 0.7089 - val_loss: 0.6425\n",
      "Epoch 164/1000\n",
      "\u001b[1m1147/1147\u001b[0m \u001b[32m━━━━━━━━━━━━━━━━━━━━\u001b[0m\u001b[37m\u001b[0m \u001b[1m1s\u001b[0m 719us/step - accuracy: 0.7501 - loss: 0.5726 - val_accuracy: 0.7262 - val_loss: 0.6103\n",
      "Epoch 165/1000\n",
      "\u001b[1m1147/1147\u001b[0m \u001b[32m━━━━━━━━━━━━━━━━━━━━\u001b[0m\u001b[37m\u001b[0m \u001b[1m1s\u001b[0m 712us/step - accuracy: 0.7443 - loss: 0.5743 - val_accuracy: 0.7080 - val_loss: 0.6392\n",
      "Epoch 166/1000\n",
      "\u001b[1m1147/1147\u001b[0m \u001b[32m━━━━━━━━━━━━━━━━━━━━\u001b[0m\u001b[37m\u001b[0m \u001b[1m1s\u001b[0m 750us/step - accuracy: 0.7515 - loss: 0.5683 - val_accuracy: 0.7107 - val_loss: 0.6333\n",
      "Epoch 167/1000\n",
      "\u001b[1m1147/1147\u001b[0m \u001b[32m━━━━━━━━━━━━━━━━━━━━\u001b[0m\u001b[37m\u001b[0m \u001b[1m1s\u001b[0m 719us/step - accuracy: 0.7497 - loss: 0.5675 - val_accuracy: 0.7107 - val_loss: 0.6363\n",
      "Epoch 168/1000\n",
      "\u001b[1m1147/1147\u001b[0m \u001b[32m━━━━━━━━━━━━━━━━━━━━\u001b[0m\u001b[37m\u001b[0m \u001b[1m1s\u001b[0m 758us/step - accuracy: 0.7488 - loss: 0.5702 - val_accuracy: 0.7088 - val_loss: 0.6369\n",
      "Epoch 169/1000\n",
      "\u001b[1m1147/1147\u001b[0m \u001b[32m━━━━━━━━━━━━━━━━━━━━\u001b[0m\u001b[37m\u001b[0m \u001b[1m1s\u001b[0m 716us/step - accuracy: 0.7476 - loss: 0.5710 - val_accuracy: 0.7181 - val_loss: 0.6202\n",
      "Epoch 170/1000\n",
      "\u001b[1m1147/1147\u001b[0m \u001b[32m━━━━━━━━━━━━━━━━━━━━\u001b[0m\u001b[37m\u001b[0m \u001b[1m1s\u001b[0m 695us/step - accuracy: 0.7478 - loss: 0.5726 - val_accuracy: 0.7058 - val_loss: 0.6419\n",
      "Epoch 171/1000\n",
      "\u001b[1m1147/1147\u001b[0m \u001b[32m━━━━━━━━━━━━━━━━━━━━\u001b[0m\u001b[37m\u001b[0m \u001b[1m1s\u001b[0m 750us/step - accuracy: 0.7518 - loss: 0.5695 - val_accuracy: 0.7177 - val_loss: 0.6189\n",
      "Epoch 172/1000\n",
      "\u001b[1m1147/1147\u001b[0m \u001b[32m━━━━━━━━━━━━━━━━━━━━\u001b[0m\u001b[37m\u001b[0m \u001b[1m1s\u001b[0m 678us/step - accuracy: 0.7489 - loss: 0.5722 - val_accuracy: 0.7154 - val_loss: 0.6241\n",
      "Epoch 173/1000\n",
      "\u001b[1m1147/1147\u001b[0m \u001b[32m━━━━━━━━━━━━━━━━━━━━\u001b[0m\u001b[37m\u001b[0m \u001b[1m1s\u001b[0m 682us/step - accuracy: 0.7477 - loss: 0.5759 - val_accuracy: 0.7243 - val_loss: 0.6145\n",
      "Epoch 174/1000\n",
      "\u001b[1m1147/1147\u001b[0m \u001b[32m━━━━━━━━━━━━━━━━━━━━\u001b[0m\u001b[37m\u001b[0m \u001b[1m1s\u001b[0m 772us/step - accuracy: 0.7506 - loss: 0.5686 - val_accuracy: 0.7130 - val_loss: 0.6321\n",
      "Epoch 175/1000\n",
      "\u001b[1m1147/1147\u001b[0m \u001b[32m━━━━━━━━━━━━━━━━━━━━\u001b[0m\u001b[37m\u001b[0m \u001b[1m1s\u001b[0m 724us/step - accuracy: 0.7491 - loss: 0.5682 - val_accuracy: 0.7112 - val_loss: 0.6329\n",
      "Epoch 176/1000\n",
      "\u001b[1m1147/1147\u001b[0m \u001b[32m━━━━━━━━━━━━━━━━━━━━\u001b[0m\u001b[37m\u001b[0m \u001b[1m1s\u001b[0m 743us/step - accuracy: 0.7480 - loss: 0.5715 - val_accuracy: 0.7308 - val_loss: 0.6028\n",
      "Epoch 177/1000\n",
      "\u001b[1m1147/1147\u001b[0m \u001b[32m━━━━━━━━━━━━━━━━━━━━\u001b[0m\u001b[37m\u001b[0m \u001b[1m1s\u001b[0m 703us/step - accuracy: 0.7478 - loss: 0.5693 - val_accuracy: 0.7156 - val_loss: 0.6272\n",
      "Epoch 178/1000\n",
      "\u001b[1m1147/1147\u001b[0m \u001b[32m━━━━━━━━━━━━━━━━━━━━\u001b[0m\u001b[37m\u001b[0m \u001b[1m1s\u001b[0m 697us/step - accuracy: 0.7500 - loss: 0.5672 - val_accuracy: 0.7077 - val_loss: 0.6393\n",
      "Epoch 179/1000\n",
      "\u001b[1m1147/1147\u001b[0m \u001b[32m━━━━━━━━━━━━━━━━━━━━\u001b[0m\u001b[37m\u001b[0m \u001b[1m1s\u001b[0m 734us/step - accuracy: 0.7462 - loss: 0.5704 - val_accuracy: 0.7224 - val_loss: 0.6170\n",
      "Epoch 180/1000\n",
      "\u001b[1m1147/1147\u001b[0m \u001b[32m━━━━━━━━━━━━━━━━━━━━\u001b[0m\u001b[37m\u001b[0m \u001b[1m1s\u001b[0m 699us/step - accuracy: 0.7488 - loss: 0.5699 - val_accuracy: 0.7197 - val_loss: 0.6254\n",
      "Epoch 181/1000\n",
      "\u001b[1m1147/1147\u001b[0m \u001b[32m━━━━━━━━━━━━━━━━━━━━\u001b[0m\u001b[37m\u001b[0m \u001b[1m1s\u001b[0m 704us/step - accuracy: 0.7511 - loss: 0.5723 - val_accuracy: 0.7246 - val_loss: 0.6125\n",
      "Epoch 182/1000\n",
      "\u001b[1m1147/1147\u001b[0m \u001b[32m━━━━━━━━━━━━━━━━━━━━\u001b[0m\u001b[37m\u001b[0m \u001b[1m1s\u001b[0m 736us/step - accuracy: 0.7487 - loss: 0.5654 - val_accuracy: 0.7077 - val_loss: 0.6417\n",
      "Epoch 183/1000\n",
      "\u001b[1m1147/1147\u001b[0m \u001b[32m━━━━━━━━━━━━━━━━━━━━\u001b[0m\u001b[37m\u001b[0m \u001b[1m1s\u001b[0m 698us/step - accuracy: 0.7484 - loss: 0.5696 - val_accuracy: 0.7056 - val_loss: 0.6411\n",
      "Epoch 184/1000\n",
      "\u001b[1m1147/1147\u001b[0m \u001b[32m━━━━━━━━━━━━━━━━━━━━\u001b[0m\u001b[37m\u001b[0m \u001b[1m1s\u001b[0m 704us/step - accuracy: 0.7496 - loss: 0.5650 - val_accuracy: 0.7147 - val_loss: 0.6265\n",
      "Epoch 185/1000\n",
      "\u001b[1m1147/1147\u001b[0m \u001b[32m━━━━━━━━━━━━━━━━━━━━\u001b[0m\u001b[37m\u001b[0m \u001b[1m1s\u001b[0m 709us/step - accuracy: 0.7523 - loss: 0.5636 - val_accuracy: 0.7109 - val_loss: 0.6340\n",
      "Epoch 186/1000\n",
      "\u001b[1m1147/1147\u001b[0m \u001b[32m━━━━━━━━━━━━━━━━━━━━\u001b[0m\u001b[37m\u001b[0m \u001b[1m1s\u001b[0m 727us/step - accuracy: 0.7535 - loss: 0.5654 - val_accuracy: 0.7221 - val_loss: 0.6203\n",
      "Epoch 187/1000\n",
      "\u001b[1m1147/1147\u001b[0m \u001b[32m━━━━━━━━━━━━━━━━━━━━\u001b[0m\u001b[37m\u001b[0m \u001b[1m1s\u001b[0m 711us/step - accuracy: 0.7503 - loss: 0.5663 - val_accuracy: 0.7239 - val_loss: 0.6133\n",
      "Epoch 188/1000\n",
      "\u001b[1m1147/1147\u001b[0m \u001b[32m━━━━━━━━━━━━━━━━━━━━\u001b[0m\u001b[37m\u001b[0m \u001b[1m1s\u001b[0m 701us/step - accuracy: 0.7489 - loss: 0.5667 - val_accuracy: 0.6912 - val_loss: 0.6720\n",
      "Epoch 189/1000\n",
      "\u001b[1m1147/1147\u001b[0m \u001b[32m━━━━━━━━━━━━━━━━━━━━\u001b[0m\u001b[37m\u001b[0m \u001b[1m1s\u001b[0m 733us/step - accuracy: 0.7451 - loss: 0.5751 - val_accuracy: 0.7128 - val_loss: 0.6322\n",
      "Epoch 190/1000\n",
      "\u001b[1m1147/1147\u001b[0m \u001b[32m━━━━━━━━━━━━━━━━━━━━\u001b[0m\u001b[37m\u001b[0m \u001b[1m1s\u001b[0m 703us/step - accuracy: 0.7474 - loss: 0.5719 - val_accuracy: 0.7173 - val_loss: 0.6251\n",
      "Epoch 191/1000\n",
      "\u001b[1m1147/1147\u001b[0m \u001b[32m━━━━━━━━━━━━━━━━━━━━\u001b[0m\u001b[37m\u001b[0m \u001b[1m1s\u001b[0m 698us/step - accuracy: 0.7516 - loss: 0.5641 - val_accuracy: 0.7184 - val_loss: 0.6216\n",
      "Epoch 192/1000\n",
      "\u001b[1m1147/1147\u001b[0m \u001b[32m━━━━━━━━━━━━━━━━━━━━\u001b[0m\u001b[37m\u001b[0m \u001b[1m1s\u001b[0m 731us/step - accuracy: 0.7459 - loss: 0.5707 - val_accuracy: 0.7117 - val_loss: 0.6341\n",
      "Epoch 193/1000\n",
      "\u001b[1m1147/1147\u001b[0m \u001b[32m━━━━━━━━━━━━━━━━━━━━\u001b[0m\u001b[37m\u001b[0m \u001b[1m1s\u001b[0m 693us/step - accuracy: 0.7471 - loss: 0.5729 - val_accuracy: 0.7227 - val_loss: 0.6116\n",
      "Epoch 194/1000\n",
      "\u001b[1m1147/1147\u001b[0m \u001b[32m━━━━━━━━━━━━━━━━━━━━\u001b[0m\u001b[37m\u001b[0m \u001b[1m1s\u001b[0m 709us/step - accuracy: 0.7476 - loss: 0.5700 - val_accuracy: 0.7140 - val_loss: 0.6294\n",
      "Epoch 195/1000\n",
      "\u001b[1m1147/1147\u001b[0m \u001b[32m━━━━━━━━━━━━━━━━━━━━\u001b[0m\u001b[37m\u001b[0m \u001b[1m1s\u001b[0m 731us/step - accuracy: 0.7501 - loss: 0.5686 - val_accuracy: 0.7080 - val_loss: 0.6376\n",
      "Epoch 196/1000\n",
      "\u001b[1m1147/1147\u001b[0m \u001b[32m━━━━━━━━━━━━━━━━━━━━\u001b[0m\u001b[37m\u001b[0m \u001b[1m1s\u001b[0m 717us/step - accuracy: 0.7516 - loss: 0.5604 - val_accuracy: 0.7122 - val_loss: 0.6316\n",
      "Epoch 197/1000\n",
      "\u001b[1m1147/1147\u001b[0m \u001b[32m━━━━━━━━━━━━━━━━━━━━\u001b[0m\u001b[37m\u001b[0m \u001b[1m1s\u001b[0m 730us/step - accuracy: 0.7477 - loss: 0.5677 - val_accuracy: 0.7141 - val_loss: 0.6283\n",
      "Epoch 198/1000\n",
      "\u001b[1m1147/1147\u001b[0m \u001b[32m━━━━━━━━━━━━━━━━━━━━\u001b[0m\u001b[37m\u001b[0m \u001b[1m1s\u001b[0m 757us/step - accuracy: 0.7484 - loss: 0.5670 - val_accuracy: 0.7012 - val_loss: 0.6515\n",
      "Epoch 199/1000\n",
      "\u001b[1m1147/1147\u001b[0m \u001b[32m━━━━━━━━━━━━━━━━━━━━\u001b[0m\u001b[37m\u001b[0m \u001b[1m1s\u001b[0m 705us/step - accuracy: 0.7472 - loss: 0.5711 - val_accuracy: 0.7101 - val_loss: 0.6355\n",
      "Epoch 200/1000\n",
      "\u001b[1m1147/1147\u001b[0m \u001b[32m━━━━━━━━━━━━━━━━━━━━\u001b[0m\u001b[37m\u001b[0m \u001b[1m1s\u001b[0m 730us/step - accuracy: 0.7483 - loss: 0.5695 - val_accuracy: 0.7216 - val_loss: 0.6186\n",
      "Epoch 201/1000\n",
      "\u001b[1m1147/1147\u001b[0m \u001b[32m━━━━━━━━━━━━━━━━━━━━\u001b[0m\u001b[37m\u001b[0m \u001b[1m1s\u001b[0m 742us/step - accuracy: 0.7502 - loss: 0.5665 - val_accuracy: 0.7165 - val_loss: 0.6300\n",
      "Epoch 202/1000\n",
      "\u001b[1m1147/1147\u001b[0m \u001b[32m━━━━━━━━━━━━━━━━━━━━\u001b[0m\u001b[37m\u001b[0m \u001b[1m1s\u001b[0m 713us/step - accuracy: 0.7478 - loss: 0.5683 - val_accuracy: 0.7120 - val_loss: 0.6311\n",
      "Epoch 203/1000\n",
      "\u001b[1m1147/1147\u001b[0m \u001b[32m━━━━━━━━━━━━━━━━━━━━\u001b[0m\u001b[37m\u001b[0m \u001b[1m1s\u001b[0m 699us/step - accuracy: 0.7533 - loss: 0.5630 - val_accuracy: 0.7075 - val_loss: 0.6374\n",
      "Epoch 204/1000\n",
      "\u001b[1m1147/1147\u001b[0m \u001b[32m━━━━━━━━━━━━━━━━━━━━\u001b[0m\u001b[37m\u001b[0m \u001b[1m1s\u001b[0m 704us/step - accuracy: 0.7521 - loss: 0.5673 - val_accuracy: 0.7144 - val_loss: 0.6248\n",
      "Epoch 205/1000\n",
      "\u001b[1m1147/1147\u001b[0m \u001b[32m━━━━━━━━━━━━━━━━━━━━\u001b[0m\u001b[37m\u001b[0m \u001b[1m1s\u001b[0m 730us/step - accuracy: 0.7525 - loss: 0.5639 - val_accuracy: 0.7195 - val_loss: 0.6204\n",
      "Epoch 206/1000\n",
      "\u001b[1m1147/1147\u001b[0m \u001b[32m━━━━━━━━━━━━━━━━━━━━\u001b[0m\u001b[37m\u001b[0m \u001b[1m1s\u001b[0m 710us/step - accuracy: 0.7505 - loss: 0.5655 - val_accuracy: 0.7079 - val_loss: 0.6452\n",
      "Epoch 207/1000\n",
      "\u001b[1m1147/1147\u001b[0m \u001b[32m━━━━━━━━━━━━━━━━━━━━\u001b[0m\u001b[37m\u001b[0m \u001b[1m1s\u001b[0m 705us/step - accuracy: 0.7523 - loss: 0.5641 - val_accuracy: 0.7149 - val_loss: 0.6338\n",
      "Epoch 208/1000\n",
      "\u001b[1m1147/1147\u001b[0m \u001b[32m━━━━━━━━━━━━━━━━━━━━\u001b[0m\u001b[37m\u001b[0m \u001b[1m1s\u001b[0m 755us/step - accuracy: 0.7515 - loss: 0.5651 - val_accuracy: 0.7154 - val_loss: 0.6279\n",
      "Epoch 209/1000\n",
      "\u001b[1m1147/1147\u001b[0m \u001b[32m━━━━━━━━━━━━━━━━━━━━\u001b[0m\u001b[37m\u001b[0m \u001b[1m1s\u001b[0m 737us/step - accuracy: 0.7474 - loss: 0.5687 - val_accuracy: 0.7182 - val_loss: 0.6181\n",
      "Epoch 210/1000\n",
      "\u001b[1m1147/1147\u001b[0m \u001b[32m━━━━━━━━━━━━━━━━━━━━\u001b[0m\u001b[37m\u001b[0m \u001b[1m1s\u001b[0m 703us/step - accuracy: 0.7490 - loss: 0.5698 - val_accuracy: 0.7050 - val_loss: 0.6428\n",
      "Epoch 211/1000\n",
      "\u001b[1m1147/1147\u001b[0m \u001b[32m━━━━━━━━━━━━━━━━━━━━\u001b[0m\u001b[37m\u001b[0m \u001b[1m1s\u001b[0m 757us/step - accuracy: 0.7484 - loss: 0.5637 - val_accuracy: 0.7154 - val_loss: 0.6268\n",
      "Epoch 212/1000\n",
      "\u001b[1m1147/1147\u001b[0m \u001b[32m━━━━━━━━━━━━━━━━━━━━\u001b[0m\u001b[37m\u001b[0m \u001b[1m1s\u001b[0m 707us/step - accuracy: 0.7533 - loss: 0.5643 - val_accuracy: 0.7190 - val_loss: 0.6215\n",
      "Epoch 213/1000\n",
      "\u001b[1m1147/1147\u001b[0m \u001b[32m━━━━━━━━━━━━━━━━━━━━\u001b[0m\u001b[37m\u001b[0m \u001b[1m1s\u001b[0m 740us/step - accuracy: 0.7509 - loss: 0.5664 - val_accuracy: 0.7136 - val_loss: 0.6288\n",
      "Epoch 214/1000\n",
      "\u001b[1m1147/1147\u001b[0m \u001b[32m━━━━━━━━━━━━━━━━━━━━\u001b[0m\u001b[37m\u001b[0m \u001b[1m1s\u001b[0m 707us/step - accuracy: 0.7526 - loss: 0.5661 - val_accuracy: 0.7149 - val_loss: 0.6289\n",
      "Epoch 215/1000\n",
      "\u001b[1m1147/1147\u001b[0m \u001b[32m━━━━━━━━━━━━━━━━━━━━\u001b[0m\u001b[37m\u001b[0m \u001b[1m1s\u001b[0m 729us/step - accuracy: 0.7478 - loss: 0.5678 - val_accuracy: 0.7047 - val_loss: 0.6416\n",
      "Epoch 216/1000\n",
      "\u001b[1m1147/1147\u001b[0m \u001b[32m━━━━━━━━━━━━━━━━━━━━\u001b[0m\u001b[37m\u001b[0m \u001b[1m1s\u001b[0m 754us/step - accuracy: 0.7589 - loss: 0.5551 - val_accuracy: 0.7106 - val_loss: 0.6378\n",
      "Epoch 217/1000\n",
      "\u001b[1m1147/1147\u001b[0m \u001b[32m━━━━━━━━━━━━━━━━━━━━\u001b[0m\u001b[37m\u001b[0m \u001b[1m1s\u001b[0m 710us/step - accuracy: 0.7501 - loss: 0.5667 - val_accuracy: 0.7095 - val_loss: 0.6383\n",
      "Epoch 218/1000\n",
      "\u001b[1m1147/1147\u001b[0m \u001b[32m━━━━━━━━━━━━━━━━━━━━\u001b[0m\u001b[37m\u001b[0m \u001b[1m1s\u001b[0m 723us/step - accuracy: 0.7518 - loss: 0.5627 - val_accuracy: 0.7019 - val_loss: 0.6510\n",
      "Epoch 219/1000\n",
      "\u001b[1m1147/1147\u001b[0m \u001b[32m━━━━━━━━━━━━━━━━━━━━\u001b[0m\u001b[37m\u001b[0m \u001b[1m1s\u001b[0m 730us/step - accuracy: 0.7519 - loss: 0.5599 - val_accuracy: 0.7123 - val_loss: 0.6358\n",
      "Epoch 220/1000\n",
      "\u001b[1m1147/1147\u001b[0m \u001b[32m━━━━━━━━━━━━━━━━━━━━\u001b[0m\u001b[37m\u001b[0m \u001b[1m1s\u001b[0m 720us/step - accuracy: 0.7477 - loss: 0.5717 - val_accuracy: 0.7138 - val_loss: 0.6288\n",
      "Epoch 221/1000\n",
      "\u001b[1m1147/1147\u001b[0m \u001b[32m━━━━━━━━━━━━━━━━━━━━\u001b[0m\u001b[37m\u001b[0m \u001b[1m1s\u001b[0m 734us/step - accuracy: 0.7539 - loss: 0.5600 - val_accuracy: 0.7118 - val_loss: 0.6347\n",
      "Epoch 222/1000\n",
      "\u001b[1m1147/1147\u001b[0m \u001b[32m━━━━━━━━━━━━━━━━━━━━\u001b[0m\u001b[37m\u001b[0m \u001b[1m1s\u001b[0m 733us/step - accuracy: 0.7523 - loss: 0.5584 - val_accuracy: 0.7122 - val_loss: 0.6298\n",
      "Epoch 223/1000\n",
      "\u001b[1m1147/1147\u001b[0m \u001b[32m━━━━━━━━━━━━━━━━━━━━\u001b[0m\u001b[37m\u001b[0m \u001b[1m1s\u001b[0m 808us/step - accuracy: 0.7521 - loss: 0.5620 - val_accuracy: 0.7141 - val_loss: 0.6286\n",
      "Epoch 224/1000\n",
      "\u001b[1m1147/1147\u001b[0m \u001b[32m━━━━━━━━━━━━━━━━━━━━\u001b[0m\u001b[37m\u001b[0m \u001b[1m1s\u001b[0m 695us/step - accuracy: 0.7482 - loss: 0.5673 - val_accuracy: 0.7266 - val_loss: 0.6141\n",
      "Epoch 225/1000\n",
      "\u001b[1m1147/1147\u001b[0m \u001b[32m━━━━━━━━━━━━━━━━━━━━\u001b[0m\u001b[37m\u001b[0m \u001b[1m1s\u001b[0m 777us/step - accuracy: 0.7489 - loss: 0.5681 - val_accuracy: 0.7166 - val_loss: 0.6250\n",
      "Epoch 226/1000\n",
      "\u001b[1m1147/1147\u001b[0m \u001b[32m━━━━━━━━━━━━━━━━━━━━\u001b[0m\u001b[37m\u001b[0m \u001b[1m1s\u001b[0m 784us/step - accuracy: 0.7506 - loss: 0.5665 - val_accuracy: 0.7142 - val_loss: 0.6239\n",
      "Epoch 227/1000\n",
      "\u001b[1m1147/1147\u001b[0m \u001b[32m━━━━━━━━━━━━━━━━━━━━\u001b[0m\u001b[37m\u001b[0m \u001b[1m1s\u001b[0m 720us/step - accuracy: 0.7541 - loss: 0.5668 - val_accuracy: 0.7167 - val_loss: 0.6245\n",
      "Epoch 228/1000\n",
      "\u001b[1m1147/1147\u001b[0m \u001b[32m━━━━━━━━━━━━━━━━━━━━\u001b[0m\u001b[37m\u001b[0m \u001b[1m1s\u001b[0m 779us/step - accuracy: 0.7537 - loss: 0.5624 - val_accuracy: 0.7117 - val_loss: 0.6338\n",
      "Epoch 229/1000\n",
      "\u001b[1m1147/1147\u001b[0m \u001b[32m━━━━━━━━━━━━━━━━━━━━\u001b[0m\u001b[37m\u001b[0m \u001b[1m1s\u001b[0m 707us/step - accuracy: 0.7526 - loss: 0.5642 - val_accuracy: 0.7123 - val_loss: 0.6322\n",
      "Epoch 230/1000\n",
      "\u001b[1m1147/1147\u001b[0m \u001b[32m━━━━━━━━━━━━━━━━━━━━\u001b[0m\u001b[37m\u001b[0m \u001b[1m1s\u001b[0m 799us/step - accuracy: 0.7495 - loss: 0.5678 - val_accuracy: 0.7186 - val_loss: 0.6272\n",
      "Epoch 231/1000\n",
      "\u001b[1m1147/1147\u001b[0m \u001b[32m━━━━━━━━━━━━━━━━━━━━\u001b[0m\u001b[37m\u001b[0m \u001b[1m1s\u001b[0m 725us/step - accuracy: 0.7499 - loss: 0.5624 - val_accuracy: 0.7150 - val_loss: 0.6285\n",
      "Epoch 232/1000\n",
      "\u001b[1m1147/1147\u001b[0m \u001b[32m━━━━━━━━━━━━━━━━━━━━\u001b[0m\u001b[37m\u001b[0m \u001b[1m1s\u001b[0m 744us/step - accuracy: 0.7493 - loss: 0.5651 - val_accuracy: 0.7190 - val_loss: 0.6226\n",
      "Epoch 233/1000\n",
      "\u001b[1m1147/1147\u001b[0m \u001b[32m━━━━━━━━━━━━━━━━━━━━\u001b[0m\u001b[37m\u001b[0m \u001b[1m1s\u001b[0m 771us/step - accuracy: 0.7505 - loss: 0.5667 - val_accuracy: 0.7077 - val_loss: 0.6420\n",
      "Epoch 234/1000\n",
      "\u001b[1m1147/1147\u001b[0m \u001b[32m━━━━━━━━━━━━━━━━━━━━\u001b[0m\u001b[37m\u001b[0m \u001b[1m1s\u001b[0m 825us/step - accuracy: 0.7535 - loss: 0.5592 - val_accuracy: 0.7154 - val_loss: 0.6285\n",
      "Epoch 235/1000\n",
      "\u001b[1m1147/1147\u001b[0m \u001b[32m━━━━━━━━━━━━━━━━━━━━\u001b[0m\u001b[37m\u001b[0m \u001b[1m1s\u001b[0m 828us/step - accuracy: 0.7522 - loss: 0.5635 - val_accuracy: 0.7313 - val_loss: 0.6063\n",
      "Epoch 236/1000\n",
      "\u001b[1m1147/1147\u001b[0m \u001b[32m━━━━━━━━━━━━━━━━━━━━\u001b[0m\u001b[37m\u001b[0m \u001b[1m1s\u001b[0m 748us/step - accuracy: 0.7496 - loss: 0.5663 - val_accuracy: 0.7103 - val_loss: 0.6329\n",
      "Epoch 237/1000\n",
      "\u001b[1m1147/1147\u001b[0m \u001b[32m━━━━━━━━━━━━━━━━━━━━\u001b[0m\u001b[37m\u001b[0m \u001b[1m1s\u001b[0m 906us/step - accuracy: 0.7478 - loss: 0.5638 - val_accuracy: 0.7264 - val_loss: 0.6085\n",
      "Epoch 238/1000\n",
      "\u001b[1m1147/1147\u001b[0m \u001b[32m━━━━━━━━━━━━━━━━━━━━\u001b[0m\u001b[37m\u001b[0m \u001b[1m1s\u001b[0m 835us/step - accuracy: 0.7552 - loss: 0.5622 - val_accuracy: 0.7119 - val_loss: 0.6334\n",
      "Epoch 239/1000\n",
      "\u001b[1m1147/1147\u001b[0m \u001b[32m━━━━━━━━━━━━━━━━━━━━\u001b[0m\u001b[37m\u001b[0m \u001b[1m1s\u001b[0m 761us/step - accuracy: 0.7536 - loss: 0.5632 - val_accuracy: 0.7138 - val_loss: 0.6299\n",
      "Epoch 240/1000\n",
      "\u001b[1m1147/1147\u001b[0m \u001b[32m━━━━━━━━━━━━━━━━━━━━\u001b[0m\u001b[37m\u001b[0m \u001b[1m1s\u001b[0m 787us/step - accuracy: 0.7558 - loss: 0.5603 - val_accuracy: 0.7146 - val_loss: 0.6268\n",
      "Epoch 241/1000\n",
      "\u001b[1m1147/1147\u001b[0m \u001b[32m━━━━━━━━━━━━━━━━━━━━\u001b[0m\u001b[37m\u001b[0m \u001b[1m1s\u001b[0m 757us/step - accuracy: 0.7530 - loss: 0.5609 - val_accuracy: 0.7104 - val_loss: 0.6386\n",
      "Epoch 242/1000\n",
      "\u001b[1m1147/1147\u001b[0m \u001b[32m━━━━━━━━━━━━━━━━━━━━\u001b[0m\u001b[37m\u001b[0m \u001b[1m1s\u001b[0m 735us/step - accuracy: 0.7514 - loss: 0.5629 - val_accuracy: 0.7185 - val_loss: 0.6204\n",
      "Epoch 243/1000\n",
      "\u001b[1m1147/1147\u001b[0m \u001b[32m━━━━━━━━━━━━━━━━━━━━\u001b[0m\u001b[37m\u001b[0m \u001b[1m1s\u001b[0m 762us/step - accuracy: 0.7532 - loss: 0.5579 - val_accuracy: 0.7077 - val_loss: 0.6399\n",
      "Epoch 244/1000\n",
      "\u001b[1m1147/1147\u001b[0m \u001b[32m━━━━━━━━━━━━━━━━━━━━\u001b[0m\u001b[37m\u001b[0m \u001b[1m1s\u001b[0m 747us/step - accuracy: 0.7491 - loss: 0.5666 - val_accuracy: 0.7210 - val_loss: 0.6205\n",
      "Epoch 245/1000\n",
      "\u001b[1m1147/1147\u001b[0m \u001b[32m━━━━━━━━━━━━━━━━━━━━\u001b[0m\u001b[37m\u001b[0m \u001b[1m1s\u001b[0m 743us/step - accuracy: 0.7519 - loss: 0.5593 - val_accuracy: 0.7070 - val_loss: 0.6445\n",
      "Epoch 246/1000\n",
      "\u001b[1m1147/1147\u001b[0m \u001b[32m━━━━━━━━━━━━━━━━━━━━\u001b[0m\u001b[37m\u001b[0m \u001b[1m1s\u001b[0m 740us/step - accuracy: 0.7486 - loss: 0.5667 - val_accuracy: 0.7061 - val_loss: 0.6478\n",
      "Epoch 247/1000\n",
      "\u001b[1m1147/1147\u001b[0m \u001b[32m━━━━━━━━━━━━━━━━━━━━\u001b[0m\u001b[37m\u001b[0m \u001b[1m1s\u001b[0m 741us/step - accuracy: 0.7522 - loss: 0.5594 - val_accuracy: 0.7143 - val_loss: 0.6286\n",
      "Epoch 248/1000\n",
      "\u001b[1m1147/1147\u001b[0m \u001b[32m━━━━━━━━━━━━━━━━━━━━\u001b[0m\u001b[37m\u001b[0m \u001b[1m1s\u001b[0m 748us/step - accuracy: 0.7528 - loss: 0.5633 - val_accuracy: 0.6978 - val_loss: 0.6564\n",
      "Epoch 249/1000\n",
      "\u001b[1m1147/1147\u001b[0m \u001b[32m━━━━━━━━━━━━━━━━━━━━\u001b[0m\u001b[37m\u001b[0m \u001b[1m1s\u001b[0m 794us/step - accuracy: 0.7559 - loss: 0.5587 - val_accuracy: 0.7191 - val_loss: 0.6249\n",
      "Epoch 250/1000\n",
      "\u001b[1m1147/1147\u001b[0m \u001b[32m━━━━━━━━━━━━━━━━━━━━\u001b[0m\u001b[37m\u001b[0m \u001b[1m1s\u001b[0m 728us/step - accuracy: 0.7507 - loss: 0.5704 - val_accuracy: 0.7195 - val_loss: 0.6212\n",
      "Epoch 251/1000\n",
      "\u001b[1m1147/1147\u001b[0m \u001b[32m━━━━━━━━━━━━━━━━━━━━\u001b[0m\u001b[37m\u001b[0m \u001b[1m1s\u001b[0m 716us/step - accuracy: 0.7550 - loss: 0.5576 - val_accuracy: 0.7159 - val_loss: 0.6314\n",
      "Epoch 252/1000\n",
      "\u001b[1m1147/1147\u001b[0m \u001b[32m━━━━━━━━━━━━━━━━━━━━\u001b[0m\u001b[37m\u001b[0m \u001b[1m1s\u001b[0m 719us/step - accuracy: 0.7475 - loss: 0.5708 - val_accuracy: 0.7093 - val_loss: 0.6409\n",
      "Epoch 253/1000\n",
      "\u001b[1m1147/1147\u001b[0m \u001b[32m━━━━━━━━━━━━━━━━━━━━\u001b[0m\u001b[37m\u001b[0m \u001b[1m1s\u001b[0m 774us/step - accuracy: 0.7523 - loss: 0.5620 - val_accuracy: 0.7153 - val_loss: 0.6253\n",
      "Epoch 254/1000\n",
      "\u001b[1m1147/1147\u001b[0m \u001b[32m━━━━━━━━━━━━━━━━━━━━\u001b[0m\u001b[37m\u001b[0m \u001b[1m1s\u001b[0m 758us/step - accuracy: 0.7511 - loss: 0.5622 - val_accuracy: 0.7144 - val_loss: 0.6284\n",
      "Epoch 255/1000\n",
      "\u001b[1m1147/1147\u001b[0m \u001b[32m━━━━━━━━━━━━━━━━━━━━\u001b[0m\u001b[37m\u001b[0m \u001b[1m1s\u001b[0m 732us/step - accuracy: 0.7521 - loss: 0.5597 - val_accuracy: 0.7206 - val_loss: 0.6255\n",
      "Epoch 256/1000\n",
      "\u001b[1m1147/1147\u001b[0m \u001b[32m━━━━━━━━━━━━━━━━━━━━\u001b[0m\u001b[37m\u001b[0m \u001b[1m1s\u001b[0m 697us/step - accuracy: 0.7541 - loss: 0.5625 - val_accuracy: 0.7120 - val_loss: 0.6352\n",
      "Epoch 257/1000\n",
      "\u001b[1m1147/1147\u001b[0m \u001b[32m━━━━━━━━━━━━━━━━━━━━\u001b[0m\u001b[37m\u001b[0m \u001b[1m1s\u001b[0m 721us/step - accuracy: 0.7506 - loss: 0.5630 - val_accuracy: 0.7251 - val_loss: 0.6160\n",
      "Epoch 258/1000\n",
      "\u001b[1m1147/1147\u001b[0m \u001b[32m━━━━━━━━━━━━━━━━━━━━\u001b[0m\u001b[37m\u001b[0m \u001b[1m1s\u001b[0m 731us/step - accuracy: 0.7548 - loss: 0.5562 - val_accuracy: 0.7160 - val_loss: 0.6292\n",
      "Epoch 259/1000\n",
      "\u001b[1m1147/1147\u001b[0m \u001b[32m━━━━━━━━━━━━━━━━━━━━\u001b[0m\u001b[37m\u001b[0m \u001b[1m1s\u001b[0m 721us/step - accuracy: 0.7487 - loss: 0.5679 - val_accuracy: 0.7021 - val_loss: 0.6535\n",
      "Epoch 260/1000\n",
      "\u001b[1m1147/1147\u001b[0m \u001b[32m━━━━━━━━━━━━━━━━━━━━\u001b[0m\u001b[37m\u001b[0m \u001b[1m1s\u001b[0m 710us/step - accuracy: 0.7572 - loss: 0.5536 - val_accuracy: 0.7096 - val_loss: 0.6386\n",
      "Epoch 261/1000\n",
      "\u001b[1m1147/1147\u001b[0m \u001b[32m━━━━━━━━━━━━━━━━━━━━\u001b[0m\u001b[37m\u001b[0m \u001b[1m1s\u001b[0m 719us/step - accuracy: 0.7558 - loss: 0.5582 - val_accuracy: 0.7149 - val_loss: 0.6278\n",
      "Epoch 262/1000\n",
      "\u001b[1m1147/1147\u001b[0m \u001b[32m━━━━━━━━━━━━━━━━━━━━\u001b[0m\u001b[37m\u001b[0m \u001b[1m1s\u001b[0m 703us/step - accuracy: 0.7516 - loss: 0.5626 - val_accuracy: 0.7192 - val_loss: 0.6256\n",
      "Epoch 263/1000\n",
      "\u001b[1m1147/1147\u001b[0m \u001b[32m━━━━━━━━━━━━━━━━━━━━\u001b[0m\u001b[37m\u001b[0m \u001b[1m1s\u001b[0m 776us/step - accuracy: 0.7516 - loss: 0.5623 - val_accuracy: 0.7111 - val_loss: 0.6348\n",
      "Epoch 264/1000\n",
      "\u001b[1m1147/1147\u001b[0m \u001b[32m━━━━━━━━━━━━━━━━━━━━\u001b[0m\u001b[37m\u001b[0m \u001b[1m1s\u001b[0m 690us/step - accuracy: 0.7511 - loss: 0.5608 - val_accuracy: 0.7019 - val_loss: 0.6511\n",
      "Epoch 265/1000\n",
      "\u001b[1m1147/1147\u001b[0m \u001b[32m━━━━━━━━━━━━━━━━━━━━\u001b[0m\u001b[37m\u001b[0m \u001b[1m1s\u001b[0m 678us/step - accuracy: 0.7553 - loss: 0.5604 - val_accuracy: 0.7159 - val_loss: 0.6248\n",
      "Epoch 266/1000\n",
      "\u001b[1m1147/1147\u001b[0m \u001b[32m━━━━━━━━━━━━━━━━━━━━\u001b[0m\u001b[37m\u001b[0m \u001b[1m1s\u001b[0m 721us/step - accuracy: 0.7503 - loss: 0.5622 - val_accuracy: 0.7041 - val_loss: 0.6454\n",
      "Epoch 267/1000\n",
      "\u001b[1m1147/1147\u001b[0m \u001b[32m━━━━━━━━━━━━━━━━━━━━\u001b[0m\u001b[37m\u001b[0m \u001b[1m1s\u001b[0m 684us/step - accuracy: 0.7568 - loss: 0.5574 - val_accuracy: 0.7064 - val_loss: 0.6441\n",
      "Epoch 268/1000\n",
      "\u001b[1m1147/1147\u001b[0m \u001b[32m━━━━━━━━━━━━━━━━━━━━\u001b[0m\u001b[37m\u001b[0m \u001b[1m1s\u001b[0m 763us/step - accuracy: 0.7514 - loss: 0.5632 - val_accuracy: 0.7038 - val_loss: 0.6421\n",
      "Epoch 269/1000\n",
      "\u001b[1m1147/1147\u001b[0m \u001b[32m━━━━━━━━━━━━━━━━━━━━\u001b[0m\u001b[37m\u001b[0m \u001b[1m1s\u001b[0m 751us/step - accuracy: 0.7558 - loss: 0.5575 - val_accuracy: 0.7091 - val_loss: 0.6364\n",
      "Epoch 270/1000\n",
      "\u001b[1m1147/1147\u001b[0m \u001b[32m━━━━━━━━━━━━━━━━━━━━\u001b[0m\u001b[37m\u001b[0m \u001b[1m1s\u001b[0m 740us/step - accuracy: 0.7492 - loss: 0.5672 - val_accuracy: 0.7119 - val_loss: 0.6379\n",
      "Epoch 271/1000\n",
      "\u001b[1m1147/1147\u001b[0m \u001b[32m━━━━━━━━━━━━━━━━━━━━\u001b[0m\u001b[37m\u001b[0m \u001b[1m1s\u001b[0m 769us/step - accuracy: 0.7497 - loss: 0.5619 - val_accuracy: 0.7098 - val_loss: 0.6394\n",
      "Epoch 272/1000\n",
      "\u001b[1m1147/1147\u001b[0m \u001b[32m━━━━━━━━━━━━━━━━━━━━\u001b[0m\u001b[37m\u001b[0m \u001b[1m1s\u001b[0m 758us/step - accuracy: 0.7554 - loss: 0.5568 - val_accuracy: 0.7080 - val_loss: 0.6414\n",
      "Epoch 273/1000\n",
      "\u001b[1m1147/1147\u001b[0m \u001b[32m━━━━━━━━━━━━━━━━━━━━\u001b[0m\u001b[37m\u001b[0m \u001b[1m1s\u001b[0m 750us/step - accuracy: 0.7494 - loss: 0.5645 - val_accuracy: 0.7145 - val_loss: 0.6294\n",
      "Epoch 274/1000\n",
      "\u001b[1m1147/1147\u001b[0m \u001b[32m━━━━━━━━━━━━━━━━━━━━\u001b[0m\u001b[37m\u001b[0m \u001b[1m1s\u001b[0m 765us/step - accuracy: 0.7550 - loss: 0.5538 - val_accuracy: 0.7133 - val_loss: 0.6389\n",
      "Epoch 275/1000\n",
      "\u001b[1m1147/1147\u001b[0m \u001b[32m━━━━━━━━━━━━━━━━━━━━\u001b[0m\u001b[37m\u001b[0m \u001b[1m1s\u001b[0m 741us/step - accuracy: 0.7509 - loss: 0.5602 - val_accuracy: 0.7210 - val_loss: 0.6265\n",
      "Epoch 276/1000\n",
      "\u001b[1m1147/1147\u001b[0m \u001b[32m━━━━━━━━━━━━━━━━━━━━\u001b[0m\u001b[37m\u001b[0m \u001b[1m1s\u001b[0m 798us/step - accuracy: 0.7532 - loss: 0.5597 - val_accuracy: 0.7174 - val_loss: 0.6246\n",
      "Epoch 277/1000\n",
      "\u001b[1m1147/1147\u001b[0m \u001b[32m━━━━━━━━━━━━━━━━━━━━\u001b[0m\u001b[37m\u001b[0m \u001b[1m1s\u001b[0m 772us/step - accuracy: 0.7539 - loss: 0.5597 - val_accuracy: 0.7115 - val_loss: 0.6352\n",
      "Epoch 278/1000\n",
      "\u001b[1m1147/1147\u001b[0m \u001b[32m━━━━━━━━━━━━━━━━━━━━\u001b[0m\u001b[37m\u001b[0m \u001b[1m1s\u001b[0m 755us/step - accuracy: 0.7538 - loss: 0.5652 - val_accuracy: 0.7045 - val_loss: 0.6501\n",
      "Epoch 279/1000\n",
      "\u001b[1m1147/1147\u001b[0m \u001b[32m━━━━━━━━━━━━━━━━━━━━\u001b[0m\u001b[37m\u001b[0m \u001b[1m1s\u001b[0m 741us/step - accuracy: 0.7558 - loss: 0.5565 - val_accuracy: 0.7308 - val_loss: 0.6048\n",
      "Epoch 280/1000\n",
      "\u001b[1m1147/1147\u001b[0m \u001b[32m━━━━━━━━━━━━━━━━━━━━\u001b[0m\u001b[37m\u001b[0m \u001b[1m1s\u001b[0m 793us/step - accuracy: 0.7527 - loss: 0.5589 - val_accuracy: 0.7144 - val_loss: 0.6291\n",
      "Epoch 281/1000\n",
      "\u001b[1m1147/1147\u001b[0m \u001b[32m━━━━━━━━━━━━━━━━━━━━\u001b[0m\u001b[37m\u001b[0m \u001b[1m1s\u001b[0m 724us/step - accuracy: 0.7523 - loss: 0.5570 - val_accuracy: 0.7153 - val_loss: 0.6315\n",
      "Epoch 282/1000\n",
      "\u001b[1m1147/1147\u001b[0m \u001b[32m━━━━━━━━━━━━━━━━━━━━\u001b[0m\u001b[37m\u001b[0m \u001b[1m1s\u001b[0m 717us/step - accuracy: 0.7561 - loss: 0.5581 - val_accuracy: 0.7197 - val_loss: 0.6252\n",
      "Epoch 283/1000\n",
      "\u001b[1m1147/1147\u001b[0m \u001b[32m━━━━━━━━━━━━━━━━━━━━\u001b[0m\u001b[37m\u001b[0m \u001b[1m1s\u001b[0m 711us/step - accuracy: 0.7531 - loss: 0.5597 - val_accuracy: 0.7100 - val_loss: 0.6413\n",
      "Epoch 284/1000\n",
      "\u001b[1m1147/1147\u001b[0m \u001b[32m━━━━━━━━━━━━━━━━━━━━\u001b[0m\u001b[37m\u001b[0m \u001b[1m1s\u001b[0m 691us/step - accuracy: 0.7544 - loss: 0.5583 - val_accuracy: 0.7096 - val_loss: 0.6379\n",
      "Epoch 285/1000\n",
      "\u001b[1m1147/1147\u001b[0m \u001b[32m━━━━━━━━━━━━━━━━━━━━\u001b[0m\u001b[37m\u001b[0m \u001b[1m1s\u001b[0m 715us/step - accuracy: 0.7512 - loss: 0.5587 - val_accuracy: 0.7040 - val_loss: 0.6459\n",
      "Epoch 286/1000\n",
      "\u001b[1m1147/1147\u001b[0m \u001b[32m━━━━━━━━━━━━━━━━━━━━\u001b[0m\u001b[37m\u001b[0m \u001b[1m1s\u001b[0m 677us/step - accuracy: 0.7541 - loss: 0.5618 - val_accuracy: 0.7140 - val_loss: 0.6326\n",
      "Epoch 287/1000\n",
      "\u001b[1m1147/1147\u001b[0m \u001b[32m━━━━━━━━━━━━━━━━━━━━\u001b[0m\u001b[37m\u001b[0m \u001b[1m1s\u001b[0m 690us/step - accuracy: 0.7549 - loss: 0.5605 - val_accuracy: 0.7134 - val_loss: 0.6290\n",
      "Epoch 288/1000\n",
      "\u001b[1m1147/1147\u001b[0m \u001b[32m━━━━━━━━━━━━━━━━━━━━\u001b[0m\u001b[37m\u001b[0m \u001b[1m1s\u001b[0m 718us/step - accuracy: 0.7554 - loss: 0.5569 - val_accuracy: 0.7261 - val_loss: 0.6106\n",
      "Epoch 289/1000\n",
      "\u001b[1m1147/1147\u001b[0m \u001b[32m━━━━━━━━━━━━━━━━━━━━\u001b[0m\u001b[37m\u001b[0m \u001b[1m1s\u001b[0m 689us/step - accuracy: 0.7496 - loss: 0.5656 - val_accuracy: 0.7185 - val_loss: 0.6207\n",
      "Epoch 290/1000\n",
      "\u001b[1m1147/1147\u001b[0m \u001b[32m━━━━━━━━━━━━━━━━━━━━\u001b[0m\u001b[37m\u001b[0m \u001b[1m1s\u001b[0m 766us/step - accuracy: 0.7546 - loss: 0.5580 - val_accuracy: 0.7130 - val_loss: 0.6306\n",
      "Epoch 291/1000\n",
      "\u001b[1m1147/1147\u001b[0m \u001b[32m━━━━━━━━━━━━━━━━━━━━\u001b[0m\u001b[37m\u001b[0m \u001b[1m1s\u001b[0m 680us/step - accuracy: 0.7523 - loss: 0.5596 - val_accuracy: 0.7033 - val_loss: 0.6556\n",
      "Epoch 292/1000\n",
      "\u001b[1m1147/1147\u001b[0m \u001b[32m━━━━━━━━━━━━━━━━━━━━\u001b[0m\u001b[37m\u001b[0m \u001b[1m1s\u001b[0m 747us/step - accuracy: 0.7583 - loss: 0.5565 - val_accuracy: 0.7084 - val_loss: 0.6428\n",
      "Epoch 293/1000\n",
      "\u001b[1m1147/1147\u001b[0m \u001b[32m━━━━━━━━━━━━━━━━━━━━\u001b[0m\u001b[37m\u001b[0m \u001b[1m1s\u001b[0m 694us/step - accuracy: 0.7514 - loss: 0.5645 - val_accuracy: 0.7097 - val_loss: 0.6417\n",
      "Epoch 294/1000\n",
      "\u001b[1m1147/1147\u001b[0m \u001b[32m━━━━━━━━━━━━━━━━━━━━\u001b[0m\u001b[37m\u001b[0m \u001b[1m1s\u001b[0m 689us/step - accuracy: 0.7542 - loss: 0.5527 - val_accuracy: 0.7011 - val_loss: 0.6562\n",
      "Epoch 295/1000\n",
      "\u001b[1m1147/1147\u001b[0m \u001b[32m━━━━━━━━━━━━━━━━━━━━\u001b[0m\u001b[37m\u001b[0m \u001b[1m1s\u001b[0m 720us/step - accuracy: 0.7548 - loss: 0.5546 - val_accuracy: 0.7256 - val_loss: 0.6148\n",
      "Epoch 296/1000\n",
      "\u001b[1m1147/1147\u001b[0m \u001b[32m━━━━━━━━━━━━━━━━━━━━\u001b[0m\u001b[37m\u001b[0m \u001b[1m1s\u001b[0m 688us/step - accuracy: 0.7551 - loss: 0.5571 - val_accuracy: 0.7004 - val_loss: 0.6517\n",
      "Epoch 297/1000\n",
      "\u001b[1m1147/1147\u001b[0m \u001b[32m━━━━━━━━━━━━━━━━━━━━\u001b[0m\u001b[37m\u001b[0m \u001b[1m1s\u001b[0m 734us/step - accuracy: 0.7537 - loss: 0.5602 - val_accuracy: 0.7014 - val_loss: 0.6473\n",
      "Epoch 298/1000\n",
      "\u001b[1m1147/1147\u001b[0m \u001b[32m━━━━━━━━━━━━━━━━━━━━\u001b[0m\u001b[37m\u001b[0m \u001b[1m1s\u001b[0m 767us/step - accuracy: 0.7514 - loss: 0.5612 - val_accuracy: 0.7128 - val_loss: 0.6356\n",
      "Epoch 299/1000\n",
      "\u001b[1m1147/1147\u001b[0m \u001b[32m━━━━━━━━━━━━━━━━━━━━\u001b[0m\u001b[37m\u001b[0m \u001b[1m1s\u001b[0m 717us/step - accuracy: 0.7530 - loss: 0.5644 - val_accuracy: 0.7014 - val_loss: 0.6563\n",
      "Epoch 300/1000\n",
      "\u001b[1m1147/1147\u001b[0m \u001b[32m━━━━━━━━━━━━━━━━━━━━\u001b[0m\u001b[37m\u001b[0m \u001b[1m1s\u001b[0m 700us/step - accuracy: 0.7580 - loss: 0.5533 - val_accuracy: 0.7087 - val_loss: 0.6406\n",
      "Epoch 301/1000\n",
      "\u001b[1m1147/1147\u001b[0m \u001b[32m━━━━━━━━━━━━━━━━━━━━\u001b[0m\u001b[37m\u001b[0m \u001b[1m1s\u001b[0m 695us/step - accuracy: 0.7548 - loss: 0.5616 - val_accuracy: 0.7148 - val_loss: 0.6296\n",
      "Epoch 302/1000\n",
      "\u001b[1m1147/1147\u001b[0m \u001b[32m━━━━━━━━━━━━━━━━━━━━\u001b[0m\u001b[37m\u001b[0m \u001b[1m1s\u001b[0m 745us/step - accuracy: 0.7551 - loss: 0.5545 - val_accuracy: 0.7222 - val_loss: 0.6217\n",
      "Epoch 303/1000\n",
      "\u001b[1m1147/1147\u001b[0m \u001b[32m━━━━━━━━━━━━━━━━━━━━\u001b[0m\u001b[37m\u001b[0m \u001b[1m1s\u001b[0m 708us/step - accuracy: 0.7535 - loss: 0.5618 - val_accuracy: 0.7124 - val_loss: 0.6364\n",
      "Epoch 304/1000\n",
      "\u001b[1m1147/1147\u001b[0m \u001b[32m━━━━━━━━━━━━━━━━━━━━\u001b[0m\u001b[37m\u001b[0m \u001b[1m1s\u001b[0m 715us/step - accuracy: 0.7570 - loss: 0.5571 - val_accuracy: 0.7227 - val_loss: 0.6211\n",
      "Epoch 305/1000\n",
      "\u001b[1m1147/1147\u001b[0m \u001b[32m━━━━━━━━━━━━━━━━━━━━\u001b[0m\u001b[37m\u001b[0m \u001b[1m1s\u001b[0m 727us/step - accuracy: 0.7591 - loss: 0.5537 - val_accuracy: 0.7268 - val_loss: 0.6185\n",
      "Epoch 306/1000\n",
      "\u001b[1m1147/1147\u001b[0m \u001b[32m━━━━━━━━━━━━━━━━━━━━\u001b[0m\u001b[37m\u001b[0m \u001b[1m1s\u001b[0m 712us/step - accuracy: 0.7569 - loss: 0.5607 - val_accuracy: 0.7152 - val_loss: 0.6274\n",
      "Epoch 307/1000\n",
      "\u001b[1m1147/1147\u001b[0m \u001b[32m━━━━━━━━━━━━━━━━━━━━\u001b[0m\u001b[37m\u001b[0m \u001b[1m1s\u001b[0m 679us/step - accuracy: 0.7571 - loss: 0.5525 - val_accuracy: 0.7202 - val_loss: 0.6194\n",
      "Epoch 308/1000\n",
      "\u001b[1m1147/1147\u001b[0m \u001b[32m━━━━━━━━━━━━━━━━━━━━\u001b[0m\u001b[37m\u001b[0m \u001b[1m1s\u001b[0m 672us/step - accuracy: 0.7560 - loss: 0.5594 - val_accuracy: 0.7141 - val_loss: 0.6342\n",
      "Epoch 309/1000\n",
      "\u001b[1m1147/1147\u001b[0m \u001b[32m━━━━━━━━━━━━━━━━━━━━\u001b[0m\u001b[37m\u001b[0m \u001b[1m1s\u001b[0m 713us/step - accuracy: 0.7579 - loss: 0.5496 - val_accuracy: 0.7205 - val_loss: 0.6241\n",
      "Epoch 310/1000\n",
      "\u001b[1m1147/1147\u001b[0m \u001b[32m━━━━━━━━━━━━━━━━━━━━\u001b[0m\u001b[37m\u001b[0m \u001b[1m1s\u001b[0m 684us/step - accuracy: 0.7525 - loss: 0.5544 - val_accuracy: 0.7119 - val_loss: 0.6370\n",
      "Epoch 311/1000\n",
      "\u001b[1m1147/1147\u001b[0m \u001b[32m━━━━━━━━━━━━━━━━━━━━\u001b[0m\u001b[37m\u001b[0m \u001b[1m1s\u001b[0m 706us/step - accuracy: 0.7535 - loss: 0.5593 - val_accuracy: 0.7073 - val_loss: 0.6464\n",
      "Epoch 312/1000\n",
      "\u001b[1m1147/1147\u001b[0m \u001b[32m━━━━━━━━━━━━━━━━━━━━\u001b[0m\u001b[37m\u001b[0m \u001b[1m1s\u001b[0m 709us/step - accuracy: 0.7572 - loss: 0.5553 - val_accuracy: 0.7077 - val_loss: 0.6466\n",
      "Epoch 313/1000\n",
      "\u001b[1m1147/1147\u001b[0m \u001b[32m━━━━━━━━━━━━━━━━━━━━\u001b[0m\u001b[37m\u001b[0m \u001b[1m1s\u001b[0m 680us/step - accuracy: 0.7588 - loss: 0.5531 - val_accuracy: 0.7124 - val_loss: 0.6376\n",
      "Epoch 314/1000\n",
      "\u001b[1m1147/1147\u001b[0m \u001b[32m━━━━━━━━━━━━━━━━━━━━\u001b[0m\u001b[37m\u001b[0m \u001b[1m1s\u001b[0m 705us/step - accuracy: 0.7536 - loss: 0.5558 - val_accuracy: 0.7149 - val_loss: 0.6312\n",
      "Epoch 315/1000\n",
      "\u001b[1m1147/1147\u001b[0m \u001b[32m━━━━━━━━━━━━━━━━━━━━\u001b[0m\u001b[37m\u001b[0m \u001b[1m1s\u001b[0m 685us/step - accuracy: 0.7547 - loss: 0.5618 - val_accuracy: 0.7123 - val_loss: 0.6350\n",
      "Epoch 316/1000\n",
      "\u001b[1m1147/1147\u001b[0m \u001b[32m━━━━━━━━━━━━━━━━━━━━\u001b[0m\u001b[37m\u001b[0m \u001b[1m1s\u001b[0m 711us/step - accuracy: 0.7511 - loss: 0.5583 - val_accuracy: 0.6947 - val_loss: 0.6698\n",
      "Epoch 317/1000\n",
      "\u001b[1m1147/1147\u001b[0m \u001b[32m━━━━━━━━━━━━━━━━━━━━\u001b[0m\u001b[37m\u001b[0m \u001b[1m1s\u001b[0m 684us/step - accuracy: 0.7563 - loss: 0.5534 - val_accuracy: 0.7149 - val_loss: 0.6321\n",
      "Epoch 318/1000\n",
      "\u001b[1m1147/1147\u001b[0m \u001b[32m━━━━━━━━━━━━━━━━━━━━\u001b[0m\u001b[37m\u001b[0m \u001b[1m1s\u001b[0m 708us/step - accuracy: 0.7596 - loss: 0.5513 - val_accuracy: 0.7231 - val_loss: 0.6183\n",
      "Epoch 319/1000\n",
      "\u001b[1m1147/1147\u001b[0m \u001b[32m━━━━━━━━━━━━━━━━━━━━\u001b[0m\u001b[37m\u001b[0m \u001b[1m1s\u001b[0m 683us/step - accuracy: 0.7564 - loss: 0.5527 - val_accuracy: 0.7179 - val_loss: 0.6277\n",
      "Epoch 320/1000\n",
      "\u001b[1m1147/1147\u001b[0m \u001b[32m━━━━━━━━━━━━━━━━━━━━\u001b[0m\u001b[37m\u001b[0m \u001b[1m1s\u001b[0m 674us/step - accuracy: 0.7602 - loss: 0.5506 - val_accuracy: 0.7132 - val_loss: 0.6287\n",
      "Epoch 321/1000\n",
      "\u001b[1m1147/1147\u001b[0m \u001b[32m━━━━━━━━━━━━━━━━━━━━\u001b[0m\u001b[37m\u001b[0m \u001b[1m1s\u001b[0m 695us/step - accuracy: 0.7573 - loss: 0.5552 - val_accuracy: 0.7206 - val_loss: 0.6256\n",
      "Epoch 322/1000\n",
      "\u001b[1m1147/1147\u001b[0m \u001b[32m━━━━━━━━━━━━━━━━━━━━\u001b[0m\u001b[37m\u001b[0m \u001b[1m1s\u001b[0m 693us/step - accuracy: 0.7563 - loss: 0.5491 - val_accuracy: 0.7301 - val_loss: 0.6113\n",
      "Epoch 323/1000\n",
      "\u001b[1m1147/1147\u001b[0m \u001b[32m━━━━━━━━━━━━━━━━━━━━\u001b[0m\u001b[37m\u001b[0m \u001b[1m1s\u001b[0m 708us/step - accuracy: 0.7574 - loss: 0.5528 - val_accuracy: 0.7165 - val_loss: 0.6300\n",
      "Epoch 324/1000\n",
      "\u001b[1m1147/1147\u001b[0m \u001b[32m━━━━━━━━━━━━━━━━━━━━\u001b[0m\u001b[37m\u001b[0m \u001b[1m1s\u001b[0m 692us/step - accuracy: 0.7539 - loss: 0.5604 - val_accuracy: 0.7191 - val_loss: 0.6269\n",
      "Epoch 325/1000\n",
      "\u001b[1m1147/1147\u001b[0m \u001b[32m━━━━━━━━━━━━━━━━━━━━\u001b[0m\u001b[37m\u001b[0m \u001b[1m1s\u001b[0m 709us/step - accuracy: 0.7560 - loss: 0.5561 - val_accuracy: 0.7184 - val_loss: 0.6260\n",
      "Epoch 326/1000\n",
      "\u001b[1m1147/1147\u001b[0m \u001b[32m━━━━━━━━━━━━━━━━━━━━\u001b[0m\u001b[37m\u001b[0m \u001b[1m1s\u001b[0m 677us/step - accuracy: 0.7582 - loss: 0.5563 - val_accuracy: 0.7184 - val_loss: 0.6251\n",
      "Epoch 327/1000\n",
      "\u001b[1m1147/1147\u001b[0m \u001b[32m━━━━━━━━━━━━━━━━━━━━\u001b[0m\u001b[37m\u001b[0m \u001b[1m1s\u001b[0m 711us/step - accuracy: 0.7566 - loss: 0.5561 - val_accuracy: 0.7205 - val_loss: 0.6306\n",
      "Epoch 328/1000\n",
      "\u001b[1m1147/1147\u001b[0m \u001b[32m━━━━━━━━━━━━━━━━━━━━\u001b[0m\u001b[37m\u001b[0m \u001b[1m1s\u001b[0m 683us/step - accuracy: 0.7559 - loss: 0.5523 - val_accuracy: 0.7246 - val_loss: 0.6181\n",
      "Epoch 329/1000\n",
      "\u001b[1m1147/1147\u001b[0m \u001b[32m━━━━━━━━━━━━━━━━━━━━\u001b[0m\u001b[37m\u001b[0m \u001b[1m1s\u001b[0m 677us/step - accuracy: 0.7564 - loss: 0.5581 - val_accuracy: 0.7177 - val_loss: 0.6304\n",
      "Epoch 330/1000\n",
      "\u001b[1m1147/1147\u001b[0m \u001b[32m━━━━━━━━━━━━━━━━━━━━\u001b[0m\u001b[37m\u001b[0m \u001b[1m1s\u001b[0m 714us/step - accuracy: 0.7550 - loss: 0.5631 - val_accuracy: 0.7174 - val_loss: 0.6282\n",
      "Epoch 331/1000\n",
      "\u001b[1m1147/1147\u001b[0m \u001b[32m━━━━━━━━━━━━━━━━━━━━\u001b[0m\u001b[37m\u001b[0m \u001b[1m1s\u001b[0m 683us/step - accuracy: 0.7564 - loss: 0.5550 - val_accuracy: 0.7195 - val_loss: 0.6278\n",
      "Epoch 332/1000\n",
      "\u001b[1m1147/1147\u001b[0m \u001b[32m━━━━━━━━━━━━━━━━━━━━\u001b[0m\u001b[37m\u001b[0m \u001b[1m1s\u001b[0m 712us/step - accuracy: 0.7589 - loss: 0.5547 - val_accuracy: 0.7264 - val_loss: 0.6130\n",
      "Epoch 333/1000\n",
      "\u001b[1m1147/1147\u001b[0m \u001b[32m━━━━━━━━━━━━━━━━━━━━\u001b[0m\u001b[37m\u001b[0m \u001b[1m1s\u001b[0m 676us/step - accuracy: 0.7504 - loss: 0.5609 - val_accuracy: 0.7013 - val_loss: 0.6555\n",
      "Epoch 334/1000\n",
      "\u001b[1m1147/1147\u001b[0m \u001b[32m━━━━━━━━━━━━━━━━━━━━\u001b[0m\u001b[37m\u001b[0m \u001b[1m1s\u001b[0m 710us/step - accuracy: 0.7538 - loss: 0.5541 - val_accuracy: 0.7064 - val_loss: 0.6480\n",
      "Epoch 335/1000\n",
      "\u001b[1m1147/1147\u001b[0m \u001b[32m━━━━━━━━━━━━━━━━━━━━\u001b[0m\u001b[37m\u001b[0m \u001b[1m1s\u001b[0m 686us/step - accuracy: 0.7519 - loss: 0.5586 - val_accuracy: 0.7186 - val_loss: 0.6282\n",
      "Epoch 336/1000\n",
      "\u001b[1m1147/1147\u001b[0m \u001b[32m━━━━━━━━━━━━━━━━━━━━\u001b[0m\u001b[37m\u001b[0m \u001b[1m1s\u001b[0m 704us/step - accuracy: 0.7564 - loss: 0.5551 - val_accuracy: 0.7205 - val_loss: 0.6260\n",
      "Epoch 337/1000\n",
      "\u001b[1m1147/1147\u001b[0m \u001b[32m━━━━━━━━━━━━━━━━━━━━\u001b[0m\u001b[37m\u001b[0m \u001b[1m1s\u001b[0m 710us/step - accuracy: 0.7537 - loss: 0.5581 - val_accuracy: 0.7068 - val_loss: 0.6513\n",
      "Epoch 338/1000\n",
      "\u001b[1m1147/1147\u001b[0m \u001b[32m━━━━━━━━━━━━━━━━━━━━\u001b[0m\u001b[37m\u001b[0m \u001b[1m1s\u001b[0m 715us/step - accuracy: 0.7525 - loss: 0.5577 - val_accuracy: 0.7179 - val_loss: 0.6333\n",
      "Epoch 339/1000\n",
      "\u001b[1m1147/1147\u001b[0m \u001b[32m━━━━━━━━━━━━━━━━━━━━\u001b[0m\u001b[37m\u001b[0m \u001b[1m1s\u001b[0m 684us/step - accuracy: 0.7588 - loss: 0.5553 - val_accuracy: 0.7110 - val_loss: 0.6424\n",
      "Epoch 340/1000\n",
      "\u001b[1m1147/1147\u001b[0m \u001b[32m━━━━━━━━━━━━━━━━━━━━\u001b[0m\u001b[37m\u001b[0m \u001b[1m1s\u001b[0m 683us/step - accuracy: 0.7534 - loss: 0.5585 - val_accuracy: 0.7257 - val_loss: 0.6234\n",
      "Epoch 341/1000\n",
      "\u001b[1m1147/1147\u001b[0m \u001b[32m━━━━━━━━━━━━━━━━━━━━\u001b[0m\u001b[37m\u001b[0m \u001b[1m1s\u001b[0m 709us/step - accuracy: 0.7570 - loss: 0.5553 - val_accuracy: 0.7165 - val_loss: 0.6350\n",
      "Epoch 342/1000\n",
      "\u001b[1m1147/1147\u001b[0m \u001b[32m━━━━━━━━━━━━━━━━━━━━\u001b[0m\u001b[37m\u001b[0m \u001b[1m1s\u001b[0m 694us/step - accuracy: 0.7536 - loss: 0.5553 - val_accuracy: 0.7094 - val_loss: 0.6446\n",
      "Epoch 343/1000\n",
      "\u001b[1m1147/1147\u001b[0m \u001b[32m━━━━━━━━━━━━━━━━━━━━\u001b[0m\u001b[37m\u001b[0m \u001b[1m1s\u001b[0m 717us/step - accuracy: 0.7569 - loss: 0.5528 - val_accuracy: 0.7113 - val_loss: 0.6423\n",
      "Epoch 344/1000\n",
      "\u001b[1m1147/1147\u001b[0m \u001b[32m━━━━━━━━━━━━━━━━━━━━\u001b[0m\u001b[37m\u001b[0m \u001b[1m1s\u001b[0m 691us/step - accuracy: 0.7536 - loss: 0.5569 - val_accuracy: 0.7241 - val_loss: 0.6203\n",
      "Epoch 345/1000\n",
      "\u001b[1m1147/1147\u001b[0m \u001b[32m━━━━━━━━━━━━━━━━━━━━\u001b[0m\u001b[37m\u001b[0m \u001b[1m1s\u001b[0m 712us/step - accuracy: 0.7554 - loss: 0.5554 - val_accuracy: 0.7261 - val_loss: 0.6152\n",
      "Epoch 346/1000\n",
      "\u001b[1m1147/1147\u001b[0m \u001b[32m━━━━━━━━━━━━━━━━━━━━\u001b[0m\u001b[37m\u001b[0m \u001b[1m1s\u001b[0m 689us/step - accuracy: 0.7559 - loss: 0.5555 - val_accuracy: 0.7170 - val_loss: 0.6308\n",
      "Epoch 347/1000\n",
      "\u001b[1m1147/1147\u001b[0m \u001b[32m━━━━━━━━━━━━━━━━━━━━\u001b[0m\u001b[37m\u001b[0m \u001b[1m1s\u001b[0m 707us/step - accuracy: 0.7530 - loss: 0.5601 - val_accuracy: 0.7240 - val_loss: 0.6186\n",
      "Epoch 348/1000\n",
      "\u001b[1m1147/1147\u001b[0m \u001b[32m━━━━━━━━━━━━━━━━━━━━\u001b[0m\u001b[37m\u001b[0m \u001b[1m1s\u001b[0m 680us/step - accuracy: 0.7541 - loss: 0.5572 - val_accuracy: 0.7258 - val_loss: 0.6186\n",
      "Epoch 349/1000\n",
      "\u001b[1m1147/1147\u001b[0m \u001b[32m━━━━━━━━━━━━━━━━━━━━\u001b[0m\u001b[37m\u001b[0m \u001b[1m1s\u001b[0m 712us/step - accuracy: 0.7609 - loss: 0.5493 - val_accuracy: 0.7095 - val_loss: 0.6389\n",
      "Epoch 350/1000\n",
      "\u001b[1m1147/1147\u001b[0m \u001b[32m━━━━━━━━━━━━━━━━━━━━\u001b[0m\u001b[37m\u001b[0m \u001b[1m1s\u001b[0m 677us/step - accuracy: 0.7527 - loss: 0.5571 - val_accuracy: 0.7291 - val_loss: 0.6146\n",
      "Epoch 351/1000\n",
      "\u001b[1m1147/1147\u001b[0m \u001b[32m━━━━━━━━━━━━━━━━━━━━\u001b[0m\u001b[37m\u001b[0m \u001b[1m1s\u001b[0m 682us/step - accuracy: 0.7558 - loss: 0.5558 - val_accuracy: 0.7170 - val_loss: 0.6268\n",
      "Epoch 352/1000\n",
      "\u001b[1m1147/1147\u001b[0m \u001b[32m━━━━━━━━━━━━━━━━━━━━\u001b[0m\u001b[37m\u001b[0m \u001b[1m1s\u001b[0m 708us/step - accuracy: 0.7584 - loss: 0.5517 - val_accuracy: 0.7117 - val_loss: 0.6340\n",
      "Epoch 353/1000\n",
      "\u001b[1m1147/1147\u001b[0m \u001b[32m━━━━━━━━━━━━━━━━━━━━\u001b[0m\u001b[37m\u001b[0m \u001b[1m1s\u001b[0m 699us/step - accuracy: 0.7572 - loss: 0.5591 - val_accuracy: 0.7347 - val_loss: 0.6005\n",
      "Epoch 354/1000\n",
      "\u001b[1m1147/1147\u001b[0m \u001b[32m━━━━━━━━━━━━━━━━━━━━\u001b[0m\u001b[37m\u001b[0m \u001b[1m1s\u001b[0m 727us/step - accuracy: 0.7578 - loss: 0.5540 - val_accuracy: 0.7109 - val_loss: 0.6353\n",
      "Epoch 355/1000\n",
      "\u001b[1m1147/1147\u001b[0m \u001b[32m━━━━━━━━━━━━━━━━━━━━\u001b[0m\u001b[37m\u001b[0m \u001b[1m1s\u001b[0m 683us/step - accuracy: 0.7581 - loss: 0.5507 - val_accuracy: 0.7243 - val_loss: 0.6154\n",
      "Epoch 356/1000\n",
      "\u001b[1m1147/1147\u001b[0m \u001b[32m━━━━━━━━━━━━━━━━━━━━\u001b[0m\u001b[37m\u001b[0m \u001b[1m1s\u001b[0m 713us/step - accuracy: 0.7565 - loss: 0.5537 - val_accuracy: 0.7131 - val_loss: 0.6364\n",
      "Epoch 357/1000\n",
      "\u001b[1m1147/1147\u001b[0m \u001b[32m━━━━━━━━━━━━━━━━━━━━\u001b[0m\u001b[37m\u001b[0m \u001b[1m1s\u001b[0m 683us/step - accuracy: 0.7576 - loss: 0.5538 - val_accuracy: 0.6957 - val_loss: 0.6656\n",
      "Epoch 358/1000\n",
      "\u001b[1m1147/1147\u001b[0m \u001b[32m━━━━━━━━━━━━━━━━━━━━\u001b[0m\u001b[37m\u001b[0m \u001b[1m1s\u001b[0m 706us/step - accuracy: 0.7549 - loss: 0.5547 - val_accuracy: 0.7108 - val_loss: 0.6359\n",
      "Epoch 359/1000\n",
      "\u001b[1m1147/1147\u001b[0m \u001b[32m━━━━━━━━━━━━━━━━━━━━\u001b[0m\u001b[37m\u001b[0m \u001b[1m1s\u001b[0m 682us/step - accuracy: 0.7570 - loss: 0.5553 - val_accuracy: 0.7149 - val_loss: 0.6331\n",
      "Epoch 360/1000\n",
      "\u001b[1m1147/1147\u001b[0m \u001b[32m━━━━━━━━━━━━━━━━━━━━\u001b[0m\u001b[37m\u001b[0m \u001b[1m1s\u001b[0m 713us/step - accuracy: 0.7553 - loss: 0.5546 - val_accuracy: 0.7236 - val_loss: 0.6187\n",
      "Epoch 361/1000\n",
      "\u001b[1m1147/1147\u001b[0m \u001b[32m━━━━━━━━━━━━━━━━━━━━\u001b[0m\u001b[37m\u001b[0m \u001b[1m1s\u001b[0m 685us/step - accuracy: 0.7589 - loss: 0.5555 - val_accuracy: 0.7076 - val_loss: 0.6391\n",
      "Epoch 362/1000\n",
      "\u001b[1m1147/1147\u001b[0m \u001b[32m━━━━━━━━━━━━━━━━━━━━\u001b[0m\u001b[37m\u001b[0m \u001b[1m1s\u001b[0m 711us/step - accuracy: 0.7570 - loss: 0.5536 - val_accuracy: 0.7189 - val_loss: 0.6249\n",
      "Epoch 363/1000\n",
      "\u001b[1m1147/1147\u001b[0m \u001b[32m━━━━━━━━━━━━━━━━━━━━\u001b[0m\u001b[37m\u001b[0m \u001b[1m1s\u001b[0m 681us/step - accuracy: 0.7607 - loss: 0.5503 - val_accuracy: 0.7154 - val_loss: 0.6308\n",
      "Epoch 364/1000\n",
      "\u001b[1m1147/1147\u001b[0m \u001b[32m━━━━━━━━━━━━━━━━━━━━\u001b[0m\u001b[37m\u001b[0m \u001b[1m1s\u001b[0m 711us/step - accuracy: 0.7563 - loss: 0.5530 - val_accuracy: 0.7155 - val_loss: 0.6310\n",
      "Epoch 365/1000\n",
      "\u001b[1m1147/1147\u001b[0m \u001b[32m━━━━━━━━━━━━━━━━━━━━\u001b[0m\u001b[37m\u001b[0m \u001b[1m1s\u001b[0m 679us/step - accuracy: 0.7570 - loss: 0.5509 - val_accuracy: 0.7217 - val_loss: 0.6242\n",
      "Epoch 366/1000\n",
      "\u001b[1m1147/1147\u001b[0m \u001b[32m━━━━━━━━━━━━━━━━━━━━\u001b[0m\u001b[37m\u001b[0m \u001b[1m1s\u001b[0m 713us/step - accuracy: 0.7586 - loss: 0.5524 - val_accuracy: 0.7327 - val_loss: 0.6053\n",
      "Epoch 367/1000\n",
      "\u001b[1m1147/1147\u001b[0m \u001b[32m━━━━━━━━━━━━━━━━━━━━\u001b[0m\u001b[37m\u001b[0m \u001b[1m1s\u001b[0m 689us/step - accuracy: 0.7588 - loss: 0.5459 - val_accuracy: 0.7173 - val_loss: 0.6295\n",
      "Epoch 368/1000\n",
      "\u001b[1m1147/1147\u001b[0m \u001b[32m━━━━━━━━━━━━━━━━━━━━\u001b[0m\u001b[37m\u001b[0m \u001b[1m1s\u001b[0m 706us/step - accuracy: 0.7583 - loss: 0.5509 - val_accuracy: 0.7147 - val_loss: 0.6315\n",
      "Epoch 369/1000\n",
      "\u001b[1m1147/1147\u001b[0m \u001b[32m━━━━━━━━━━━━━━━━━━━━\u001b[0m\u001b[37m\u001b[0m \u001b[1m1s\u001b[0m 686us/step - accuracy: 0.7581 - loss: 0.5536 - val_accuracy: 0.7198 - val_loss: 0.6232\n",
      "Epoch 370/1000\n",
      "\u001b[1m1147/1147\u001b[0m \u001b[32m━━━━━━━━━━━━━━━━━━━━\u001b[0m\u001b[37m\u001b[0m \u001b[1m1s\u001b[0m 719us/step - accuracy: 0.7610 - loss: 0.5467 - val_accuracy: 0.7227 - val_loss: 0.6243\n",
      "Epoch 371/1000\n",
      "\u001b[1m1147/1147\u001b[0m \u001b[32m━━━━━━━━━━━━━━━━━━━━\u001b[0m\u001b[37m\u001b[0m \u001b[1m1s\u001b[0m 733us/step - accuracy: 0.7580 - loss: 0.5498 - val_accuracy: 0.7260 - val_loss: 0.6136\n",
      "Epoch 372/1000\n",
      "\u001b[1m1147/1147\u001b[0m \u001b[32m━━━━━━━━━━━━━━━━━━━━\u001b[0m\u001b[37m\u001b[0m \u001b[1m1s\u001b[0m 910us/step - accuracy: 0.7571 - loss: 0.5533 - val_accuracy: 0.7408 - val_loss: 0.5966\n",
      "Epoch 373/1000\n",
      "\u001b[1m1147/1147\u001b[0m \u001b[32m━━━━━━━━━━━━━━━━━━━━\u001b[0m\u001b[37m\u001b[0m \u001b[1m1s\u001b[0m 903us/step - accuracy: 0.7544 - loss: 0.5536 - val_accuracy: 0.7178 - val_loss: 0.6348\n",
      "Epoch 374/1000\n",
      "\u001b[1m1147/1147\u001b[0m \u001b[32m━━━━━━━━━━━━━━━━━━━━\u001b[0m\u001b[37m\u001b[0m \u001b[1m1s\u001b[0m 828us/step - accuracy: 0.7553 - loss: 0.5572 - val_accuracy: 0.7261 - val_loss: 0.6206\n",
      "Epoch 375/1000\n",
      "\u001b[1m1147/1147\u001b[0m \u001b[32m━━━━━━━━━━━━━━━━━━━━\u001b[0m\u001b[37m\u001b[0m \u001b[1m1s\u001b[0m 736us/step - accuracy: 0.7575 - loss: 0.5526 - val_accuracy: 0.7135 - val_loss: 0.6356\n",
      "Epoch 376/1000\n",
      "\u001b[1m1147/1147\u001b[0m \u001b[32m━━━━━━━━━━━━━━━━━━━━\u001b[0m\u001b[37m\u001b[0m \u001b[1m1s\u001b[0m 680us/step - accuracy: 0.7566 - loss: 0.5530 - val_accuracy: 0.7258 - val_loss: 0.6177\n",
      "Epoch 377/1000\n",
      "\u001b[1m1147/1147\u001b[0m \u001b[32m━━━━━━━━━━━━━━━━━━━━\u001b[0m\u001b[37m\u001b[0m \u001b[1m1s\u001b[0m 705us/step - accuracy: 0.7611 - loss: 0.5465 - val_accuracy: 0.7185 - val_loss: 0.6315\n",
      "Epoch 378/1000\n",
      "\u001b[1m1147/1147\u001b[0m \u001b[32m━━━━━━━━━━━━━━━━━━━━\u001b[0m\u001b[37m\u001b[0m \u001b[1m1s\u001b[0m 672us/step - accuracy: 0.7571 - loss: 0.5544 - val_accuracy: 0.7176 - val_loss: 0.6339\n",
      "Epoch 379/1000\n",
      "\u001b[1m1147/1147\u001b[0m \u001b[32m━━━━━━━━━━━━━━━━━━━━\u001b[0m\u001b[37m\u001b[0m \u001b[1m1s\u001b[0m 707us/step - accuracy: 0.7578 - loss: 0.5531 - val_accuracy: 0.7304 - val_loss: 0.6167\n",
      "Epoch 380/1000\n",
      "\u001b[1m1147/1147\u001b[0m \u001b[32m━━━━━━━━━━━━━━━━━━━━\u001b[0m\u001b[37m\u001b[0m \u001b[1m1s\u001b[0m 678us/step - accuracy: 0.7618 - loss: 0.5485 - val_accuracy: 0.7120 - val_loss: 0.6456\n",
      "Epoch 381/1000\n",
      "\u001b[1m1147/1147\u001b[0m \u001b[32m━━━━━━━━━━━━━━━━━━━━\u001b[0m\u001b[37m\u001b[0m \u001b[1m1s\u001b[0m 712us/step - accuracy: 0.7600 - loss: 0.5541 - val_accuracy: 0.7354 - val_loss: 0.5977\n",
      "Epoch 382/1000\n",
      "\u001b[1m1147/1147\u001b[0m \u001b[32m━━━━━━━━━━━━━━━━━━━━\u001b[0m\u001b[37m\u001b[0m \u001b[1m1s\u001b[0m 679us/step - accuracy: 0.7605 - loss: 0.5464 - val_accuracy: 0.7357 - val_loss: 0.6072\n",
      "Epoch 383/1000\n",
      "\u001b[1m1147/1147\u001b[0m \u001b[32m━━━━━━━━━━━━━━━━━━━━\u001b[0m\u001b[37m\u001b[0m \u001b[1m1s\u001b[0m 713us/step - accuracy: 0.7561 - loss: 0.5560 - val_accuracy: 0.7246 - val_loss: 0.6183\n",
      "Epoch 384/1000\n",
      "\u001b[1m1147/1147\u001b[0m \u001b[32m━━━━━━━━━━━━━━━━━━━━\u001b[0m\u001b[37m\u001b[0m \u001b[1m1s\u001b[0m 674us/step - accuracy: 0.7576 - loss: 0.5533 - val_accuracy: 0.7182 - val_loss: 0.6375\n",
      "Epoch 385/1000\n",
      "\u001b[1m1147/1147\u001b[0m \u001b[32m━━━━━━━━━━━━━━━━━━━━\u001b[0m\u001b[37m\u001b[0m \u001b[1m1s\u001b[0m 709us/step - accuracy: 0.7609 - loss: 0.5517 - val_accuracy: 0.7268 - val_loss: 0.6187\n",
      "Epoch 386/1000\n",
      "\u001b[1m1147/1147\u001b[0m \u001b[32m━━━━━━━━━━━━━━━━━━━━\u001b[0m\u001b[37m\u001b[0m \u001b[1m1s\u001b[0m 678us/step - accuracy: 0.7585 - loss: 0.5505 - val_accuracy: 0.7258 - val_loss: 0.6175\n",
      "Epoch 387/1000\n",
      "\u001b[1m1147/1147\u001b[0m \u001b[32m━━━━━━━━━━━━━━━━━━━━\u001b[0m\u001b[37m\u001b[0m \u001b[1m1s\u001b[0m 707us/step - accuracy: 0.7570 - loss: 0.5510 - val_accuracy: 0.7341 - val_loss: 0.6072\n",
      "Epoch 388/1000\n",
      "\u001b[1m1147/1147\u001b[0m \u001b[32m━━━━━━━━━━━━━━━━━━━━\u001b[0m\u001b[37m\u001b[0m \u001b[1m1s\u001b[0m 700us/step - accuracy: 0.7558 - loss: 0.5518 - val_accuracy: 0.7229 - val_loss: 0.6239\n",
      "Epoch 389/1000\n",
      "\u001b[1m1147/1147\u001b[0m \u001b[32m━━━━━━━━━━━━━━━━━━━━\u001b[0m\u001b[37m\u001b[0m \u001b[1m1s\u001b[0m 706us/step - accuracy: 0.7560 - loss: 0.5537 - val_accuracy: 0.7256 - val_loss: 0.6218\n",
      "Epoch 390/1000\n",
      "\u001b[1m1147/1147\u001b[0m \u001b[32m━━━━━━━━━━━━━━━━━━━━\u001b[0m\u001b[37m\u001b[0m \u001b[1m1s\u001b[0m 684us/step - accuracy: 0.7568 - loss: 0.5596 - val_accuracy: 0.7232 - val_loss: 0.6244\n",
      "Epoch 391/1000\n",
      "\u001b[1m1147/1147\u001b[0m \u001b[32m━━━━━━━━━━━━━━━━━━━━\u001b[0m\u001b[37m\u001b[0m \u001b[1m1s\u001b[0m 710us/step - accuracy: 0.7562 - loss: 0.5516 - val_accuracy: 0.7142 - val_loss: 0.6360\n",
      "Epoch 392/1000\n",
      "\u001b[1m1147/1147\u001b[0m \u001b[32m━━━━━━━━━━━━━━━━━━━━\u001b[0m\u001b[37m\u001b[0m \u001b[1m1s\u001b[0m 681us/step - accuracy: 0.7583 - loss: 0.5518 - val_accuracy: 0.7218 - val_loss: 0.6285\n",
      "Epoch 393/1000\n",
      "\u001b[1m1147/1147\u001b[0m \u001b[32m━━━━━━━━━━━━━━━━━━━━\u001b[0m\u001b[37m\u001b[0m \u001b[1m1s\u001b[0m 704us/step - accuracy: 0.7613 - loss: 0.5489 - val_accuracy: 0.7201 - val_loss: 0.6294\n",
      "Epoch 394/1000\n",
      "\u001b[1m1147/1147\u001b[0m \u001b[32m━━━━━━━━━━━━━━━━━━━━\u001b[0m\u001b[37m\u001b[0m \u001b[1m1s\u001b[0m 679us/step - accuracy: 0.7581 - loss: 0.5495 - val_accuracy: 0.7218 - val_loss: 0.6221\n",
      "Epoch 395/1000\n",
      "\u001b[1m1147/1147\u001b[0m \u001b[32m━━━━━━━━━━━━━━━━━━━━\u001b[0m\u001b[37m\u001b[0m \u001b[1m1s\u001b[0m 703us/step - accuracy: 0.7570 - loss: 0.5534 - val_accuracy: 0.7294 - val_loss: 0.6114\n",
      "Epoch 396/1000\n",
      "\u001b[1m1147/1147\u001b[0m \u001b[32m━━━━━━━━━━━━━━━━━━━━\u001b[0m\u001b[37m\u001b[0m \u001b[1m1s\u001b[0m 678us/step - accuracy: 0.7576 - loss: 0.5547 - val_accuracy: 0.7227 - val_loss: 0.6213\n",
      "Epoch 397/1000\n",
      "\u001b[1m1147/1147\u001b[0m \u001b[32m━━━━━━━━━━━━━━━━━━━━\u001b[0m\u001b[37m\u001b[0m \u001b[1m1s\u001b[0m 711us/step - accuracy: 0.7583 - loss: 0.5490 - val_accuracy: 0.7080 - val_loss: 0.6450\n",
      "Epoch 398/1000\n",
      "\u001b[1m1147/1147\u001b[0m \u001b[32m━━━━━━━━━━━━━━━━━━━━\u001b[0m\u001b[37m\u001b[0m \u001b[1m1s\u001b[0m 679us/step - accuracy: 0.7609 - loss: 0.5461 - val_accuracy: 0.7184 - val_loss: 0.6291\n",
      "Epoch 399/1000\n",
      "\u001b[1m1147/1147\u001b[0m \u001b[32m━━━━━━━━━━━━━━━━━━━━\u001b[0m\u001b[37m\u001b[0m \u001b[1m1s\u001b[0m 715us/step - accuracy: 0.7552 - loss: 0.5509 - val_accuracy: 0.7233 - val_loss: 0.6241\n",
      "Epoch 400/1000\n",
      "\u001b[1m1147/1147\u001b[0m \u001b[32m━━━━━━━━━━━━━━━━━━━━\u001b[0m\u001b[37m\u001b[0m \u001b[1m1s\u001b[0m 711us/step - accuracy: 0.7564 - loss: 0.5554 - val_accuracy: 0.7143 - val_loss: 0.6434\n",
      "Epoch 401/1000\n",
      "\u001b[1m1147/1147\u001b[0m \u001b[32m━━━━━━━━━━━━━━━━━━━━\u001b[0m\u001b[37m\u001b[0m \u001b[1m1s\u001b[0m 677us/step - accuracy: 0.7583 - loss: 0.5511 - val_accuracy: 0.7164 - val_loss: 0.6361\n",
      "Epoch 402/1000\n",
      "\u001b[1m1147/1147\u001b[0m \u001b[32m━━━━━━━━━━━━━━━━━━━━\u001b[0m\u001b[37m\u001b[0m \u001b[1m1s\u001b[0m 709us/step - accuracy: 0.7565 - loss: 0.5508 - val_accuracy: 0.7266 - val_loss: 0.6183\n",
      "Epoch 403/1000\n",
      "\u001b[1m1147/1147\u001b[0m \u001b[32m━━━━━━━━━━━━━━━━━━━━\u001b[0m\u001b[37m\u001b[0m \u001b[1m1s\u001b[0m 707us/step - accuracy: 0.7571 - loss: 0.5499 - val_accuracy: 0.7246 - val_loss: 0.6178\n",
      "Epoch 404/1000\n",
      "\u001b[1m1147/1147\u001b[0m \u001b[32m━━━━━━━━━━━━━━━━━━━━\u001b[0m\u001b[37m\u001b[0m \u001b[1m1s\u001b[0m 680us/step - accuracy: 0.7569 - loss: 0.5495 - val_accuracy: 0.7184 - val_loss: 0.6309\n",
      "Epoch 405/1000\n",
      "\u001b[1m1147/1147\u001b[0m \u001b[32m━━━━━━━━━━━━━━━━━━━━\u001b[0m\u001b[37m\u001b[0m \u001b[1m1s\u001b[0m 704us/step - accuracy: 0.7579 - loss: 0.5464 - val_accuracy: 0.7203 - val_loss: 0.6268\n",
      "Epoch 406/1000\n",
      "\u001b[1m1147/1147\u001b[0m \u001b[32m━━━━━━━━━━━━━━━━━━━━\u001b[0m\u001b[37m\u001b[0m \u001b[1m1s\u001b[0m 682us/step - accuracy: 0.7619 - loss: 0.5492 - val_accuracy: 0.7192 - val_loss: 0.6244\n",
      "Epoch 407/1000\n",
      "\u001b[1m1147/1147\u001b[0m \u001b[32m━━━━━━━━━━━━━━━━━━━━\u001b[0m\u001b[37m\u001b[0m \u001b[1m1s\u001b[0m 712us/step - accuracy: 0.7600 - loss: 0.5481 - val_accuracy: 0.7207 - val_loss: 0.6241\n",
      "Epoch 408/1000\n",
      "\u001b[1m1147/1147\u001b[0m \u001b[32m━━━━━━━━━━━━━━━━━━━━\u001b[0m\u001b[37m\u001b[0m \u001b[1m1s\u001b[0m 673us/step - accuracy: 0.7570 - loss: 0.5517 - val_accuracy: 0.7088 - val_loss: 0.6437\n",
      "Epoch 409/1000\n",
      "\u001b[1m1147/1147\u001b[0m \u001b[32m━━━━━━━━━━━━━━━━━━━━\u001b[0m\u001b[37m\u001b[0m \u001b[1m1s\u001b[0m 716us/step - accuracy: 0.7527 - loss: 0.5581 - val_accuracy: 0.7240 - val_loss: 0.6188\n",
      "Epoch 410/1000\n",
      "\u001b[1m1147/1147\u001b[0m \u001b[32m━━━━━━━━━━━━━━━━━━━━\u001b[0m\u001b[37m\u001b[0m \u001b[1m1s\u001b[0m 679us/step - accuracy: 0.7559 - loss: 0.5538 - val_accuracy: 0.7147 - val_loss: 0.6342\n",
      "Epoch 411/1000\n",
      "\u001b[1m1147/1147\u001b[0m \u001b[32m━━━━━━━━━━━━━━━━━━━━\u001b[0m\u001b[37m\u001b[0m \u001b[1m1s\u001b[0m 712us/step - accuracy: 0.7606 - loss: 0.5485 - val_accuracy: 0.7229 - val_loss: 0.6270\n",
      "Epoch 412/1000\n",
      "\u001b[1m1147/1147\u001b[0m \u001b[32m━━━━━━━━━━━━━━━━━━━━\u001b[0m\u001b[37m\u001b[0m \u001b[1m1s\u001b[0m 678us/step - accuracy: 0.7580 - loss: 0.5502 - val_accuracy: 0.7188 - val_loss: 0.6307\n",
      "Epoch 413/1000\n",
      "\u001b[1m1147/1147\u001b[0m \u001b[32m━━━━━━━━━━━━━━━━━━━━\u001b[0m\u001b[37m\u001b[0m \u001b[1m1s\u001b[0m 713us/step - accuracy: 0.7568 - loss: 0.5527 - val_accuracy: 0.7210 - val_loss: 0.6275\n",
      "Epoch 414/1000\n",
      "\u001b[1m1147/1147\u001b[0m \u001b[32m━━━━━━━━━━━━━━━━━━━━\u001b[0m\u001b[37m\u001b[0m \u001b[1m1s\u001b[0m 679us/step - accuracy: 0.7546 - loss: 0.5573 - val_accuracy: 0.7219 - val_loss: 0.6253\n",
      "Epoch 415/1000\n",
      "\u001b[1m1147/1147\u001b[0m \u001b[32m━━━━━━━━━━━━━━━━━━━━\u001b[0m\u001b[37m\u001b[0m \u001b[1m1s\u001b[0m 709us/step - accuracy: 0.7603 - loss: 0.5486 - val_accuracy: 0.7200 - val_loss: 0.6296\n",
      "Epoch 416/1000\n",
      "\u001b[1m1147/1147\u001b[0m \u001b[32m━━━━━━━━━━━━━━━━━━━━\u001b[0m\u001b[37m\u001b[0m \u001b[1m1s\u001b[0m 708us/step - accuracy: 0.7562 - loss: 0.5483 - val_accuracy: 0.7161 - val_loss: 0.6369\n",
      "Epoch 417/1000\n",
      "\u001b[1m1147/1147\u001b[0m \u001b[32m━━━━━━━━━━━━━━━━━━━━\u001b[0m\u001b[37m\u001b[0m \u001b[1m1s\u001b[0m 721us/step - accuracy: 0.7571 - loss: 0.5524 - val_accuracy: 0.7133 - val_loss: 0.6321\n",
      "Epoch 418/1000\n",
      "\u001b[1m1147/1147\u001b[0m \u001b[32m━━━━━━━━━━━━━━━━━━━━\u001b[0m\u001b[37m\u001b[0m \u001b[1m1s\u001b[0m 704us/step - accuracy: 0.7595 - loss: 0.5473 - val_accuracy: 0.7188 - val_loss: 0.6321\n",
      "Epoch 419/1000\n",
      "\u001b[1m1147/1147\u001b[0m \u001b[32m━━━━━━━━━━━━━━━━━━━━\u001b[0m\u001b[37m\u001b[0m \u001b[1m1s\u001b[0m 680us/step - accuracy: 0.7605 - loss: 0.5449 - val_accuracy: 0.7122 - val_loss: 0.6359\n",
      "Epoch 420/1000\n",
      "\u001b[1m1147/1147\u001b[0m \u001b[32m━━━━━━━━━━━━━━━━━━━━\u001b[0m\u001b[37m\u001b[0m \u001b[1m1s\u001b[0m 707us/step - accuracy: 0.7565 - loss: 0.5594 - val_accuracy: 0.7029 - val_loss: 0.6574\n",
      "Epoch 421/1000\n",
      "\u001b[1m1147/1147\u001b[0m \u001b[32m━━━━━━━━━━━━━━━━━━━━\u001b[0m\u001b[37m\u001b[0m \u001b[1m1s\u001b[0m 677us/step - accuracy: 0.7589 - loss: 0.5444 - val_accuracy: 0.7218 - val_loss: 0.6204\n",
      "Epoch 422/1000\n",
      "\u001b[1m1147/1147\u001b[0m \u001b[32m━━━━━━━━━━━━━━━━━━━━\u001b[0m\u001b[37m\u001b[0m \u001b[1m1s\u001b[0m 708us/step - accuracy: 0.7616 - loss: 0.5481 - val_accuracy: 0.7180 - val_loss: 0.6309\n",
      "Epoch 423/1000\n",
      "\u001b[1m1147/1147\u001b[0m \u001b[32m━━━━━━━━━━━━━━━━━━━━\u001b[0m\u001b[37m\u001b[0m \u001b[1m1s\u001b[0m 680us/step - accuracy: 0.7596 - loss: 0.5490 - val_accuracy: 0.7222 - val_loss: 0.6250\n",
      "Epoch 424/1000\n",
      "\u001b[1m1147/1147\u001b[0m \u001b[32m━━━━━━━━━━━━━━━━━━━━\u001b[0m\u001b[37m\u001b[0m \u001b[1m1s\u001b[0m 711us/step - accuracy: 0.7573 - loss: 0.5533 - val_accuracy: 0.7160 - val_loss: 0.6371\n",
      "Epoch 425/1000\n",
      "\u001b[1m1147/1147\u001b[0m \u001b[32m━━━━━━━━━━━━━━━━━━━━\u001b[0m\u001b[37m\u001b[0m \u001b[1m1s\u001b[0m 711us/step - accuracy: 0.7609 - loss: 0.5461 - val_accuracy: 0.7231 - val_loss: 0.6258\n",
      "Epoch 426/1000\n",
      "\u001b[1m1147/1147\u001b[0m \u001b[32m━━━━━━━━━━━━━━━━━━━━\u001b[0m\u001b[37m\u001b[0m \u001b[1m1s\u001b[0m 684us/step - accuracy: 0.7618 - loss: 0.5453 - val_accuracy: 0.7089 - val_loss: 0.6404\n",
      "Epoch 427/1000\n",
      "\u001b[1m1147/1147\u001b[0m \u001b[32m━━━━━━━━━━━━━━━━━━━━\u001b[0m\u001b[37m\u001b[0m \u001b[1m1s\u001b[0m 713us/step - accuracy: 0.7565 - loss: 0.5507 - val_accuracy: 0.7145 - val_loss: 0.6337\n",
      "Epoch 428/1000\n",
      "\u001b[1m1147/1147\u001b[0m \u001b[32m━━━━━━━━━━━━━━━━━━━━\u001b[0m\u001b[37m\u001b[0m \u001b[1m1s\u001b[0m 682us/step - accuracy: 0.7567 - loss: 0.5508 - val_accuracy: 0.7156 - val_loss: 0.6361\n",
      "Epoch 429/1000\n",
      "\u001b[1m1147/1147\u001b[0m \u001b[32m━━━━━━━━━━━━━━━━━━━━\u001b[0m\u001b[37m\u001b[0m \u001b[1m1s\u001b[0m 712us/step - accuracy: 0.7613 - loss: 0.5438 - val_accuracy: 0.7143 - val_loss: 0.6334\n",
      "Epoch 430/1000\n",
      "\u001b[1m1147/1147\u001b[0m \u001b[32m━━━━━━━━━━━━━━━━━━━━\u001b[0m\u001b[37m\u001b[0m \u001b[1m1s\u001b[0m 704us/step - accuracy: 0.7657 - loss: 0.5440 - val_accuracy: 0.7230 - val_loss: 0.6234\n",
      "Epoch 431/1000\n",
      "\u001b[1m1147/1147\u001b[0m \u001b[32m━━━━━━━━━━━━━━━━━━━━\u001b[0m\u001b[37m\u001b[0m \u001b[1m1s\u001b[0m 669us/step - accuracy: 0.7568 - loss: 0.5457 - val_accuracy: 0.7253 - val_loss: 0.6258\n",
      "Epoch 432/1000\n",
      "\u001b[1m1147/1147\u001b[0m \u001b[32m━━━━━━━━━━━━━━━━━━━━\u001b[0m\u001b[37m\u001b[0m \u001b[1m1s\u001b[0m 708us/step - accuracy: 0.7555 - loss: 0.5532 - val_accuracy: 0.7099 - val_loss: 0.6490\n",
      "Epoch 433/1000\n",
      "\u001b[1m1147/1147\u001b[0m \u001b[32m━━━━━━━━━━━━━━━━━━━━\u001b[0m\u001b[37m\u001b[0m \u001b[1m1s\u001b[0m 681us/step - accuracy: 0.7568 - loss: 0.5544 - val_accuracy: 0.6989 - val_loss: 0.6583\n",
      "Epoch 434/1000\n",
      "\u001b[1m1147/1147\u001b[0m \u001b[32m━━━━━━━━━━━━━━━━━━━━\u001b[0m\u001b[37m\u001b[0m \u001b[1m1s\u001b[0m 708us/step - accuracy: 0.7622 - loss: 0.5458 - val_accuracy: 0.7193 - val_loss: 0.6256\n",
      "Epoch 435/1000\n",
      "\u001b[1m1147/1147\u001b[0m \u001b[32m━━━━━━━━━━━━━━━━━━━━\u001b[0m\u001b[37m\u001b[0m \u001b[1m1s\u001b[0m 682us/step - accuracy: 0.7580 - loss: 0.5528 - val_accuracy: 0.7140 - val_loss: 0.6334\n",
      "Epoch 436/1000\n",
      "\u001b[1m1147/1147\u001b[0m \u001b[32m━━━━━━━━━━━━━━━━━━━━\u001b[0m\u001b[37m\u001b[0m \u001b[1m1s\u001b[0m 714us/step - accuracy: 0.7630 - loss: 0.5480 - val_accuracy: 0.7159 - val_loss: 0.6359\n",
      "Epoch 437/1000\n",
      "\u001b[1m1147/1147\u001b[0m \u001b[32m━━━━━━━━━━━━━━━━━━━━\u001b[0m\u001b[37m\u001b[0m \u001b[1m1s\u001b[0m 709us/step - accuracy: 0.7603 - loss: 0.5467 - val_accuracy: 0.7203 - val_loss: 0.6234\n",
      "Epoch 438/1000\n",
      "\u001b[1m1147/1147\u001b[0m \u001b[32m━━━━━━━━━━━━━━━━━━━━\u001b[0m\u001b[37m\u001b[0m \u001b[1m1s\u001b[0m 678us/step - accuracy: 0.7615 - loss: 0.5528 - val_accuracy: 0.7165 - val_loss: 0.6268\n",
      "Epoch 439/1000\n",
      "\u001b[1m1147/1147\u001b[0m \u001b[32m━━━━━━━━━━━━━━━━━━━━\u001b[0m\u001b[37m\u001b[0m \u001b[1m1s\u001b[0m 704us/step - accuracy: 0.7641 - loss: 0.5457 - val_accuracy: 0.7183 - val_loss: 0.6274\n",
      "Epoch 440/1000\n",
      "\u001b[1m1147/1147\u001b[0m \u001b[32m━━━━━━━━━━━━━━━━━━━━\u001b[0m\u001b[37m\u001b[0m \u001b[1m1s\u001b[0m 686us/step - accuracy: 0.7585 - loss: 0.5495 - val_accuracy: 0.7027 - val_loss: 0.6558\n",
      "Epoch 441/1000\n",
      "\u001b[1m1147/1147\u001b[0m \u001b[32m━━━━━━━━━━━━━━━━━━━━\u001b[0m\u001b[37m\u001b[0m \u001b[1m1s\u001b[0m 709us/step - accuracy: 0.7593 - loss: 0.5434 - val_accuracy: 0.7089 - val_loss: 0.6495\n",
      "Epoch 442/1000\n",
      "\u001b[1m1147/1147\u001b[0m \u001b[32m━━━━━━━━━━━━━━━━━━━━\u001b[0m\u001b[37m\u001b[0m \u001b[1m1s\u001b[0m 679us/step - accuracy: 0.7581 - loss: 0.5488 - val_accuracy: 0.7325 - val_loss: 0.6031\n",
      "Epoch 443/1000\n",
      "\u001b[1m1147/1147\u001b[0m \u001b[32m━━━━━━━━━━━━━━━━━━━━\u001b[0m\u001b[37m\u001b[0m \u001b[1m1s\u001b[0m 713us/step - accuracy: 0.7589 - loss: 0.5528 - val_accuracy: 0.7256 - val_loss: 0.6169\n",
      "Epoch 444/1000\n",
      "\u001b[1m1147/1147\u001b[0m \u001b[32m━━━━━━━━━━━━━━━━━━━━\u001b[0m\u001b[37m\u001b[0m \u001b[1m1s\u001b[0m 718us/step - accuracy: 0.7568 - loss: 0.5515 - val_accuracy: 0.7233 - val_loss: 0.6242\n",
      "Epoch 445/1000\n",
      "\u001b[1m1147/1147\u001b[0m \u001b[32m━━━━━━━━━━━━━━━━━━━━\u001b[0m\u001b[37m\u001b[0m \u001b[1m1s\u001b[0m 687us/step - accuracy: 0.7553 - loss: 0.5565 - val_accuracy: 0.7234 - val_loss: 0.6206\n",
      "Epoch 446/1000\n",
      "\u001b[1m1147/1147\u001b[0m \u001b[32m━━━━━━━━━━━━━━━━━━━━\u001b[0m\u001b[37m\u001b[0m \u001b[1m1s\u001b[0m 711us/step - accuracy: 0.7600 - loss: 0.5477 - val_accuracy: 0.7256 - val_loss: 0.6201\n",
      "Epoch 447/1000\n",
      "\u001b[1m1147/1147\u001b[0m \u001b[32m━━━━━━━━━━━━━━━━━━━━\u001b[0m\u001b[37m\u001b[0m \u001b[1m1s\u001b[0m 680us/step - accuracy: 0.7641 - loss: 0.5435 - val_accuracy: 0.7168 - val_loss: 0.6307\n",
      "Epoch 448/1000\n",
      "\u001b[1m1147/1147\u001b[0m \u001b[32m━━━━━━━━━━━━━━━━━━━━\u001b[0m\u001b[37m\u001b[0m \u001b[1m1s\u001b[0m 713us/step - accuracy: 0.7582 - loss: 0.5505 - val_accuracy: 0.7107 - val_loss: 0.6375\n",
      "Epoch 449/1000\n",
      "\u001b[1m1147/1147\u001b[0m \u001b[32m━━━━━━━━━━━━━━━━━━━━\u001b[0m\u001b[37m\u001b[0m \u001b[1m1s\u001b[0m 691us/step - accuracy: 0.7604 - loss: 0.5483 - val_accuracy: 0.7193 - val_loss: 0.6272\n",
      "Epoch 450/1000\n",
      "\u001b[1m1147/1147\u001b[0m \u001b[32m━━━━━━━━━━━━━━━━━━━━\u001b[0m\u001b[37m\u001b[0m \u001b[1m1s\u001b[0m 708us/step - accuracy: 0.7606 - loss: 0.5496 - val_accuracy: 0.7164 - val_loss: 0.6365\n",
      "Epoch 451/1000\n",
      "\u001b[1m1147/1147\u001b[0m \u001b[32m━━━━━━━━━━━━━━━━━━━━\u001b[0m\u001b[37m\u001b[0m \u001b[1m1s\u001b[0m 678us/step - accuracy: 0.7563 - loss: 0.5539 - val_accuracy: 0.7158 - val_loss: 0.6348\n",
      "Epoch 452/1000\n",
      "\u001b[1m1147/1147\u001b[0m \u001b[32m━━━━━━━━━━━━━━━━━━━━\u001b[0m\u001b[37m\u001b[0m \u001b[1m1s\u001b[0m 710us/step - accuracy: 0.7610 - loss: 0.5447 - val_accuracy: 0.7122 - val_loss: 0.6410\n",
      "Epoch 453/1000\n",
      "\u001b[1m1147/1147\u001b[0m \u001b[32m━━━━━━━━━━━━━━━━━━━━\u001b[0m\u001b[37m\u001b[0m \u001b[1m1s\u001b[0m 713us/step - accuracy: 0.7573 - loss: 0.5523 - val_accuracy: 0.7267 - val_loss: 0.6197\n",
      "Epoch 454/1000\n",
      "\u001b[1m1147/1147\u001b[0m \u001b[32m━━━━━━━━━━━━━━━━━━━━\u001b[0m\u001b[37m\u001b[0m \u001b[1m1s\u001b[0m 702us/step - accuracy: 0.7605 - loss: 0.5479 - val_accuracy: 0.7260 - val_loss: 0.6240\n",
      "Epoch 455/1000\n",
      "\u001b[1m1147/1147\u001b[0m \u001b[32m━━━━━━━━━━━━━━━━━━━━\u001b[0m\u001b[37m\u001b[0m \u001b[1m1s\u001b[0m 710us/step - accuracy: 0.7588 - loss: 0.5463 - val_accuracy: 0.7309 - val_loss: 0.6115\n",
      "Epoch 456/1000\n",
      "\u001b[1m1147/1147\u001b[0m \u001b[32m━━━━━━━━━━━━━━━━━━━━\u001b[0m\u001b[37m\u001b[0m \u001b[1m1s\u001b[0m 680us/step - accuracy: 0.7611 - loss: 0.5474 - val_accuracy: 0.7254 - val_loss: 0.6219\n",
      "Epoch 457/1000\n",
      "\u001b[1m1147/1147\u001b[0m \u001b[32m━━━━━━━━━━━━━━━━━━━━\u001b[0m\u001b[37m\u001b[0m \u001b[1m1s\u001b[0m 708us/step - accuracy: 0.7593 - loss: 0.5474 - val_accuracy: 0.7246 - val_loss: 0.6243\n",
      "Epoch 458/1000\n",
      "\u001b[1m1147/1147\u001b[0m \u001b[32m━━━━━━━━━━━━━━━━━━━━\u001b[0m\u001b[37m\u001b[0m \u001b[1m1s\u001b[0m 704us/step - accuracy: 0.7610 - loss: 0.5460 - val_accuracy: 0.7079 - val_loss: 0.6491\n",
      "Epoch 459/1000\n",
      "\u001b[1m1147/1147\u001b[0m \u001b[32m━━━━━━━━━━━━━━━━━━━━\u001b[0m\u001b[37m\u001b[0m \u001b[1m1s\u001b[0m 681us/step - accuracy: 0.7601 - loss: 0.5478 - val_accuracy: 0.7192 - val_loss: 0.6240\n",
      "Epoch 460/1000\n",
      "\u001b[1m1147/1147\u001b[0m \u001b[32m━━━━━━━━━━━━━━━━━━━━\u001b[0m\u001b[37m\u001b[0m \u001b[1m1s\u001b[0m 711us/step - accuracy: 0.7596 - loss: 0.5515 - val_accuracy: 0.7290 - val_loss: 0.6192\n",
      "Epoch 461/1000\n",
      "\u001b[1m1147/1147\u001b[0m \u001b[32m━━━━━━━━━━━━━━━━━━━━\u001b[0m\u001b[37m\u001b[0m \u001b[1m1s\u001b[0m 684us/step - accuracy: 0.7619 - loss: 0.5465 - val_accuracy: 0.7340 - val_loss: 0.6095\n",
      "Epoch 462/1000\n",
      "\u001b[1m1147/1147\u001b[0m \u001b[32m━━━━━━━━━━━━━━━━━━━━\u001b[0m\u001b[37m\u001b[0m \u001b[1m1s\u001b[0m 709us/step - accuracy: 0.7543 - loss: 0.5500 - val_accuracy: 0.7322 - val_loss: 0.6119\n",
      "Epoch 463/1000\n",
      "\u001b[1m1147/1147\u001b[0m \u001b[32m━━━━━━━━━━━━━━━━━━━━\u001b[0m\u001b[37m\u001b[0m \u001b[1m1s\u001b[0m 705us/step - accuracy: 0.7604 - loss: 0.5479 - val_accuracy: 0.7262 - val_loss: 0.6192\n",
      "Epoch 464/1000\n",
      "\u001b[1m1147/1147\u001b[0m \u001b[32m━━━━━━━━━━━━━━━━━━━━\u001b[0m\u001b[37m\u001b[0m \u001b[1m1s\u001b[0m 689us/step - accuracy: 0.7652 - loss: 0.5429 - val_accuracy: 0.7137 - val_loss: 0.6500\n",
      "Epoch 465/1000\n",
      "\u001b[1m1147/1147\u001b[0m \u001b[32m━━━━━━━━━━━━━━━━━━━━\u001b[0m\u001b[37m\u001b[0m \u001b[1m1s\u001b[0m 712us/step - accuracy: 0.7574 - loss: 0.5512 - val_accuracy: 0.7208 - val_loss: 0.6297\n",
      "Epoch 466/1000\n",
      "\u001b[1m1147/1147\u001b[0m \u001b[32m━━━━━━━━━━━━━━━━━━━━\u001b[0m\u001b[37m\u001b[0m \u001b[1m1s\u001b[0m 710us/step - accuracy: 0.7600 - loss: 0.5501 - val_accuracy: 0.7106 - val_loss: 0.6424\n",
      "Epoch 467/1000\n",
      "\u001b[1m1147/1147\u001b[0m \u001b[32m━━━━━━━━━━━━━━━━━━━━\u001b[0m\u001b[37m\u001b[0m \u001b[1m1s\u001b[0m 683us/step - accuracy: 0.7595 - loss: 0.5536 - val_accuracy: 0.7312 - val_loss: 0.6167\n",
      "Epoch 468/1000\n",
      "\u001b[1m1147/1147\u001b[0m \u001b[32m━━━━━━━━━━━━━━━━━━━━\u001b[0m\u001b[37m\u001b[0m \u001b[1m1s\u001b[0m 711us/step - accuracy: 0.7610 - loss: 0.5489 - val_accuracy: 0.7237 - val_loss: 0.6241\n",
      "Epoch 469/1000\n",
      "\u001b[1m1147/1147\u001b[0m \u001b[32m━━━━━━━━━━━━━━━━━━━━\u001b[0m\u001b[37m\u001b[0m \u001b[1m1s\u001b[0m 687us/step - accuracy: 0.7632 - loss: 0.5414 - val_accuracy: 0.7188 - val_loss: 0.6305\n",
      "Epoch 470/1000\n",
      "\u001b[1m1147/1147\u001b[0m \u001b[32m━━━━━━━━━━━━━━━━━━━━\u001b[0m\u001b[37m\u001b[0m \u001b[1m1s\u001b[0m 714us/step - accuracy: 0.7604 - loss: 0.5461 - val_accuracy: 0.7135 - val_loss: 0.6376\n",
      "Epoch 471/1000\n",
      "\u001b[1m1147/1147\u001b[0m \u001b[32m━━━━━━━━━━━━━━━━━━━━\u001b[0m\u001b[37m\u001b[0m \u001b[1m1s\u001b[0m 710us/step - accuracy: 0.7626 - loss: 0.5421 - val_accuracy: 0.7265 - val_loss: 0.6165\n",
      "Epoch 472/1000\n",
      "\u001b[1m1147/1147\u001b[0m \u001b[32m━━━━━━━━━━━━━━━━━━━━\u001b[0m\u001b[37m\u001b[0m \u001b[1m1s\u001b[0m 681us/step - accuracy: 0.7633 - loss: 0.5437 - val_accuracy: 0.7170 - val_loss: 0.6316\n",
      "Epoch 473/1000\n",
      "\u001b[1m1147/1147\u001b[0m \u001b[32m━━━━━━━━━━━━━━━━━━━━\u001b[0m\u001b[37m\u001b[0m \u001b[1m1s\u001b[0m 709us/step - accuracy: 0.7614 - loss: 0.5490 - val_accuracy: 0.7101 - val_loss: 0.6403\n",
      "Epoch 474/1000\n",
      "\u001b[1m1147/1147\u001b[0m \u001b[32m━━━━━━━━━━━━━━━━━━━━\u001b[0m\u001b[37m\u001b[0m \u001b[1m1s\u001b[0m 680us/step - accuracy: 0.7609 - loss: 0.5480 - val_accuracy: 0.7310 - val_loss: 0.6133\n",
      "Epoch 475/1000\n",
      "\u001b[1m1147/1147\u001b[0m \u001b[32m━━━━━━━━━━━━━━━━━━━━\u001b[0m\u001b[37m\u001b[0m \u001b[1m1s\u001b[0m 708us/step - accuracy: 0.7618 - loss: 0.5445 - val_accuracy: 0.7159 - val_loss: 0.6368\n",
      "Epoch 476/1000\n",
      "\u001b[1m1147/1147\u001b[0m \u001b[32m━━━━━━━━━━━━━━━━━━━━\u001b[0m\u001b[37m\u001b[0m \u001b[1m1s\u001b[0m 710us/step - accuracy: 0.7605 - loss: 0.5418 - val_accuracy: 0.7184 - val_loss: 0.6324\n",
      "Epoch 477/1000\n",
      "\u001b[1m1147/1147\u001b[0m \u001b[32m━━━━━━━━━━━━━━━━━━━━\u001b[0m\u001b[37m\u001b[0m \u001b[1m1s\u001b[0m 683us/step - accuracy: 0.7600 - loss: 0.5486 - val_accuracy: 0.7225 - val_loss: 0.6286\n",
      "Epoch 478/1000\n",
      "\u001b[1m1147/1147\u001b[0m \u001b[32m━━━━━━━━━━━━━━━━━━━━\u001b[0m\u001b[37m\u001b[0m \u001b[1m1s\u001b[0m 716us/step - accuracy: 0.7600 - loss: 0.5472 - val_accuracy: 0.7056 - val_loss: 0.6492\n",
      "Epoch 479/1000\n",
      "\u001b[1m1147/1147\u001b[0m \u001b[32m━━━━━━━━━━━━━━━━━━━━\u001b[0m\u001b[37m\u001b[0m \u001b[1m1s\u001b[0m 709us/step - accuracy: 0.7642 - loss: 0.5436 - val_accuracy: 0.7120 - val_loss: 0.6424\n",
      "Epoch 480/1000\n",
      "\u001b[1m1147/1147\u001b[0m \u001b[32m━━━━━━━━━━━━━━━━━━━━\u001b[0m\u001b[37m\u001b[0m \u001b[1m1s\u001b[0m 713us/step - accuracy: 0.7622 - loss: 0.5438 - val_accuracy: 0.7252 - val_loss: 0.6221\n",
      "Epoch 481/1000\n",
      "\u001b[1m1147/1147\u001b[0m \u001b[32m━━━━━━━━━━━━━━━━━━━━\u001b[0m\u001b[37m\u001b[0m \u001b[1m1s\u001b[0m 717us/step - accuracy: 0.7642 - loss: 0.5445 - val_accuracy: 0.7290 - val_loss: 0.6180\n",
      "Epoch 482/1000\n",
      "\u001b[1m1147/1147\u001b[0m \u001b[32m━━━━━━━━━━━━━━━━━━━━\u001b[0m\u001b[37m\u001b[0m \u001b[1m1s\u001b[0m 728us/step - accuracy: 0.7603 - loss: 0.5455 - val_accuracy: 0.7234 - val_loss: 0.6317\n",
      "Epoch 483/1000\n",
      "\u001b[1m1147/1147\u001b[0m \u001b[32m━━━━━━━━━━━━━━━━━━━━\u001b[0m\u001b[37m\u001b[0m \u001b[1m1s\u001b[0m 677us/step - accuracy: 0.7600 - loss: 0.5451 - val_accuracy: 0.7292 - val_loss: 0.6126\n",
      "Epoch 484/1000\n",
      "\u001b[1m1147/1147\u001b[0m \u001b[32m━━━━━━━━━━━━━━━━━━━━\u001b[0m\u001b[37m\u001b[0m \u001b[1m1s\u001b[0m 717us/step - accuracy: 0.7578 - loss: 0.5532 - val_accuracy: 0.7243 - val_loss: 0.6263\n",
      "Epoch 485/1000\n",
      "\u001b[1m1147/1147\u001b[0m \u001b[32m━━━━━━━━━━━━━━━━━━━━\u001b[0m\u001b[37m\u001b[0m \u001b[1m1s\u001b[0m 676us/step - accuracy: 0.7579 - loss: 0.5449 - val_accuracy: 0.7244 - val_loss: 0.6253\n",
      "Epoch 486/1000\n",
      "\u001b[1m1147/1147\u001b[0m \u001b[32m━━━━━━━━━━━━━━━━━━━━\u001b[0m\u001b[37m\u001b[0m \u001b[1m1s\u001b[0m 723us/step - accuracy: 0.7645 - loss: 0.5441 - val_accuracy: 0.7270 - val_loss: 0.6202\n",
      "Epoch 487/1000\n",
      "\u001b[1m1147/1147\u001b[0m \u001b[32m━━━━━━━━━━━━━━━━━━━━\u001b[0m\u001b[37m\u001b[0m \u001b[1m1s\u001b[0m 730us/step - accuracy: 0.7567 - loss: 0.5444 - val_accuracy: 0.7224 - val_loss: 0.6292\n",
      "Epoch 488/1000\n",
      "\u001b[1m1147/1147\u001b[0m \u001b[32m━━━━━━━━━━━━━━━━━━━━\u001b[0m\u001b[37m\u001b[0m \u001b[1m1s\u001b[0m 692us/step - accuracy: 0.7560 - loss: 0.5560 - val_accuracy: 0.7188 - val_loss: 0.6285\n",
      "Epoch 489/1000\n",
      "\u001b[1m1147/1147\u001b[0m \u001b[32m━━━━━━━━━━━━━━━━━━━━\u001b[0m\u001b[37m\u001b[0m \u001b[1m1s\u001b[0m 710us/step - accuracy: 0.7579 - loss: 0.5460 - val_accuracy: 0.7261 - val_loss: 0.6159\n",
      "Epoch 490/1000\n",
      "\u001b[1m1147/1147\u001b[0m \u001b[32m━━━━━━━━━━━━━━━━━━━━\u001b[0m\u001b[37m\u001b[0m \u001b[1m1s\u001b[0m 716us/step - accuracy: 0.7599 - loss: 0.5496 - val_accuracy: 0.7261 - val_loss: 0.6190\n",
      "Epoch 491/1000\n",
      "\u001b[1m1147/1147\u001b[0m \u001b[32m━━━━━━━━━━━━━━━━━━━━\u001b[0m\u001b[37m\u001b[0m \u001b[1m1s\u001b[0m 689us/step - accuracy: 0.7639 - loss: 0.5415 - val_accuracy: 0.7126 - val_loss: 0.6388\n",
      "Epoch 492/1000\n",
      "\u001b[1m1147/1147\u001b[0m \u001b[32m━━━━━━━━━━━━━━━━━━━━\u001b[0m\u001b[37m\u001b[0m \u001b[1m1s\u001b[0m 712us/step - accuracy: 0.7643 - loss: 0.5451 - val_accuracy: 0.7260 - val_loss: 0.6204\n",
      "Epoch 493/1000\n",
      "\u001b[1m1147/1147\u001b[0m \u001b[32m━━━━━━━━━━━━━━━━━━━━\u001b[0m\u001b[37m\u001b[0m \u001b[1m1s\u001b[0m 741us/step - accuracy: 0.7647 - loss: 0.5411 - val_accuracy: 0.7136 - val_loss: 0.6403\n",
      "Epoch 494/1000\n",
      "\u001b[1m1147/1147\u001b[0m \u001b[32m━━━━━━━━━━━━━━━━━━━━\u001b[0m\u001b[37m\u001b[0m \u001b[1m1s\u001b[0m 733us/step - accuracy: 0.7590 - loss: 0.5518 - val_accuracy: 0.7273 - val_loss: 0.6209\n",
      "Epoch 495/1000\n",
      "\u001b[1m1147/1147\u001b[0m \u001b[32m━━━━━━━━━━━━━━━━━━━━\u001b[0m\u001b[37m\u001b[0m \u001b[1m1s\u001b[0m 742us/step - accuracy: 0.7618 - loss: 0.5498 - val_accuracy: 0.7150 - val_loss: 0.6377\n",
      "Epoch 496/1000\n",
      "\u001b[1m1147/1147\u001b[0m \u001b[32m━━━━━━━━━━━━━━━━━━━━\u001b[0m\u001b[37m\u001b[0m \u001b[1m1s\u001b[0m 784us/step - accuracy: 0.7607 - loss: 0.5476 - val_accuracy: 0.7234 - val_loss: 0.6269\n",
      "Epoch 497/1000\n",
      "\u001b[1m1147/1147\u001b[0m \u001b[32m━━━━━━━━━━━━━━━━━━━━\u001b[0m\u001b[37m\u001b[0m \u001b[1m1s\u001b[0m 762us/step - accuracy: 0.7606 - loss: 0.5452 - val_accuracy: 0.7212 - val_loss: 0.6329\n",
      "Epoch 498/1000\n",
      "\u001b[1m1147/1147\u001b[0m \u001b[32m━━━━━━━━━━━━━━━━━━━━\u001b[0m\u001b[37m\u001b[0m \u001b[1m1s\u001b[0m 724us/step - accuracy: 0.7615 - loss: 0.5502 - val_accuracy: 0.7115 - val_loss: 0.6428\n",
      "Epoch 499/1000\n",
      "\u001b[1m1147/1147\u001b[0m \u001b[32m━━━━━━━━━━━━━━━━━━━━\u001b[0m\u001b[37m\u001b[0m \u001b[1m1s\u001b[0m 726us/step - accuracy: 0.7625 - loss: 0.5417 - val_accuracy: 0.7178 - val_loss: 0.6357\n",
      "Epoch 500/1000\n",
      "\u001b[1m1147/1147\u001b[0m \u001b[32m━━━━━━━━━━━━━━━━━━━━\u001b[0m\u001b[37m\u001b[0m \u001b[1m1s\u001b[0m 714us/step - accuracy: 0.7621 - loss: 0.5432 - val_accuracy: 0.7192 - val_loss: 0.6315\n",
      "Epoch 501/1000\n",
      "\u001b[1m1147/1147\u001b[0m \u001b[32m━━━━━━━━━━━━━━━━━━━━\u001b[0m\u001b[37m\u001b[0m \u001b[1m1s\u001b[0m 700us/step - accuracy: 0.7618 - loss: 0.5419 - val_accuracy: 0.7198 - val_loss: 0.6301\n",
      "Epoch 502/1000\n",
      "\u001b[1m1147/1147\u001b[0m \u001b[32m━━━━━━━━━━━━━━━━━━━━\u001b[0m\u001b[37m\u001b[0m \u001b[1m1s\u001b[0m 714us/step - accuracy: 0.7605 - loss: 0.5511 - val_accuracy: 0.7154 - val_loss: 0.6352\n",
      "Epoch 503/1000\n",
      "\u001b[1m1147/1147\u001b[0m \u001b[32m━━━━━━━━━━━━━━━━━━━━\u001b[0m\u001b[37m\u001b[0m \u001b[1m1s\u001b[0m 757us/step - accuracy: 0.7577 - loss: 0.5551 - val_accuracy: 0.7254 - val_loss: 0.6215\n",
      "Epoch 504/1000\n",
      "\u001b[1m1147/1147\u001b[0m \u001b[32m━━━━━━━━━━━━━━━━━━━━\u001b[0m\u001b[37m\u001b[0m \u001b[1m1s\u001b[0m 715us/step - accuracy: 0.7614 - loss: 0.5462 - val_accuracy: 0.7248 - val_loss: 0.6238\n",
      "Epoch 505/1000\n",
      "\u001b[1m1147/1147\u001b[0m \u001b[32m━━━━━━━━━━━━━━━━━━━━\u001b[0m\u001b[37m\u001b[0m \u001b[1m1s\u001b[0m 741us/step - accuracy: 0.7589 - loss: 0.5485 - val_accuracy: 0.7275 - val_loss: 0.6187\n",
      "Epoch 506/1000\n",
      "\u001b[1m1147/1147\u001b[0m \u001b[32m━━━━━━━━━━━━━━━━━━━━\u001b[0m\u001b[37m\u001b[0m \u001b[1m1s\u001b[0m 729us/step - accuracy: 0.7643 - loss: 0.5431 - val_accuracy: 0.7293 - val_loss: 0.6137\n",
      "Epoch 507/1000\n",
      "\u001b[1m1147/1147\u001b[0m \u001b[32m━━━━━━━━━━━━━━━━━━━━\u001b[0m\u001b[37m\u001b[0m \u001b[1m1s\u001b[0m 688us/step - accuracy: 0.7600 - loss: 0.5487 - val_accuracy: 0.7333 - val_loss: 0.6061\n",
      "Epoch 508/1000\n",
      "\u001b[1m1147/1147\u001b[0m \u001b[32m━━━━━━━━━━━━━━━━━━━━\u001b[0m\u001b[37m\u001b[0m \u001b[1m1s\u001b[0m 710us/step - accuracy: 0.7613 - loss: 0.5431 - val_accuracy: 0.7249 - val_loss: 0.6221\n",
      "Epoch 509/1000\n",
      "\u001b[1m1147/1147\u001b[0m \u001b[32m━━━━━━━━━━━━━━━━━━━━\u001b[0m\u001b[37m\u001b[0m \u001b[1m1s\u001b[0m 716us/step - accuracy: 0.7625 - loss: 0.5460 - val_accuracy: 0.7385 - val_loss: 0.6049\n",
      "Epoch 510/1000\n",
      "\u001b[1m1147/1147\u001b[0m \u001b[32m━━━━━━━━━━━━━━━━━━━━\u001b[0m\u001b[37m\u001b[0m \u001b[1m1s\u001b[0m 798us/step - accuracy: 0.7625 - loss: 0.5428 - val_accuracy: 0.7154 - val_loss: 0.6377\n",
      "Epoch 511/1000\n",
      "\u001b[1m1147/1147\u001b[0m \u001b[32m━━━━━━━━━━━━━━━━━━━━\u001b[0m\u001b[37m\u001b[0m \u001b[1m1s\u001b[0m 798us/step - accuracy: 0.7628 - loss: 0.5408 - val_accuracy: 0.7158 - val_loss: 0.6390\n",
      "Epoch 512/1000\n",
      "\u001b[1m1147/1147\u001b[0m \u001b[32m━━━━━━━━━━━━━━━━━━━━\u001b[0m\u001b[37m\u001b[0m \u001b[1m1s\u001b[0m 750us/step - accuracy: 0.7616 - loss: 0.5499 - val_accuracy: 0.7195 - val_loss: 0.6296\n",
      "Epoch 513/1000\n",
      "\u001b[1m1147/1147\u001b[0m \u001b[32m━━━━━━━━━━━━━━━━━━━━\u001b[0m\u001b[37m\u001b[0m \u001b[1m1s\u001b[0m 806us/step - accuracy: 0.7633 - loss: 0.5403 - val_accuracy: 0.7137 - val_loss: 0.6479\n",
      "Epoch 514/1000\n",
      "\u001b[1m1147/1147\u001b[0m \u001b[32m━━━━━━━━━━━━━━━━━━━━\u001b[0m\u001b[37m\u001b[0m \u001b[1m1s\u001b[0m 764us/step - accuracy: 0.7634 - loss: 0.5429 - val_accuracy: 0.7142 - val_loss: 0.6403\n",
      "Epoch 515/1000\n",
      "\u001b[1m1147/1147\u001b[0m \u001b[32m━━━━━━━━━━━━━━━━━━━━\u001b[0m\u001b[37m\u001b[0m \u001b[1m1s\u001b[0m 712us/step - accuracy: 0.7610 - loss: 0.5429 - val_accuracy: 0.7353 - val_loss: 0.6112\n",
      "Epoch 516/1000\n",
      "\u001b[1m1147/1147\u001b[0m \u001b[32m━━━━━━━━━━━━━━━━━━━━\u001b[0m\u001b[37m\u001b[0m \u001b[1m1s\u001b[0m 756us/step - accuracy: 0.7620 - loss: 0.5445 - val_accuracy: 0.7309 - val_loss: 0.6148\n",
      "Epoch 517/1000\n",
      "\u001b[1m1147/1147\u001b[0m \u001b[32m━━━━━━━━━━━━━━━━━━━━\u001b[0m\u001b[37m\u001b[0m \u001b[1m1s\u001b[0m 744us/step - accuracy: 0.7551 - loss: 0.5506 - val_accuracy: 0.7308 - val_loss: 0.6169\n",
      "Epoch 518/1000\n",
      "\u001b[1m1147/1147\u001b[0m \u001b[32m━━━━━━━━━━━━━━━━━━━━\u001b[0m\u001b[37m\u001b[0m \u001b[1m1s\u001b[0m 794us/step - accuracy: 0.7642 - loss: 0.5445 - val_accuracy: 0.7221 - val_loss: 0.6246\n",
      "Epoch 519/1000\n",
      "\u001b[1m1147/1147\u001b[0m \u001b[32m━━━━━━━━━━━━━━━━━━━━\u001b[0m\u001b[37m\u001b[0m \u001b[1m1s\u001b[0m 763us/step - accuracy: 0.7607 - loss: 0.5455 - val_accuracy: 0.7337 - val_loss: 0.6126\n",
      "Epoch 520/1000\n",
      "\u001b[1m1147/1147\u001b[0m \u001b[32m━━━━━━━━━━━━━━━━━━━━\u001b[0m\u001b[37m\u001b[0m \u001b[1m1s\u001b[0m 823us/step - accuracy: 0.7601 - loss: 0.5478 - val_accuracy: 0.7332 - val_loss: 0.6099\n",
      "Epoch 521/1000\n",
      "\u001b[1m1147/1147\u001b[0m \u001b[32m━━━━━━━━━━━━━━━━━━━━\u001b[0m\u001b[37m\u001b[0m \u001b[1m1s\u001b[0m 748us/step - accuracy: 0.7604 - loss: 0.5484 - val_accuracy: 0.7161 - val_loss: 0.6379\n",
      "Epoch 522/1000\n",
      "\u001b[1m1147/1147\u001b[0m \u001b[32m━━━━━━━━━━━━━━━━━━━━\u001b[0m\u001b[37m\u001b[0m \u001b[1m1s\u001b[0m 712us/step - accuracy: 0.7594 - loss: 0.5467 - val_accuracy: 0.7154 - val_loss: 0.6391\n",
      "Epoch 523/1000\n",
      "\u001b[1m1147/1147\u001b[0m \u001b[32m━━━━━━━━━━━━━━━━━━━━\u001b[0m\u001b[37m\u001b[0m \u001b[1m1s\u001b[0m 762us/step - accuracy: 0.7653 - loss: 0.5410 - val_accuracy: 0.7226 - val_loss: 0.6301\n",
      "Epoch 524/1000\n",
      "\u001b[1m1147/1147\u001b[0m \u001b[32m━━━━━━━━━━━━━━━━━━━━\u001b[0m\u001b[37m\u001b[0m \u001b[1m1s\u001b[0m 747us/step - accuracy: 0.7614 - loss: 0.5452 - val_accuracy: 0.7157 - val_loss: 0.6395\n",
      "Epoch 525/1000\n",
      "\u001b[1m1147/1147\u001b[0m \u001b[32m━━━━━━━━━━━━━━━━━━━━\u001b[0m\u001b[37m\u001b[0m \u001b[1m1s\u001b[0m 762us/step - accuracy: 0.7596 - loss: 0.5450 - val_accuracy: 0.7347 - val_loss: 0.6103\n",
      "Epoch 526/1000\n",
      "\u001b[1m1147/1147\u001b[0m \u001b[32m━━━━━━━━━━━━━━━━━━━━\u001b[0m\u001b[37m\u001b[0m \u001b[1m1s\u001b[0m 724us/step - accuracy: 0.7649 - loss: 0.5412 - val_accuracy: 0.7318 - val_loss: 0.6158\n",
      "Epoch 527/1000\n",
      "\u001b[1m1147/1147\u001b[0m \u001b[32m━━━━━━━━━━━━━━━━━━━━\u001b[0m\u001b[37m\u001b[0m \u001b[1m1s\u001b[0m 769us/step - accuracy: 0.7623 - loss: 0.5467 - val_accuracy: 0.7146 - val_loss: 0.6390\n",
      "Epoch 528/1000\n",
      "\u001b[1m1147/1147\u001b[0m \u001b[32m━━━━━━━━━━━━━━━━━━━━\u001b[0m\u001b[37m\u001b[0m \u001b[1m1s\u001b[0m 758us/step - accuracy: 0.7610 - loss: 0.5433 - val_accuracy: 0.7266 - val_loss: 0.6286\n",
      "Epoch 529/1000\n",
      "\u001b[1m1147/1147\u001b[0m \u001b[32m━━━━━━━━━━━━━━━━━━━━\u001b[0m\u001b[37m\u001b[0m \u001b[1m1s\u001b[0m 717us/step - accuracy: 0.7627 - loss: 0.5414 - val_accuracy: 0.7341 - val_loss: 0.6078\n",
      "Epoch 530/1000\n",
      "\u001b[1m1147/1147\u001b[0m \u001b[32m━━━━━━━━━━━━━━━━━━━━\u001b[0m\u001b[37m\u001b[0m \u001b[1m1s\u001b[0m 762us/step - accuracy: 0.7604 - loss: 0.5465 - val_accuracy: 0.7258 - val_loss: 0.6269\n",
      "Epoch 531/1000\n",
      "\u001b[1m1147/1147\u001b[0m \u001b[32m━━━━━━━━━━━━━━━━━━━━\u001b[0m\u001b[37m\u001b[0m \u001b[1m1s\u001b[0m 767us/step - accuracy: 0.7623 - loss: 0.5443 - val_accuracy: 0.7244 - val_loss: 0.6263\n",
      "Epoch 532/1000\n",
      "\u001b[1m1147/1147\u001b[0m \u001b[32m━━━━━━━━━━━━━━━━━━━━\u001b[0m\u001b[37m\u001b[0m \u001b[1m1s\u001b[0m 744us/step - accuracy: 0.7616 - loss: 0.5438 - val_accuracy: 0.7305 - val_loss: 0.6181\n",
      "Epoch 533/1000\n",
      "\u001b[1m1147/1147\u001b[0m \u001b[32m━━━━━━━━━━━━━━━━━━━━\u001b[0m\u001b[37m\u001b[0m \u001b[1m1s\u001b[0m 710us/step - accuracy: 0.7627 - loss: 0.5431 - val_accuracy: 0.7184 - val_loss: 0.6394\n",
      "Epoch 534/1000\n",
      "\u001b[1m1147/1147\u001b[0m \u001b[32m━━━━━━━━━━━━━━━━━━━━\u001b[0m\u001b[37m\u001b[0m \u001b[1m1s\u001b[0m 765us/step - accuracy: 0.7604 - loss: 0.5466 - val_accuracy: 0.7167 - val_loss: 0.6364\n",
      "Epoch 535/1000\n",
      "\u001b[1m1147/1147\u001b[0m \u001b[32m━━━━━━━━━━━━━━━━━━━━\u001b[0m\u001b[37m\u001b[0m \u001b[1m1s\u001b[0m 756us/step - accuracy: 0.7641 - loss: 0.5425 - val_accuracy: 0.7270 - val_loss: 0.6248\n",
      "Epoch 536/1000\n",
      "\u001b[1m1147/1147\u001b[0m \u001b[32m━━━━━━━━━━━━━━━━━━━━\u001b[0m\u001b[37m\u001b[0m \u001b[1m1s\u001b[0m 799us/step - accuracy: 0.7601 - loss: 0.5511 - val_accuracy: 0.7249 - val_loss: 0.6224\n",
      "Epoch 537/1000\n",
      "\u001b[1m1147/1147\u001b[0m \u001b[32m━━━━━━━━━━━━━━━━━━━━\u001b[0m\u001b[37m\u001b[0m \u001b[1m1s\u001b[0m 770us/step - accuracy: 0.7669 - loss: 0.5347 - val_accuracy: 0.7273 - val_loss: 0.6250\n",
      "Epoch 538/1000\n",
      "\u001b[1m1147/1147\u001b[0m \u001b[32m━━━━━━━━━━━━━━━━━━━━\u001b[0m\u001b[37m\u001b[0m \u001b[1m1s\u001b[0m 739us/step - accuracy: 0.7599 - loss: 0.5441 - val_accuracy: 0.7200 - val_loss: 0.6324\n",
      "Epoch 539/1000\n",
      "\u001b[1m1147/1147\u001b[0m \u001b[32m━━━━━━━━━━━━━━━━━━━━\u001b[0m\u001b[37m\u001b[0m \u001b[1m1s\u001b[0m 732us/step - accuracy: 0.7590 - loss: 0.5495 - val_accuracy: 0.7172 - val_loss: 0.6392\n",
      "Epoch 540/1000\n",
      "\u001b[1m1147/1147\u001b[0m \u001b[32m━━━━━━━━━━━━━━━━━━━━\u001b[0m\u001b[37m\u001b[0m \u001b[1m1s\u001b[0m 712us/step - accuracy: 0.7636 - loss: 0.5419 - val_accuracy: 0.7255 - val_loss: 0.6269\n",
      "Epoch 541/1000\n",
      "\u001b[1m1147/1147\u001b[0m \u001b[32m━━━━━━━━━━━━━━━━━━━━\u001b[0m\u001b[37m\u001b[0m \u001b[1m1s\u001b[0m 737us/step - accuracy: 0.7578 - loss: 0.5458 - val_accuracy: 0.7100 - val_loss: 0.6474\n",
      "Epoch 542/1000\n",
      "\u001b[1m1147/1147\u001b[0m \u001b[32m━━━━━━━━━━━━━━━━━━━━\u001b[0m\u001b[37m\u001b[0m \u001b[1m1s\u001b[0m 732us/step - accuracy: 0.7637 - loss: 0.5430 - val_accuracy: 0.7201 - val_loss: 0.6340\n",
      "Epoch 543/1000\n",
      "\u001b[1m1147/1147\u001b[0m \u001b[32m━━━━━━━━━━━━━━━━━━━━\u001b[0m\u001b[37m\u001b[0m \u001b[1m1s\u001b[0m 709us/step - accuracy: 0.7611 - loss: 0.5463 - val_accuracy: 0.7213 - val_loss: 0.6298\n",
      "Epoch 544/1000\n",
      "\u001b[1m1147/1147\u001b[0m \u001b[32m━━━━━━━━━━━━━━━━━━━━\u001b[0m\u001b[37m\u001b[0m \u001b[1m1s\u001b[0m 731us/step - accuracy: 0.7661 - loss: 0.5371 - val_accuracy: 0.7234 - val_loss: 0.6243\n",
      "Epoch 545/1000\n",
      "\u001b[1m1147/1147\u001b[0m \u001b[32m━━━━━━━━━━━━━━━━━━━━\u001b[0m\u001b[37m\u001b[0m \u001b[1m1s\u001b[0m 740us/step - accuracy: 0.7652 - loss: 0.5378 - val_accuracy: 0.7206 - val_loss: 0.6357\n",
      "Epoch 546/1000\n",
      "\u001b[1m1147/1147\u001b[0m \u001b[32m━━━━━━━━━━━━━━━━━━━━\u001b[0m\u001b[37m\u001b[0m \u001b[1m1s\u001b[0m 734us/step - accuracy: 0.7597 - loss: 0.5436 - val_accuracy: 0.7210 - val_loss: 0.6276\n",
      "Epoch 547/1000\n",
      "\u001b[1m1147/1147\u001b[0m \u001b[32m━━━━━━━━━━━━━━━━━━━━\u001b[0m\u001b[37m\u001b[0m \u001b[1m1s\u001b[0m 723us/step - accuracy: 0.7586 - loss: 0.5430 - val_accuracy: 0.7314 - val_loss: 0.6130\n",
      "Epoch 548/1000\n",
      "\u001b[1m1147/1147\u001b[0m \u001b[32m━━━━━━━━━━━━━━━━━━━━\u001b[0m\u001b[37m\u001b[0m \u001b[1m1s\u001b[0m 776us/step - accuracy: 0.7624 - loss: 0.5444 - val_accuracy: 0.7214 - val_loss: 0.6328\n",
      "Epoch 549/1000\n",
      "\u001b[1m1147/1147\u001b[0m \u001b[32m━━━━━━━━━━━━━━━━━━━━\u001b[0m\u001b[37m\u001b[0m \u001b[1m1s\u001b[0m 732us/step - accuracy: 0.7668 - loss: 0.5409 - val_accuracy: 0.7226 - val_loss: 0.6264\n",
      "Epoch 550/1000\n",
      "\u001b[1m1147/1147\u001b[0m \u001b[32m━━━━━━━━━━━━━━━━━━━━\u001b[0m\u001b[37m\u001b[0m \u001b[1m1s\u001b[0m 747us/step - accuracy: 0.7628 - loss: 0.5439 - val_accuracy: 0.7194 - val_loss: 0.6321\n",
      "Epoch 551/1000\n",
      "\u001b[1m1147/1147\u001b[0m \u001b[32m━━━━━━━━━━━━━━━━━━━━\u001b[0m\u001b[37m\u001b[0m \u001b[1m1s\u001b[0m 708us/step - accuracy: 0.7580 - loss: 0.5486 - val_accuracy: 0.7237 - val_loss: 0.6263\n",
      "Epoch 552/1000\n",
      "\u001b[1m1147/1147\u001b[0m \u001b[32m━━━━━━━━━━━━━━━━━━━━\u001b[0m\u001b[37m\u001b[0m \u001b[1m1s\u001b[0m 732us/step - accuracy: 0.7628 - loss: 0.5452 - val_accuracy: 0.7282 - val_loss: 0.6149\n",
      "Epoch 553/1000\n",
      "\u001b[1m1147/1147\u001b[0m \u001b[32m━━━━━━━━━━━━━━━━━━━━\u001b[0m\u001b[37m\u001b[0m \u001b[1m1s\u001b[0m 736us/step - accuracy: 0.7614 - loss: 0.5449 - val_accuracy: 0.7205 - val_loss: 0.6303\n",
      "Epoch 554/1000\n",
      "\u001b[1m1147/1147\u001b[0m \u001b[32m━━━━━━━━━━━━━━━━━━━━\u001b[0m\u001b[37m\u001b[0m \u001b[1m1s\u001b[0m 696us/step - accuracy: 0.7597 - loss: 0.5486 - val_accuracy: 0.7238 - val_loss: 0.6209\n",
      "Epoch 555/1000\n",
      "\u001b[1m1147/1147\u001b[0m \u001b[32m━━━━━━━━━━━━━━━━━━━━\u001b[0m\u001b[37m\u001b[0m \u001b[1m1s\u001b[0m 735us/step - accuracy: 0.7627 - loss: 0.5450 - val_accuracy: 0.7258 - val_loss: 0.6244\n",
      "Epoch 556/1000\n",
      "\u001b[1m1147/1147\u001b[0m \u001b[32m━━━━━━━━━━━━━━━━━━━━\u001b[0m\u001b[37m\u001b[0m \u001b[1m1s\u001b[0m 742us/step - accuracy: 0.7591 - loss: 0.5455 - val_accuracy: 0.7222 - val_loss: 0.6289\n",
      "Epoch 557/1000\n",
      "\u001b[1m1147/1147\u001b[0m \u001b[32m━━━━━━━━━━━━━━━━━━━━\u001b[0m\u001b[37m\u001b[0m \u001b[1m1s\u001b[0m 735us/step - accuracy: 0.7642 - loss: 0.5446 - val_accuracy: 0.7255 - val_loss: 0.6206\n",
      "Epoch 558/1000\n",
      "\u001b[1m1147/1147\u001b[0m \u001b[32m━━━━━━━━━━━━━━━━━━━━\u001b[0m\u001b[37m\u001b[0m \u001b[1m1s\u001b[0m 702us/step - accuracy: 0.7595 - loss: 0.5474 - val_accuracy: 0.7218 - val_loss: 0.6300\n",
      "Epoch 559/1000\n",
      "\u001b[1m1147/1147\u001b[0m \u001b[32m━━━━━━━━━━━━━━━━━━━━\u001b[0m\u001b[37m\u001b[0m \u001b[1m1s\u001b[0m 777us/step - accuracy: 0.7630 - loss: 0.5437 - val_accuracy: 0.7194 - val_loss: 0.6374\n",
      "Epoch 560/1000\n",
      "\u001b[1m1147/1147\u001b[0m \u001b[32m━━━━━━━━━━━━━━━━━━━━\u001b[0m\u001b[37m\u001b[0m \u001b[1m1s\u001b[0m 744us/step - accuracy: 0.7609 - loss: 0.5414 - val_accuracy: 0.7147 - val_loss: 0.6421\n",
      "Epoch 561/1000\n",
      "\u001b[1m1147/1147\u001b[0m \u001b[32m━━━━━━━━━━━━━━━━━━━━\u001b[0m\u001b[37m\u001b[0m \u001b[1m1s\u001b[0m 773us/step - accuracy: 0.7569 - loss: 0.5485 - val_accuracy: 0.7140 - val_loss: 0.6402\n",
      "Epoch 562/1000\n",
      "\u001b[1m1147/1147\u001b[0m \u001b[32m━━━━━━━━━━━━━━━━━━━━\u001b[0m\u001b[37m\u001b[0m \u001b[1m1s\u001b[0m 689us/step - accuracy: 0.7640 - loss: 0.5397 - val_accuracy: 0.7157 - val_loss: 0.6389\n",
      "Epoch 563/1000\n",
      "\u001b[1m1147/1147\u001b[0m \u001b[32m━━━━━━━━━━━━━━━━━━━━\u001b[0m\u001b[37m\u001b[0m \u001b[1m1s\u001b[0m 712us/step - accuracy: 0.7628 - loss: 0.5437 - val_accuracy: 0.7110 - val_loss: 0.6541\n",
      "Epoch 564/1000\n",
      "\u001b[1m1147/1147\u001b[0m \u001b[32m━━━━━━━━━━━━━━━━━━━━\u001b[0m\u001b[37m\u001b[0m \u001b[1m1s\u001b[0m 729us/step - accuracy: 0.7626 - loss: 0.5418 - val_accuracy: 0.7134 - val_loss: 0.6414\n",
      "Epoch 565/1000\n",
      "\u001b[1m1147/1147\u001b[0m \u001b[32m━━━━━━━━━━━━━━━━━━━━\u001b[0m\u001b[37m\u001b[0m \u001b[1m1s\u001b[0m 742us/step - accuracy: 0.7613 - loss: 0.5476 - val_accuracy: 0.7197 - val_loss: 0.6356\n",
      "Epoch 566/1000\n",
      "\u001b[1m1147/1147\u001b[0m \u001b[32m━━━━━━━━━━━━━━━━━━━━\u001b[0m\u001b[37m\u001b[0m \u001b[1m1s\u001b[0m 758us/step - accuracy: 0.7636 - loss: 0.5399 - val_accuracy: 0.7212 - val_loss: 0.6369\n",
      "Epoch 567/1000\n",
      "\u001b[1m1147/1147\u001b[0m \u001b[32m━━━━━━━━━━━━━━━━━━━━\u001b[0m\u001b[37m\u001b[0m \u001b[1m1s\u001b[0m 753us/step - accuracy: 0.7652 - loss: 0.5409 - val_accuracy: 0.7094 - val_loss: 0.6533\n",
      "Epoch 568/1000\n",
      "\u001b[1m1147/1147\u001b[0m \u001b[32m━━━━━━━━━━━━━━━━━━━━\u001b[0m\u001b[37m\u001b[0m \u001b[1m1s\u001b[0m 756us/step - accuracy: 0.7589 - loss: 0.5492 - val_accuracy: 0.7130 - val_loss: 0.6479\n",
      "Epoch 569/1000\n",
      "\u001b[1m1147/1147\u001b[0m \u001b[32m━━━━━━━━━━━━━━━━━━━━\u001b[0m\u001b[37m\u001b[0m \u001b[1m1s\u001b[0m 771us/step - accuracy: 0.7599 - loss: 0.5463 - val_accuracy: 0.7182 - val_loss: 0.6337\n",
      "Epoch 570/1000\n",
      "\u001b[1m1147/1147\u001b[0m \u001b[32m━━━━━━━━━━━━━━━━━━━━\u001b[0m\u001b[37m\u001b[0m \u001b[1m1s\u001b[0m 712us/step - accuracy: 0.7633 - loss: 0.5470 - val_accuracy: 0.7250 - val_loss: 0.6286\n",
      "Epoch 571/1000\n",
      "\u001b[1m1147/1147\u001b[0m \u001b[32m━━━━━━━━━━━━━━━━━━━━\u001b[0m\u001b[37m\u001b[0m \u001b[1m1s\u001b[0m 746us/step - accuracy: 0.7660 - loss: 0.5390 - val_accuracy: 0.7208 - val_loss: 0.6297\n",
      "Epoch 572/1000\n",
      "\u001b[1m1147/1147\u001b[0m \u001b[32m━━━━━━━━━━━━━━━━━━━━\u001b[0m\u001b[37m\u001b[0m \u001b[1m1s\u001b[0m 749us/step - accuracy: 0.7646 - loss: 0.5441 - val_accuracy: 0.7302 - val_loss: 0.6202\n",
      "Epoch 573/1000\n",
      "\u001b[1m1147/1147\u001b[0m \u001b[32m━━━━━━━━━━━━━━━━━━━━\u001b[0m\u001b[37m\u001b[0m \u001b[1m1s\u001b[0m 731us/step - accuracy: 0.7663 - loss: 0.5358 - val_accuracy: 0.7204 - val_loss: 0.6380\n",
      "Epoch 574/1000\n",
      "\u001b[1m1147/1147\u001b[0m \u001b[32m━━━━━━━━━━━━━━━━━━━━\u001b[0m\u001b[37m\u001b[0m \u001b[1m1s\u001b[0m 703us/step - accuracy: 0.7661 - loss: 0.5392 - val_accuracy: 0.7134 - val_loss: 0.6461\n",
      "Epoch 575/1000\n",
      "\u001b[1m1147/1147\u001b[0m \u001b[32m━━━━━━━━━━━━━━━━━━━━\u001b[0m\u001b[37m\u001b[0m \u001b[1m1s\u001b[0m 732us/step - accuracy: 0.7620 - loss: 0.5442 - val_accuracy: 0.7120 - val_loss: 0.6547\n",
      "Epoch 576/1000\n",
      "\u001b[1m1147/1147\u001b[0m \u001b[32m━━━━━━━━━━━━━━━━━━━━\u001b[0m\u001b[37m\u001b[0m \u001b[1m1s\u001b[0m 729us/step - accuracy: 0.7583 - loss: 0.5453 - val_accuracy: 0.7213 - val_loss: 0.6300\n",
      "Epoch 577/1000\n",
      "\u001b[1m1147/1147\u001b[0m \u001b[32m━━━━━━━━━━━━━━━━━━━━\u001b[0m\u001b[37m\u001b[0m \u001b[1m1s\u001b[0m 731us/step - accuracy: 0.7629 - loss: 0.5435 - val_accuracy: 0.7246 - val_loss: 0.6298\n",
      "Epoch 578/1000\n",
      "\u001b[1m1147/1147\u001b[0m \u001b[32m━━━━━━━━━━━━━━━━━━━━\u001b[0m\u001b[37m\u001b[0m \u001b[1m1s\u001b[0m 697us/step - accuracy: 0.7654 - loss: 0.5423 - val_accuracy: 0.7144 - val_loss: 0.6411\n",
      "Epoch 579/1000\n",
      "\u001b[1m1147/1147\u001b[0m \u001b[32m━━━━━━━━━━━━━━━━━━━━\u001b[0m\u001b[37m\u001b[0m \u001b[1m1s\u001b[0m 729us/step - accuracy: 0.7639 - loss: 0.5412 - val_accuracy: 0.7144 - val_loss: 0.6435\n",
      "Epoch 580/1000\n",
      "\u001b[1m1147/1147\u001b[0m \u001b[32m━━━━━━━━━━━━━━━━━━━━\u001b[0m\u001b[37m\u001b[0m \u001b[1m1s\u001b[0m 728us/step - accuracy: 0.7627 - loss: 0.5413 - val_accuracy: 0.7310 - val_loss: 0.6162\n",
      "Epoch 581/1000\n",
      "\u001b[1m1147/1147\u001b[0m \u001b[32m━━━━━━━━━━━━━━━━━━━━\u001b[0m\u001b[37m\u001b[0m \u001b[1m1s\u001b[0m 741us/step - accuracy: 0.7646 - loss: 0.5409 - val_accuracy: 0.7222 - val_loss: 0.6283\n",
      "Epoch 582/1000\n",
      "\u001b[1m1147/1147\u001b[0m \u001b[32m━━━━━━━━━━━━━━━━━━━━\u001b[0m\u001b[37m\u001b[0m \u001b[1m1s\u001b[0m 711us/step - accuracy: 0.7642 - loss: 0.5418 - val_accuracy: 0.7250 - val_loss: 0.6279\n",
      "Epoch 583/1000\n",
      "\u001b[1m1147/1147\u001b[0m \u001b[32m━━━━━━━━━━━━━━━━━━━━\u001b[0m\u001b[37m\u001b[0m \u001b[1m1s\u001b[0m 736us/step - accuracy: 0.7637 - loss: 0.5388 - val_accuracy: 0.7316 - val_loss: 0.6157\n",
      "Epoch 584/1000\n",
      "\u001b[1m1147/1147\u001b[0m \u001b[32m━━━━━━━━━━━━━━━━━━━━\u001b[0m\u001b[37m\u001b[0m \u001b[1m1s\u001b[0m 745us/step - accuracy: 0.7627 - loss: 0.5467 - val_accuracy: 0.7358 - val_loss: 0.6069\n",
      "Epoch 585/1000\n",
      "\u001b[1m1147/1147\u001b[0m \u001b[32m━━━━━━━━━━━━━━━━━━━━\u001b[0m\u001b[37m\u001b[0m \u001b[1m1s\u001b[0m 759us/step - accuracy: 0.7628 - loss: 0.5465 - val_accuracy: 0.7310 - val_loss: 0.6164\n",
      "Epoch 586/1000\n",
      "\u001b[1m1147/1147\u001b[0m \u001b[32m━━━━━━━━━━━━━━━━━━━━\u001b[0m\u001b[37m\u001b[0m \u001b[1m1s\u001b[0m 1ms/step - accuracy: 0.7631 - loss: 0.5471 - val_accuracy: 0.7255 - val_loss: 0.6254\n",
      "Epoch 587/1000\n",
      "\u001b[1m1147/1147\u001b[0m \u001b[32m━━━━━━━━━━━━━━━━━━━━\u001b[0m\u001b[37m\u001b[0m \u001b[1m1s\u001b[0m 963us/step - accuracy: 0.7625 - loss: 0.5407 - val_accuracy: 0.7291 - val_loss: 0.6142\n",
      "Epoch 588/1000\n",
      "\u001b[1m1147/1147\u001b[0m \u001b[32m━━━━━━━━━━━━━━━━━━━━\u001b[0m\u001b[37m\u001b[0m \u001b[1m1s\u001b[0m 740us/step - accuracy: 0.7631 - loss: 0.5396 - val_accuracy: 0.7214 - val_loss: 0.6273\n",
      "Epoch 589/1000\n",
      "\u001b[1m1147/1147\u001b[0m \u001b[32m━━━━━━━━━━━━━━━━━━━━\u001b[0m\u001b[37m\u001b[0m \u001b[1m1s\u001b[0m 719us/step - accuracy: 0.7639 - loss: 0.5434 - val_accuracy: 0.7270 - val_loss: 0.6214\n",
      "Epoch 590/1000\n",
      "\u001b[1m1147/1147\u001b[0m \u001b[32m━━━━━━━━━━━━━━━━━━━━\u001b[0m\u001b[37m\u001b[0m \u001b[1m1s\u001b[0m 724us/step - accuracy: 0.7645 - loss: 0.5387 - val_accuracy: 0.7104 - val_loss: 0.6512\n",
      "Epoch 591/1000\n",
      "\u001b[1m1147/1147\u001b[0m \u001b[32m━━━━━━━━━━━━━━━━━━━━\u001b[0m\u001b[37m\u001b[0m \u001b[1m1s\u001b[0m 727us/step - accuracy: 0.7626 - loss: 0.5383 - val_accuracy: 0.7248 - val_loss: 0.6270\n",
      "Epoch 592/1000\n",
      "\u001b[1m1147/1147\u001b[0m \u001b[32m━━━━━━━━━━━━━━━━━━━━\u001b[0m\u001b[37m\u001b[0m \u001b[1m1s\u001b[0m 766us/step - accuracy: 0.7632 - loss: 0.5418 - val_accuracy: 0.7036 - val_loss: 0.6580\n",
      "Epoch 593/1000\n",
      "\u001b[1m1147/1147\u001b[0m \u001b[32m━━━━━━━━━━━━━━━━━━━━\u001b[0m\u001b[37m\u001b[0m \u001b[1m1s\u001b[0m 752us/step - accuracy: 0.7654 - loss: 0.5428 - val_accuracy: 0.7311 - val_loss: 0.6123\n",
      "Epoch 594/1000\n",
      "\u001b[1m1147/1147\u001b[0m \u001b[32m━━━━━━━━━━━━━━━━━━━━\u001b[0m\u001b[37m\u001b[0m \u001b[1m1s\u001b[0m 732us/step - accuracy: 0.7620 - loss: 0.5421 - val_accuracy: 0.7281 - val_loss: 0.6212\n",
      "Epoch 595/1000\n",
      "\u001b[1m1147/1147\u001b[0m \u001b[32m━━━━━━━━━━━━━━━━━━━━\u001b[0m\u001b[37m\u001b[0m \u001b[1m1s\u001b[0m 689us/step - accuracy: 0.7596 - loss: 0.5485 - val_accuracy: 0.7329 - val_loss: 0.6108\n",
      "Epoch 596/1000\n",
      "\u001b[1m1147/1147\u001b[0m \u001b[32m━━━━━━━━━━━━━━━━━━━━\u001b[0m\u001b[37m\u001b[0m \u001b[1m1s\u001b[0m 724us/step - accuracy: 0.7651 - loss: 0.5424 - val_accuracy: 0.7286 - val_loss: 0.6175\n",
      "Epoch 597/1000\n",
      "\u001b[1m1147/1147\u001b[0m \u001b[32m━━━━━━━━━━━━━━━━━━━━\u001b[0m\u001b[37m\u001b[0m \u001b[1m1s\u001b[0m 722us/step - accuracy: 0.7640 - loss: 0.5422 - val_accuracy: 0.7242 - val_loss: 0.6235\n",
      "Epoch 598/1000\n",
      "\u001b[1m1147/1147\u001b[0m \u001b[32m━━━━━━━━━━━━━━━━━━━━\u001b[0m\u001b[37m\u001b[0m \u001b[1m1s\u001b[0m 726us/step - accuracy: 0.7644 - loss: 0.5417 - val_accuracy: 0.7325 - val_loss: 0.6114\n",
      "Epoch 599/1000\n",
      "\u001b[1m1147/1147\u001b[0m \u001b[32m━━━━━━━━━━━━━━━━━━━━\u001b[0m\u001b[37m\u001b[0m \u001b[1m1s\u001b[0m 693us/step - accuracy: 0.7645 - loss: 0.5392 - val_accuracy: 0.7183 - val_loss: 0.6350\n",
      "Epoch 600/1000\n",
      "\u001b[1m1147/1147\u001b[0m \u001b[32m━━━━━━━━━━━━━━━━━━━━\u001b[0m\u001b[37m\u001b[0m \u001b[1m1s\u001b[0m 773us/step - accuracy: 0.7638 - loss: 0.5399 - val_accuracy: 0.7366 - val_loss: 0.6077\n",
      "Epoch 601/1000\n",
      "\u001b[1m1147/1147\u001b[0m \u001b[32m━━━━━━━━━━━━━━━━━━━━\u001b[0m\u001b[37m\u001b[0m \u001b[1m1s\u001b[0m 706us/step - accuracy: 0.7655 - loss: 0.5379 - val_accuracy: 0.7010 - val_loss: 0.6671\n",
      "Epoch 602/1000\n",
      "\u001b[1m1147/1147\u001b[0m \u001b[32m━━━━━━━━━━━━━━━━━━━━\u001b[0m\u001b[37m\u001b[0m \u001b[1m1s\u001b[0m 739us/step - accuracy: 0.7666 - loss: 0.5400 - val_accuracy: 0.7188 - val_loss: 0.6317\n",
      "Epoch 603/1000\n",
      "\u001b[1m1147/1147\u001b[0m \u001b[32m━━━━━━━━━━━━━━━━━━━━\u001b[0m\u001b[37m\u001b[0m \u001b[1m1s\u001b[0m 720us/step - accuracy: 0.7635 - loss: 0.5462 - val_accuracy: 0.7202 - val_loss: 0.6311\n",
      "Epoch 604/1000\n",
      "\u001b[1m1147/1147\u001b[0m \u001b[32m━━━━━━━━━━━━━━━━━━━━\u001b[0m\u001b[37m\u001b[0m \u001b[1m1s\u001b[0m 732us/step - accuracy: 0.7656 - loss: 0.5396 - val_accuracy: 0.7219 - val_loss: 0.6285\n",
      "Epoch 605/1000\n",
      "\u001b[1m1147/1147\u001b[0m \u001b[32m━━━━━━━━━━━━━━━━━━━━\u001b[0m\u001b[37m\u001b[0m \u001b[1m1s\u001b[0m 759us/step - accuracy: 0.7657 - loss: 0.5356 - val_accuracy: 0.7160 - val_loss: 0.6417\n",
      "Epoch 606/1000\n",
      "\u001b[1m1147/1147\u001b[0m \u001b[32m━━━━━━━━━━━━━━━━━━━━\u001b[0m\u001b[37m\u001b[0m \u001b[1m1s\u001b[0m 743us/step - accuracy: 0.7617 - loss: 0.5418 - val_accuracy: 0.7306 - val_loss: 0.6173\n",
      "Epoch 607/1000\n",
      "\u001b[1m1147/1147\u001b[0m \u001b[32m━━━━━━━━━━━━━━━━━━━━\u001b[0m\u001b[37m\u001b[0m \u001b[1m1s\u001b[0m 699us/step - accuracy: 0.7617 - loss: 0.5388 - val_accuracy: 0.7310 - val_loss: 0.6165\n",
      "Epoch 608/1000\n",
      "\u001b[1m1147/1147\u001b[0m \u001b[32m━━━━━━━━━━━━━━━━━━━━\u001b[0m\u001b[37m\u001b[0m \u001b[1m1s\u001b[0m 732us/step - accuracy: 0.7596 - loss: 0.5446 - val_accuracy: 0.7219 - val_loss: 0.6263\n",
      "Epoch 609/1000\n",
      "\u001b[1m1147/1147\u001b[0m \u001b[32m━━━━━━━━━━━━━━━━━━━━\u001b[0m\u001b[37m\u001b[0m \u001b[1m1s\u001b[0m 732us/step - accuracy: 0.7630 - loss: 0.5477 - val_accuracy: 0.7273 - val_loss: 0.6187\n",
      "Epoch 610/1000\n",
      "\u001b[1m1147/1147\u001b[0m \u001b[32m━━━━━━━━━━━━━━━━━━━━\u001b[0m\u001b[37m\u001b[0m \u001b[1m1s\u001b[0m 776us/step - accuracy: 0.7645 - loss: 0.5406 - val_accuracy: 0.7219 - val_loss: 0.6363\n",
      "Epoch 611/1000\n",
      "\u001b[1m1147/1147\u001b[0m \u001b[32m━━━━━━━━━━━━━━━━━━━━\u001b[0m\u001b[37m\u001b[0m \u001b[1m1s\u001b[0m 752us/step - accuracy: 0.7638 - loss: 0.5454 - val_accuracy: 0.7238 - val_loss: 0.6287\n",
      "Epoch 612/1000\n",
      "\u001b[1m1147/1147\u001b[0m \u001b[32m━━━━━━━━━━━━━━━━━━━━\u001b[0m\u001b[37m\u001b[0m \u001b[1m1s\u001b[0m 676us/step - accuracy: 0.7658 - loss: 0.5358 - val_accuracy: 0.7275 - val_loss: 0.6196\n",
      "Epoch 613/1000\n",
      "\u001b[1m1147/1147\u001b[0m \u001b[32m━━━━━━━━━━━━━━━━━━━━\u001b[0m\u001b[37m\u001b[0m \u001b[1m1s\u001b[0m 723us/step - accuracy: 0.7621 - loss: 0.5444 - val_accuracy: 0.7270 - val_loss: 0.6258\n",
      "Epoch 614/1000\n",
      "\u001b[1m1147/1147\u001b[0m \u001b[32m━━━━━━━━━━━━━━━━━━━━\u001b[0m\u001b[37m\u001b[0m \u001b[1m1s\u001b[0m 734us/step - accuracy: 0.7651 - loss: 0.5405 - val_accuracy: 0.7351 - val_loss: 0.6129\n",
      "Epoch 615/1000\n",
      "\u001b[1m1147/1147\u001b[0m \u001b[32m━━━━━━━━━━━━━━━━━━━━\u001b[0m\u001b[37m\u001b[0m \u001b[1m1s\u001b[0m 720us/step - accuracy: 0.7632 - loss: 0.5393 - val_accuracy: 0.7233 - val_loss: 0.6327\n",
      "Epoch 616/1000\n",
      "\u001b[1m1147/1147\u001b[0m \u001b[32m━━━━━━━━━━━━━━━━━━━━\u001b[0m\u001b[37m\u001b[0m \u001b[1m1s\u001b[0m 679us/step - accuracy: 0.7647 - loss: 0.5341 - val_accuracy: 0.7186 - val_loss: 0.6318\n",
      "Epoch 617/1000\n",
      "\u001b[1m1147/1147\u001b[0m \u001b[32m━━━━━━━━━━━━━━━━━━━━\u001b[0m\u001b[37m\u001b[0m \u001b[1m1s\u001b[0m 745us/step - accuracy: 0.7628 - loss: 0.5449 - val_accuracy: 0.7317 - val_loss: 0.6142\n",
      "Epoch 618/1000\n",
      "\u001b[1m1147/1147\u001b[0m \u001b[32m━━━━━━━━━━━━━━━━━━━━\u001b[0m\u001b[37m\u001b[0m \u001b[1m1s\u001b[0m 810us/step - accuracy: 0.7653 - loss: 0.5410 - val_accuracy: 0.7145 - val_loss: 0.6423\n",
      "Epoch 619/1000\n",
      "\u001b[1m1147/1147\u001b[0m \u001b[32m━━━━━━━━━━━━━━━━━━━━\u001b[0m\u001b[37m\u001b[0m \u001b[1m1s\u001b[0m 724us/step - accuracy: 0.7628 - loss: 0.5395 - val_accuracy: 0.7310 - val_loss: 0.6240\n",
      "Epoch 620/1000\n",
      "\u001b[1m1147/1147\u001b[0m \u001b[32m━━━━━━━━━━━━━━━━━━━━\u001b[0m\u001b[37m\u001b[0m \u001b[1m1s\u001b[0m 744us/step - accuracy: 0.7681 - loss: 0.5354 - val_accuracy: 0.7357 - val_loss: 0.6042\n",
      "Epoch 621/1000\n",
      "\u001b[1m1147/1147\u001b[0m \u001b[32m━━━━━━━━━━━━━━━━━━━━\u001b[0m\u001b[37m\u001b[0m \u001b[1m1s\u001b[0m 732us/step - accuracy: 0.7607 - loss: 0.5473 - val_accuracy: 0.7252 - val_loss: 0.6298\n",
      "Epoch 622/1000\n",
      "\u001b[1m1147/1147\u001b[0m \u001b[32m━━━━━━━━━━━━━━━━━━━━\u001b[0m\u001b[37m\u001b[0m \u001b[1m1s\u001b[0m 747us/step - accuracy: 0.7643 - loss: 0.5393 - val_accuracy: 0.7266 - val_loss: 0.6305\n",
      "Epoch 623/1000\n",
      "\u001b[1m1147/1147\u001b[0m \u001b[32m━━━━━━━━━━━━━━━━━━━━\u001b[0m\u001b[37m\u001b[0m \u001b[1m1s\u001b[0m 721us/step - accuracy: 0.7619 - loss: 0.5406 - val_accuracy: 0.7299 - val_loss: 0.6244\n",
      "Epoch 624/1000\n",
      "\u001b[1m1147/1147\u001b[0m \u001b[32m━━━━━━━━━━━━━━━━━━━━\u001b[0m\u001b[37m\u001b[0m \u001b[1m1s\u001b[0m 684us/step - accuracy: 0.7617 - loss: 0.5382 - val_accuracy: 0.7186 - val_loss: 0.6367\n",
      "Epoch 625/1000\n",
      "\u001b[1m1147/1147\u001b[0m \u001b[32m━━━━━━━━━━━━━━━━━━━━\u001b[0m\u001b[37m\u001b[0m \u001b[1m1s\u001b[0m 715us/step - accuracy: 0.7724 - loss: 0.5351 - val_accuracy: 0.7192 - val_loss: 0.6418\n",
      "Epoch 626/1000\n",
      "\u001b[1m1147/1147\u001b[0m \u001b[32m━━━━━━━━━━━━━━━━━━━━\u001b[0m\u001b[37m\u001b[0m \u001b[1m1s\u001b[0m 706us/step - accuracy: 0.7592 - loss: 0.5483 - val_accuracy: 0.7273 - val_loss: 0.6298\n",
      "Epoch 627/1000\n",
      "\u001b[1m1147/1147\u001b[0m \u001b[32m━━━━━━━━━━━━━━━━━━━━\u001b[0m\u001b[37m\u001b[0m \u001b[1m1s\u001b[0m 717us/step - accuracy: 0.7614 - loss: 0.5389 - val_accuracy: 0.7363 - val_loss: 0.6107\n",
      "Epoch 628/1000\n",
      "\u001b[1m1147/1147\u001b[0m \u001b[32m━━━━━━━━━━━━━━━━━━━━\u001b[0m\u001b[37m\u001b[0m \u001b[1m1s\u001b[0m 710us/step - accuracy: 0.7588 - loss: 0.5537 - val_accuracy: 0.7282 - val_loss: 0.6250\n",
      "Epoch 629/1000\n",
      "\u001b[1m1147/1147\u001b[0m \u001b[32m━━━━━━━━━━━━━━━━━━━━\u001b[0m\u001b[37m\u001b[0m \u001b[1m1s\u001b[0m 713us/step - accuracy: 0.7661 - loss: 0.5384 - val_accuracy: 0.7311 - val_loss: 0.6197\n",
      "Epoch 630/1000\n",
      "\u001b[1m1147/1147\u001b[0m \u001b[32m━━━━━━━━━━━━━━━━━━━━\u001b[0m\u001b[37m\u001b[0m \u001b[1m1s\u001b[0m 747us/step - accuracy: 0.7647 - loss: 0.5397 - val_accuracy: 0.7276 - val_loss: 0.6215\n",
      "Epoch 631/1000\n",
      "\u001b[1m1147/1147\u001b[0m \u001b[32m━━━━━━━━━━━━━━━━━━━━\u001b[0m\u001b[37m\u001b[0m \u001b[1m1s\u001b[0m 733us/step - accuracy: 0.7616 - loss: 0.5410 - val_accuracy: 0.7220 - val_loss: 0.6288\n",
      "Epoch 632/1000\n",
      "\u001b[1m1147/1147\u001b[0m \u001b[32m━━━━━━━━━━━━━━━━━━━━\u001b[0m\u001b[37m\u001b[0m \u001b[1m1s\u001b[0m 732us/step - accuracy: 0.7650 - loss: 0.5363 - val_accuracy: 0.7179 - val_loss: 0.6446\n",
      "Epoch 633/1000\n",
      "\u001b[1m1147/1147\u001b[0m \u001b[32m━━━━━━━━━━━━━━━━━━━━\u001b[0m\u001b[37m\u001b[0m \u001b[1m1s\u001b[0m 769us/step - accuracy: 0.7612 - loss: 0.5403 - val_accuracy: 0.7233 - val_loss: 0.6337\n",
      "Epoch 634/1000\n",
      "\u001b[1m1147/1147\u001b[0m \u001b[32m━━━━━━━━━━━━━━━━━━━━\u001b[0m\u001b[37m\u001b[0m \u001b[1m1s\u001b[0m 784us/step - accuracy: 0.7680 - loss: 0.5371 - val_accuracy: 0.7302 - val_loss: 0.6235\n",
      "Epoch 635/1000\n",
      "\u001b[1m1147/1147\u001b[0m \u001b[32m━━━━━━━━━━━━━━━━━━━━\u001b[0m\u001b[37m\u001b[0m \u001b[1m1s\u001b[0m 729us/step - accuracy: 0.7620 - loss: 0.5420 - val_accuracy: 0.7316 - val_loss: 0.6174\n",
      "Epoch 636/1000\n",
      "\u001b[1m1147/1147\u001b[0m \u001b[32m━━━━━━━━━━━━━━━━━━━━\u001b[0m\u001b[37m\u001b[0m \u001b[1m1s\u001b[0m 728us/step - accuracy: 0.7693 - loss: 0.5364 - val_accuracy: 0.7240 - val_loss: 0.6308\n",
      "Epoch 637/1000\n",
      "\u001b[1m1147/1147\u001b[0m \u001b[32m━━━━━━━━━━━━━━━━━━━━\u001b[0m\u001b[37m\u001b[0m \u001b[1m1s\u001b[0m 705us/step - accuracy: 0.7647 - loss: 0.5337 - val_accuracy: 0.7313 - val_loss: 0.6147\n",
      "Epoch 638/1000\n",
      "\u001b[1m1147/1147\u001b[0m \u001b[32m━━━━━━━━━━━━━━━━━━━━\u001b[0m\u001b[37m\u001b[0m \u001b[1m1s\u001b[0m 811us/step - accuracy: 0.7615 - loss: 0.5466 - val_accuracy: 0.7361 - val_loss: 0.6091\n",
      "Epoch 639/1000\n",
      "\u001b[1m1147/1147\u001b[0m \u001b[32m━━━━━━━━━━━━━━━━━━━━\u001b[0m\u001b[37m\u001b[0m \u001b[1m1s\u001b[0m 696us/step - accuracy: 0.7665 - loss: 0.5360 - val_accuracy: 0.7324 - val_loss: 0.6180\n",
      "Epoch 640/1000\n",
      "\u001b[1m1147/1147\u001b[0m \u001b[32m━━━━━━━━━━━━━━━━━━━━\u001b[0m\u001b[37m\u001b[0m \u001b[1m1s\u001b[0m 736us/step - accuracy: 0.7641 - loss: 0.5425 - val_accuracy: 0.7269 - val_loss: 0.6258\n",
      "Epoch 641/1000\n",
      "\u001b[1m1147/1147\u001b[0m \u001b[32m━━━━━━━━━━━━━━━━━━━━\u001b[0m\u001b[37m\u001b[0m \u001b[1m1s\u001b[0m 736us/step - accuracy: 0.7651 - loss: 0.5411 - val_accuracy: 0.7055 - val_loss: 0.6605\n",
      "Epoch 642/1000\n",
      "\u001b[1m1147/1147\u001b[0m \u001b[32m━━━━━━━━━━━━━━━━━━━━\u001b[0m\u001b[37m\u001b[0m \u001b[1m1s\u001b[0m 712us/step - accuracy: 0.7623 - loss: 0.5400 - val_accuracy: 0.7218 - val_loss: 0.6309\n",
      "Epoch 643/1000\n",
      "\u001b[1m1147/1147\u001b[0m \u001b[32m━━━━━━━━━━━━━━━━━━━━\u001b[0m\u001b[37m\u001b[0m \u001b[1m1s\u001b[0m 771us/step - accuracy: 0.7693 - loss: 0.5348 - val_accuracy: 0.7240 - val_loss: 0.6275\n",
      "Epoch 644/1000\n",
      "\u001b[1m1147/1147\u001b[0m \u001b[32m━━━━━━━━━━━━━━━━━━━━\u001b[0m\u001b[37m\u001b[0m \u001b[1m1s\u001b[0m 762us/step - accuracy: 0.7660 - loss: 0.5392 - val_accuracy: 0.7292 - val_loss: 0.6214\n",
      "Epoch 645/1000\n",
      "\u001b[1m1147/1147\u001b[0m \u001b[32m━━━━━━━━━━━━━━━━━━━━\u001b[0m\u001b[37m\u001b[0m \u001b[1m1s\u001b[0m 696us/step - accuracy: 0.7690 - loss: 0.5313 - val_accuracy: 0.7145 - val_loss: 0.6441\n",
      "Epoch 646/1000\n",
      "\u001b[1m1147/1147\u001b[0m \u001b[32m━━━━━━━━━━━━━━━━━━━━\u001b[0m\u001b[37m\u001b[0m \u001b[1m1s\u001b[0m 722us/step - accuracy: 0.7640 - loss: 0.5393 - val_accuracy: 0.7180 - val_loss: 0.6334\n",
      "Epoch 647/1000\n",
      "\u001b[1m1147/1147\u001b[0m \u001b[32m━━━━━━━━━━━━━━━━━━━━\u001b[0m\u001b[37m\u001b[0m \u001b[1m1s\u001b[0m 740us/step - accuracy: 0.7635 - loss: 0.5411 - val_accuracy: 0.7165 - val_loss: 0.6356\n",
      "Epoch 648/1000\n",
      "\u001b[1m1147/1147\u001b[0m \u001b[32m━━━━━━━━━━━━━━━━━━━━\u001b[0m\u001b[37m\u001b[0m \u001b[1m1s\u001b[0m 735us/step - accuracy: 0.7616 - loss: 0.5418 - val_accuracy: 0.7278 - val_loss: 0.6293\n",
      "Epoch 649/1000\n",
      "\u001b[1m1147/1147\u001b[0m \u001b[32m━━━━━━━━━━━━━━━━━━━━\u001b[0m\u001b[37m\u001b[0m \u001b[1m1s\u001b[0m 766us/step - accuracy: 0.7673 - loss: 0.5363 - val_accuracy: 0.7145 - val_loss: 0.6411\n",
      "Epoch 650/1000\n",
      "\u001b[1m1147/1147\u001b[0m \u001b[32m━━━━━━━━━━━━━━━━━━━━\u001b[0m\u001b[37m\u001b[0m \u001b[1m1s\u001b[0m 841us/step - accuracy: 0.7713 - loss: 0.5339 - val_accuracy: 0.7148 - val_loss: 0.6445\n",
      "Epoch 651/1000\n",
      "\u001b[1m1147/1147\u001b[0m \u001b[32m━━━━━━━━━━━━━━━━━━━━\u001b[0m\u001b[37m\u001b[0m \u001b[1m1s\u001b[0m 744us/step - accuracy: 0.7637 - loss: 0.5418 - val_accuracy: 0.7334 - val_loss: 0.6135\n",
      "Epoch 652/1000\n",
      "\u001b[1m1147/1147\u001b[0m \u001b[32m━━━━━━━━━━━━━━━━━━━━\u001b[0m\u001b[37m\u001b[0m \u001b[1m1s\u001b[0m 734us/step - accuracy: 0.7713 - loss: 0.5324 - val_accuracy: 0.7325 - val_loss: 0.6162\n",
      "Epoch 653/1000\n",
      "\u001b[1m1147/1147\u001b[0m \u001b[32m━━━━━━━━━━━━━━━━━━━━\u001b[0m\u001b[37m\u001b[0m \u001b[1m1s\u001b[0m 740us/step - accuracy: 0.7644 - loss: 0.5383 - val_accuracy: 0.7137 - val_loss: 0.6438\n",
      "Epoch 654/1000\n",
      "\u001b[1m1147/1147\u001b[0m \u001b[32m━━━━━━━━━━━━━━━━━━━━\u001b[0m\u001b[37m\u001b[0m \u001b[1m1s\u001b[0m 738us/step - accuracy: 0.7631 - loss: 0.5396 - val_accuracy: 0.7244 - val_loss: 0.6256\n",
      "Epoch 655/1000\n",
      "\u001b[1m1147/1147\u001b[0m \u001b[32m━━━━━━━━━━━━━━━━━━━━\u001b[0m\u001b[37m\u001b[0m \u001b[1m1s\u001b[0m 717us/step - accuracy: 0.7633 - loss: 0.5436 - val_accuracy: 0.7280 - val_loss: 0.6214\n",
      "Epoch 656/1000\n",
      "\u001b[1m1147/1147\u001b[0m \u001b[32m━━━━━━━━━━━━━━━━━━━━\u001b[0m\u001b[37m\u001b[0m \u001b[1m1s\u001b[0m 773us/step - accuracy: 0.7667 - loss: 0.5383 - val_accuracy: 0.7158 - val_loss: 0.6394\n",
      "Epoch 657/1000\n",
      "\u001b[1m1147/1147\u001b[0m \u001b[32m━━━━━━━━━━━━━━━━━━━━\u001b[0m\u001b[37m\u001b[0m \u001b[1m1s\u001b[0m 777us/step - accuracy: 0.7642 - loss: 0.5380 - val_accuracy: 0.7219 - val_loss: 0.6346\n",
      "Epoch 658/1000\n",
      "\u001b[1m1147/1147\u001b[0m \u001b[32m━━━━━━━━━━━━━━━━━━━━\u001b[0m\u001b[37m\u001b[0m \u001b[1m1s\u001b[0m 735us/step - accuracy: 0.7598 - loss: 0.5493 - val_accuracy: 0.7177 - val_loss: 0.6367\n",
      "Epoch 659/1000\n",
      "\u001b[1m1147/1147\u001b[0m \u001b[32m━━━━━━━━━━━━━━━━━━━━\u001b[0m\u001b[37m\u001b[0m \u001b[1m1s\u001b[0m 725us/step - accuracy: 0.7659 - loss: 0.5374 - val_accuracy: 0.7212 - val_loss: 0.6327\n",
      "Epoch 660/1000\n",
      "\u001b[1m1147/1147\u001b[0m \u001b[32m━━━━━━━━━━━━━━━━━━━━\u001b[0m\u001b[37m\u001b[0m \u001b[1m1s\u001b[0m 730us/step - accuracy: 0.7663 - loss: 0.5369 - val_accuracy: 0.7273 - val_loss: 0.6291\n",
      "Epoch 661/1000\n",
      "\u001b[1m1147/1147\u001b[0m \u001b[32m━━━━━━━━━━━━━━━━━━━━\u001b[0m\u001b[37m\u001b[0m \u001b[1m1s\u001b[0m 691us/step - accuracy: 0.7690 - loss: 0.5387 - val_accuracy: 0.7255 - val_loss: 0.6313\n",
      "Epoch 662/1000\n",
      "\u001b[1m1147/1147\u001b[0m \u001b[32m━━━━━━━━━━━━━━━━━━━━\u001b[0m\u001b[37m\u001b[0m \u001b[1m1s\u001b[0m 726us/step - accuracy: 0.7619 - loss: 0.5441 - val_accuracy: 0.7158 - val_loss: 0.6513\n",
      "Epoch 663/1000\n",
      "\u001b[1m1147/1147\u001b[0m \u001b[32m━━━━━━━━━━━━━━━━━━━━\u001b[0m\u001b[37m\u001b[0m \u001b[1m1s\u001b[0m 733us/step - accuracy: 0.7650 - loss: 0.5401 - val_accuracy: 0.7152 - val_loss: 0.6455\n",
      "Epoch 664/1000\n",
      "\u001b[1m1147/1147\u001b[0m \u001b[32m━━━━━━━━━━━━━━━━━━━━\u001b[0m\u001b[37m\u001b[0m \u001b[1m1s\u001b[0m 761us/step - accuracy: 0.7647 - loss: 0.5402 - val_accuracy: 0.7204 - val_loss: 0.6303\n",
      "Epoch 665/1000\n",
      "\u001b[1m1147/1147\u001b[0m \u001b[32m━━━━━━━━━━━━━━━━━━━━\u001b[0m\u001b[37m\u001b[0m \u001b[1m1s\u001b[0m 731us/step - accuracy: 0.7632 - loss: 0.5435 - val_accuracy: 0.7189 - val_loss: 0.6397\n",
      "Epoch 666/1000\n",
      "\u001b[1m1147/1147\u001b[0m \u001b[32m━━━━━━━━━━━━━━━━━━━━\u001b[0m\u001b[37m\u001b[0m \u001b[1m1s\u001b[0m 733us/step - accuracy: 0.7653 - loss: 0.5399 - val_accuracy: 0.7224 - val_loss: 0.6365\n",
      "Epoch 667/1000\n",
      "\u001b[1m1147/1147\u001b[0m \u001b[32m━━━━━━━━━━━━━━━━━━━━\u001b[0m\u001b[37m\u001b[0m \u001b[1m1s\u001b[0m 696us/step - accuracy: 0.7691 - loss: 0.5376 - val_accuracy: 0.7334 - val_loss: 0.6110\n",
      "Epoch 668/1000\n",
      "\u001b[1m1147/1147\u001b[0m \u001b[32m━━━━━━━━━━━━━━━━━━━━\u001b[0m\u001b[37m\u001b[0m \u001b[1m1s\u001b[0m 730us/step - accuracy: 0.7599 - loss: 0.5416 - val_accuracy: 0.7300 - val_loss: 0.6209\n",
      "Epoch 669/1000\n",
      "\u001b[1m1147/1147\u001b[0m \u001b[32m━━━━━━━━━━━━━━━━━━━━\u001b[0m\u001b[37m\u001b[0m \u001b[1m1s\u001b[0m 735us/step - accuracy: 0.7631 - loss: 0.5406 - val_accuracy: 0.7194 - val_loss: 0.6369\n",
      "Epoch 670/1000\n",
      "\u001b[1m1147/1147\u001b[0m \u001b[32m━━━━━━━━━━━━━━━━━━━━\u001b[0m\u001b[37m\u001b[0m \u001b[1m1s\u001b[0m 736us/step - accuracy: 0.7643 - loss: 0.5384 - val_accuracy: 0.7255 - val_loss: 0.6273\n",
      "Epoch 671/1000\n",
      "\u001b[1m1147/1147\u001b[0m \u001b[32m━━━━━━━━━━━━━━━━━━━━\u001b[0m\u001b[37m\u001b[0m \u001b[1m1s\u001b[0m 724us/step - accuracy: 0.7666 - loss: 0.5360 - val_accuracy: 0.7179 - val_loss: 0.6387\n",
      "Epoch 672/1000\n",
      "\u001b[1m1147/1147\u001b[0m \u001b[32m━━━━━━━━━━━━━━━━━━━━\u001b[0m\u001b[37m\u001b[0m \u001b[1m1s\u001b[0m 738us/step - accuracy: 0.7650 - loss: 0.5359 - val_accuracy: 0.7212 - val_loss: 0.6382\n",
      "Epoch 673/1000\n",
      "\u001b[1m1147/1147\u001b[0m \u001b[32m━━━━━━━━━━━━━━━━━━━━\u001b[0m\u001b[37m\u001b[0m \u001b[1m1s\u001b[0m 736us/step - accuracy: 0.7685 - loss: 0.5323 - val_accuracy: 0.7225 - val_loss: 0.6298\n",
      "Epoch 674/1000\n",
      "\u001b[1m1147/1147\u001b[0m \u001b[32m━━━━━━━━━━━━━━━━━━━━\u001b[0m\u001b[37m\u001b[0m \u001b[1m1s\u001b[0m 695us/step - accuracy: 0.7658 - loss: 0.5384 - val_accuracy: 0.7219 - val_loss: 0.6285\n",
      "Epoch 675/1000\n",
      "\u001b[1m1147/1147\u001b[0m \u001b[32m━━━━━━━━━━━━━━━━━━━━\u001b[0m\u001b[37m\u001b[0m \u001b[1m1s\u001b[0m 736us/step - accuracy: 0.7646 - loss: 0.5408 - val_accuracy: 0.7112 - val_loss: 0.6465\n",
      "Epoch 676/1000\n",
      "\u001b[1m1147/1147\u001b[0m \u001b[32m━━━━━━━━━━━━━━━━━━━━\u001b[0m\u001b[37m\u001b[0m \u001b[1m1s\u001b[0m 726us/step - accuracy: 0.7648 - loss: 0.5378 - val_accuracy: 0.7232 - val_loss: 0.6232\n",
      "Epoch 677/1000\n",
      "\u001b[1m1147/1147\u001b[0m \u001b[32m━━━━━━━━━━━━━━━━━━━━\u001b[0m\u001b[37m\u001b[0m \u001b[1m1s\u001b[0m 728us/step - accuracy: 0.7642 - loss: 0.5407 - val_accuracy: 0.7107 - val_loss: 0.6454\n",
      "Epoch 678/1000\n",
      "\u001b[1m1147/1147\u001b[0m \u001b[32m━━━━━━━━━━━━━━━━━━━━\u001b[0m\u001b[37m\u001b[0m \u001b[1m1s\u001b[0m 732us/step - accuracy: 0.7639 - loss: 0.5350 - val_accuracy: 0.7136 - val_loss: 0.6392\n",
      "Epoch 679/1000\n",
      "\u001b[1m1147/1147\u001b[0m \u001b[32m━━━━━━━━━━━━━━━━━━━━\u001b[0m\u001b[37m\u001b[0m \u001b[1m1s\u001b[0m 734us/step - accuracy: 0.7690 - loss: 0.5349 - val_accuracy: 0.7189 - val_loss: 0.6322\n",
      "Epoch 680/1000\n",
      "\u001b[1m1147/1147\u001b[0m \u001b[32m━━━━━━━━━━━━━━━━━━━━\u001b[0m\u001b[37m\u001b[0m \u001b[1m1s\u001b[0m 710us/step - accuracy: 0.7659 - loss: 0.5362 - val_accuracy: 0.7218 - val_loss: 0.6352\n",
      "Epoch 681/1000\n",
      "\u001b[1m1147/1147\u001b[0m \u001b[32m━━━━━━━━━━━━━━━━━━━━\u001b[0m\u001b[37m\u001b[0m \u001b[1m1s\u001b[0m 728us/step - accuracy: 0.7650 - loss: 0.5357 - val_accuracy: 0.7254 - val_loss: 0.6283\n",
      "Epoch 682/1000\n",
      "\u001b[1m1147/1147\u001b[0m \u001b[32m━━━━━━━━━━━━━━━━━━━━\u001b[0m\u001b[37m\u001b[0m \u001b[1m1s\u001b[0m 736us/step - accuracy: 0.7603 - loss: 0.5431 - val_accuracy: 0.7284 - val_loss: 0.6290\n",
      "Epoch 683/1000\n",
      "\u001b[1m1147/1147\u001b[0m \u001b[32m━━━━━━━━━━━━━━━━━━━━\u001b[0m\u001b[37m\u001b[0m \u001b[1m1s\u001b[0m 728us/step - accuracy: 0.7661 - loss: 0.5342 - val_accuracy: 0.7291 - val_loss: 0.6205\n",
      "Epoch 684/1000\n",
      "\u001b[1m1147/1147\u001b[0m \u001b[32m━━━━━━━━━━━━━━━━━━━━\u001b[0m\u001b[37m\u001b[0m \u001b[1m1s\u001b[0m 727us/step - accuracy: 0.7696 - loss: 0.5340 - val_accuracy: 0.7115 - val_loss: 0.6512\n",
      "Epoch 685/1000\n",
      "\u001b[1m1147/1147\u001b[0m \u001b[32m━━━━━━━━━━━━━━━━━━━━\u001b[0m\u001b[37m\u001b[0m \u001b[1m1s\u001b[0m 733us/step - accuracy: 0.7607 - loss: 0.5410 - val_accuracy: 0.7278 - val_loss: 0.6210\n",
      "Epoch 686/1000\n",
      "\u001b[1m1147/1147\u001b[0m \u001b[32m━━━━━━━━━━━━━━━━━━━━\u001b[0m\u001b[37m\u001b[0m \u001b[1m1s\u001b[0m 731us/step - accuracy: 0.7653 - loss: 0.5368 - val_accuracy: 0.7218 - val_loss: 0.6372\n",
      "Epoch 687/1000\n",
      "\u001b[1m1147/1147\u001b[0m \u001b[32m━━━━━━━━━━━━━━━━━━━━\u001b[0m\u001b[37m\u001b[0m \u001b[1m1s\u001b[0m 698us/step - accuracy: 0.7692 - loss: 0.5326 - val_accuracy: 0.7206 - val_loss: 0.6389\n",
      "Epoch 688/1000\n",
      "\u001b[1m1147/1147\u001b[0m \u001b[32m━━━━━━━━━━━━━━━━━━━━\u001b[0m\u001b[37m\u001b[0m \u001b[1m1s\u001b[0m 735us/step - accuracy: 0.7683 - loss: 0.5336 - val_accuracy: 0.7242 - val_loss: 0.6292\n",
      "Epoch 689/1000\n",
      "\u001b[1m1147/1147\u001b[0m \u001b[32m━━━━━━━━━━━━━━━━━━━━\u001b[0m\u001b[37m\u001b[0m \u001b[1m1s\u001b[0m 727us/step - accuracy: 0.7656 - loss: 0.5408 - val_accuracy: 0.7162 - val_loss: 0.6402\n",
      "Epoch 690/1000\n",
      "\u001b[1m1147/1147\u001b[0m \u001b[32m━━━━━━━━━━━━━━━━━━━━\u001b[0m\u001b[37m\u001b[0m \u001b[1m1s\u001b[0m 736us/step - accuracy: 0.7632 - loss: 0.5371 - val_accuracy: 0.7086 - val_loss: 0.6665\n",
      "Epoch 691/1000\n",
      "\u001b[1m1147/1147\u001b[0m \u001b[32m━━━━━━━━━━━━━━━━━━━━\u001b[0m\u001b[37m\u001b[0m \u001b[1m1s\u001b[0m 735us/step - accuracy: 0.7669 - loss: 0.5399 - val_accuracy: 0.7147 - val_loss: 0.6448\n",
      "Epoch 692/1000\n",
      "\u001b[1m1147/1147\u001b[0m \u001b[32m━━━━━━━━━━━━━━━━━━━━\u001b[0m\u001b[37m\u001b[0m \u001b[1m1s\u001b[0m 737us/step - accuracy: 0.7686 - loss: 0.5303 - val_accuracy: 0.7131 - val_loss: 0.6495\n",
      "Epoch 693/1000\n",
      "\u001b[1m1147/1147\u001b[0m \u001b[32m━━━━━━━━━━━━━━━━━━━━\u001b[0m\u001b[37m\u001b[0m \u001b[1m1s\u001b[0m 734us/step - accuracy: 0.7651 - loss: 0.5396 - val_accuracy: 0.7098 - val_loss: 0.6483\n",
      "Epoch 694/1000\n",
      "\u001b[1m1147/1147\u001b[0m \u001b[32m━━━━━━━━━━━━━━━━━━━━\u001b[0m\u001b[37m\u001b[0m \u001b[1m1s\u001b[0m 730us/step - accuracy: 0.7643 - loss: 0.5386 - val_accuracy: 0.7198 - val_loss: 0.6342\n",
      "Epoch 695/1000\n",
      "\u001b[1m1147/1147\u001b[0m \u001b[32m━━━━━━━━━━━━━━━━━━━━\u001b[0m\u001b[37m\u001b[0m \u001b[1m1s\u001b[0m 737us/step - accuracy: 0.7653 - loss: 0.5381 - val_accuracy: 0.7119 - val_loss: 0.6456\n",
      "Epoch 696/1000\n",
      "\u001b[1m1147/1147\u001b[0m \u001b[32m━━━━━━━━━━━━━━━━━━━━\u001b[0m\u001b[37m\u001b[0m \u001b[1m1s\u001b[0m 741us/step - accuracy: 0.7688 - loss: 0.5345 - val_accuracy: 0.7188 - val_loss: 0.6342\n",
      "Epoch 697/1000\n",
      "\u001b[1m1147/1147\u001b[0m \u001b[32m━━━━━━━━━━━━━━━━━━━━\u001b[0m\u001b[37m\u001b[0m \u001b[1m1s\u001b[0m 833us/step - accuracy: 0.7626 - loss: 0.5421 - val_accuracy: 0.7123 - val_loss: 0.6431\n",
      "Epoch 698/1000\n",
      "\u001b[1m1147/1147\u001b[0m \u001b[32m━━━━━━━━━━━━━━━━━━━━\u001b[0m\u001b[37m\u001b[0m \u001b[1m1s\u001b[0m 759us/step - accuracy: 0.7674 - loss: 0.5353 - val_accuracy: 0.7196 - val_loss: 0.6280\n",
      "Epoch 699/1000\n",
      "\u001b[1m1147/1147\u001b[0m \u001b[32m━━━━━━━━━━━━━━━━━━━━\u001b[0m\u001b[37m\u001b[0m \u001b[1m1s\u001b[0m 711us/step - accuracy: 0.7674 - loss: 0.5355 - val_accuracy: 0.7226 - val_loss: 0.6337\n",
      "Epoch 700/1000\n",
      "\u001b[1m1147/1147\u001b[0m \u001b[32m━━━━━━━━━━━━━━━━━━━━\u001b[0m\u001b[37m\u001b[0m \u001b[1m1s\u001b[0m 751us/step - accuracy: 0.7657 - loss: 0.5432 - val_accuracy: 0.7165 - val_loss: 0.6397\n",
      "Epoch 701/1000\n",
      "\u001b[1m1147/1147\u001b[0m \u001b[32m━━━━━━━━━━━━━━━━━━━━\u001b[0m\u001b[37m\u001b[0m \u001b[1m1s\u001b[0m 745us/step - accuracy: 0.7648 - loss: 0.5377 - val_accuracy: 0.7293 - val_loss: 0.6194\n",
      "Epoch 702/1000\n",
      "\u001b[1m1147/1147\u001b[0m \u001b[32m━━━━━━━━━━━━━━━━━━━━\u001b[0m\u001b[37m\u001b[0m \u001b[1m1s\u001b[0m 733us/step - accuracy: 0.7662 - loss: 0.5406 - val_accuracy: 0.7274 - val_loss: 0.6212\n",
      "Epoch 703/1000\n",
      "\u001b[1m1147/1147\u001b[0m \u001b[32m━━━━━━━━━━━━━━━━━━━━\u001b[0m\u001b[37m\u001b[0m \u001b[1m1s\u001b[0m 750us/step - accuracy: 0.7676 - loss: 0.5367 - val_accuracy: 0.7296 - val_loss: 0.6203\n",
      "Epoch 704/1000\n",
      "\u001b[1m1147/1147\u001b[0m \u001b[32m━━━━━━━━━━━━━━━━━━━━\u001b[0m\u001b[37m\u001b[0m \u001b[1m1s\u001b[0m 740us/step - accuracy: 0.7625 - loss: 0.5430 - val_accuracy: 0.7232 - val_loss: 0.6325\n",
      "Epoch 705/1000\n",
      "\u001b[1m1147/1147\u001b[0m \u001b[32m━━━━━━━━━━━━━━━━━━━━\u001b[0m\u001b[37m\u001b[0m \u001b[1m1s\u001b[0m 743us/step - accuracy: 0.7643 - loss: 0.5410 - val_accuracy: 0.7100 - val_loss: 0.6504\n",
      "Epoch 706/1000\n",
      "\u001b[1m1147/1147\u001b[0m \u001b[32m━━━━━━━━━━━━━━━━━━━━\u001b[0m\u001b[37m\u001b[0m \u001b[1m1s\u001b[0m 746us/step - accuracy: 0.7680 - loss: 0.5345 - val_accuracy: 0.7256 - val_loss: 0.6295\n",
      "Epoch 707/1000\n",
      "\u001b[1m1147/1147\u001b[0m \u001b[32m━━━━━━━━━━━━━━━━━━━━\u001b[0m\u001b[37m\u001b[0m \u001b[1m1s\u001b[0m 742us/step - accuracy: 0.7704 - loss: 0.5336 - val_accuracy: 0.7185 - val_loss: 0.6366\n",
      "Epoch 708/1000\n",
      "\u001b[1m1147/1147\u001b[0m \u001b[32m━━━━━━━━━━━━━━━━━━━━\u001b[0m\u001b[37m\u001b[0m \u001b[1m1s\u001b[0m 732us/step - accuracy: 0.7639 - loss: 0.5413 - val_accuracy: 0.7222 - val_loss: 0.6287\n",
      "Epoch 709/1000\n",
      "\u001b[1m1147/1147\u001b[0m \u001b[32m━━━━━━━━━━━━━━━━━━━━\u001b[0m\u001b[37m\u001b[0m \u001b[1m1s\u001b[0m 700us/step - accuracy: 0.7655 - loss: 0.5405 - val_accuracy: 0.7119 - val_loss: 0.6413\n",
      "Epoch 710/1000\n",
      "\u001b[1m1147/1147\u001b[0m \u001b[32m━━━━━━━━━━━━━━━━━━━━\u001b[0m\u001b[37m\u001b[0m \u001b[1m1s\u001b[0m 744us/step - accuracy: 0.7650 - loss: 0.5416 - val_accuracy: 0.7203 - val_loss: 0.6295\n",
      "Epoch 711/1000\n",
      "\u001b[1m1147/1147\u001b[0m \u001b[32m━━━━━━━━━━━━━━━━━━━━\u001b[0m\u001b[37m\u001b[0m \u001b[1m1s\u001b[0m 743us/step - accuracy: 0.7663 - loss: 0.5389 - val_accuracy: 0.7185 - val_loss: 0.6305\n",
      "Epoch 712/1000\n",
      "\u001b[1m1147/1147\u001b[0m \u001b[32m━━━━━━━━━━━━━━━━━━━━\u001b[0m\u001b[37m\u001b[0m \u001b[1m1s\u001b[0m 742us/step - accuracy: 0.7631 - loss: 0.5371 - val_accuracy: 0.7109 - val_loss: 0.6480\n",
      "Epoch 713/1000\n",
      "\u001b[1m1147/1147\u001b[0m \u001b[32m━━━━━━━━━━━━━━━━━━━━\u001b[0m\u001b[37m\u001b[0m \u001b[1m1s\u001b[0m 752us/step - accuracy: 0.7621 - loss: 0.5418 - val_accuracy: 0.7162 - val_loss: 0.6390\n",
      "Epoch 714/1000\n",
      "\u001b[1m1147/1147\u001b[0m \u001b[32m━━━━━━━━━━━━━━━━━━━━\u001b[0m\u001b[37m\u001b[0m \u001b[1m1s\u001b[0m 739us/step - accuracy: 0.7678 - loss: 0.5344 - val_accuracy: 0.7109 - val_loss: 0.6557\n",
      "Epoch 715/1000\n",
      "\u001b[1m1147/1147\u001b[0m \u001b[32m━━━━━━━━━━━━━━━━━━━━\u001b[0m\u001b[37m\u001b[0m \u001b[1m1s\u001b[0m 737us/step - accuracy: 0.7643 - loss: 0.5417 - val_accuracy: 0.7312 - val_loss: 0.6251\n",
      "Epoch 716/1000\n",
      "\u001b[1m1147/1147\u001b[0m \u001b[32m━━━━━━━━━━━━━━━━━━━━\u001b[0m\u001b[37m\u001b[0m \u001b[1m1s\u001b[0m 732us/step - accuracy: 0.7664 - loss: 0.5386 - val_accuracy: 0.7289 - val_loss: 0.6154\n",
      "Epoch 717/1000\n",
      "\u001b[1m1147/1147\u001b[0m \u001b[32m━━━━━━━━━━━━━━━━━━━━\u001b[0m\u001b[37m\u001b[0m \u001b[1m1s\u001b[0m 758us/step - accuracy: 0.7679 - loss: 0.5358 - val_accuracy: 0.7231 - val_loss: 0.6272\n",
      "Epoch 718/1000\n",
      "\u001b[1m1147/1147\u001b[0m \u001b[32m━━━━━━━━━━━━━━━━━━━━\u001b[0m\u001b[37m\u001b[0m \u001b[1m1s\u001b[0m 742us/step - accuracy: 0.7639 - loss: 0.5433 - val_accuracy: 0.7258 - val_loss: 0.6305\n",
      "Epoch 719/1000\n",
      "\u001b[1m1147/1147\u001b[0m \u001b[32m━━━━━━━━━━━━━━━━━━━━\u001b[0m\u001b[37m\u001b[0m \u001b[1m1s\u001b[0m 715us/step - accuracy: 0.7652 - loss: 0.5372 - val_accuracy: 0.7308 - val_loss: 0.6182\n",
      "Epoch 720/1000\n",
      "\u001b[1m1147/1147\u001b[0m \u001b[32m━━━━━━━━━━━━━━━━━━━━\u001b[0m\u001b[37m\u001b[0m \u001b[1m1s\u001b[0m 749us/step - accuracy: 0.7645 - loss: 0.5406 - val_accuracy: 0.7230 - val_loss: 0.6283\n",
      "Epoch 721/1000\n",
      "\u001b[1m1147/1147\u001b[0m \u001b[32m━━━━━━━━━━━━━━━━━━━━\u001b[0m\u001b[37m\u001b[0m \u001b[1m1s\u001b[0m 771us/step - accuracy: 0.7622 - loss: 0.5410 - val_accuracy: 0.7322 - val_loss: 0.6128\n",
      "Epoch 722/1000\n",
      "\u001b[1m1147/1147\u001b[0m \u001b[32m━━━━━━━━━━━━━━━━━━━━\u001b[0m\u001b[37m\u001b[0m \u001b[1m1s\u001b[0m 745us/step - accuracy: 0.7626 - loss: 0.5399 - val_accuracy: 0.7266 - val_loss: 0.6260\n",
      "Epoch 723/1000\n",
      "\u001b[1m1147/1147\u001b[0m \u001b[32m━━━━━━━━━━━━━━━━━━━━\u001b[0m\u001b[37m\u001b[0m \u001b[1m1s\u001b[0m 726us/step - accuracy: 0.7671 - loss: 0.5405 - val_accuracy: 0.7173 - val_loss: 0.6386\n",
      "Epoch 724/1000\n",
      "\u001b[1m1147/1147\u001b[0m \u001b[32m━━━━━━━━━━━━━━━━━━━━\u001b[0m\u001b[37m\u001b[0m \u001b[1m1s\u001b[0m 752us/step - accuracy: 0.7676 - loss: 0.5388 - val_accuracy: 0.7249 - val_loss: 0.6297\n",
      "Epoch 725/1000\n",
      "\u001b[1m1147/1147\u001b[0m \u001b[32m━━━━━━━━━━━━━━━━━━━━\u001b[0m\u001b[37m\u001b[0m \u001b[1m1s\u001b[0m 754us/step - accuracy: 0.7654 - loss: 0.5400 - val_accuracy: 0.7323 - val_loss: 0.6156\n",
      "Epoch 726/1000\n",
      "\u001b[1m1147/1147\u001b[0m \u001b[32m━━━━━━━━━━━━━━━━━━━━\u001b[0m\u001b[37m\u001b[0m \u001b[1m1s\u001b[0m 766us/step - accuracy: 0.7682 - loss: 0.5345 - val_accuracy: 0.7301 - val_loss: 0.6242\n",
      "Epoch 727/1000\n",
      "\u001b[1m1147/1147\u001b[0m \u001b[32m━━━━━━━━━━━━━━━━━━━━\u001b[0m\u001b[37m\u001b[0m \u001b[1m1s\u001b[0m 795us/step - accuracy: 0.7604 - loss: 0.5442 - val_accuracy: 0.7264 - val_loss: 0.6235\n",
      "Epoch 728/1000\n",
      "\u001b[1m1147/1147\u001b[0m \u001b[32m━━━━━━━━━━━━━━━━━━━━\u001b[0m\u001b[37m\u001b[0m \u001b[1m1s\u001b[0m 756us/step - accuracy: 0.7671 - loss: 0.5316 - val_accuracy: 0.7266 - val_loss: 0.6224\n",
      "Epoch 729/1000\n",
      "\u001b[1m1147/1147\u001b[0m \u001b[32m━━━━━━━━━━━━━━━━━━━━\u001b[0m\u001b[37m\u001b[0m \u001b[1m1s\u001b[0m 783us/step - accuracy: 0.7667 - loss: 0.5326 - val_accuracy: 0.7080 - val_loss: 0.6539\n",
      "Epoch 730/1000\n",
      "\u001b[1m1147/1147\u001b[0m \u001b[32m━━━━━━━━━━━━━━━━━━━━\u001b[0m\u001b[37m\u001b[0m \u001b[1m1s\u001b[0m 898us/step - accuracy: 0.7655 - loss: 0.5338 - val_accuracy: 0.7268 - val_loss: 0.6288\n",
      "Epoch 731/1000\n",
      "\u001b[1m1147/1147\u001b[0m \u001b[32m━━━━━━━━━━━━━━━━━━━━\u001b[0m\u001b[37m\u001b[0m \u001b[1m1s\u001b[0m 857us/step - accuracy: 0.7636 - loss: 0.5471 - val_accuracy: 0.7205 - val_loss: 0.6338\n",
      "Epoch 732/1000\n",
      "\u001b[1m1147/1147\u001b[0m \u001b[32m━━━━━━━━━━━━━━━━━━━━\u001b[0m\u001b[37m\u001b[0m \u001b[1m1s\u001b[0m 751us/step - accuracy: 0.7665 - loss: 0.5355 - val_accuracy: 0.7238 - val_loss: 0.6289\n",
      "Epoch 733/1000\n",
      "\u001b[1m1147/1147\u001b[0m \u001b[32m━━━━━━━━━━━━━━━━━━━━\u001b[0m\u001b[37m\u001b[0m \u001b[1m1s\u001b[0m 728us/step - accuracy: 0.7611 - loss: 0.5398 - val_accuracy: 0.7166 - val_loss: 0.6455\n",
      "Epoch 734/1000\n",
      "\u001b[1m1147/1147\u001b[0m \u001b[32m━━━━━━━━━━━━━━━━━━━━\u001b[0m\u001b[37m\u001b[0m \u001b[1m1s\u001b[0m 729us/step - accuracy: 0.7671 - loss: 0.5390 - val_accuracy: 0.7146 - val_loss: 0.6440\n",
      "Epoch 735/1000\n",
      "\u001b[1m1147/1147\u001b[0m \u001b[32m━━━━━━━━━━━━━━━━━━━━\u001b[0m\u001b[37m\u001b[0m \u001b[1m1s\u001b[0m 734us/step - accuracy: 0.7635 - loss: 0.5375 - val_accuracy: 0.7179 - val_loss: 0.6371\n",
      "Epoch 736/1000\n",
      "\u001b[1m1147/1147\u001b[0m \u001b[32m━━━━━━━━━━━━━━━━━━━━\u001b[0m\u001b[37m\u001b[0m \u001b[1m1s\u001b[0m 725us/step - accuracy: 0.7658 - loss: 0.5367 - val_accuracy: 0.7245 - val_loss: 0.6260\n",
      "Epoch 737/1000\n",
      "\u001b[1m1147/1147\u001b[0m \u001b[32m━━━━━━━━━━━━━━━━━━━━\u001b[0m\u001b[37m\u001b[0m \u001b[1m1s\u001b[0m 733us/step - accuracy: 0.7661 - loss: 0.5375 - val_accuracy: 0.7354 - val_loss: 0.6121\n",
      "Epoch 738/1000\n",
      "\u001b[1m1147/1147\u001b[0m \u001b[32m━━━━━━━━━━━━━━━━━━━━\u001b[0m\u001b[37m\u001b[0m \u001b[1m1s\u001b[0m 732us/step - accuracy: 0.7680 - loss: 0.5311 - val_accuracy: 0.7232 - val_loss: 0.6286\n",
      "Epoch 739/1000\n",
      "\u001b[1m1147/1147\u001b[0m \u001b[32m━━━━━━━━━━━━━━━━━━━━\u001b[0m\u001b[37m\u001b[0m \u001b[1m1s\u001b[0m 729us/step - accuracy: 0.7656 - loss: 0.5408 - val_accuracy: 0.7189 - val_loss: 0.6368\n",
      "Epoch 740/1000\n",
      "\u001b[1m1147/1147\u001b[0m \u001b[32m━━━━━━━━━━━━━━━━━━━━\u001b[0m\u001b[37m\u001b[0m \u001b[1m1s\u001b[0m 737us/step - accuracy: 0.7660 - loss: 0.5367 - val_accuracy: 0.7188 - val_loss: 0.6380\n",
      "Epoch 741/1000\n",
      "\u001b[1m1147/1147\u001b[0m \u001b[32m━━━━━━━━━━━━━━━━━━━━\u001b[0m\u001b[37m\u001b[0m \u001b[1m1s\u001b[0m 696us/step - accuracy: 0.7640 - loss: 0.5390 - val_accuracy: 0.7275 - val_loss: 0.6220\n",
      "Epoch 742/1000\n",
      "\u001b[1m1147/1147\u001b[0m \u001b[32m━━━━━━━━━━━━━━━━━━━━\u001b[0m\u001b[37m\u001b[0m \u001b[1m1s\u001b[0m 731us/step - accuracy: 0.7642 - loss: 0.5366 - val_accuracy: 0.7159 - val_loss: 0.6396\n",
      "Epoch 743/1000\n",
      "\u001b[1m1147/1147\u001b[0m \u001b[32m━━━━━━━━━━━━━━━━━━━━\u001b[0m\u001b[37m\u001b[0m \u001b[1m1s\u001b[0m 731us/step - accuracy: 0.7671 - loss: 0.5385 - val_accuracy: 0.7323 - val_loss: 0.6150\n",
      "Epoch 744/1000\n",
      "\u001b[1m1147/1147\u001b[0m \u001b[32m━━━━━━━━━━━━━━━━━━━━\u001b[0m\u001b[37m\u001b[0m \u001b[1m1s\u001b[0m 735us/step - accuracy: 0.7627 - loss: 0.5404 - val_accuracy: 0.7335 - val_loss: 0.6069\n",
      "Epoch 745/1000\n",
      "\u001b[1m1147/1147\u001b[0m \u001b[32m━━━━━━━━━━━━━━━━━━━━\u001b[0m\u001b[37m\u001b[0m \u001b[1m1s\u001b[0m 736us/step - accuracy: 0.7706 - loss: 0.5349 - val_accuracy: 0.7269 - val_loss: 0.6236\n",
      "Epoch 746/1000\n",
      "\u001b[1m1147/1147\u001b[0m \u001b[32m━━━━━━━━━━━━━━━━━━━━\u001b[0m\u001b[37m\u001b[0m \u001b[1m1s\u001b[0m 752us/step - accuracy: 0.7726 - loss: 0.5305 - val_accuracy: 0.7278 - val_loss: 0.6287\n",
      "Epoch 747/1000\n",
      "\u001b[1m1147/1147\u001b[0m \u001b[32m━━━━━━━━━━━━━━━━━━━━\u001b[0m\u001b[37m\u001b[0m \u001b[1m1s\u001b[0m 740us/step - accuracy: 0.7687 - loss: 0.5375 - val_accuracy: 0.7177 - val_loss: 0.6362\n",
      "Epoch 748/1000\n",
      "\u001b[1m1147/1147\u001b[0m \u001b[32m━━━━━━━━━━━━━━━━━━━━\u001b[0m\u001b[37m\u001b[0m \u001b[1m1s\u001b[0m 729us/step - accuracy: 0.7675 - loss: 0.5343 - val_accuracy: 0.7336 - val_loss: 0.6197\n",
      "Epoch 749/1000\n",
      "\u001b[1m1147/1147\u001b[0m \u001b[32m━━━━━━━━━━━━━━━━━━━━\u001b[0m\u001b[37m\u001b[0m \u001b[1m1s\u001b[0m 737us/step - accuracy: 0.7656 - loss: 0.5354 - val_accuracy: 0.7204 - val_loss: 0.6392\n",
      "Epoch 750/1000\n",
      "\u001b[1m1147/1147\u001b[0m \u001b[32m━━━━━━━━━━━━━━━━━━━━\u001b[0m\u001b[37m\u001b[0m \u001b[1m1s\u001b[0m 735us/step - accuracy: 0.7717 - loss: 0.5334 - val_accuracy: 0.7190 - val_loss: 0.6436\n",
      "Epoch 751/1000\n",
      "\u001b[1m1147/1147\u001b[0m \u001b[32m━━━━━━━━━━━━━━━━━━━━\u001b[0m\u001b[37m\u001b[0m \u001b[1m1s\u001b[0m 735us/step - accuracy: 0.7694 - loss: 0.5336 - val_accuracy: 0.7279 - val_loss: 0.6206\n",
      "Epoch 752/1000\n",
      "\u001b[1m1147/1147\u001b[0m \u001b[32m━━━━━━━━━━━━━━━━━━━━\u001b[0m\u001b[37m\u001b[0m \u001b[1m1s\u001b[0m 732us/step - accuracy: 0.7666 - loss: 0.5338 - val_accuracy: 0.7177 - val_loss: 0.6373\n",
      "Epoch 753/1000\n",
      "\u001b[1m1147/1147\u001b[0m \u001b[32m━━━━━━━━━━━━━━━━━━━━\u001b[0m\u001b[37m\u001b[0m \u001b[1m1s\u001b[0m 726us/step - accuracy: 0.7649 - loss: 0.5411 - val_accuracy: 0.7266 - val_loss: 0.6305\n",
      "Epoch 754/1000\n",
      "\u001b[1m1147/1147\u001b[0m \u001b[32m━━━━━━━━━━━━━━━━━━━━\u001b[0m\u001b[37m\u001b[0m \u001b[1m1s\u001b[0m 729us/step - accuracy: 0.7681 - loss: 0.5328 - val_accuracy: 0.7225 - val_loss: 0.6394\n",
      "Epoch 755/1000\n",
      "\u001b[1m1147/1147\u001b[0m \u001b[32m━━━━━━━━━━━━━━━━━━━━\u001b[0m\u001b[37m\u001b[0m \u001b[1m1s\u001b[0m 728us/step - accuracy: 0.7638 - loss: 0.5370 - val_accuracy: 0.7231 - val_loss: 0.6272\n",
      "Epoch 756/1000\n",
      "\u001b[1m1147/1147\u001b[0m \u001b[32m━━━━━━━━━━━━━━━━━━━━\u001b[0m\u001b[37m\u001b[0m \u001b[1m1s\u001b[0m 733us/step - accuracy: 0.7651 - loss: 0.5428 - val_accuracy: 0.7124 - val_loss: 0.6498\n",
      "Epoch 757/1000\n",
      "\u001b[1m1147/1147\u001b[0m \u001b[32m━━━━━━━━━━━━━━━━━━━━\u001b[0m\u001b[37m\u001b[0m \u001b[1m1s\u001b[0m 698us/step - accuracy: 0.7663 - loss: 0.5387 - val_accuracy: 0.7222 - val_loss: 0.6339\n",
      "Epoch 758/1000\n",
      "\u001b[1m1147/1147\u001b[0m \u001b[32m━━━━━━━━━━━━━━━━━━━━\u001b[0m\u001b[37m\u001b[0m \u001b[1m1s\u001b[0m 735us/step - accuracy: 0.7661 - loss: 0.5382 - val_accuracy: 0.7277 - val_loss: 0.6249\n",
      "Epoch 759/1000\n",
      "\u001b[1m1147/1147\u001b[0m \u001b[32m━━━━━━━━━━━━━━━━━━━━\u001b[0m\u001b[37m\u001b[0m \u001b[1m1s\u001b[0m 736us/step - accuracy: 0.7650 - loss: 0.5333 - val_accuracy: 0.7191 - val_loss: 0.6382\n",
      "Epoch 760/1000\n",
      "\u001b[1m1147/1147\u001b[0m \u001b[32m━━━━━━━━━━━━━━━━━━━━\u001b[0m\u001b[37m\u001b[0m \u001b[1m1s\u001b[0m 727us/step - accuracy: 0.7706 - loss: 0.5307 - val_accuracy: 0.7344 - val_loss: 0.6222\n",
      "Epoch 761/1000\n",
      "\u001b[1m1147/1147\u001b[0m \u001b[32m━━━━━━━━━━━━━━━━━━━━\u001b[0m\u001b[37m\u001b[0m \u001b[1m1s\u001b[0m 733us/step - accuracy: 0.7677 - loss: 0.5373 - val_accuracy: 0.7183 - val_loss: 0.6417\n",
      "Epoch 762/1000\n",
      "\u001b[1m1147/1147\u001b[0m \u001b[32m━━━━━━━━━━━━━━━━━━━━\u001b[0m\u001b[37m\u001b[0m \u001b[1m1s\u001b[0m 740us/step - accuracy: 0.7655 - loss: 0.5391 - val_accuracy: 0.7274 - val_loss: 0.6241\n",
      "Epoch 763/1000\n",
      "\u001b[1m1147/1147\u001b[0m \u001b[32m━━━━━━━━━━━━━━━━━━━━\u001b[0m\u001b[37m\u001b[0m \u001b[1m1s\u001b[0m 735us/step - accuracy: 0.7687 - loss: 0.5368 - val_accuracy: 0.7228 - val_loss: 0.6307\n",
      "Epoch 764/1000\n",
      "\u001b[1m1147/1147\u001b[0m \u001b[32m━━━━━━━━━━━━━━━━━━━━\u001b[0m\u001b[37m\u001b[0m \u001b[1m1s\u001b[0m 732us/step - accuracy: 0.7695 - loss: 0.5337 - val_accuracy: 0.7274 - val_loss: 0.6323\n",
      "Epoch 765/1000\n",
      "\u001b[1m1147/1147\u001b[0m \u001b[32m━━━━━━━━━━━━━━━━━━━━\u001b[0m\u001b[37m\u001b[0m \u001b[1m1s\u001b[0m 731us/step - accuracy: 0.7679 - loss: 0.5350 - val_accuracy: 0.7213 - val_loss: 0.6382\n",
      "Epoch 766/1000\n",
      "\u001b[1m1147/1147\u001b[0m \u001b[32m━━━━━━━━━━━━━━━━━━━━\u001b[0m\u001b[37m\u001b[0m \u001b[1m1s\u001b[0m 736us/step - accuracy: 0.7677 - loss: 0.5369 - val_accuracy: 0.7344 - val_loss: 0.6149\n",
      "Epoch 767/1000\n",
      "\u001b[1m1147/1147\u001b[0m \u001b[32m━━━━━━━━━━━━━━━━━━━━\u001b[0m\u001b[37m\u001b[0m \u001b[1m1s\u001b[0m 727us/step - accuracy: 0.7657 - loss: 0.5387 - val_accuracy: 0.7225 - val_loss: 0.6352\n",
      "Epoch 768/1000\n",
      "\u001b[1m1147/1147\u001b[0m \u001b[32m━━━━━━━━━━━━━━━━━━━━\u001b[0m\u001b[37m\u001b[0m \u001b[1m1s\u001b[0m 736us/step - accuracy: 0.7688 - loss: 0.5342 - val_accuracy: 0.7329 - val_loss: 0.6193\n",
      "Epoch 769/1000\n",
      "\u001b[1m1147/1147\u001b[0m \u001b[32m━━━━━━━━━━━━━━━━━━━━\u001b[0m\u001b[37m\u001b[0m \u001b[1m1s\u001b[0m 730us/step - accuracy: 0.7679 - loss: 0.5330 - val_accuracy: 0.7194 - val_loss: 0.6396\n",
      "Epoch 770/1000\n",
      "\u001b[1m1147/1147\u001b[0m \u001b[32m━━━━━━━━━━━━━━━━━━━━\u001b[0m\u001b[37m\u001b[0m \u001b[1m1s\u001b[0m 735us/step - accuracy: 0.7698 - loss: 0.5356 - val_accuracy: 0.7279 - val_loss: 0.6293\n",
      "Epoch 771/1000\n",
      "\u001b[1m1147/1147\u001b[0m \u001b[32m━━━━━━━━━━━━━━━━━━━━\u001b[0m\u001b[37m\u001b[0m \u001b[1m1s\u001b[0m 729us/step - accuracy: 0.7707 - loss: 0.5317 - val_accuracy: 0.7321 - val_loss: 0.6183\n",
      "Epoch 772/1000\n",
      "\u001b[1m1147/1147\u001b[0m \u001b[32m━━━━━━━━━━━━━━━━━━━━\u001b[0m\u001b[37m\u001b[0m \u001b[1m1s\u001b[0m 727us/step - accuracy: 0.7662 - loss: 0.5399 - val_accuracy: 0.7252 - val_loss: 0.6260\n",
      "Epoch 773/1000\n",
      "\u001b[1m1147/1147\u001b[0m \u001b[32m━━━━━━━━━━━━━━━━━━━━\u001b[0m\u001b[37m\u001b[0m \u001b[1m1s\u001b[0m 734us/step - accuracy: 0.7705 - loss: 0.5369 - val_accuracy: 0.7249 - val_loss: 0.6314\n",
      "Epoch 774/1000\n",
      "\u001b[1m1147/1147\u001b[0m \u001b[32m━━━━━━━━━━━━━━━━━━━━\u001b[0m\u001b[37m\u001b[0m \u001b[1m1s\u001b[0m 727us/step - accuracy: 0.7660 - loss: 0.5348 - val_accuracy: 0.7225 - val_loss: 0.6303\n",
      "Epoch 775/1000\n",
      "\u001b[1m1147/1147\u001b[0m \u001b[32m━━━━━━━━━━━━━━━━━━━━\u001b[0m\u001b[37m\u001b[0m \u001b[1m1s\u001b[0m 730us/step - accuracy: 0.7639 - loss: 0.5376 - val_accuracy: 0.7299 - val_loss: 0.6210\n",
      "Epoch 776/1000\n",
      "\u001b[1m1147/1147\u001b[0m \u001b[32m━━━━━━━━━━━━━━━━━━━━\u001b[0m\u001b[37m\u001b[0m \u001b[1m1s\u001b[0m 725us/step - accuracy: 0.7656 - loss: 0.5314 - val_accuracy: 0.7155 - val_loss: 0.6436\n",
      "Epoch 777/1000\n",
      "\u001b[1m1147/1147\u001b[0m \u001b[32m━━━━━━━━━━━━━━━━━━━━\u001b[0m\u001b[37m\u001b[0m \u001b[1m1s\u001b[0m 751us/step - accuracy: 0.7664 - loss: 0.5345 - val_accuracy: 0.7325 - val_loss: 0.6116\n",
      "Epoch 778/1000\n",
      "\u001b[1m1147/1147\u001b[0m \u001b[32m━━━━━━━━━━━━━━━━━━━━\u001b[0m\u001b[37m\u001b[0m \u001b[1m1s\u001b[0m 731us/step - accuracy: 0.7687 - loss: 0.5350 - val_accuracy: 0.7323 - val_loss: 0.6170\n",
      "Epoch 779/1000\n",
      "\u001b[1m1147/1147\u001b[0m \u001b[32m━━━━━━━━━━━━━━━━━━━━\u001b[0m\u001b[37m\u001b[0m \u001b[1m1s\u001b[0m 728us/step - accuracy: 0.7677 - loss: 0.5349 - val_accuracy: 0.7191 - val_loss: 0.6391\n",
      "Epoch 780/1000\n",
      "\u001b[1m1147/1147\u001b[0m \u001b[32m━━━━━━━━━━━━━━━━━━━━\u001b[0m\u001b[37m\u001b[0m \u001b[1m1s\u001b[0m 732us/step - accuracy: 0.7662 - loss: 0.5339 - val_accuracy: 0.7153 - val_loss: 0.6472\n",
      "Epoch 781/1000\n",
      "\u001b[1m1147/1147\u001b[0m \u001b[32m━━━━━━━━━━━━━━━━━━━━\u001b[0m\u001b[37m\u001b[0m \u001b[1m1s\u001b[0m 732us/step - accuracy: 0.7667 - loss: 0.5339 - val_accuracy: 0.7356 - val_loss: 0.6165\n",
      "Epoch 782/1000\n",
      "\u001b[1m1147/1147\u001b[0m \u001b[32m━━━━━━━━━━━━━━━━━━━━\u001b[0m\u001b[37m\u001b[0m \u001b[1m1s\u001b[0m 731us/step - accuracy: 0.7683 - loss: 0.5325 - val_accuracy: 0.7213 - val_loss: 0.6405\n",
      "Epoch 783/1000\n",
      "\u001b[1m1147/1147\u001b[0m \u001b[32m━━━━━━━━━━━━━━━━━━━━\u001b[0m\u001b[37m\u001b[0m \u001b[1m1s\u001b[0m 735us/step - accuracy: 0.7701 - loss: 0.5310 - val_accuracy: 0.7238 - val_loss: 0.6285\n",
      "Epoch 784/1000\n",
      "\u001b[1m1147/1147\u001b[0m \u001b[32m━━━━━━━━━━━━━━━━━━━━\u001b[0m\u001b[37m\u001b[0m \u001b[1m1s\u001b[0m 724us/step - accuracy: 0.7718 - loss: 0.5305 - val_accuracy: 0.7281 - val_loss: 0.6237\n",
      "Epoch 785/1000\n",
      "\u001b[1m1147/1147\u001b[0m \u001b[32m━━━━━━━━━━━━━━━━━━━━\u001b[0m\u001b[37m\u001b[0m \u001b[1m1s\u001b[0m 736us/step - accuracy: 0.7629 - loss: 0.5424 - val_accuracy: 0.7252 - val_loss: 0.6275\n",
      "Epoch 786/1000\n",
      "\u001b[1m1147/1147\u001b[0m \u001b[32m━━━━━━━━━━━━━━━━━━━━\u001b[0m\u001b[37m\u001b[0m \u001b[1m1s\u001b[0m 724us/step - accuracy: 0.7655 - loss: 0.5363 - val_accuracy: 0.7362 - val_loss: 0.6081\n",
      "Epoch 787/1000\n",
      "\u001b[1m1147/1147\u001b[0m \u001b[32m━━━━━━━━━━━━━━━━━━━━\u001b[0m\u001b[37m\u001b[0m \u001b[1m1s\u001b[0m 732us/step - accuracy: 0.7677 - loss: 0.5351 - val_accuracy: 0.7317 - val_loss: 0.6126\n",
      "Epoch 788/1000\n",
      "\u001b[1m1147/1147\u001b[0m \u001b[32m━━━━━━━━━━━━━━━━━━━━\u001b[0m\u001b[37m\u001b[0m \u001b[1m1s\u001b[0m 735us/step - accuracy: 0.7668 - loss: 0.5361 - val_accuracy: 0.7414 - val_loss: 0.6008\n",
      "Epoch 789/1000\n",
      "\u001b[1m1147/1147\u001b[0m \u001b[32m━━━━━━━━━━━━━━━━━━━━\u001b[0m\u001b[37m\u001b[0m \u001b[1m1s\u001b[0m 732us/step - accuracy: 0.7676 - loss: 0.5384 - val_accuracy: 0.7255 - val_loss: 0.6283\n",
      "Epoch 790/1000\n",
      "\u001b[1m1147/1147\u001b[0m \u001b[32m━━━━━━━━━━━━━━━━━━━━\u001b[0m\u001b[37m\u001b[0m \u001b[1m1s\u001b[0m 767us/step - accuracy: 0.7663 - loss: 0.5381 - val_accuracy: 0.7130 - val_loss: 0.6426\n",
      "Epoch 791/1000\n",
      "\u001b[1m1147/1147\u001b[0m \u001b[32m━━━━━━━━━━━━━━━━━━━━\u001b[0m\u001b[37m\u001b[0m \u001b[1m1s\u001b[0m 731us/step - accuracy: 0.7665 - loss: 0.5378 - val_accuracy: 0.7253 - val_loss: 0.6226\n",
      "Epoch 792/1000\n",
      "\u001b[1m1147/1147\u001b[0m \u001b[32m━━━━━━━━━━━━━━━━━━━━\u001b[0m\u001b[37m\u001b[0m \u001b[1m1s\u001b[0m 739us/step - accuracy: 0.7661 - loss: 0.5365 - val_accuracy: 0.7203 - val_loss: 0.6377\n",
      "Epoch 793/1000\n",
      "\u001b[1m1147/1147\u001b[0m \u001b[32m━━━━━━━━━━━━━━━━━━━━\u001b[0m\u001b[37m\u001b[0m \u001b[1m1s\u001b[0m 724us/step - accuracy: 0.7671 - loss: 0.5327 - val_accuracy: 0.7316 - val_loss: 0.6182\n",
      "Epoch 794/1000\n",
      "\u001b[1m1147/1147\u001b[0m \u001b[32m━━━━━━━━━━━━━━━━━━━━\u001b[0m\u001b[37m\u001b[0m \u001b[1m1s\u001b[0m 737us/step - accuracy: 0.7661 - loss: 0.5365 - val_accuracy: 0.7302 - val_loss: 0.6199\n",
      "Epoch 795/1000\n",
      "\u001b[1m1147/1147\u001b[0m \u001b[32m━━━━━━━━━━━━━━━━━━━━\u001b[0m\u001b[37m\u001b[0m \u001b[1m1s\u001b[0m 727us/step - accuracy: 0.7650 - loss: 0.5375 - val_accuracy: 0.7317 - val_loss: 0.6219\n",
      "Epoch 796/1000\n",
      "\u001b[1m1147/1147\u001b[0m \u001b[32m━━━━━━━━━━━━━━━━━━━━\u001b[0m\u001b[37m\u001b[0m \u001b[1m1s\u001b[0m 867us/step - accuracy: 0.7664 - loss: 0.5338 - val_accuracy: 0.7183 - val_loss: 0.6421\n",
      "Epoch 797/1000\n",
      "\u001b[1m1147/1147\u001b[0m \u001b[32m━━━━━━━━━━━━━━━━━━━━\u001b[0m\u001b[37m\u001b[0m \u001b[1m1s\u001b[0m 933us/step - accuracy: 0.7641 - loss: 0.5336 - val_accuracy: 0.7255 - val_loss: 0.6257\n",
      "Epoch 798/1000\n",
      "\u001b[1m1147/1147\u001b[0m \u001b[32m━━━━━━━━━━━━━━━━━━━━\u001b[0m\u001b[37m\u001b[0m \u001b[1m1s\u001b[0m 735us/step - accuracy: 0.7643 - loss: 0.5367 - val_accuracy: 0.7257 - val_loss: 0.6300\n",
      "Epoch 799/1000\n",
      "\u001b[1m1147/1147\u001b[0m \u001b[32m━━━━━━━━━━━━━━━━━━━━\u001b[0m\u001b[37m\u001b[0m \u001b[1m1s\u001b[0m 735us/step - accuracy: 0.7651 - loss: 0.5339 - val_accuracy: 0.7157 - val_loss: 0.6442\n",
      "Epoch 800/1000\n",
      "\u001b[1m1147/1147\u001b[0m \u001b[32m━━━━━━━━━━━━━━━━━━━━\u001b[0m\u001b[37m\u001b[0m \u001b[1m1s\u001b[0m 726us/step - accuracy: 0.7640 - loss: 0.5360 - val_accuracy: 0.7293 - val_loss: 0.6214\n",
      "Epoch 801/1000\n",
      "\u001b[1m1147/1147\u001b[0m \u001b[32m━━━━━━━━━━━━━━━━━━━━\u001b[0m\u001b[37m\u001b[0m \u001b[1m1s\u001b[0m 735us/step - accuracy: 0.7652 - loss: 0.5354 - val_accuracy: 0.7233 - val_loss: 0.6308\n",
      "Epoch 802/1000\n",
      "\u001b[1m1147/1147\u001b[0m \u001b[32m━━━━━━━━━━━━━━━━━━━━\u001b[0m\u001b[37m\u001b[0m \u001b[1m1s\u001b[0m 731us/step - accuracy: 0.7687 - loss: 0.5362 - val_accuracy: 0.7206 - val_loss: 0.6380\n",
      "Epoch 803/1000\n",
      "\u001b[1m1147/1147\u001b[0m \u001b[32m━━━━━━━━━━━━━━━━━━━━\u001b[0m\u001b[37m\u001b[0m \u001b[1m1s\u001b[0m 733us/step - accuracy: 0.7661 - loss: 0.5369 - val_accuracy: 0.7178 - val_loss: 0.6440\n",
      "Epoch 804/1000\n",
      "\u001b[1m1147/1147\u001b[0m \u001b[32m━━━━━━━━━━━━━━━━━━━━\u001b[0m\u001b[37m\u001b[0m \u001b[1m1s\u001b[0m 730us/step - accuracy: 0.7659 - loss: 0.5375 - val_accuracy: 0.7210 - val_loss: 0.6311\n",
      "Epoch 805/1000\n",
      "\u001b[1m1147/1147\u001b[0m \u001b[32m━━━━━━━━━━━━━━━━━━━━\u001b[0m\u001b[37m\u001b[0m \u001b[1m1s\u001b[0m 738us/step - accuracy: 0.7645 - loss: 0.5385 - val_accuracy: 0.7273 - val_loss: 0.6244\n",
      "Epoch 806/1000\n",
      "\u001b[1m1147/1147\u001b[0m \u001b[32m━━━━━━━━━━━━━━━━━━━━\u001b[0m\u001b[37m\u001b[0m \u001b[1m1s\u001b[0m 729us/step - accuracy: 0.7674 - loss: 0.5337 - val_accuracy: 0.7373 - val_loss: 0.6086\n",
      "Epoch 807/1000\n",
      "\u001b[1m1147/1147\u001b[0m \u001b[32m━━━━━━━━━━━━━━━━━━━━\u001b[0m\u001b[37m\u001b[0m \u001b[1m1s\u001b[0m 735us/step - accuracy: 0.7676 - loss: 0.5365 - val_accuracy: 0.7183 - val_loss: 0.6315\n",
      "Epoch 808/1000\n",
      "\u001b[1m1147/1147\u001b[0m \u001b[32m━━━━━━━━━━━━━━━━━━━━\u001b[0m\u001b[37m\u001b[0m \u001b[1m1s\u001b[0m 742us/step - accuracy: 0.7625 - loss: 0.5403 - val_accuracy: 0.7294 - val_loss: 0.6258\n",
      "Epoch 809/1000\n",
      "\u001b[1m1147/1147\u001b[0m \u001b[32m━━━━━━━━━━━━━━━━━━━━\u001b[0m\u001b[37m\u001b[0m \u001b[1m1s\u001b[0m 740us/step - accuracy: 0.7680 - loss: 0.5293 - val_accuracy: 0.7161 - val_loss: 0.6436\n",
      "Epoch 810/1000\n",
      "\u001b[1m1147/1147\u001b[0m \u001b[32m━━━━━━━━━━━━━━━━━━━━\u001b[0m\u001b[37m\u001b[0m \u001b[1m1s\u001b[0m 731us/step - accuracy: 0.7672 - loss: 0.5363 - val_accuracy: 0.7297 - val_loss: 0.6263\n",
      "Epoch 811/1000\n",
      "\u001b[1m1147/1147\u001b[0m \u001b[32m━━━━━━━━━━━━━━━━━━━━\u001b[0m\u001b[37m\u001b[0m \u001b[1m1s\u001b[0m 739us/step - accuracy: 0.7659 - loss: 0.5367 - val_accuracy: 0.7287 - val_loss: 0.6259\n",
      "Epoch 812/1000\n",
      "\u001b[1m1147/1147\u001b[0m \u001b[32m━━━━━━━━━━━━━━━━━━━━\u001b[0m\u001b[37m\u001b[0m \u001b[1m1s\u001b[0m 736us/step - accuracy: 0.7652 - loss: 0.5382 - val_accuracy: 0.7157 - val_loss: 0.6449\n",
      "Epoch 813/1000\n",
      "\u001b[1m1147/1147\u001b[0m \u001b[32m━━━━━━━━━━━━━━━━━━━━\u001b[0m\u001b[37m\u001b[0m \u001b[1m1s\u001b[0m 737us/step - accuracy: 0.7694 - loss: 0.5349 - val_accuracy: 0.7410 - val_loss: 0.5990\n",
      "Epoch 814/1000\n",
      "\u001b[1m1147/1147\u001b[0m \u001b[32m━━━━━━━━━━━━━━━━━━━━\u001b[0m\u001b[37m\u001b[0m \u001b[1m1s\u001b[0m 728us/step - accuracy: 0.7647 - loss: 0.5358 - val_accuracy: 0.7206 - val_loss: 0.6344\n",
      "Epoch 815/1000\n",
      "\u001b[1m1147/1147\u001b[0m \u001b[32m━━━━━━━━━━━━━━━━━━━━\u001b[0m\u001b[37m\u001b[0m \u001b[1m1s\u001b[0m 730us/step - accuracy: 0.7680 - loss: 0.5330 - val_accuracy: 0.7345 - val_loss: 0.6132\n",
      "Epoch 816/1000\n",
      "\u001b[1m1147/1147\u001b[0m \u001b[32m━━━━━━━━━━━━━━━━━━━━\u001b[0m\u001b[37m\u001b[0m \u001b[1m1s\u001b[0m 735us/step - accuracy: 0.7672 - loss: 0.5331 - val_accuracy: 0.7205 - val_loss: 0.6461\n",
      "Epoch 817/1000\n",
      "\u001b[1m1147/1147\u001b[0m \u001b[32m━━━━━━━━━━━━━━━━━━━━\u001b[0m\u001b[37m\u001b[0m \u001b[1m1s\u001b[0m 730us/step - accuracy: 0.7659 - loss: 0.5398 - val_accuracy: 0.7217 - val_loss: 0.6376\n",
      "Epoch 818/1000\n",
      "\u001b[1m1147/1147\u001b[0m \u001b[32m━━━━━━━━━━━━━━━━━━━━\u001b[0m\u001b[37m\u001b[0m \u001b[1m1s\u001b[0m 732us/step - accuracy: 0.7675 - loss: 0.5349 - val_accuracy: 0.7296 - val_loss: 0.6223\n",
      "Epoch 819/1000\n",
      "\u001b[1m1147/1147\u001b[0m \u001b[32m━━━━━━━━━━━━━━━━━━━━\u001b[0m\u001b[37m\u001b[0m \u001b[1m1s\u001b[0m 733us/step - accuracy: 0.7635 - loss: 0.5434 - val_accuracy: 0.7287 - val_loss: 0.6273\n",
      "Epoch 820/1000\n",
      "\u001b[1m1147/1147\u001b[0m \u001b[32m━━━━━━━━━━━━━━━━━━━━\u001b[0m\u001b[37m\u001b[0m \u001b[1m1s\u001b[0m 736us/step - accuracy: 0.7679 - loss: 0.5341 - val_accuracy: 0.7234 - val_loss: 0.6346\n",
      "Epoch 821/1000\n",
      "\u001b[1m1147/1147\u001b[0m \u001b[32m━━━━━━━━━━━━━━━━━━━━\u001b[0m\u001b[37m\u001b[0m \u001b[1m1s\u001b[0m 736us/step - accuracy: 0.7683 - loss: 0.5327 - val_accuracy: 0.7296 - val_loss: 0.6234\n",
      "Epoch 822/1000\n",
      "\u001b[1m1147/1147\u001b[0m \u001b[32m━━━━━━━━━━━━━━━━━━━━\u001b[0m\u001b[37m\u001b[0m \u001b[1m1s\u001b[0m 734us/step - accuracy: 0.7658 - loss: 0.5352 - val_accuracy: 0.7350 - val_loss: 0.6145\n",
      "Epoch 823/1000\n",
      "\u001b[1m1147/1147\u001b[0m \u001b[32m━━━━━━━━━━━━━━━━━━━━\u001b[0m\u001b[37m\u001b[0m \u001b[1m1s\u001b[0m 740us/step - accuracy: 0.7672 - loss: 0.5325 - val_accuracy: 0.7321 - val_loss: 0.6207\n",
      "Epoch 824/1000\n",
      "\u001b[1m1147/1147\u001b[0m \u001b[32m━━━━━━━━━━━━━━━━━━━━\u001b[0m\u001b[37m\u001b[0m \u001b[1m1s\u001b[0m 736us/step - accuracy: 0.7702 - loss: 0.5351 - val_accuracy: 0.7231 - val_loss: 0.6330\n",
      "Epoch 825/1000\n",
      "\u001b[1m1147/1147\u001b[0m \u001b[32m━━━━━━━━━━━━━━━━━━━━\u001b[0m\u001b[37m\u001b[0m \u001b[1m1s\u001b[0m 730us/step - accuracy: 0.7667 - loss: 0.5318 - val_accuracy: 0.7421 - val_loss: 0.6028\n",
      "Epoch 826/1000\n",
      "\u001b[1m1147/1147\u001b[0m \u001b[32m━━━━━━━━━━━━━━━━━━━━\u001b[0m\u001b[37m\u001b[0m \u001b[1m1s\u001b[0m 737us/step - accuracy: 0.7695 - loss: 0.5313 - val_accuracy: 0.7349 - val_loss: 0.6156\n",
      "Epoch 827/1000\n",
      "\u001b[1m1147/1147\u001b[0m \u001b[32m━━━━━━━━━━━━━━━━━━━━\u001b[0m\u001b[37m\u001b[0m \u001b[1m1s\u001b[0m 738us/step - accuracy: 0.7665 - loss: 0.5370 - val_accuracy: 0.7296 - val_loss: 0.6223\n",
      "Epoch 828/1000\n",
      "\u001b[1m1147/1147\u001b[0m \u001b[32m━━━━━━━━━━━━━━━━━━━━\u001b[0m\u001b[37m\u001b[0m \u001b[1m1s\u001b[0m 737us/step - accuracy: 0.7628 - loss: 0.5388 - val_accuracy: 0.7346 - val_loss: 0.6147\n",
      "Epoch 829/1000\n",
      "\u001b[1m1147/1147\u001b[0m \u001b[32m━━━━━━━━━━━━━━━━━━━━\u001b[0m\u001b[37m\u001b[0m \u001b[1m1s\u001b[0m 732us/step - accuracy: 0.7660 - loss: 0.5355 - val_accuracy: 0.7169 - val_loss: 0.6388\n",
      "Epoch 830/1000\n",
      "\u001b[1m1147/1147\u001b[0m \u001b[32m━━━━━━━━━━━━━━━━━━━━\u001b[0m\u001b[37m\u001b[0m \u001b[1m1s\u001b[0m 735us/step - accuracy: 0.7680 - loss: 0.5383 - val_accuracy: 0.7232 - val_loss: 0.6332\n",
      "Epoch 831/1000\n",
      "\u001b[1m1147/1147\u001b[0m \u001b[32m━━━━━━━━━━━━━━━━━━━━\u001b[0m\u001b[37m\u001b[0m \u001b[1m1s\u001b[0m 762us/step - accuracy: 0.7665 - loss: 0.5329 - val_accuracy: 0.7198 - val_loss: 0.6436\n",
      "Epoch 832/1000\n",
      "\u001b[1m1147/1147\u001b[0m \u001b[32m━━━━━━━━━━━━━━━━━━━━\u001b[0m\u001b[37m\u001b[0m \u001b[1m1s\u001b[0m 747us/step - accuracy: 0.7630 - loss: 0.5367 - val_accuracy: 0.7197 - val_loss: 0.6437\n",
      "Epoch 833/1000\n",
      "\u001b[1m1147/1147\u001b[0m \u001b[32m━━━━━━━━━━━━━━━━━━━━\u001b[0m\u001b[37m\u001b[0m \u001b[1m1s\u001b[0m 734us/step - accuracy: 0.7666 - loss: 0.5357 - val_accuracy: 0.7363 - val_loss: 0.6162\n",
      "Epoch 834/1000\n",
      "\u001b[1m1147/1147\u001b[0m \u001b[32m━━━━━━━━━━━━━━━━━━━━\u001b[0m\u001b[37m\u001b[0m \u001b[1m1s\u001b[0m 732us/step - accuracy: 0.7721 - loss: 0.5266 - val_accuracy: 0.7317 - val_loss: 0.6231\n",
      "Epoch 835/1000\n",
      "\u001b[1m1147/1147\u001b[0m \u001b[32m━━━━━━━━━━━━━━━━━━━━\u001b[0m\u001b[37m\u001b[0m \u001b[1m1s\u001b[0m 737us/step - accuracy: 0.7680 - loss: 0.5325 - val_accuracy: 0.7347 - val_loss: 0.6185\n",
      "Epoch 836/1000\n",
      "\u001b[1m1147/1147\u001b[0m \u001b[32m━━━━━━━━━━━━━━━━━━━━\u001b[0m\u001b[37m\u001b[0m \u001b[1m1s\u001b[0m 737us/step - accuracy: 0.7683 - loss: 0.5304 - val_accuracy: 0.7360 - val_loss: 0.6122\n",
      "Epoch 837/1000\n",
      "\u001b[1m1147/1147\u001b[0m \u001b[32m━━━━━━━━━━━━━━━━━━━━\u001b[0m\u001b[37m\u001b[0m \u001b[1m1s\u001b[0m 744us/step - accuracy: 0.7668 - loss: 0.5357 - val_accuracy: 0.7328 - val_loss: 0.6183\n",
      "Epoch 838/1000\n",
      "\u001b[1m1147/1147\u001b[0m \u001b[32m━━━━━━━━━━━━━━━━━━━━\u001b[0m\u001b[37m\u001b[0m \u001b[1m1s\u001b[0m 728us/step - accuracy: 0.7688 - loss: 0.5321 - val_accuracy: 0.7358 - val_loss: 0.6152\n",
      "Epoch 839/1000\n",
      "\u001b[1m1147/1147\u001b[0m \u001b[32m━━━━━━━━━━━━━━━━━━━━\u001b[0m\u001b[37m\u001b[0m \u001b[1m1s\u001b[0m 728us/step - accuracy: 0.7658 - loss: 0.5343 - val_accuracy: 0.7388 - val_loss: 0.6091\n",
      "Epoch 840/1000\n",
      "\u001b[1m1147/1147\u001b[0m \u001b[32m━━━━━━━━━━━━━━━━━━━━\u001b[0m\u001b[37m\u001b[0m \u001b[1m1s\u001b[0m 733us/step - accuracy: 0.7706 - loss: 0.5331 - val_accuracy: 0.7393 - val_loss: 0.6112\n",
      "Epoch 841/1000\n",
      "\u001b[1m1147/1147\u001b[0m \u001b[32m━━━━━━━━━━━━━━━━━━━━\u001b[0m\u001b[37m\u001b[0m \u001b[1m1s\u001b[0m 748us/step - accuracy: 0.7649 - loss: 0.5373 - val_accuracy: 0.7336 - val_loss: 0.6135\n",
      "Epoch 842/1000\n",
      "\u001b[1m1147/1147\u001b[0m \u001b[32m━━━━━━━━━━━━━━━━━━━━\u001b[0m\u001b[37m\u001b[0m \u001b[1m1s\u001b[0m 742us/step - accuracy: 0.7674 - loss: 0.5349 - val_accuracy: 0.7218 - val_loss: 0.6343\n",
      "Epoch 843/1000\n",
      "\u001b[1m1147/1147\u001b[0m \u001b[32m━━━━━━━━━━━━━━━━━━━━\u001b[0m\u001b[37m\u001b[0m \u001b[1m1s\u001b[0m 731us/step - accuracy: 0.7668 - loss: 0.5343 - val_accuracy: 0.7255 - val_loss: 0.6259\n",
      "Epoch 844/1000\n",
      "\u001b[1m1147/1147\u001b[0m \u001b[32m━━━━━━━━━━━━━━━━━━━━\u001b[0m\u001b[37m\u001b[0m \u001b[1m1s\u001b[0m 738us/step - accuracy: 0.7685 - loss: 0.5397 - val_accuracy: 0.7348 - val_loss: 0.6186\n",
      "Epoch 845/1000\n",
      "\u001b[1m1147/1147\u001b[0m \u001b[32m━━━━━━━━━━━━━━━━━━━━\u001b[0m\u001b[37m\u001b[0m \u001b[1m1s\u001b[0m 777us/step - accuracy: 0.7685 - loss: 0.5344 - val_accuracy: 0.7379 - val_loss: 0.6083\n",
      "Epoch 846/1000\n",
      "\u001b[1m1147/1147\u001b[0m \u001b[32m━━━━━━━━━━━━━━━━━━━━\u001b[0m\u001b[37m\u001b[0m \u001b[1m1s\u001b[0m 739us/step - accuracy: 0.7682 - loss: 0.5329 - val_accuracy: 0.7302 - val_loss: 0.6269\n",
      "Epoch 847/1000\n",
      "\u001b[1m1147/1147\u001b[0m \u001b[32m━━━━━━━━━━━━━━━━━━━━\u001b[0m\u001b[37m\u001b[0m \u001b[1m1s\u001b[0m 733us/step - accuracy: 0.7729 - loss: 0.5233 - val_accuracy: 0.7159 - val_loss: 0.6460\n",
      "Epoch 848/1000\n",
      "\u001b[1m1147/1147\u001b[0m \u001b[32m━━━━━━━━━━━━━━━━━━━━\u001b[0m\u001b[37m\u001b[0m \u001b[1m1s\u001b[0m 740us/step - accuracy: 0.7656 - loss: 0.5396 - val_accuracy: 0.7358 - val_loss: 0.6159\n",
      "Epoch 849/1000\n",
      "\u001b[1m1147/1147\u001b[0m \u001b[32m━━━━━━━━━━━━━━━━━━━━\u001b[0m\u001b[37m\u001b[0m \u001b[1m1s\u001b[0m 731us/step - accuracy: 0.7657 - loss: 0.5320 - val_accuracy: 0.7322 - val_loss: 0.6249\n",
      "Epoch 850/1000\n",
      "\u001b[1m1147/1147\u001b[0m \u001b[32m━━━━━━━━━━━━━━━━━━━━\u001b[0m\u001b[37m\u001b[0m \u001b[1m1s\u001b[0m 732us/step - accuracy: 0.7651 - loss: 0.5385 - val_accuracy: 0.7318 - val_loss: 0.6184\n",
      "Epoch 851/1000\n",
      "\u001b[1m1147/1147\u001b[0m \u001b[32m━━━━━━━━━━━━━━━━━━━━\u001b[0m\u001b[37m\u001b[0m \u001b[1m1s\u001b[0m 732us/step - accuracy: 0.7697 - loss: 0.5310 - val_accuracy: 0.7314 - val_loss: 0.6255\n",
      "Epoch 852/1000\n",
      "\u001b[1m1147/1147\u001b[0m \u001b[32m━━━━━━━━━━━━━━━━━━━━\u001b[0m\u001b[37m\u001b[0m \u001b[1m1s\u001b[0m 728us/step - accuracy: 0.7649 - loss: 0.5403 - val_accuracy: 0.7222 - val_loss: 0.6416\n",
      "Epoch 853/1000\n",
      "\u001b[1m1147/1147\u001b[0m \u001b[32m━━━━━━━━━━━━━━━━━━━━\u001b[0m\u001b[37m\u001b[0m \u001b[1m1s\u001b[0m 737us/step - accuracy: 0.7704 - loss: 0.5297 - val_accuracy: 0.7384 - val_loss: 0.6159\n",
      "Epoch 854/1000\n",
      "\u001b[1m1147/1147\u001b[0m \u001b[32m━━━━━━━━━━━━━━━━━━━━\u001b[0m\u001b[37m\u001b[0m \u001b[1m1s\u001b[0m 732us/step - accuracy: 0.7672 - loss: 0.5385 - val_accuracy: 0.7386 - val_loss: 0.6114\n",
      "Epoch 855/1000\n",
      "\u001b[1m1147/1147\u001b[0m \u001b[32m━━━━━━━━━━━━━━━━━━━━\u001b[0m\u001b[37m\u001b[0m \u001b[1m1s\u001b[0m 740us/step - accuracy: 0.7712 - loss: 0.5275 - val_accuracy: 0.7336 - val_loss: 0.6263\n",
      "Epoch 856/1000\n",
      "\u001b[1m1147/1147\u001b[0m \u001b[32m━━━━━━━━━━━━━━━━━━━━\u001b[0m\u001b[37m\u001b[0m \u001b[1m1s\u001b[0m 734us/step - accuracy: 0.7678 - loss: 0.5306 - val_accuracy: 0.7399 - val_loss: 0.6102\n",
      "Epoch 857/1000\n",
      "\u001b[1m1147/1147\u001b[0m \u001b[32m━━━━━━━━━━━━━━━━━━━━\u001b[0m\u001b[37m\u001b[0m \u001b[1m1s\u001b[0m 734us/step - accuracy: 0.7688 - loss: 0.5308 - val_accuracy: 0.7309 - val_loss: 0.6246\n",
      "Epoch 858/1000\n",
      "\u001b[1m1147/1147\u001b[0m \u001b[32m━━━━━━━━━━━━━━━━━━━━\u001b[0m\u001b[37m\u001b[0m \u001b[1m1s\u001b[0m 729us/step - accuracy: 0.7636 - loss: 0.5356 - val_accuracy: 0.7327 - val_loss: 0.6263\n",
      "Epoch 859/1000\n",
      "\u001b[1m1147/1147\u001b[0m \u001b[32m━━━━━━━━━━━━━━━━━━━━\u001b[0m\u001b[37m\u001b[0m \u001b[1m1s\u001b[0m 762us/step - accuracy: 0.7720 - loss: 0.5333 - val_accuracy: 0.7284 - val_loss: 0.6276\n",
      "Epoch 860/1000\n",
      "\u001b[1m1147/1147\u001b[0m \u001b[32m━━━━━━━━━━━━━━━━━━━━\u001b[0m\u001b[37m\u001b[0m \u001b[1m1s\u001b[0m 740us/step - accuracy: 0.7674 - loss: 0.5332 - val_accuracy: 0.7311 - val_loss: 0.6252\n",
      "Epoch 861/1000\n",
      "\u001b[1m1147/1147\u001b[0m \u001b[32m━━━━━━━━━━━━━━━━━━━━\u001b[0m\u001b[37m\u001b[0m \u001b[1m1s\u001b[0m 738us/step - accuracy: 0.7646 - loss: 0.5371 - val_accuracy: 0.7339 - val_loss: 0.6214\n",
      "Epoch 862/1000\n",
      "\u001b[1m1147/1147\u001b[0m \u001b[32m━━━━━━━━━━━━━━━━━━━━\u001b[0m\u001b[37m\u001b[0m \u001b[1m1s\u001b[0m 729us/step - accuracy: 0.7714 - loss: 0.5286 - val_accuracy: 0.7321 - val_loss: 0.6231\n",
      "Epoch 863/1000\n",
      "\u001b[1m1147/1147\u001b[0m \u001b[32m━━━━━━━━━━━━━━━━━━━━\u001b[0m\u001b[37m\u001b[0m \u001b[1m1s\u001b[0m 731us/step - accuracy: 0.7728 - loss: 0.5260 - val_accuracy: 0.7332 - val_loss: 0.6218\n",
      "Epoch 864/1000\n",
      "\u001b[1m1147/1147\u001b[0m \u001b[32m━━━━━━━━━━━━━━━━━━━━\u001b[0m\u001b[37m\u001b[0m \u001b[1m1s\u001b[0m 738us/step - accuracy: 0.7690 - loss: 0.5358 - val_accuracy: 0.7369 - val_loss: 0.6234\n",
      "Epoch 865/1000\n",
      "\u001b[1m1147/1147\u001b[0m \u001b[32m━━━━━━━━━━━━━━━━━━━━\u001b[0m\u001b[37m\u001b[0m \u001b[1m1s\u001b[0m 747us/step - accuracy: 0.7643 - loss: 0.5357 - val_accuracy: 0.7369 - val_loss: 0.6145\n",
      "Epoch 866/1000\n",
      "\u001b[1m1147/1147\u001b[0m \u001b[32m━━━━━━━━━━━━━━━━━━━━\u001b[0m\u001b[37m\u001b[0m \u001b[1m1s\u001b[0m 740us/step - accuracy: 0.7670 - loss: 0.5363 - val_accuracy: 0.7338 - val_loss: 0.6241\n",
      "Epoch 867/1000\n",
      "\u001b[1m1147/1147\u001b[0m \u001b[32m━━━━━━━━━━━━━━━━━━━━\u001b[0m\u001b[37m\u001b[0m \u001b[1m1s\u001b[0m 730us/step - accuracy: 0.7718 - loss: 0.5294 - val_accuracy: 0.7260 - val_loss: 0.6306\n",
      "Epoch 868/1000\n",
      "\u001b[1m1147/1147\u001b[0m \u001b[32m━━━━━━━━━━━━━━━━━━━━\u001b[0m\u001b[37m\u001b[0m \u001b[1m1s\u001b[0m 764us/step - accuracy: 0.7691 - loss: 0.5358 - val_accuracy: 0.7224 - val_loss: 0.6339\n",
      "Epoch 869/1000\n",
      "\u001b[1m1147/1147\u001b[0m \u001b[32m━━━━━━━━━━━━━━━━━━━━\u001b[0m\u001b[37m\u001b[0m \u001b[1m1s\u001b[0m 733us/step - accuracy: 0.7666 - loss: 0.5368 - val_accuracy: 0.7306 - val_loss: 0.6311\n",
      "Epoch 870/1000\n",
      "\u001b[1m1147/1147\u001b[0m \u001b[32m━━━━━━━━━━━━━━━━━━━━\u001b[0m\u001b[37m\u001b[0m \u001b[1m1s\u001b[0m 755us/step - accuracy: 0.7731 - loss: 0.5255 - val_accuracy: 0.7214 - val_loss: 0.6486\n",
      "Epoch 871/1000\n",
      "\u001b[1m1147/1147\u001b[0m \u001b[32m━━━━━━━━━━━━━━━━━━━━\u001b[0m\u001b[37m\u001b[0m \u001b[1m1s\u001b[0m 735us/step - accuracy: 0.7694 - loss: 0.5333 - val_accuracy: 0.7301 - val_loss: 0.6238\n",
      "Epoch 872/1000\n",
      "\u001b[1m1147/1147\u001b[0m \u001b[32m━━━━━━━━━━━━━━━━━━━━\u001b[0m\u001b[37m\u001b[0m \u001b[1m1s\u001b[0m 739us/step - accuracy: 0.7671 - loss: 0.5292 - val_accuracy: 0.7269 - val_loss: 0.6299\n",
      "Epoch 873/1000\n",
      "\u001b[1m1147/1147\u001b[0m \u001b[32m━━━━━━━━━━━━━━━━━━━━\u001b[0m\u001b[37m\u001b[0m \u001b[1m1s\u001b[0m 730us/step - accuracy: 0.7643 - loss: 0.5370 - val_accuracy: 0.7306 - val_loss: 0.6290\n",
      "Epoch 874/1000\n",
      "\u001b[1m1147/1147\u001b[0m \u001b[32m━━━━━━━━━━━━━━━━━━━━\u001b[0m\u001b[37m\u001b[0m \u001b[1m1s\u001b[0m 736us/step - accuracy: 0.7671 - loss: 0.5335 - val_accuracy: 0.7249 - val_loss: 0.6326\n",
      "Epoch 875/1000\n",
      "\u001b[1m1147/1147\u001b[0m \u001b[32m━━━━━━━━━━━━━━━━━━━━\u001b[0m\u001b[37m\u001b[0m \u001b[1m1s\u001b[0m 731us/step - accuracy: 0.7683 - loss: 0.5342 - val_accuracy: 0.7347 - val_loss: 0.6232\n",
      "Epoch 876/1000\n",
      "\u001b[1m1147/1147\u001b[0m \u001b[32m━━━━━━━━━━━━━━━━━━━━\u001b[0m\u001b[37m\u001b[0m \u001b[1m1s\u001b[0m 783us/step - accuracy: 0.7688 - loss: 0.5313 - val_accuracy: 0.7219 - val_loss: 0.6425\n",
      "Epoch 877/1000\n",
      "\u001b[1m1147/1147\u001b[0m \u001b[32m━━━━━━━━━━━━━━━━━━━━\u001b[0m\u001b[37m\u001b[0m \u001b[1m1s\u001b[0m 751us/step - accuracy: 0.7652 - loss: 0.5367 - val_accuracy: 0.7337 - val_loss: 0.6222\n",
      "Epoch 878/1000\n",
      "\u001b[1m1147/1147\u001b[0m \u001b[32m━━━━━━━━━━━━━━━━━━━━\u001b[0m\u001b[37m\u001b[0m \u001b[1m1s\u001b[0m 733us/step - accuracy: 0.7673 - loss: 0.5346 - val_accuracy: 0.7281 - val_loss: 0.6274\n",
      "Epoch 879/1000\n",
      "\u001b[1m1147/1147\u001b[0m \u001b[32m━━━━━━━━━━━━━━━━━━━━\u001b[0m\u001b[37m\u001b[0m \u001b[1m1s\u001b[0m 749us/step - accuracy: 0.7711 - loss: 0.5288 - val_accuracy: 0.7363 - val_loss: 0.6117\n",
      "Epoch 880/1000\n",
      "\u001b[1m1147/1147\u001b[0m \u001b[32m━━━━━━━━━━━━━━━━━━━━\u001b[0m\u001b[37m\u001b[0m \u001b[1m1s\u001b[0m 727us/step - accuracy: 0.7688 - loss: 0.5353 - val_accuracy: 0.7255 - val_loss: 0.6331\n",
      "Epoch 881/1000\n",
      "\u001b[1m1147/1147\u001b[0m \u001b[32m━━━━━━━━━━━━━━━━━━━━\u001b[0m\u001b[37m\u001b[0m \u001b[1m1s\u001b[0m 736us/step - accuracy: 0.7684 - loss: 0.5326 - val_accuracy: 0.7308 - val_loss: 0.6278\n",
      "Epoch 882/1000\n",
      "\u001b[1m1147/1147\u001b[0m \u001b[32m━━━━━━━━━━━━━━━━━━━━\u001b[0m\u001b[37m\u001b[0m \u001b[1m1s\u001b[0m 760us/step - accuracy: 0.7704 - loss: 0.5254 - val_accuracy: 0.7290 - val_loss: 0.6299\n",
      "Epoch 883/1000\n",
      "\u001b[1m1147/1147\u001b[0m \u001b[32m━━━━━━━━━━━━━━━━━━━━\u001b[0m\u001b[37m\u001b[0m \u001b[1m1s\u001b[0m 725us/step - accuracy: 0.7683 - loss: 0.5363 - val_accuracy: 0.7389 - val_loss: 0.6113\n",
      "Epoch 884/1000\n",
      "\u001b[1m1147/1147\u001b[0m \u001b[32m━━━━━━━━━━━━━━━━━━━━\u001b[0m\u001b[37m\u001b[0m \u001b[1m1s\u001b[0m 736us/step - accuracy: 0.7682 - loss: 0.5276 - val_accuracy: 0.7383 - val_loss: 0.6128\n",
      "Epoch 885/1000\n",
      "\u001b[1m1147/1147\u001b[0m \u001b[32m━━━━━━━━━━━━━━━━━━━━\u001b[0m\u001b[37m\u001b[0m \u001b[1m1s\u001b[0m 731us/step - accuracy: 0.7712 - loss: 0.5272 - val_accuracy: 0.7316 - val_loss: 0.6286\n",
      "Epoch 886/1000\n",
      "\u001b[1m1147/1147\u001b[0m \u001b[32m━━━━━━━━━━━━━━━━━━━━\u001b[0m\u001b[37m\u001b[0m \u001b[1m1s\u001b[0m 733us/step - accuracy: 0.7684 - loss: 0.5375 - val_accuracy: 0.7378 - val_loss: 0.6198\n",
      "Epoch 887/1000\n",
      "\u001b[1m1147/1147\u001b[0m \u001b[32m━━━━━━━━━━━━━━━━━━━━\u001b[0m\u001b[37m\u001b[0m \u001b[1m1s\u001b[0m 734us/step - accuracy: 0.7652 - loss: 0.5339 - val_accuracy: 0.7366 - val_loss: 0.6201\n",
      "Epoch 888/1000\n",
      "\u001b[1m1147/1147\u001b[0m \u001b[32m━━━━━━━━━━━━━━━━━━━━\u001b[0m\u001b[37m\u001b[0m \u001b[1m1s\u001b[0m 763us/step - accuracy: 0.7682 - loss: 0.5304 - val_accuracy: 0.7358 - val_loss: 0.6148\n",
      "Epoch 889/1000\n",
      "\u001b[1m1147/1147\u001b[0m \u001b[32m━━━━━━━━━━━━━━━━━━━━\u001b[0m\u001b[37m\u001b[0m \u001b[1m1s\u001b[0m 737us/step - accuracy: 0.7712 - loss: 0.5338 - val_accuracy: 0.7311 - val_loss: 0.6246\n",
      "Epoch 890/1000\n",
      "\u001b[1m1147/1147\u001b[0m \u001b[32m━━━━━━━━━━━━━━━━━━━━\u001b[0m\u001b[37m\u001b[0m \u001b[1m1s\u001b[0m 739us/step - accuracy: 0.7646 - loss: 0.5368 - val_accuracy: 0.7164 - val_loss: 0.6466\n",
      "Epoch 891/1000\n",
      "\u001b[1m1147/1147\u001b[0m \u001b[32m━━━━━━━━━━━━━━━━━━━━\u001b[0m\u001b[37m\u001b[0m \u001b[1m1s\u001b[0m 727us/step - accuracy: 0.7707 - loss: 0.5308 - val_accuracy: 0.7353 - val_loss: 0.6168\n",
      "Epoch 892/1000\n",
      "\u001b[1m1147/1147\u001b[0m \u001b[32m━━━━━━━━━━━━━━━━━━━━\u001b[0m\u001b[37m\u001b[0m \u001b[1m1s\u001b[0m 736us/step - accuracy: 0.7718 - loss: 0.5290 - val_accuracy: 0.7290 - val_loss: 0.6226\n",
      "Epoch 893/1000\n",
      "\u001b[1m1147/1147\u001b[0m \u001b[32m━━━━━━━━━━━━━━━━━━━━\u001b[0m\u001b[37m\u001b[0m \u001b[1m1s\u001b[0m 738us/step - accuracy: 0.7717 - loss: 0.5312 - val_accuracy: 0.7269 - val_loss: 0.6324\n",
      "Epoch 894/1000\n",
      "\u001b[1m1147/1147\u001b[0m \u001b[32m━━━━━━━━━━━━━━━━━━━━\u001b[0m\u001b[37m\u001b[0m \u001b[1m1s\u001b[0m 732us/step - accuracy: 0.7693 - loss: 0.5307 - val_accuracy: 0.7261 - val_loss: 0.6247\n",
      "Epoch 895/1000\n",
      "\u001b[1m1147/1147\u001b[0m \u001b[32m━━━━━━━━━━━━━━━━━━━━\u001b[0m\u001b[37m\u001b[0m \u001b[1m1s\u001b[0m 733us/step - accuracy: 0.7677 - loss: 0.5356 - val_accuracy: 0.7184 - val_loss: 0.6445\n",
      "Epoch 896/1000\n",
      "\u001b[1m1147/1147\u001b[0m \u001b[32m━━━━━━━━━━━━━━━━━━━━\u001b[0m\u001b[37m\u001b[0m \u001b[1m1s\u001b[0m 763us/step - accuracy: 0.7663 - loss: 0.5359 - val_accuracy: 0.7198 - val_loss: 0.6343\n",
      "Epoch 897/1000\n",
      "\u001b[1m1147/1147\u001b[0m \u001b[32m━━━━━━━━━━━━━━━━━━━━\u001b[0m\u001b[37m\u001b[0m \u001b[1m1s\u001b[0m 732us/step - accuracy: 0.7659 - loss: 0.5359 - val_accuracy: 0.7323 - val_loss: 0.6153\n",
      "Epoch 898/1000\n",
      "\u001b[1m1147/1147\u001b[0m \u001b[32m━━━━━━━━━━━━━━━━━━━━\u001b[0m\u001b[37m\u001b[0m \u001b[1m1s\u001b[0m 738us/step - accuracy: 0.7690 - loss: 0.5372 - val_accuracy: 0.7239 - val_loss: 0.6309\n",
      "Epoch 899/1000\n",
      "\u001b[1m1147/1147\u001b[0m \u001b[32m━━━━━━━━━━━━━━━━━━━━\u001b[0m\u001b[37m\u001b[0m \u001b[1m1s\u001b[0m 740us/step - accuracy: 0.7677 - loss: 0.5326 - val_accuracy: 0.7357 - val_loss: 0.6157\n",
      "Epoch 900/1000\n",
      "\u001b[1m1147/1147\u001b[0m \u001b[32m━━━━━━━━━━━━━━━━━━━━\u001b[0m\u001b[37m\u001b[0m \u001b[1m1s\u001b[0m 738us/step - accuracy: 0.7676 - loss: 0.5318 - val_accuracy: 0.7314 - val_loss: 0.6261\n",
      "Epoch 901/1000\n",
      "\u001b[1m1147/1147\u001b[0m \u001b[32m━━━━━━━━━━━━━━━━━━━━\u001b[0m\u001b[37m\u001b[0m \u001b[1m1s\u001b[0m 737us/step - accuracy: 0.7671 - loss: 0.5338 - val_accuracy: 0.7421 - val_loss: 0.6067\n",
      "Epoch 902/1000\n",
      "\u001b[1m1147/1147\u001b[0m \u001b[32m━━━━━━━━━━━━━━━━━━━━\u001b[0m\u001b[37m\u001b[0m \u001b[1m1s\u001b[0m 738us/step - accuracy: 0.7705 - loss: 0.5296 - val_accuracy: 0.7249 - val_loss: 0.6373\n",
      "Epoch 903/1000\n",
      "\u001b[1m1147/1147\u001b[0m \u001b[32m━━━━━━━━━━━━━━━━━━━━\u001b[0m\u001b[37m\u001b[0m \u001b[1m1s\u001b[0m 737us/step - accuracy: 0.7683 - loss: 0.5316 - val_accuracy: 0.7256 - val_loss: 0.6409\n",
      "Epoch 904/1000\n",
      "\u001b[1m1147/1147\u001b[0m \u001b[32m━━━━━━━━━━━━━━━━━━━━\u001b[0m\u001b[37m\u001b[0m \u001b[1m1s\u001b[0m 771us/step - accuracy: 0.7668 - loss: 0.5360 - val_accuracy: 0.7262 - val_loss: 0.6343\n",
      "Epoch 905/1000\n",
      "\u001b[1m1147/1147\u001b[0m \u001b[32m━━━━━━━━━━━━━━━━━━━━\u001b[0m\u001b[37m\u001b[0m \u001b[1m1s\u001b[0m 755us/step - accuracy: 0.7641 - loss: 0.5344 - val_accuracy: 0.7280 - val_loss: 0.6281\n",
      "Epoch 906/1000\n",
      "\u001b[1m1147/1147\u001b[0m \u001b[32m━━━━━━━━━━━━━━━━━━━━\u001b[0m\u001b[37m\u001b[0m \u001b[1m1s\u001b[0m 736us/step - accuracy: 0.7685 - loss: 0.5310 - val_accuracy: 0.7306 - val_loss: 0.6261\n",
      "Epoch 907/1000\n",
      "\u001b[1m1147/1147\u001b[0m \u001b[32m━━━━━━━━━━━━━━━━━━━━\u001b[0m\u001b[37m\u001b[0m \u001b[1m1s\u001b[0m 742us/step - accuracy: 0.7654 - loss: 0.5343 - val_accuracy: 0.7280 - val_loss: 0.6281\n",
      "Epoch 908/1000\n",
      "\u001b[1m1147/1147\u001b[0m \u001b[32m━━━━━━━━━━━━━━━━━━━━\u001b[0m\u001b[37m\u001b[0m \u001b[1m1s\u001b[0m 792us/step - accuracy: 0.7634 - loss: 0.5339 - val_accuracy: 0.7294 - val_loss: 0.6330\n",
      "Epoch 909/1000\n",
      "\u001b[1m1147/1147\u001b[0m \u001b[32m━━━━━━━━━━━━━━━━━━━━\u001b[0m\u001b[37m\u001b[0m \u001b[1m1s\u001b[0m 743us/step - accuracy: 0.7676 - loss: 0.5378 - val_accuracy: 0.7383 - val_loss: 0.6150\n",
      "Epoch 910/1000\n",
      "\u001b[1m1147/1147\u001b[0m \u001b[32m━━━━━━━━━━━━━━━━━━━━\u001b[0m\u001b[37m\u001b[0m \u001b[1m1s\u001b[0m 742us/step - accuracy: 0.7700 - loss: 0.5273 - val_accuracy: 0.7183 - val_loss: 0.6440\n",
      "Epoch 911/1000\n",
      "\u001b[1m1147/1147\u001b[0m \u001b[32m━━━━━━━━━━━━━━━━━━━━\u001b[0m\u001b[37m\u001b[0m \u001b[1m1s\u001b[0m 742us/step - accuracy: 0.7701 - loss: 0.5329 - val_accuracy: 0.7398 - val_loss: 0.6110\n",
      "Epoch 912/1000\n",
      "\u001b[1m1147/1147\u001b[0m \u001b[32m━━━━━━━━━━━━━━━━━━━━\u001b[0m\u001b[37m\u001b[0m \u001b[1m1s\u001b[0m 734us/step - accuracy: 0.7654 - loss: 0.5449 - val_accuracy: 0.7426 - val_loss: 0.6047\n",
      "Epoch 913/1000\n",
      "\u001b[1m1147/1147\u001b[0m \u001b[32m━━━━━━━━━━━━━━━━━━━━\u001b[0m\u001b[37m\u001b[0m \u001b[1m1s\u001b[0m 746us/step - accuracy: 0.7686 - loss: 0.5341 - val_accuracy: 0.7342 - val_loss: 0.6167\n",
      "Epoch 914/1000\n",
      "\u001b[1m1147/1147\u001b[0m \u001b[32m━━━━━━━━━━━━━━━━━━━━\u001b[0m\u001b[37m\u001b[0m \u001b[1m1s\u001b[0m 773us/step - accuracy: 0.7665 - loss: 0.5335 - val_accuracy: 0.7301 - val_loss: 0.6261\n",
      "Epoch 915/1000\n",
      "\u001b[1m1147/1147\u001b[0m \u001b[32m━━━━━━━━━━━━━━━━━━━━\u001b[0m\u001b[37m\u001b[0m \u001b[1m1s\u001b[0m 741us/step - accuracy: 0.7703 - loss: 0.5342 - val_accuracy: 0.7382 - val_loss: 0.6095\n",
      "Epoch 916/1000\n",
      "\u001b[1m1147/1147\u001b[0m \u001b[32m━━━━━━━━━━━━━━━━━━━━\u001b[0m\u001b[37m\u001b[0m \u001b[1m1s\u001b[0m 739us/step - accuracy: 0.7692 - loss: 0.5360 - val_accuracy: 0.7395 - val_loss: 0.6112\n",
      "Epoch 917/1000\n",
      "\u001b[1m1147/1147\u001b[0m \u001b[32m━━━━━━━━━━━━━━━━━━━━\u001b[0m\u001b[37m\u001b[0m \u001b[1m1s\u001b[0m 740us/step - accuracy: 0.7641 - loss: 0.5390 - val_accuracy: 0.7382 - val_loss: 0.6113\n",
      "Epoch 918/1000\n",
      "\u001b[1m1147/1147\u001b[0m \u001b[32m━━━━━━━━━━━━━━━━━━━━\u001b[0m\u001b[37m\u001b[0m \u001b[1m1s\u001b[0m 738us/step - accuracy: 0.7681 - loss: 0.5339 - val_accuracy: 0.7370 - val_loss: 0.6171\n",
      "Epoch 919/1000\n",
      "\u001b[1m1147/1147\u001b[0m \u001b[32m━━━━━━━━━━━━━━━━━━━━\u001b[0m\u001b[37m\u001b[0m \u001b[1m1s\u001b[0m 740us/step - accuracy: 0.7681 - loss: 0.5338 - val_accuracy: 0.7348 - val_loss: 0.6141\n",
      "Epoch 920/1000\n",
      "\u001b[1m1147/1147\u001b[0m \u001b[32m━━━━━━━━━━━━━━━━━━━━\u001b[0m\u001b[37m\u001b[0m \u001b[1m1s\u001b[0m 778us/step - accuracy: 0.7693 - loss: 0.5345 - val_accuracy: 0.7407 - val_loss: 0.6049\n",
      "Epoch 921/1000\n",
      "\u001b[1m1147/1147\u001b[0m \u001b[32m━━━━━━━━━━━━━━━━━━━━\u001b[0m\u001b[37m\u001b[0m \u001b[1m1s\u001b[0m 754us/step - accuracy: 0.7660 - loss: 0.5359 - val_accuracy: 0.7395 - val_loss: 0.6122\n",
      "Epoch 922/1000\n",
      "\u001b[1m1147/1147\u001b[0m \u001b[32m━━━━━━━━━━━━━━━━━━━━\u001b[0m\u001b[37m\u001b[0m \u001b[1m1s\u001b[0m 739us/step - accuracy: 0.7650 - loss: 0.5362 - val_accuracy: 0.7386 - val_loss: 0.6129\n",
      "Epoch 923/1000\n",
      "\u001b[1m1147/1147\u001b[0m \u001b[32m━━━━━━━━━━━━━━━━━━━━\u001b[0m\u001b[37m\u001b[0m \u001b[1m1s\u001b[0m 739us/step - accuracy: 0.7720 - loss: 0.5300 - val_accuracy: 0.7310 - val_loss: 0.6198\n",
      "Epoch 924/1000\n",
      "\u001b[1m1147/1147\u001b[0m \u001b[32m━━━━━━━━━━━━━━━━━━━━\u001b[0m\u001b[37m\u001b[0m \u001b[1m1s\u001b[0m 775us/step - accuracy: 0.7675 - loss: 0.5359 - val_accuracy: 0.7379 - val_loss: 0.6132\n",
      "Epoch 925/1000\n",
      "\u001b[1m1147/1147\u001b[0m \u001b[32m━━━━━━━━━━━━━━━━━━━━\u001b[0m\u001b[37m\u001b[0m \u001b[1m1s\u001b[0m 764us/step - accuracy: 0.7705 - loss: 0.5285 - val_accuracy: 0.7268 - val_loss: 0.6332\n",
      "Epoch 926/1000\n",
      "\u001b[1m1147/1147\u001b[0m \u001b[32m━━━━━━━━━━━━━━━━━━━━\u001b[0m\u001b[37m\u001b[0m \u001b[1m1s\u001b[0m 736us/step - accuracy: 0.7670 - loss: 0.5339 - val_accuracy: 0.7292 - val_loss: 0.6262\n",
      "Epoch 927/1000\n",
      "\u001b[1m1147/1147\u001b[0m \u001b[32m━━━━━━━━━━━━━━━━━━━━\u001b[0m\u001b[37m\u001b[0m \u001b[1m1s\u001b[0m 740us/step - accuracy: 0.7695 - loss: 0.5278 - val_accuracy: 0.7335 - val_loss: 0.6159\n",
      "Epoch 928/1000\n",
      "\u001b[1m1147/1147\u001b[0m \u001b[32m━━━━━━━━━━━━━━━━━━━━\u001b[0m\u001b[37m\u001b[0m \u001b[1m1s\u001b[0m 737us/step - accuracy: 0.7678 - loss: 0.5307 - val_accuracy: 0.7383 - val_loss: 0.6081\n",
      "Epoch 929/1000\n",
      "\u001b[1m1147/1147\u001b[0m \u001b[32m━━━━━━━━━━━━━━━━━━━━\u001b[0m\u001b[37m\u001b[0m \u001b[1m1s\u001b[0m 745us/step - accuracy: 0.7694 - loss: 0.5294 - val_accuracy: 0.7407 - val_loss: 0.6066\n",
      "Epoch 930/1000\n",
      "\u001b[1m1147/1147\u001b[0m \u001b[32m━━━━━━━━━━━━━━━━━━━━\u001b[0m\u001b[37m\u001b[0m \u001b[1m1s\u001b[0m 760us/step - accuracy: 0.7698 - loss: 0.5257 - val_accuracy: 0.7420 - val_loss: 0.6007\n",
      "Epoch 931/1000\n",
      "\u001b[1m1147/1147\u001b[0m \u001b[32m━━━━━━━━━━━━━━━━━━━━\u001b[0m\u001b[37m\u001b[0m \u001b[1m1s\u001b[0m 777us/step - accuracy: 0.7657 - loss: 0.5323 - val_accuracy: 0.7336 - val_loss: 0.6178\n",
      "Epoch 932/1000\n",
      "\u001b[1m1147/1147\u001b[0m \u001b[32m━━━━━━━━━━━━━━━━━━━━\u001b[0m\u001b[37m\u001b[0m \u001b[1m1s\u001b[0m 741us/step - accuracy: 0.7702 - loss: 0.5262 - val_accuracy: 0.7299 - val_loss: 0.6284\n",
      "Epoch 933/1000\n",
      "\u001b[1m1147/1147\u001b[0m \u001b[32m━━━━━━━━━━━━━━━━━━━━\u001b[0m\u001b[37m\u001b[0m \u001b[1m1s\u001b[0m 741us/step - accuracy: 0.7694 - loss: 0.5281 - val_accuracy: 0.7358 - val_loss: 0.6103\n",
      "Epoch 934/1000\n",
      "\u001b[1m1147/1147\u001b[0m \u001b[32m━━━━━━━━━━━━━━━━━━━━\u001b[0m\u001b[37m\u001b[0m \u001b[1m1s\u001b[0m 735us/step - accuracy: 0.7666 - loss: 0.5363 - val_accuracy: 0.7267 - val_loss: 0.6241\n",
      "Epoch 935/1000\n",
      "\u001b[1m1147/1147\u001b[0m \u001b[32m━━━━━━━━━━━━━━━━━━━━\u001b[0m\u001b[37m\u001b[0m \u001b[1m1s\u001b[0m 828us/step - accuracy: 0.7682 - loss: 0.5338 - val_accuracy: 0.7434 - val_loss: 0.6029\n",
      "Epoch 936/1000\n",
      "\u001b[1m1147/1147\u001b[0m \u001b[32m━━━━━━━━━━━━━━━━━━━━\u001b[0m\u001b[37m\u001b[0m \u001b[1m1s\u001b[0m 773us/step - accuracy: 0.7667 - loss: 0.5316 - val_accuracy: 0.7376 - val_loss: 0.6093\n",
      "Epoch 937/1000\n",
      "\u001b[1m1147/1147\u001b[0m \u001b[32m━━━━━━━━━━━━━━━━━━━━\u001b[0m\u001b[37m\u001b[0m \u001b[1m1s\u001b[0m 820us/step - accuracy: 0.7678 - loss: 0.5362 - val_accuracy: 0.7335 - val_loss: 0.6197\n",
      "Epoch 938/1000\n",
      "\u001b[1m1147/1147\u001b[0m \u001b[32m━━━━━━━━━━━━━━━━━━━━\u001b[0m\u001b[37m\u001b[0m \u001b[1m1s\u001b[0m 830us/step - accuracy: 0.7654 - loss: 0.5324 - val_accuracy: 0.7309 - val_loss: 0.6204\n",
      "Epoch 939/1000\n",
      "\u001b[1m1147/1147\u001b[0m \u001b[32m━━━━━━━━━━━━━━━━━━━━\u001b[0m\u001b[37m\u001b[0m \u001b[1m1s\u001b[0m 734us/step - accuracy: 0.7692 - loss: 0.5315 - val_accuracy: 0.7373 - val_loss: 0.6130\n",
      "Epoch 940/1000\n",
      "\u001b[1m1147/1147\u001b[0m \u001b[32m━━━━━━━━━━━━━━━━━━━━\u001b[0m\u001b[37m\u001b[0m \u001b[1m1s\u001b[0m 760us/step - accuracy: 0.7660 - loss: 0.5422 - val_accuracy: 0.7381 - val_loss: 0.6089\n",
      "Epoch 941/1000\n",
      "\u001b[1m1147/1147\u001b[0m \u001b[32m━━━━━━━━━━━━━━━━━━━━\u001b[0m\u001b[37m\u001b[0m \u001b[1m1s\u001b[0m 734us/step - accuracy: 0.7664 - loss: 0.5358 - val_accuracy: 0.7332 - val_loss: 0.6211\n",
      "Epoch 942/1000\n",
      "\u001b[1m1147/1147\u001b[0m \u001b[32m━━━━━━━━━━━━━━━━━━━━\u001b[0m\u001b[37m\u001b[0m \u001b[1m1s\u001b[0m 733us/step - accuracy: 0.7725 - loss: 0.5286 - val_accuracy: 0.7302 - val_loss: 0.6264\n",
      "Epoch 943/1000\n",
      "\u001b[1m1147/1147\u001b[0m \u001b[32m━━━━━━━━━━━━━━━━━━━━\u001b[0m\u001b[37m\u001b[0m \u001b[1m1s\u001b[0m 731us/step - accuracy: 0.7684 - loss: 0.5313 - val_accuracy: 0.7401 - val_loss: 0.6115\n",
      "Epoch 944/1000\n",
      "\u001b[1m1147/1147\u001b[0m \u001b[32m━━━━━━━━━━━━━━━━━━━━\u001b[0m\u001b[37m\u001b[0m \u001b[1m1s\u001b[0m 732us/step - accuracy: 0.7656 - loss: 0.5373 - val_accuracy: 0.7365 - val_loss: 0.6109\n",
      "Epoch 945/1000\n",
      "\u001b[1m1147/1147\u001b[0m \u001b[32m━━━━━━━━━━━━━━━━━━━━\u001b[0m\u001b[37m\u001b[0m \u001b[1m1s\u001b[0m 731us/step - accuracy: 0.7682 - loss: 0.5348 - val_accuracy: 0.7264 - val_loss: 0.6324\n",
      "Epoch 946/1000\n",
      "\u001b[1m1147/1147\u001b[0m \u001b[32m━━━━━━━━━━━━━━━━━━━━\u001b[0m\u001b[37m\u001b[0m \u001b[1m1s\u001b[0m 762us/step - accuracy: 0.7662 - loss: 0.5372 - val_accuracy: 0.7364 - val_loss: 0.6127\n",
      "Epoch 947/1000\n",
      "\u001b[1m1147/1147\u001b[0m \u001b[32m━━━━━━━━━━━━━━━━━━━━\u001b[0m\u001b[37m\u001b[0m \u001b[1m1s\u001b[0m 732us/step - accuracy: 0.7719 - loss: 0.5281 - val_accuracy: 0.7372 - val_loss: 0.6127\n",
      "Epoch 948/1000\n",
      "\u001b[1m1147/1147\u001b[0m \u001b[32m━━━━━━━━━━━━━━━━━━━━\u001b[0m\u001b[37m\u001b[0m \u001b[1m1s\u001b[0m 732us/step - accuracy: 0.7680 - loss: 0.5285 - val_accuracy: 0.7316 - val_loss: 0.6208\n",
      "Epoch 949/1000\n",
      "\u001b[1m1147/1147\u001b[0m \u001b[32m━━━━━━━━━━━━━━━━━━━━\u001b[0m\u001b[37m\u001b[0m \u001b[1m1s\u001b[0m 737us/step - accuracy: 0.7683 - loss: 0.5339 - val_accuracy: 0.7349 - val_loss: 0.6159\n",
      "Epoch 950/1000\n",
      "\u001b[1m1147/1147\u001b[0m \u001b[32m━━━━━━━━━━━━━━━━━━━━\u001b[0m\u001b[37m\u001b[0m \u001b[1m1s\u001b[0m 730us/step - accuracy: 0.7702 - loss: 0.5277 - val_accuracy: 0.7316 - val_loss: 0.6199\n",
      "Epoch 951/1000\n",
      "\u001b[1m1147/1147\u001b[0m \u001b[32m━━━━━━━━━━━━━━━━━━━━\u001b[0m\u001b[37m\u001b[0m \u001b[1m1s\u001b[0m 738us/step - accuracy: 0.7707 - loss: 0.5274 - val_accuracy: 0.7275 - val_loss: 0.6404\n",
      "Epoch 952/1000\n",
      "\u001b[1m1147/1147\u001b[0m \u001b[32m━━━━━━━━━━━━━━━━━━━━\u001b[0m\u001b[37m\u001b[0m \u001b[1m1s\u001b[0m 764us/step - accuracy: 0.7672 - loss: 0.5346 - val_accuracy: 0.7364 - val_loss: 0.6209\n",
      "Epoch 953/1000\n",
      "\u001b[1m1147/1147\u001b[0m \u001b[32m━━━━━━━━━━━━━━━━━━━━\u001b[0m\u001b[37m\u001b[0m \u001b[1m1s\u001b[0m 730us/step - accuracy: 0.7714 - loss: 0.5256 - val_accuracy: 0.7286 - val_loss: 0.6335\n",
      "Epoch 954/1000\n",
      "\u001b[1m1147/1147\u001b[0m \u001b[32m━━━━━━━━━━━━━━━━━━━━\u001b[0m\u001b[37m\u001b[0m \u001b[1m1s\u001b[0m 735us/step - accuracy: 0.7719 - loss: 0.5292 - val_accuracy: 0.7402 - val_loss: 0.6113\n",
      "Epoch 955/1000\n",
      "\u001b[1m1147/1147\u001b[0m \u001b[32m━━━━━━━━━━━━━━━━━━━━\u001b[0m\u001b[37m\u001b[0m \u001b[1m1s\u001b[0m 732us/step - accuracy: 0.7691 - loss: 0.5325 - val_accuracy: 0.7370 - val_loss: 0.6122\n",
      "Epoch 956/1000\n",
      "\u001b[1m1147/1147\u001b[0m \u001b[32m━━━━━━━━━━━━━━━━━━━━\u001b[0m\u001b[37m\u001b[0m \u001b[1m1s\u001b[0m 734us/step - accuracy: 0.7670 - loss: 0.5319 - val_accuracy: 0.7362 - val_loss: 0.6207\n",
      "Epoch 957/1000\n",
      "\u001b[1m1147/1147\u001b[0m \u001b[32m━━━━━━━━━━━━━━━━━━━━\u001b[0m\u001b[37m\u001b[0m \u001b[1m1s\u001b[0m 764us/step - accuracy: 0.7644 - loss: 0.5400 - val_accuracy: 0.7384 - val_loss: 0.6176\n",
      "Epoch 958/1000\n",
      "\u001b[1m1147/1147\u001b[0m \u001b[32m━━━━━━━━━━━━━━━━━━━━\u001b[0m\u001b[37m\u001b[0m \u001b[1m1s\u001b[0m 730us/step - accuracy: 0.7704 - loss: 0.5287 - val_accuracy: 0.7390 - val_loss: 0.6096\n",
      "Epoch 959/1000\n",
      "\u001b[1m1147/1147\u001b[0m \u001b[32m━━━━━━━━━━━━━━━━━━━━\u001b[0m\u001b[37m\u001b[0m \u001b[1m1s\u001b[0m 737us/step - accuracy: 0.7699 - loss: 0.5292 - val_accuracy: 0.7303 - val_loss: 0.6253\n",
      "Epoch 960/1000\n",
      "\u001b[1m1147/1147\u001b[0m \u001b[32m━━━━━━━━━━━━━━━━━━━━\u001b[0m\u001b[37m\u001b[0m \u001b[1m1s\u001b[0m 753us/step - accuracy: 0.7678 - loss: 0.5288 - val_accuracy: 0.7338 - val_loss: 0.6257\n",
      "Epoch 961/1000\n",
      "\u001b[1m1147/1147\u001b[0m \u001b[32m━━━━━━━━━━━━━━━━━━━━\u001b[0m\u001b[37m\u001b[0m \u001b[1m1s\u001b[0m 737us/step - accuracy: 0.7692 - loss: 0.5339 - val_accuracy: 0.7354 - val_loss: 0.6203\n",
      "Epoch 962/1000\n",
      "\u001b[1m1147/1147\u001b[0m \u001b[32m━━━━━━━━━━━━━━━━━━━━\u001b[0m\u001b[37m\u001b[0m \u001b[1m1s\u001b[0m 764us/step - accuracy: 0.7702 - loss: 0.5312 - val_accuracy: 0.7329 - val_loss: 0.6230\n",
      "Epoch 963/1000\n",
      "\u001b[1m1147/1147\u001b[0m \u001b[32m━━━━━━━━━━━━━━━━━━━━\u001b[0m\u001b[37m\u001b[0m \u001b[1m1s\u001b[0m 727us/step - accuracy: 0.7674 - loss: 0.5315 - val_accuracy: 0.7294 - val_loss: 0.6267\n",
      "Epoch 964/1000\n",
      "\u001b[1m1147/1147\u001b[0m \u001b[32m━━━━━━━━━━━━━━━━━━━━\u001b[0m\u001b[37m\u001b[0m \u001b[1m1s\u001b[0m 736us/step - accuracy: 0.7702 - loss: 0.5285 - val_accuracy: 0.7222 - val_loss: 0.6362\n",
      "Epoch 965/1000\n",
      "\u001b[1m1147/1147\u001b[0m \u001b[32m━━━━━━━━━━━━━━━━━━━━\u001b[0m\u001b[37m\u001b[0m \u001b[1m1s\u001b[0m 730us/step - accuracy: 0.7700 - loss: 0.5332 - val_accuracy: 0.7329 - val_loss: 0.6249\n",
      "Epoch 966/1000\n",
      "\u001b[1m1147/1147\u001b[0m \u001b[32m━━━━━━━━━━━━━━━━━━━━\u001b[0m\u001b[37m\u001b[0m \u001b[1m1s\u001b[0m 762us/step - accuracy: 0.7660 - loss: 0.5375 - val_accuracy: 0.7415 - val_loss: 0.6075\n",
      "Epoch 967/1000\n",
      "\u001b[1m1147/1147\u001b[0m \u001b[32m━━━━━━━━━━━━━━━━━━━━\u001b[0m\u001b[37m\u001b[0m \u001b[1m1s\u001b[0m 777us/step - accuracy: 0.7714 - loss: 0.5282 - val_accuracy: 0.7313 - val_loss: 0.6180\n",
      "Epoch 968/1000\n",
      "\u001b[1m1147/1147\u001b[0m \u001b[32m━━━━━━━━━━━━━━━━━━━━\u001b[0m\u001b[37m\u001b[0m \u001b[1m1s\u001b[0m 733us/step - accuracy: 0.7604 - loss: 0.5369 - val_accuracy: 0.7305 - val_loss: 0.6185\n",
      "Epoch 969/1000\n",
      "\u001b[1m1147/1147\u001b[0m \u001b[32m━━━━━━━━━━━━━━━━━━━━\u001b[0m\u001b[37m\u001b[0m \u001b[1m1s\u001b[0m 743us/step - accuracy: 0.7688 - loss: 0.5286 - val_accuracy: 0.7369 - val_loss: 0.6136\n",
      "Epoch 970/1000\n",
      "\u001b[1m1147/1147\u001b[0m \u001b[32m━━━━━━━━━━━━━━━━━━━━\u001b[0m\u001b[37m\u001b[0m \u001b[1m1s\u001b[0m 768us/step - accuracy: 0.7714 - loss: 0.5284 - val_accuracy: 0.7436 - val_loss: 0.6021\n",
      "Epoch 971/1000\n",
      "\u001b[1m1147/1147\u001b[0m \u001b[32m━━━━━━━━━━━━━━━━━━━━\u001b[0m\u001b[37m\u001b[0m \u001b[1m1s\u001b[0m 752us/step - accuracy: 0.7666 - loss: 0.5298 - val_accuracy: 0.7400 - val_loss: 0.6047\n",
      "Epoch 972/1000\n",
      "\u001b[1m1147/1147\u001b[0m \u001b[32m━━━━━━━━━━━━━━━━━━━━\u001b[0m\u001b[37m\u001b[0m \u001b[1m1s\u001b[0m 738us/step - accuracy: 0.7726 - loss: 0.5259 - val_accuracy: 0.7389 - val_loss: 0.6119\n",
      "Epoch 973/1000\n",
      "\u001b[1m1147/1147\u001b[0m \u001b[32m━━━━━━━━━━━━━━━━━━━━\u001b[0m\u001b[37m\u001b[0m \u001b[1m1s\u001b[0m 733us/step - accuracy: 0.7655 - loss: 0.5384 - val_accuracy: 0.7335 - val_loss: 0.6183\n",
      "Epoch 974/1000\n",
      "\u001b[1m1147/1147\u001b[0m \u001b[32m━━━━━━━━━━━━━━━━━━━━\u001b[0m\u001b[37m\u001b[0m \u001b[1m1s\u001b[0m 768us/step - accuracy: 0.7676 - loss: 0.5310 - val_accuracy: 0.7288 - val_loss: 0.6315\n",
      "Epoch 975/1000\n",
      "\u001b[1m1147/1147\u001b[0m \u001b[32m━━━━━━━━━━━━━━━━━━━━\u001b[0m\u001b[37m\u001b[0m \u001b[1m1s\u001b[0m 736us/step - accuracy: 0.7687 - loss: 0.5330 - val_accuracy: 0.7225 - val_loss: 0.6425\n",
      "Epoch 976/1000\n",
      "\u001b[1m1147/1147\u001b[0m \u001b[32m━━━━━━━━━━━━━━━━━━━━\u001b[0m\u001b[37m\u001b[0m \u001b[1m1s\u001b[0m 743us/step - accuracy: 0.7727 - loss: 0.5295 - val_accuracy: 0.7381 - val_loss: 0.6153\n",
      "Epoch 977/1000\n",
      "\u001b[1m1147/1147\u001b[0m \u001b[32m━━━━━━━━━━━━━━━━━━━━\u001b[0m\u001b[37m\u001b[0m \u001b[1m1s\u001b[0m 732us/step - accuracy: 0.7741 - loss: 0.5308 - val_accuracy: 0.7368 - val_loss: 0.6156\n",
      "Epoch 978/1000\n",
      "\u001b[1m1147/1147\u001b[0m \u001b[32m━━━━━━━━━━━━━━━━━━━━\u001b[0m\u001b[37m\u001b[0m \u001b[1m1s\u001b[0m 734us/step - accuracy: 0.7678 - loss: 0.5317 - val_accuracy: 0.7427 - val_loss: 0.6017\n",
      "Epoch 979/1000\n",
      "\u001b[1m1147/1147\u001b[0m \u001b[32m━━━━━━━━━━━━━━━━━━━━\u001b[0m\u001b[37m\u001b[0m \u001b[1m1s\u001b[0m 770us/step - accuracy: 0.7708 - loss: 0.5320 - val_accuracy: 0.7372 - val_loss: 0.6115\n",
      "Epoch 980/1000\n",
      "\u001b[1m1147/1147\u001b[0m \u001b[32m━━━━━━━━━━━━━━━━━━━━\u001b[0m\u001b[37m\u001b[0m \u001b[1m1s\u001b[0m 733us/step - accuracy: 0.7672 - loss: 0.5307 - val_accuracy: 0.7373 - val_loss: 0.6106\n",
      "Epoch 981/1000\n",
      "\u001b[1m1147/1147\u001b[0m \u001b[32m━━━━━━━━━━━━━━━━━━━━\u001b[0m\u001b[37m\u001b[0m \u001b[1m1s\u001b[0m 732us/step - accuracy: 0.7667 - loss: 0.5364 - val_accuracy: 0.7357 - val_loss: 0.6166\n",
      "Epoch 982/1000\n",
      "\u001b[1m1147/1147\u001b[0m \u001b[32m━━━━━━━━━━━━━━━━━━━━\u001b[0m\u001b[37m\u001b[0m \u001b[1m1s\u001b[0m 740us/step - accuracy: 0.7666 - loss: 0.5352 - val_accuracy: 0.7321 - val_loss: 0.6224\n",
      "Epoch 983/1000\n",
      "\u001b[1m1147/1147\u001b[0m \u001b[32m━━━━━━━━━━━━━━━━━━━━\u001b[0m\u001b[37m\u001b[0m \u001b[1m1s\u001b[0m 779us/step - accuracy: 0.7662 - loss: 0.5414 - val_accuracy: 0.7375 - val_loss: 0.6082\n",
      "Epoch 984/1000\n",
      "\u001b[1m1147/1147\u001b[0m \u001b[32m━━━━━━━━━━━━━━━━━━━━\u001b[0m\u001b[37m\u001b[0m \u001b[1m1s\u001b[0m 737us/step - accuracy: 0.7674 - loss: 0.5313 - val_accuracy: 0.7356 - val_loss: 0.6128\n",
      "Epoch 985/1000\n",
      "\u001b[1m1147/1147\u001b[0m \u001b[32m━━━━━━━━━━━━━━━━━━━━\u001b[0m\u001b[37m\u001b[0m \u001b[1m1s\u001b[0m 739us/step - accuracy: 0.7735 - loss: 0.5256 - val_accuracy: 0.7382 - val_loss: 0.6135\n",
      "Epoch 986/1000\n",
      "\u001b[1m1147/1147\u001b[0m \u001b[32m━━━━━━━━━━━━━━━━━━━━\u001b[0m\u001b[37m\u001b[0m \u001b[1m1s\u001b[0m 733us/step - accuracy: 0.7705 - loss: 0.5273 - val_accuracy: 0.7397 - val_loss: 0.6030\n",
      "Epoch 987/1000\n",
      "\u001b[1m1147/1147\u001b[0m \u001b[32m━━━━━━━━━━━━━━━━━━━━\u001b[0m\u001b[37m\u001b[0m \u001b[1m1s\u001b[0m 737us/step - accuracy: 0.7732 - loss: 0.5272 - val_accuracy: 0.7339 - val_loss: 0.6231\n",
      "Epoch 988/1000\n",
      "\u001b[1m1147/1147\u001b[0m \u001b[32m━━━━━━━━━━━━━━━━━━━━\u001b[0m\u001b[37m\u001b[0m \u001b[1m1s\u001b[0m 767us/step - accuracy: 0.7684 - loss: 0.5326 - val_accuracy: 0.7366 - val_loss: 0.6151\n",
      "Epoch 989/1000\n",
      "\u001b[1m1147/1147\u001b[0m \u001b[32m━━━━━━━━━━━━━━━━━━━━\u001b[0m\u001b[37m\u001b[0m \u001b[1m1s\u001b[0m 738us/step - accuracy: 0.7691 - loss: 0.5308 - val_accuracy: 0.7326 - val_loss: 0.6147\n",
      "Epoch 990/1000\n",
      "\u001b[1m1147/1147\u001b[0m \u001b[32m━━━━━━━━━━━━━━━━━━━━\u001b[0m\u001b[37m\u001b[0m \u001b[1m1s\u001b[0m 739us/step - accuracy: 0.7679 - loss: 0.5306 - val_accuracy: 0.7403 - val_loss: 0.6153\n",
      "Epoch 991/1000\n",
      "\u001b[1m1147/1147\u001b[0m \u001b[32m━━━━━━━━━━━━━━━━━━━━\u001b[0m\u001b[37m\u001b[0m \u001b[1m1s\u001b[0m 738us/step - accuracy: 0.7713 - loss: 0.5262 - val_accuracy: 0.7400 - val_loss: 0.6074\n",
      "Epoch 992/1000\n",
      "\u001b[1m1147/1147\u001b[0m \u001b[32m━━━━━━━━━━━━━━━━━━━━\u001b[0m\u001b[37m\u001b[0m \u001b[1m1s\u001b[0m 768us/step - accuracy: 0.7689 - loss: 0.5334 - val_accuracy: 0.7473 - val_loss: 0.5959\n",
      "Epoch 993/1000\n",
      "\u001b[1m1147/1147\u001b[0m \u001b[32m━━━━━━━━━━━━━━━━━━━━\u001b[0m\u001b[37m\u001b[0m \u001b[1m1s\u001b[0m 739us/step - accuracy: 0.7705 - loss: 0.5352 - val_accuracy: 0.7408 - val_loss: 0.6078\n",
      "Epoch 994/1000\n",
      "\u001b[1m1147/1147\u001b[0m \u001b[32m━━━━━━━━━━━━━━━━━━━━\u001b[0m\u001b[37m\u001b[0m \u001b[1m1s\u001b[0m 738us/step - accuracy: 0.7687 - loss: 0.5322 - val_accuracy: 0.7339 - val_loss: 0.6142\n",
      "Epoch 995/1000\n",
      "\u001b[1m1147/1147\u001b[0m \u001b[32m━━━━━━━━━━━━━━━━━━━━\u001b[0m\u001b[37m\u001b[0m \u001b[1m1s\u001b[0m 735us/step - accuracy: 0.7656 - loss: 0.5304 - val_accuracy: 0.7198 - val_loss: 0.6485\n",
      "Epoch 996/1000\n",
      "\u001b[1m1147/1147\u001b[0m \u001b[32m━━━━━━━━━━━━━━━━━━━━\u001b[0m\u001b[37m\u001b[0m \u001b[1m1s\u001b[0m 769us/step - accuracy: 0.7723 - loss: 0.5300 - val_accuracy: 0.7146 - val_loss: 0.6506\n",
      "Epoch 997/1000\n",
      "\u001b[1m1147/1147\u001b[0m \u001b[32m━━━━━━━━━━━━━━━━━━━━\u001b[0m\u001b[37m\u001b[0m \u001b[1m1s\u001b[0m 761us/step - accuracy: 0.7676 - loss: 0.5346 - val_accuracy: 0.7339 - val_loss: 0.6148\n",
      "Epoch 998/1000\n",
      "\u001b[1m1147/1147\u001b[0m \u001b[32m━━━━━━━━━━━━━━━━━━━━\u001b[0m\u001b[37m\u001b[0m \u001b[1m1s\u001b[0m 731us/step - accuracy: 0.7669 - loss: 0.5321 - val_accuracy: 0.7478 - val_loss: 0.5942\n",
      "Epoch 999/1000\n",
      "\u001b[1m1147/1147\u001b[0m \u001b[32m━━━━━━━━━━━━━━━━━━━━\u001b[0m\u001b[37m\u001b[0m \u001b[1m1s\u001b[0m 758us/step - accuracy: 0.7675 - loss: 0.5313 - val_accuracy: 0.7278 - val_loss: 0.6271\n",
      "Epoch 1000/1000\n",
      "\u001b[1m1147/1147\u001b[0m \u001b[32m━━━━━━━━━━━━━━━━━━━━\u001b[0m\u001b[37m\u001b[0m \u001b[1m1s\u001b[0m 765us/step - accuracy: 0.7728 - loss: 0.5291 - val_accuracy: 0.7253 - val_loss: 0.6360\n"
     ]
    }
   ],
   "source": [
    "# Define the neural network\n",
    "model = Sequential([\n",
    "    Dense(128, input_dim=X_train.shape[1], activation='relu'),\n",
    "    Dropout(0.5),\n",
    "    Dense(128, activation='relu'),\n",
    "    Dropout(0.3),\n",
    "    Dense(128, activation='relu'),\n",
    "    Dense(5, activation='softmax')  # 5 output units for the 5 classes\n",
    "])\n",
    "\n",
    "# Compile the model\n",
    "model.compile(optimizer=Adam(learning_rate=0.0001), \n",
    "              loss=SparseCategoricalCrossentropy(),\n",
    "              metrics=['accuracy'])\n",
    "\n",
    "# Train the model\n",
    "history = model.fit(X_train, y_train, epochs=1000, batch_size=32, validation_split=0.2)"
   ]
  },
  {
   "cell_type": "code",
   "execution_count": 175,
   "metadata": {},
   "outputs": [
    {
     "data": {
      "image/png": "[encoded data removed]",
      "text/plain": [
       "<Figure size 1200x600 with 2 Axes>"
      ]
     },
     "metadata": {},
     "output_type": "display_data"
    }
   ],
   "source": [
    "import matplotlib.pyplot as plt\n",
    "# Plot training & validation accuracy values\n",
    "plt.figure(figsize=(12, 6))\n",
    "plt.subplot(1, 2, 1)\n",
    "plt.plot(history.history['accuracy'])\n",
    "plt.plot(history.history['val_accuracy'])\n",
    "plt.title('Model accuracy')\n",
    "plt.ylabel('Accuracy')\n",
    "plt.xlabel('Epoch')\n",
    "plt.legend(['Train', 'Validation'], loc='upper left')\n",
    "\n",
    "# Plot training & validation loss values\n",
    "plt.subplot(1, 2, 2)\n",
    "plt.plot(history.history['loss'])\n",
    "plt.plot(history.history['val_loss'])\n",
    "plt.title('Model loss')\n",
    "plt.ylabel('Loss')\n",
    "plt.xlabel('Epoch')\n",
    "plt.legend(['Train', 'Validation'], loc='upper left')\n",
    "\n",
    "plt.show()"
   ]
  },
  {
   "cell_type": "code",
   "execution_count": 176,
   "metadata": {},
   "outputs": [],
   "source": [
    "import torch\n",
    "# Splitting data to train val test\n",
    "X_train, X_temp, y_train, y_temp = train_test_split(X, y, test_size=0.3, random_state=5)\n",
    "X_val, X_test, y_val, y_test = train_test_split(X_temp, y_temp, test_size=0.5, random_state=5)\n",
    "# Converting data to Torch tensor\n",
    "train_input = torch.tensor(X_train.to_numpy(), dtype=torch.float32)\n",
    "train_label = torch.tensor(y_train.to_numpy(), dtype=torch.long)\n",
    "val_input = torch.tensor(X_val.to_numpy(), dtype=torch.float32)\n",
    "val_label = torch.tensor(y_val.to_numpy(), dtype=torch.long)\n",
    "test_input = torch.tensor(X_test.to_numpy(), dtype=torch.float32)\n",
    "test_label = torch.tensor(y_test.to_numpy(), dtype=torch.long)"
   ]
  },
  {
   "cell_type": "code",
   "execution_count": 177,
   "metadata": {},
   "outputs": [],
   "source": [
    "dataset = {\n",
    "    'train_input': train_input,\n",
    "    'train_label': train_label,\n",
    "    'val_input': val_input,\n",
    "    'val_label': val_label,\n",
    "    'test_input': test_input,\n",
    "    'test_label': test_label\n",
    "}"
   ]
  },
  {
   "cell_type": "code",
   "execution_count": 178,
   "metadata": {},
   "outputs": [],
   "source": [
    "from kan import KAN\n",
    "\n",
    "kan_model = KAN([10, 7, 5], grid=10, k=3)"
   ]
  },
  {
   "cell_type": "code",
   "execution_count": 179,
   "metadata": {},
   "outputs": [],
   "source": [
    "# Fuctions for getting accuracy scores while training\n",
    "def train_acc():\n",
    "    preds = torch.argmax(kan_model(dataset['train_input']), dim=1)\n",
    "    return torch.mean((preds == dataset['train_label']).float())\n",
    "\n",
    "def test_acc():\n",
    "    preds = torch.argmax(kan_model(dataset['test_input']), dim=1)\n",
    "    return torch.mean((preds == dataset['test_label']).float())"
   ]
  },
  {
   "cell_type": "code",
   "execution_count": 180,
   "metadata": {},
   "outputs": [
    {
     "name": "stderr",
     "output_type": "stream",
     "text": [
      "train loss: 7.38e-01 | test loss: 7.48e-01 | reg: 3.92e+01 : 100%|█| 100/100 [55:10<00:00, 33.10s/it\n"
     ]
    }
   ],
   "source": [
    "# KAN model training\n",
    "results = kan_model.train({'train_input': train_input, 'train_label': train_label, 'test_input': val_input, 'test_label': val_label},\n",
    "                      metrics=(train_acc, test_acc),\n",
    "                      opt=\"LBFGS\", steps=100, loss_fn=torch.nn.CrossEntropyLoss())"
   ]
  },
  {
   "cell_type": "code",
   "execution_count": 181,
   "metadata": {},
   "outputs": [
    {
     "name": "stdout",
     "output_type": "stream",
     "text": [
      "Train ACC: 0.7577585562230476\n",
      "Val ACC: 0.7512796649604467\n",
      "Test ACC: 0.7453762940560661\n"
     ]
    }
   ],
   "source": [
    "# Predictions of train val and test datasets\n",
    "test_preds = torch.argmax(kan_model.forward(test_input).detach(),dim=1)\n",
    "test_labels = test_label\n",
    "\n",
    "train_preds = torch.argmax(kan_model.forward(train_input).detach(),dim=1)\n",
    "train_labels = train_label\n",
    "\n",
    "val_preds = torch.argmax(kan_model.forward(val_input).detach(),dim=1)\n",
    "val_labels = val_label\n",
    "\n",
    "\n",
    "# Evaluate metrics\n",
    "\n",
    "print(\"Train ACC:\", accuracy_score(train_labels.numpy(), train_preds.numpy()))\n",
    "\n",
    "print(\"Val ACC:\", accuracy_score(val_labels.numpy(), val_preds.numpy()))\n",
    "\n",
    "print(\"Test ACC:\", accuracy_score(test_labels.numpy(), test_preds.numpy()))"
   ]
  },
  {
   "cell_type": "code",
   "execution_count": 182,
   "metadata": {},
   "outputs": [
    {
     "data": {
      "image/png": "[encoded data removed]",
      "text/plain": [
       "<Figure size 1000x500 with 1 Axes>"
      ]
     },
     "metadata": {},
     "output_type": "display_data"
    }
   ],
   "source": [
    "import matplotlib.pyplot as plt\n",
    "# Learning curve based on ACC and LOSS\n",
    "plt.figure(figsize=(10, 5))\n",
    "plt.plot(results[\"train_acc\"], label='Training Accuracy')\n",
    "plt.plot(results[\"test_acc\"], label='Val Accuracy')\n",
    "plt.plot(results[\"train_loss\"], label='Training Loss')\n",
    "plt.plot(results[\"test_loss\"], label='Val Loss')\n",
    "plt.title('Training and Val Accuracy over Iterations')\n",
    "plt.xlabel('Iteration')\n",
    "plt.ylabel('Accuracy & Loss')\n",
    "plt.legend()\n",
    "plt.grid(True)\n",
    "plt.show()"
   ]
  },
  {
   "cell_type": "code",
   "execution_count": 183,
   "metadata": {},
   "outputs": [],
   "source": [
    "from sklearn.neighbors import KNeighborsClassifier\n",
    "\n",
    "clf = KNeighborsClassifier(n_neighbors=5, metric='minkowski', p=2)"
   ]
  },
  {
   "cell_type": "code",
   "execution_count": 184,
   "metadata": {},
   "outputs": [
    {
     "data": {
      "text/html": [
       "<style>#sk-container-id-3 {\n",
       "  /* Definition of color scheme common for light and dark mode */\n",
       "  --sklearn-color-text: black;\n",
       "  --sklearn-color-line: gray;\n",
       "  /* Definition of color scheme for unfitted estimators */\n",
       "  --sklearn-color-unfitted-level-0: #fff5e6;\n",
       "  --sklearn-color-unfitted-level-1: #f6e4d2;\n",
       "  --sklearn-color-unfitted-level-2: #ffe0b3;\n",
       "  --sklearn-color-unfitted-level-3: chocolate;\n",
       "  /* Definition of color scheme for fitted estimators */\n",
       "  --sklearn-color-fitted-level-0: #f0f8ff;\n",
       "  --sklearn-color-fitted-level-1: #d4ebff;\n",
       "  --sklearn-color-fitted-level-2: #b3dbfd;\n",
       "  --sklearn-color-fitted-level-3: cornflowerblue;\n",
       "\n",
       "  /* Specific color for light theme */\n",
       "  --sklearn-color-text-on-default-background: var(--sg-text-color, var(--theme-code-foreground, var(--jp-content-font-color1, black)));\n",
       "  --sklearn-color-background: var(--sg-background-color, var(--theme-background, var(--jp-layout-color0, white)));\n",
       "  --sklearn-color-border-box: var(--sg-text-color, var(--theme-code-foreground, var(--jp-content-font-color1, black)));\n",
       "  --sklearn-color-icon: #696969;\n",
       "\n",
       "  @media (prefers-color-scheme: dark) {\n",
       "    /* Redefinition of color scheme for dark theme */\n",
       "    --sklearn-color-text-on-default-background: var(--sg-text-color, var(--theme-code-foreground, var(--jp-content-font-color1, white)));\n",
       "    --sklearn-color-background: var(--sg-background-color, var(--theme-background, var(--jp-layout-color0, #111)));\n",
       "    --sklearn-color-border-box: var(--sg-text-color, var(--theme-code-foreground, var(--jp-content-font-color1, white)));\n",
       "    --sklearn-color-icon: #878787;\n",
       "  }\n",
       "}\n",
       "\n",
       "#sk-container-id-3 {\n",
       "  color: var(--sklearn-color-text);\n",
       "}\n",
       "\n",
       "#sk-container-id-3 pre {\n",
       "  padding: 0;\n",
       "}\n",
       "\n",
       "#sk-container-id-3 input.sk-hidden--visually {\n",
       "  border: 0;\n",
       "  clip: rect(1px 1px 1px 1px);\n",
       "  clip: rect(1px, 1px, 1px, 1px);\n",
       "  height: 1px;\n",
       "  margin: -1px;\n",
       "  overflow: hidden;\n",
       "  padding: 0;\n",
       "  position: absolute;\n",
       "  width: 1px;\n",
       "}\n",
       "\n",
       "#sk-container-id-3 div.sk-dashed-wrapped {\n",
       "  border: 1px dashed var(--sklearn-color-line);\n",
       "  margin: 0 0.4em 0.5em 0.4em;\n",
       "  box-sizing: border-box;\n",
       "  padding-bottom: 0.4em;\n",
       "  background-color: var(--sklearn-color-background);\n",
       "}\n",
       "\n",
       "#sk-container-id-3 div.sk-container {\n",
       "  /* jupyter's `normalize.less` sets `[hidden] { display: none; }`\n",
       "     but bootstrap.min.css set `[hidden] { display: none !important; }`\n",
       "     so we also need the `!important` here to be able to override the\n",
       "     default hidden behavior on the sphinx rendered scikit-learn.org.\n",
       "     See: https://github.com/scikit-learn/scikit-learn/issues/21755 */\n",
       "  display: inline-block !important;\n",
       "  position: relative;\n",
       "}\n",
       "\n",
       "#sk-container-id-3 div.sk-text-repr-fallback {\n",
       "  display: none;\n",
       "}\n",
       "\n",
       "div.sk-parallel-item,\n",
       "div.sk-serial,\n",
       "div.sk-item {\n",
       "  /* draw centered vertical line to link estimators */\n",
       "  background-image: linear-gradient(var(--sklearn-color-text-on-default-background), var(--sklearn-color-text-on-default-background));\n",
       "  background-size: 2px 100%;\n",
       "  background-repeat: no-repeat;\n",
       "  background-position: center center;\n",
       "}\n",
       "\n",
       "/* Parallel-specific style estimator block */\n",
       "\n",
       "#sk-container-id-3 div.sk-parallel-item::after {\n",
       "  content: \"\";\n",
       "  width: 100%;\n",
       "  border-bottom: 2px solid var(--sklearn-color-text-on-default-background);\n",
       "  flex-grow: 1;\n",
       "}\n",
       "\n",
       "#sk-container-id-3 div.sk-parallel {\n",
       "  display: flex;\n",
       "  align-items: stretch;\n",
       "  justify-content: center;\n",
       "  background-color: var(--sklearn-color-background);\n",
       "  position: relative;\n",
       "}\n",
       "\n",
       "#sk-container-id-3 div.sk-parallel-item {\n",
       "  display: flex;\n",
       "  flex-direction: column;\n",
       "}\n",
       "\n",
       "#sk-container-id-3 div.sk-parallel-item:first-child::after {\n",
       "  align-self: flex-end;\n",
       "  width: 50%;\n",
       "}\n",
       "\n",
       "#sk-container-id-3 div.sk-parallel-item:last-child::after {\n",
       "  align-self: flex-start;\n",
       "  width: 50%;\n",
       "}\n",
       "\n",
       "#sk-container-id-3 div.sk-parallel-item:only-child::after {\n",
       "  width: 0;\n",
       "}\n",
       "\n",
       "/* Serial-specific style estimator block */\n",
       "\n",
       "#sk-container-id-3 div.sk-serial {\n",
       "  display: flex;\n",
       "  flex-direction: column;\n",
       "  align-items: center;\n",
       "  background-color: var(--sklearn-color-background);\n",
       "  padding-right: 1em;\n",
       "  padding-left: 1em;\n",
       "}\n",
       "\n",
       "\n",
       "/* Toggleable style: style used for estimator/Pipeline/ColumnTransformer box that is\n",
       "clickable and can be expanded/collapsed.\n",
       "- Pipeline and ColumnTransformer use this feature and define the default style\n",
       "- Estimators will overwrite some part of the style using the `sk-estimator` class\n",
       "*/\n",
       "\n",
       "/* Pipeline and ColumnTransformer style (default) */\n",
       "\n",
       "#sk-container-id-3 div.sk-toggleable {\n",
       "  /* Default theme specific background. It is overwritten whether we have a\n",
       "  specific estimator or a Pipeline/ColumnTransformer */\n",
       "  background-color: var(--sklearn-color-background);\n",
       "}\n",
       "\n",
       "/* Toggleable label */\n",
       "#sk-container-id-3 label.sk-toggleable__label {\n",
       "  cursor: pointer;\n",
       "  display: block;\n",
       "  width: 100%;\n",
       "  margin-bottom: 0;\n",
       "  padding: 0.5em;\n",
       "  box-sizing: border-box;\n",
       "  text-align: center;\n",
       "}\n",
       "\n",
       "#sk-container-id-3 label.sk-toggleable__label-arrow:before {\n",
       "  /* Arrow on the left of the label */\n",
       "  content: \"▸\";\n",
       "  float: left;\n",
       "  margin-right: 0.25em;\n",
       "  color: var(--sklearn-color-icon);\n",
       "}\n",
       "\n",
       "#sk-container-id-3 label.sk-toggleable__label-arrow:hover:before {\n",
       "  color: var(--sklearn-color-text);\n",
       "}\n",
       "\n",
       "/* Toggleable content - dropdown */\n",
       "\n",
       "#sk-container-id-3 div.sk-toggleable__content {\n",
       "  max-height: 0;\n",
       "  max-width: 0;\n",
       "  overflow: hidden;\n",
       "  text-align: left;\n",
       "  /* unfitted */\n",
       "  background-color: var(--sklearn-color-unfitted-level-0);\n",
       "}\n",
       "\n",
       "#sk-container-id-3 div.sk-toggleable__content.fitted {\n",
       "  /* fitted */\n",
       "  background-color: var(--sklearn-color-fitted-level-0);\n",
       "}\n",
       "\n",
       "#sk-container-id-3 div.sk-toggleable__content pre {\n",
       "  margin: 0.2em;\n",
       "  border-radius: 0.25em;\n",
       "  color: var(--sklearn-color-text);\n",
       "  /* unfitted */\n",
       "  background-color: var(--sklearn-color-unfitted-level-0);\n",
       "}\n",
       "\n",
       "#sk-container-id-3 div.sk-toggleable__content.fitted pre {\n",
       "  /* unfitted */\n",
       "  background-color: var(--sklearn-color-fitted-level-0);\n",
       "}\n",
       "\n",
       "#sk-container-id-3 input.sk-toggleable__control:checked~div.sk-toggleable__content {\n",
       "  /* Expand drop-down */\n",
       "  max-height: 200px;\n",
       "  max-width: 100%;\n",
       "  overflow: auto;\n",
       "}\n",
       "\n",
       "#sk-container-id-3 input.sk-toggleable__control:checked~label.sk-toggleable__label-arrow:before {\n",
       "  content: \"▾\";\n",
       "}\n",
       "\n",
       "/* Pipeline/ColumnTransformer-specific style */\n",
       "\n",
       "#sk-container-id-3 div.sk-label input.sk-toggleable__control:checked~label.sk-toggleable__label {\n",
       "  color: var(--sklearn-color-text);\n",
       "  background-color: var(--sklearn-color-unfitted-level-2);\n",
       "}\n",
       "\n",
       "#sk-container-id-3 div.sk-label.fitted input.sk-toggleable__control:checked~label.sk-toggleable__label {\n",
       "  background-color: var(--sklearn-color-fitted-level-2);\n",
       "}\n",
       "\n",
       "/* Estimator-specific style */\n",
       "\n",
       "/* Colorize estimator box */\n",
       "#sk-container-id-3 div.sk-estimator input.sk-toggleable__control:checked~label.sk-toggleable__label {\n",
       "  /* unfitted */\n",
       "  background-color: var(--sklearn-color-unfitted-level-2);\n",
       "}\n",
       "\n",
       "#sk-container-id-3 div.sk-estimator.fitted input.sk-toggleable__control:checked~label.sk-toggleable__label {\n",
       "  /* fitted */\n",
       "  background-color: var(--sklearn-color-fitted-level-2);\n",
       "}\n",
       "\n",
       "#sk-container-id-3 div.sk-label label.sk-toggleable__label,\n",
       "#sk-container-id-3 div.sk-label label {\n",
       "  /* The background is the default theme color */\n",
       "  color: var(--sklearn-color-text-on-default-background);\n",
       "}\n",
       "\n",
       "/* On hover, darken the color of the background */\n",
       "#sk-container-id-3 div.sk-label:hover label.sk-toggleable__label {\n",
       "  color: var(--sklearn-color-text);\n",
       "  background-color: var(--sklearn-color-unfitted-level-2);\n",
       "}\n",
       "\n",
       "/* Label box, darken color on hover, fitted */\n",
       "#sk-container-id-3 div.sk-label.fitted:hover label.sk-toggleable__label.fitted {\n",
       "  color: var(--sklearn-color-text);\n",
       "  background-color: var(--sklearn-color-fitted-level-2);\n",
       "}\n",
       "\n",
       "/* Estimator label */\n",
       "\n",
       "#sk-container-id-3 div.sk-label label {\n",
       "  font-family: monospace;\n",
       "  font-weight: bold;\n",
       "  display: inline-block;\n",
       "  line-height: 1.2em;\n",
       "}\n",
       "\n",
       "#sk-container-id-3 div.sk-label-container {\n",
       "  text-align: center;\n",
       "}\n",
       "\n",
       "/* Estimator-specific */\n",
       "#sk-container-id-3 div.sk-estimator {\n",
       "  font-family: monospace;\n",
       "  border: 1px dotted var(--sklearn-color-border-box);\n",
       "  border-radius: 0.25em;\n",
       "  box-sizing: border-box;\n",
       "  margin-bottom: 0.5em;\n",
       "  /* unfitted */\n",
       "  background-color: var(--sklearn-color-unfitted-level-0);\n",
       "}\n",
       "\n",
       "#sk-container-id-3 div.sk-estimator.fitted {\n",
       "  /* fitted */\n",
       "  background-color: var(--sklearn-color-fitted-level-0);\n",
       "}\n",
       "\n",
       "/* on hover */\n",
       "#sk-container-id-3 div.sk-estimator:hover {\n",
       "  /* unfitted */\n",
       "  background-color: var(--sklearn-color-unfitted-level-2);\n",
       "}\n",
       "\n",
       "#sk-container-id-3 div.sk-estimator.fitted:hover {\n",
       "  /* fitted */\n",
       "  background-color: var(--sklearn-color-fitted-level-2);\n",
       "}\n",
       "\n",
       "/* Specification for estimator info (e.g. \"i\" and \"?\") */\n",
       "\n",
       "/* Common style for \"i\" and \"?\" */\n",
       "\n",
       ".sk-estimator-doc-link,\n",
       "a:link.sk-estimator-doc-link,\n",
       "a:visited.sk-estimator-doc-link {\n",
       "  float: right;\n",
       "  font-size: smaller;\n",
       "  line-height: 1em;\n",
       "  font-family: monospace;\n",
       "  background-color: var(--sklearn-color-background);\n",
       "  border-radius: 1em;\n",
       "  height: 1em;\n",
       "  width: 1em;\n",
       "  text-decoration: none !important;\n",
       "  margin-left: 1ex;\n",
       "  /* unfitted */\n",
       "  border: var(--sklearn-color-unfitted-level-1) 1pt solid;\n",
       "  color: var(--sklearn-color-unfitted-level-1);\n",
       "}\n",
       "\n",
       ".sk-estimator-doc-link.fitted,\n",
       "a:link.sk-estimator-doc-link.fitted,\n",
       "a:visited.sk-estimator-doc-link.fitted {\n",
       "  /* fitted */\n",
       "  border: var(--sklearn-color-fitted-level-1) 1pt solid;\n",
       "  color: var(--sklearn-color-fitted-level-1);\n",
       "}\n",
       "\n",
       "/* On hover */\n",
       "div.sk-estimator:hover .sk-estimator-doc-link:hover,\n",
       ".sk-estimator-doc-link:hover,\n",
       "div.sk-label-container:hover .sk-estimator-doc-link:hover,\n",
       ".sk-estimator-doc-link:hover {\n",
       "  /* unfitted */\n",
       "  background-color: var(--sklearn-color-unfitted-level-3);\n",
       "  color: var(--sklearn-color-background);\n",
       "  text-decoration: none;\n",
       "}\n",
       "\n",
       "div.sk-estimator.fitted:hover .sk-estimator-doc-link.fitted:hover,\n",
       ".sk-estimator-doc-link.fitted:hover,\n",
       "div.sk-label-container:hover .sk-estimator-doc-link.fitted:hover,\n",
       ".sk-estimator-doc-link.fitted:hover {\n",
       "  /* fitted */\n",
       "  background-color: var(--sklearn-color-fitted-level-3);\n",
       "  color: var(--sklearn-color-background);\n",
       "  text-decoration: none;\n",
       "}\n",
       "\n",
       "/* Span, style for the box shown on hovering the info icon */\n",
       ".sk-estimator-doc-link span {\n",
       "  display: none;\n",
       "  z-index: 9999;\n",
       "  position: relative;\n",
       "  font-weight: normal;\n",
       "  right: .2ex;\n",
       "  padding: .5ex;\n",
       "  margin: .5ex;\n",
       "  width: min-content;\n",
       "  min-width: 20ex;\n",
       "  max-width: 50ex;\n",
       "  color: var(--sklearn-color-text);\n",
       "  box-shadow: 2pt 2pt 4pt #999;\n",
       "  /* unfitted */\n",
       "  background: var(--sklearn-color-unfitted-level-0);\n",
       "  border: .5pt solid var(--sklearn-color-unfitted-level-3);\n",
       "}\n",
       "\n",
       ".sk-estimator-doc-link.fitted span {\n",
       "  /* fitted */\n",
       "  background: var(--sklearn-color-fitted-level-0);\n",
       "  border: var(--sklearn-color-fitted-level-3);\n",
       "}\n",
       "\n",
       ".sk-estimator-doc-link:hover span {\n",
       "  display: block;\n",
       "}\n",
       "\n",
       "/* \"?\"-specific style due to the `<a>` HTML tag */\n",
       "\n",
       "#sk-container-id-3 a.estimator_doc_link {\n",
       "  float: right;\n",
       "  font-size: 1rem;\n",
       "  line-height: 1em;\n",
       "  font-family: monospace;\n",
       "  background-color: var(--sklearn-color-background);\n",
       "  border-radius: 1rem;\n",
       "  height: 1rem;\n",
       "  width: 1rem;\n",
       "  text-decoration: none;\n",
       "  /* unfitted */\n",
       "  color: var(--sklearn-color-unfitted-level-1);\n",
       "  border: var(--sklearn-color-unfitted-level-1) 1pt solid;\n",
       "}\n",
       "\n",
       "#sk-container-id-3 a.estimator_doc_link.fitted {\n",
       "  /* fitted */\n",
       "  border: var(--sklearn-color-fitted-level-1) 1pt solid;\n",
       "  color: var(--sklearn-color-fitted-level-1);\n",
       "}\n",
       "\n",
       "/* On hover */\n",
       "#sk-container-id-3 a.estimator_doc_link:hover {\n",
       "  /* unfitted */\n",
       "  background-color: var(--sklearn-color-unfitted-level-3);\n",
       "  color: var(--sklearn-color-background);\n",
       "  text-decoration: none;\n",
       "}\n",
       "\n",
       "#sk-container-id-3 a.estimator_doc_link.fitted:hover {\n",
       "  /* fitted */\n",
       "  background-color: var(--sklearn-color-fitted-level-3);\n",
       "}\n",
       "</style><div id=\"sk-container-id-3\" class=\"sk-top-container\"><div class=\"sk-text-repr-fallback\"><pre>KNeighborsClassifier()</pre><b>In a Jupyter environment, please rerun this cell to show the HTML representation or trust the notebook. <br />On GitHub, the HTML representation is unable to render, please try loading this page with nbviewer.org.</b></div><div class=\"sk-container\" hidden><div class=\"sk-item\"><div class=\"sk-estimator fitted sk-toggleable\"><input class=\"sk-toggleable__control sk-hidden--visually\" id=\"sk-estimator-id-3\" type=\"checkbox\" checked><label for=\"sk-estimator-id-3\" class=\"sk-toggleable__label fitted sk-toggleable__label-arrow fitted\">&nbsp;&nbsp;KNeighborsClassifier<a class=\"sk-estimator-doc-link fitted\" rel=\"noreferrer\" target=\"_blank\" href=\"https://scikit-learn.org/1.4/modules/generated/sklearn.neighbors.KNeighborsClassifier.html\">?<span>Documentation for KNeighborsClassifier</span></a><span class=\"sk-estimator-doc-link fitted\">i<span>Fitted</span></span></label><div class=\"sk-toggleable__content fitted\"><pre>KNeighborsClassifier()</pre></div> </div></div></div></div>"
      ],
      "text/plain": [
       "KNeighborsClassifier()"
      ]
     },
     "execution_count": 184,
     "metadata": {},
     "output_type": "execute_result"
    }
   ],
   "source": [
    "clf.fit(X_train, y_train)"
   ]
  },
  {
   "cell_type": "code",
   "execution_count": 185,
   "metadata": {},
   "outputs": [
    {
     "name": "stdout",
     "output_type": "stream",
     "text": [
      "Accuracy of KNN Regression: 0.7812027451436547\n"
     ]
    }
   ],
   "source": [
    "from sklearn.metrics import confusion_matrix, accuracy_score, precision_score\n",
    "y_pred = clf.predict(X_test)\n",
    "print(\"Accuracy of KNN Regression:\",accuracy_score(y_test, y_pred))\n"
   ]
  },
  {
   "cell_type": "code",
   "execution_count": 186,
   "metadata": {},
   "outputs": [],
   "source": [
    "#Libraries to Build Ensemble Model : Random Forest Classifier \n",
    "# Create the parameter grid based on the results of random search \n",
    "params_grid = [{'kernel': ['rbf'], 'gamma': [1e-3, 1e-4],\n",
    "                     'C': [1, 10, 100, 1000]},\n",
    "                    {'kernel': ['linear'], 'C': [1, 10, 100, 1000]}]"
   ]
  },
  {
   "cell_type": "code",
   "execution_count": 187,
   "metadata": {},
   "outputs": [
    {
     "data": {
      "text/html": [
       "<style>#sk-container-id-4 {\n",
       "  /* Definition of color scheme common for light and dark mode */\n",
       "  --sklearn-color-text: black;\n",
       "  --sklearn-color-line: gray;\n",
       "  /* Definition of color scheme for unfitted estimators */\n",
       "  --sklearn-color-unfitted-level-0: #fff5e6;\n",
       "  --sklearn-color-unfitted-level-1: #f6e4d2;\n",
       "  --sklearn-color-unfitted-level-2: #ffe0b3;\n",
       "  --sklearn-color-unfitted-level-3: chocolate;\n",
       "  /* Definition of color scheme for fitted estimators */\n",
       "  --sklearn-color-fitted-level-0: #f0f8ff;\n",
       "  --sklearn-color-fitted-level-1: #d4ebff;\n",
       "  --sklearn-color-fitted-level-2: #b3dbfd;\n",
       "  --sklearn-color-fitted-level-3: cornflowerblue;\n",
       "\n",
       "  /* Specific color for light theme */\n",
       "  --sklearn-color-text-on-default-background: var(--sg-text-color, var(--theme-code-foreground, var(--jp-content-font-color1, black)));\n",
       "  --sklearn-color-background: var(--sg-background-color, var(--theme-background, var(--jp-layout-color0, white)));\n",
       "  --sklearn-color-border-box: var(--sg-text-color, var(--theme-code-foreground, var(--jp-content-font-color1, black)));\n",
       "  --sklearn-color-icon: #696969;\n",
       "\n",
       "  @media (prefers-color-scheme: dark) {\n",
       "    /* Redefinition of color scheme for dark theme */\n",
       "    --sklearn-color-text-on-default-background: var(--sg-text-color, var(--theme-code-foreground, var(--jp-content-font-color1, white)));\n",
       "    --sklearn-color-background: var(--sg-background-color, var(--theme-background, var(--jp-layout-color0, #111)));\n",
       "    --sklearn-color-border-box: var(--sg-text-color, var(--theme-code-foreground, var(--jp-content-font-color1, white)));\n",
       "    --sklearn-color-icon: #878787;\n",
       "  }\n",
       "}\n",
       "\n",
       "#sk-container-id-4 {\n",
       "  color: var(--sklearn-color-text);\n",
       "}\n",
       "\n",
       "#sk-container-id-4 pre {\n",
       "  padding: 0;\n",
       "}\n",
       "\n",
       "#sk-container-id-4 input.sk-hidden--visually {\n",
       "  border: 0;\n",
       "  clip: rect(1px 1px 1px 1px);\n",
       "  clip: rect(1px, 1px, 1px, 1px);\n",
       "  height: 1px;\n",
       "  margin: -1px;\n",
       "  overflow: hidden;\n",
       "  padding: 0;\n",
       "  position: absolute;\n",
       "  width: 1px;\n",
       "}\n",
       "\n",
       "#sk-container-id-4 div.sk-dashed-wrapped {\n",
       "  border: 1px dashed var(--sklearn-color-line);\n",
       "  margin: 0 0.4em 0.5em 0.4em;\n",
       "  box-sizing: border-box;\n",
       "  padding-bottom: 0.4em;\n",
       "  background-color: var(--sklearn-color-background);\n",
       "}\n",
       "\n",
       "#sk-container-id-4 div.sk-container {\n",
       "  /* jupyter's `normalize.less` sets `[hidden] { display: none; }`\n",
       "     but bootstrap.min.css set `[hidden] { display: none !important; }`\n",
       "     so we also need the `!important` here to be able to override the\n",
       "     default hidden behavior on the sphinx rendered scikit-learn.org.\n",
       "     See: https://github.com/scikit-learn/scikit-learn/issues/21755 */\n",
       "  display: inline-block !important;\n",
       "  position: relative;\n",
       "}\n",
       "\n",
       "#sk-container-id-4 div.sk-text-repr-fallback {\n",
       "  display: none;\n",
       "}\n",
       "\n",
       "div.sk-parallel-item,\n",
       "div.sk-serial,\n",
       "div.sk-item {\n",
       "  /* draw centered vertical line to link estimators */\n",
       "  background-image: linear-gradient(var(--sklearn-color-text-on-default-background), var(--sklearn-color-text-on-default-background));\n",
       "  background-size: 2px 100%;\n",
       "  background-repeat: no-repeat;\n",
       "  background-position: center center;\n",
       "}\n",
       "\n",
       "/* Parallel-specific style estimator block */\n",
       "\n",
       "#sk-container-id-4 div.sk-parallel-item::after {\n",
       "  content: \"\";\n",
       "  width: 100%;\n",
       "  border-bottom: 2px solid var(--sklearn-color-text-on-default-background);\n",
       "  flex-grow: 1;\n",
       "}\n",
       "\n",
       "#sk-container-id-4 div.sk-parallel {\n",
       "  display: flex;\n",
       "  align-items: stretch;\n",
       "  justify-content: center;\n",
       "  background-color: var(--sklearn-color-background);\n",
       "  position: relative;\n",
       "}\n",
       "\n",
       "#sk-container-id-4 div.sk-parallel-item {\n",
       "  display: flex;\n",
       "  flex-direction: column;\n",
       "}\n",
       "\n",
       "#sk-container-id-4 div.sk-parallel-item:first-child::after {\n",
       "  align-self: flex-end;\n",
       "  width: 50%;\n",
       "}\n",
       "\n",
       "#sk-container-id-4 div.sk-parallel-item:last-child::after {\n",
       "  align-self: flex-start;\n",
       "  width: 50%;\n",
       "}\n",
       "\n",
       "#sk-container-id-4 div.sk-parallel-item:only-child::after {\n",
       "  width: 0;\n",
       "}\n",
       "\n",
       "/* Serial-specific style estimator block */\n",
       "\n",
       "#sk-container-id-4 div.sk-serial {\n",
       "  display: flex;\n",
       "  flex-direction: column;\n",
       "  align-items: center;\n",
       "  background-color: var(--sklearn-color-background);\n",
       "  padding-right: 1em;\n",
       "  padding-left: 1em;\n",
       "}\n",
       "\n",
       "\n",
       "/* Toggleable style: style used for estimator/Pipeline/ColumnTransformer box that is\n",
       "clickable and can be expanded/collapsed.\n",
       "- Pipeline and ColumnTransformer use this feature and define the default style\n",
       "- Estimators will overwrite some part of the style using the `sk-estimator` class\n",
       "*/\n",
       "\n",
       "/* Pipeline and ColumnTransformer style (default) */\n",
       "\n",
       "#sk-container-id-4 div.sk-toggleable {\n",
       "  /* Default theme specific background. It is overwritten whether we have a\n",
       "  specific estimator or a Pipeline/ColumnTransformer */\n",
       "  background-color: var(--sklearn-color-background);\n",
       "}\n",
       "\n",
       "/* Toggleable label */\n",
       "#sk-container-id-4 label.sk-toggleable__label {\n",
       "  cursor: pointer;\n",
       "  display: block;\n",
       "  width: 100%;\n",
       "  margin-bottom: 0;\n",
       "  padding: 0.5em;\n",
       "  box-sizing: border-box;\n",
       "  text-align: center;\n",
       "}\n",
       "\n",
       "#sk-container-id-4 label.sk-toggleable__label-arrow:before {\n",
       "  /* Arrow on the left of the label */\n",
       "  content: \"▸\";\n",
       "  float: left;\n",
       "  margin-right: 0.25em;\n",
       "  color: var(--sklearn-color-icon);\n",
       "}\n",
       "\n",
       "#sk-container-id-4 label.sk-toggleable__label-arrow:hover:before {\n",
       "  color: var(--sklearn-color-text);\n",
       "}\n",
       "\n",
       "/* Toggleable content - dropdown */\n",
       "\n",
       "#sk-container-id-4 div.sk-toggleable__content {\n",
       "  max-height: 0;\n",
       "  max-width: 0;\n",
       "  overflow: hidden;\n",
       "  text-align: left;\n",
       "  /* unfitted */\n",
       "  background-color: var(--sklearn-color-unfitted-level-0);\n",
       "}\n",
       "\n",
       "#sk-container-id-4 div.sk-toggleable__content.fitted {\n",
       "  /* fitted */\n",
       "  background-color: var(--sklearn-color-fitted-level-0);\n",
       "}\n",
       "\n",
       "#sk-container-id-4 div.sk-toggleable__content pre {\n",
       "  margin: 0.2em;\n",
       "  border-radius: 0.25em;\n",
       "  color: var(--sklearn-color-text);\n",
       "  /* unfitted */\n",
       "  background-color: var(--sklearn-color-unfitted-level-0);\n",
       "}\n",
       "\n",
       "#sk-container-id-4 div.sk-toggleable__content.fitted pre {\n",
       "  /* unfitted */\n",
       "  background-color: var(--sklearn-color-fitted-level-0);\n",
       "}\n",
       "\n",
       "#sk-container-id-4 input.sk-toggleable__control:checked~div.sk-toggleable__content {\n",
       "  /* Expand drop-down */\n",
       "  max-height: 200px;\n",
       "  max-width: 100%;\n",
       "  overflow: auto;\n",
       "}\n",
       "\n",
       "#sk-container-id-4 input.sk-toggleable__control:checked~label.sk-toggleable__label-arrow:before {\n",
       "  content: \"▾\";\n",
       "}\n",
       "\n",
       "/* Pipeline/ColumnTransformer-specific style */\n",
       "\n",
       "#sk-container-id-4 div.sk-label input.sk-toggleable__control:checked~label.sk-toggleable__label {\n",
       "  color: var(--sklearn-color-text);\n",
       "  background-color: var(--sklearn-color-unfitted-level-2);\n",
       "}\n",
       "\n",
       "#sk-container-id-4 div.sk-label.fitted input.sk-toggleable__control:checked~label.sk-toggleable__label {\n",
       "  background-color: var(--sklearn-color-fitted-level-2);\n",
       "}\n",
       "\n",
       "/* Estimator-specific style */\n",
       "\n",
       "/* Colorize estimator box */\n",
       "#sk-container-id-4 div.sk-estimator input.sk-toggleable__control:checked~label.sk-toggleable__label {\n",
       "  /* unfitted */\n",
       "  background-color: var(--sklearn-color-unfitted-level-2);\n",
       "}\n",
       "\n",
       "#sk-container-id-4 div.sk-estimator.fitted input.sk-toggleable__control:checked~label.sk-toggleable__label {\n",
       "  /* fitted */\n",
       "  background-color: var(--sklearn-color-fitted-level-2);\n",
       "}\n",
       "\n",
       "#sk-container-id-4 div.sk-label label.sk-toggleable__label,\n",
       "#sk-container-id-4 div.sk-label label {\n",
       "  /* The background is the default theme color */\n",
       "  color: var(--sklearn-color-text-on-default-background);\n",
       "}\n",
       "\n",
       "/* On hover, darken the color of the background */\n",
       "#sk-container-id-4 div.sk-label:hover label.sk-toggleable__label {\n",
       "  color: var(--sklearn-color-text);\n",
       "  background-color: var(--sklearn-color-unfitted-level-2);\n",
       "}\n",
       "\n",
       "/* Label box, darken color on hover, fitted */\n",
       "#sk-container-id-4 div.sk-label.fitted:hover label.sk-toggleable__label.fitted {\n",
       "  color: var(--sklearn-color-text);\n",
       "  background-color: var(--sklearn-color-fitted-level-2);\n",
       "}\n",
       "\n",
       "/* Estimator label */\n",
       "\n",
       "#sk-container-id-4 div.sk-label label {\n",
       "  font-family: monospace;\n",
       "  font-weight: bold;\n",
       "  display: inline-block;\n",
       "  line-height: 1.2em;\n",
       "}\n",
       "\n",
       "#sk-container-id-4 div.sk-label-container {\n",
       "  text-align: center;\n",
       "}\n",
       "\n",
       "/* Estimator-specific */\n",
       "#sk-container-id-4 div.sk-estimator {\n",
       "  font-family: monospace;\n",
       "  border: 1px dotted var(--sklearn-color-border-box);\n",
       "  border-radius: 0.25em;\n",
       "  box-sizing: border-box;\n",
       "  margin-bottom: 0.5em;\n",
       "  /* unfitted */\n",
       "  background-color: var(--sklearn-color-unfitted-level-0);\n",
       "}\n",
       "\n",
       "#sk-container-id-4 div.sk-estimator.fitted {\n",
       "  /* fitted */\n",
       "  background-color: var(--sklearn-color-fitted-level-0);\n",
       "}\n",
       "\n",
       "/* on hover */\n",
       "#sk-container-id-4 div.sk-estimator:hover {\n",
       "  /* unfitted */\n",
       "  background-color: var(--sklearn-color-unfitted-level-2);\n",
       "}\n",
       "\n",
       "#sk-container-id-4 div.sk-estimator.fitted:hover {\n",
       "  /* fitted */\n",
       "  background-color: var(--sklearn-color-fitted-level-2);\n",
       "}\n",
       "\n",
       "/* Specification for estimator info (e.g. \"i\" and \"?\") */\n",
       "\n",
       "/* Common style for \"i\" and \"?\" */\n",
       "\n",
       ".sk-estimator-doc-link,\n",
       "a:link.sk-estimator-doc-link,\n",
       "a:visited.sk-estimator-doc-link {\n",
       "  float: right;\n",
       "  font-size: smaller;\n",
       "  line-height: 1em;\n",
       "  font-family: monospace;\n",
       "  background-color: var(--sklearn-color-background);\n",
       "  border-radius: 1em;\n",
       "  height: 1em;\n",
       "  width: 1em;\n",
       "  text-decoration: none !important;\n",
       "  margin-left: 1ex;\n",
       "  /* unfitted */\n",
       "  border: var(--sklearn-color-unfitted-level-1) 1pt solid;\n",
       "  color: var(--sklearn-color-unfitted-level-1);\n",
       "}\n",
       "\n",
       ".sk-estimator-doc-link.fitted,\n",
       "a:link.sk-estimator-doc-link.fitted,\n",
       "a:visited.sk-estimator-doc-link.fitted {\n",
       "  /* fitted */\n",
       "  border: var(--sklearn-color-fitted-level-1) 1pt solid;\n",
       "  color: var(--sklearn-color-fitted-level-1);\n",
       "}\n",
       "\n",
       "/* On hover */\n",
       "div.sk-estimator:hover .sk-estimator-doc-link:hover,\n",
       ".sk-estimator-doc-link:hover,\n",
       "div.sk-label-container:hover .sk-estimator-doc-link:hover,\n",
       ".sk-estimator-doc-link:hover {\n",
       "  /* unfitted */\n",
       "  background-color: var(--sklearn-color-unfitted-level-3);\n",
       "  color: var(--sklearn-color-background);\n",
       "  text-decoration: none;\n",
       "}\n",
       "\n",
       "div.sk-estimator.fitted:hover .sk-estimator-doc-link.fitted:hover,\n",
       ".sk-estimator-doc-link.fitted:hover,\n",
       "div.sk-label-container:hover .sk-estimator-doc-link.fitted:hover,\n",
       ".sk-estimator-doc-link.fitted:hover {\n",
       "  /* fitted */\n",
       "  background-color: var(--sklearn-color-fitted-level-3);\n",
       "  color: var(--sklearn-color-background);\n",
       "  text-decoration: none;\n",
       "}\n",
       "\n",
       "/* Span, style for the box shown on hovering the info icon */\n",
       ".sk-estimator-doc-link span {\n",
       "  display: none;\n",
       "  z-index: 9999;\n",
       "  position: relative;\n",
       "  font-weight: normal;\n",
       "  right: .2ex;\n",
       "  padding: .5ex;\n",
       "  margin: .5ex;\n",
       "  width: min-content;\n",
       "  min-width: 20ex;\n",
       "  max-width: 50ex;\n",
       "  color: var(--sklearn-color-text);\n",
       "  box-shadow: 2pt 2pt 4pt #999;\n",
       "  /* unfitted */\n",
       "  background: var(--sklearn-color-unfitted-level-0);\n",
       "  border: .5pt solid var(--sklearn-color-unfitted-level-3);\n",
       "}\n",
       "\n",
       ".sk-estimator-doc-link.fitted span {\n",
       "  /* fitted */\n",
       "  background: var(--sklearn-color-fitted-level-0);\n",
       "  border: var(--sklearn-color-fitted-level-3);\n",
       "}\n",
       "\n",
       ".sk-estimator-doc-link:hover span {\n",
       "  display: block;\n",
       "}\n",
       "\n",
       "/* \"?\"-specific style due to the `<a>` HTML tag */\n",
       "\n",
       "#sk-container-id-4 a.estimator_doc_link {\n",
       "  float: right;\n",
       "  font-size: 1rem;\n",
       "  line-height: 1em;\n",
       "  font-family: monospace;\n",
       "  background-color: var(--sklearn-color-background);\n",
       "  border-radius: 1rem;\n",
       "  height: 1rem;\n",
       "  width: 1rem;\n",
       "  text-decoration: none;\n",
       "  /* unfitted */\n",
       "  color: var(--sklearn-color-unfitted-level-1);\n",
       "  border: var(--sklearn-color-unfitted-level-1) 1pt solid;\n",
       "}\n",
       "\n",
       "#sk-container-id-4 a.estimator_doc_link.fitted {\n",
       "  /* fitted */\n",
       "  border: var(--sklearn-color-fitted-level-1) 1pt solid;\n",
       "  color: var(--sklearn-color-fitted-level-1);\n",
       "}\n",
       "\n",
       "/* On hover */\n",
       "#sk-container-id-4 a.estimator_doc_link:hover {\n",
       "  /* unfitted */\n",
       "  background-color: var(--sklearn-color-unfitted-level-3);\n",
       "  color: var(--sklearn-color-background);\n",
       "  text-decoration: none;\n",
       "}\n",
       "\n",
       "#sk-container-id-4 a.estimator_doc_link.fitted:hover {\n",
       "  /* fitted */\n",
       "  background-color: var(--sklearn-color-fitted-level-3);\n",
       "}\n",
       "</style><div id=\"sk-container-id-4\" class=\"sk-top-container\"><div class=\"sk-text-repr-fallback\"><pre>GridSearchCV(cv=5, estimator=SVC(),\n",
       "             param_grid=[{&#x27;C&#x27;: [1, 10, 100, 1000], &#x27;gamma&#x27;: [0.001, 0.0001],\n",
       "                          &#x27;kernel&#x27;: [&#x27;rbf&#x27;]},\n",
       "                         {&#x27;C&#x27;: [1, 10, 100, 1000], &#x27;kernel&#x27;: [&#x27;linear&#x27;]}])</pre><b>In a Jupyter environment, please rerun this cell to show the HTML representation or trust the notebook. <br />On GitHub, the HTML representation is unable to render, please try loading this page with nbviewer.org.</b></div><div class=\"sk-container\" hidden><div class=\"sk-item sk-dashed-wrapped\"><div class=\"sk-label-container\"><div class=\"sk-label fitted sk-toggleable\"><input class=\"sk-toggleable__control sk-hidden--visually\" id=\"sk-estimator-id-4\" type=\"checkbox\" ><label for=\"sk-estimator-id-4\" class=\"sk-toggleable__label fitted sk-toggleable__label-arrow fitted\">&nbsp;&nbsp;GridSearchCV<a class=\"sk-estimator-doc-link fitted\" rel=\"noreferrer\" target=\"_blank\" href=\"https://scikit-learn.org/1.4/modules/generated/sklearn.model_selection.GridSearchCV.html\">?<span>Documentation for GridSearchCV</span></a><span class=\"sk-estimator-doc-link fitted\">i<span>Fitted</span></span></label><div class=\"sk-toggleable__content fitted\"><pre>GridSearchCV(cv=5, estimator=SVC(),\n",
       "             param_grid=[{&#x27;C&#x27;: [1, 10, 100, 1000], &#x27;gamma&#x27;: [0.001, 0.0001],\n",
       "                          &#x27;kernel&#x27;: [&#x27;rbf&#x27;]},\n",
       "                         {&#x27;C&#x27;: [1, 10, 100, 1000], &#x27;kernel&#x27;: [&#x27;linear&#x27;]}])</pre></div> </div></div><div class=\"sk-parallel\"><div class=\"sk-parallel-item\"><div class=\"sk-item\"><div class=\"sk-label-container\"><div class=\"sk-label fitted sk-toggleable\"><input class=\"sk-toggleable__control sk-hidden--visually\" id=\"sk-estimator-id-5\" type=\"checkbox\" ><label for=\"sk-estimator-id-5\" class=\"sk-toggleable__label fitted sk-toggleable__label-arrow fitted\">estimator: SVC</label><div class=\"sk-toggleable__content fitted\"><pre>SVC()</pre></div> </div></div><div class=\"sk-serial\"><div class=\"sk-item\"><div class=\"sk-estimator fitted sk-toggleable\"><input class=\"sk-toggleable__control sk-hidden--visually\" id=\"sk-estimator-id-6\" type=\"checkbox\" ><label for=\"sk-estimator-id-6\" class=\"sk-toggleable__label fitted sk-toggleable__label-arrow fitted\">&nbsp;SVC<a class=\"sk-estimator-doc-link fitted\" rel=\"noreferrer\" target=\"_blank\" href=\"https://scikit-learn.org/1.4/modules/generated/sklearn.svm.SVC.html\">?<span>Documentation for SVC</span></a></label><div class=\"sk-toggleable__content fitted\"><pre>SVC()</pre></div> </div></div></div></div></div></div></div></div></div>"
      ],
      "text/plain": [
       "GridSearchCV(cv=5, estimator=SVC(),\n",
       "             param_grid=[{'C': [1, 10, 100, 1000], 'gamma': [0.001, 0.0001],\n",
       "                          'kernel': ['rbf']},\n",
       "                         {'C': [1, 10, 100, 1000], 'kernel': ['linear']}])"
      ]
     },
     "execution_count": 187,
     "metadata": {},
     "output_type": "execute_result"
    }
   ],
   "source": [
    "from sklearn.svm import SVC\n",
    "from sklearn.metrics import confusion_matrix,classification_report\n",
    "from sklearn.model_selection import cross_val_score, GridSearchCV\n",
    "# Performing CV to tune parameters for best SVM fit \n",
    "svm_model = GridSearchCV(SVC(), params_grid, cv=5)\n",
    "svm_model.fit(X_train, y_train)"
   ]
  },
  {
   "cell_type": "code",
   "execution_count": 188,
   "metadata": {},
   "outputs": [
    {
     "name": "stdout",
     "output_type": "stream",
     "text": [
      "Best score for training data: 0.7441733319299237 \n",
      "\n",
      "Best C: 100 \n",
      "\n",
      "Best Kernel: rbf \n",
      "\n",
      "Best Gamma: 0.001 \n",
      "\n"
     ]
    }
   ],
   "source": [
    "# View the accuracy score\n",
    "print('Best score for training data:', svm_model.best_score_,\"\\n\") \n",
    "\n",
    "# View the best parameters for the model found using grid search\n",
    "print('Best C:',svm_model.best_estimator_.C,\"\\n\") \n",
    "print('Best Kernel:',svm_model.best_estimator_.kernel,\"\\n\")\n",
    "print('Best Gamma:',svm_model.best_estimator_.gamma,\"\\n\")\n",
    "\n",
    "from sklearn import preprocessing\n",
    "encoder = preprocessing.LabelEncoder()\n",
    "encoder.fit(y_train)\n",
    "y_test = encoder.transform(y_train)\n",
    "\n",
    "final_model = svm_model.best_estimator_\n",
    "Y_pred = final_model.predict(X_test)\n",
    "Y_pred_label = list(encoder.inverse_transform(Y_pred))"
   ]
  },
  {
   "cell_type": "code",
   "execution_count": 189,
   "metadata": {},
   "outputs": [
    {
     "data": {
      "text/html": [
       "<style>#sk-container-id-5 {\n",
       "  /* Definition of color scheme common for light and dark mode */\n",
       "  --sklearn-color-text: black;\n",
       "  --sklearn-color-line: gray;\n",
       "  /* Definition of color scheme for unfitted estimators */\n",
       "  --sklearn-color-unfitted-level-0: #fff5e6;\n",
       "  --sklearn-color-unfitted-level-1: #f6e4d2;\n",
       "  --sklearn-color-unfitted-level-2: #ffe0b3;\n",
       "  --sklearn-color-unfitted-level-3: chocolate;\n",
       "  /* Definition of color scheme for fitted estimators */\n",
       "  --sklearn-color-fitted-level-0: #f0f8ff;\n",
       "  --sklearn-color-fitted-level-1: #d4ebff;\n",
       "  --sklearn-color-fitted-level-2: #b3dbfd;\n",
       "  --sklearn-color-fitted-level-3: cornflowerblue;\n",
       "\n",
       "  /* Specific color for light theme */\n",
       "  --sklearn-color-text-on-default-background: var(--sg-text-color, var(--theme-code-foreground, var(--jp-content-font-color1, black)));\n",
       "  --sklearn-color-background: var(--sg-background-color, var(--theme-background, var(--jp-layout-color0, white)));\n",
       "  --sklearn-color-border-box: var(--sg-text-color, var(--theme-code-foreground, var(--jp-content-font-color1, black)));\n",
       "  --sklearn-color-icon: #696969;\n",
       "\n",
       "  @media (prefers-color-scheme: dark) {\n",
       "    /* Redefinition of color scheme for dark theme */\n",
       "    --sklearn-color-text-on-default-background: var(--sg-text-color, var(--theme-code-foreground, var(--jp-content-font-color1, white)));\n",
       "    --sklearn-color-background: var(--sg-background-color, var(--theme-background, var(--jp-layout-color0, #111)));\n",
       "    --sklearn-color-border-box: var(--sg-text-color, var(--theme-code-foreground, var(--jp-content-font-color1, white)));\n",
       "    --sklearn-color-icon: #878787;\n",
       "  }\n",
       "}\n",
       "\n",
       "#sk-container-id-5 {\n",
       "  color: var(--sklearn-color-text);\n",
       "}\n",
       "\n",
       "#sk-container-id-5 pre {\n",
       "  padding: 0;\n",
       "}\n",
       "\n",
       "#sk-container-id-5 input.sk-hidden--visually {\n",
       "  border: 0;\n",
       "  clip: rect(1px 1px 1px 1px);\n",
       "  clip: rect(1px, 1px, 1px, 1px);\n",
       "  height: 1px;\n",
       "  margin: -1px;\n",
       "  overflow: hidden;\n",
       "  padding: 0;\n",
       "  position: absolute;\n",
       "  width: 1px;\n",
       "}\n",
       "\n",
       "#sk-container-id-5 div.sk-dashed-wrapped {\n",
       "  border: 1px dashed var(--sklearn-color-line);\n",
       "  margin: 0 0.4em 0.5em 0.4em;\n",
       "  box-sizing: border-box;\n",
       "  padding-bottom: 0.4em;\n",
       "  background-color: var(--sklearn-color-background);\n",
       "}\n",
       "\n",
       "#sk-container-id-5 div.sk-container {\n",
       "  /* jupyter's `normalize.less` sets `[hidden] { display: none; }`\n",
       "     but bootstrap.min.css set `[hidden] { display: none !important; }`\n",
       "     so we also need the `!important` here to be able to override the\n",
       "     default hidden behavior on the sphinx rendered scikit-learn.org.\n",
       "     See: https://github.com/scikit-learn/scikit-learn/issues/21755 */\n",
       "  display: inline-block !important;\n",
       "  position: relative;\n",
       "}\n",
       "\n",
       "#sk-container-id-5 div.sk-text-repr-fallback {\n",
       "  display: none;\n",
       "}\n",
       "\n",
       "div.sk-parallel-item,\n",
       "div.sk-serial,\n",
       "div.sk-item {\n",
       "  /* draw centered vertical line to link estimators */\n",
       "  background-image: linear-gradient(var(--sklearn-color-text-on-default-background), var(--sklearn-color-text-on-default-background));\n",
       "  background-size: 2px 100%;\n",
       "  background-repeat: no-repeat;\n",
       "  background-position: center center;\n",
       "}\n",
       "\n",
       "/* Parallel-specific style estimator block */\n",
       "\n",
       "#sk-container-id-5 div.sk-parallel-item::after {\n",
       "  content: \"\";\n",
       "  width: 100%;\n",
       "  border-bottom: 2px solid var(--sklearn-color-text-on-default-background);\n",
       "  flex-grow: 1;\n",
       "}\n",
       "\n",
       "#sk-container-id-5 div.sk-parallel {\n",
       "  display: flex;\n",
       "  align-items: stretch;\n",
       "  justify-content: center;\n",
       "  background-color: var(--sklearn-color-background);\n",
       "  position: relative;\n",
       "}\n",
       "\n",
       "#sk-container-id-5 div.sk-parallel-item {\n",
       "  display: flex;\n",
       "  flex-direction: column;\n",
       "}\n",
       "\n",
       "#sk-container-id-5 div.sk-parallel-item:first-child::after {\n",
       "  align-self: flex-end;\n",
       "  width: 50%;\n",
       "}\n",
       "\n",
       "#sk-container-id-5 div.sk-parallel-item:last-child::after {\n",
       "  align-self: flex-start;\n",
       "  width: 50%;\n",
       "}\n",
       "\n",
       "#sk-container-id-5 div.sk-parallel-item:only-child::after {\n",
       "  width: 0;\n",
       "}\n",
       "\n",
       "/* Serial-specific style estimator block */\n",
       "\n",
       "#sk-container-id-5 div.sk-serial {\n",
       "  display: flex;\n",
       "  flex-direction: column;\n",
       "  align-items: center;\n",
       "  background-color: var(--sklearn-color-background);\n",
       "  padding-right: 1em;\n",
       "  padding-left: 1em;\n",
       "}\n",
       "\n",
       "\n",
       "/* Toggleable style: style used for estimator/Pipeline/ColumnTransformer box that is\n",
       "clickable and can be expanded/collapsed.\n",
       "- Pipeline and ColumnTransformer use this feature and define the default style\n",
       "- Estimators will overwrite some part of the style using the `sk-estimator` class\n",
       "*/\n",
       "\n",
       "/* Pipeline and ColumnTransformer style (default) */\n",
       "\n",
       "#sk-container-id-5 div.sk-toggleable {\n",
       "  /* Default theme specific background. It is overwritten whether we have a\n",
       "  specific estimator or a Pipeline/ColumnTransformer */\n",
       "  background-color: var(--sklearn-color-background);\n",
       "}\n",
       "\n",
       "/* Toggleable label */\n",
       "#sk-container-id-5 label.sk-toggleable__label {\n",
       "  cursor: pointer;\n",
       "  display: block;\n",
       "  width: 100%;\n",
       "  margin-bottom: 0;\n",
       "  padding: 0.5em;\n",
       "  box-sizing: border-box;\n",
       "  text-align: center;\n",
       "}\n",
       "\n",
       "#sk-container-id-5 label.sk-toggleable__label-arrow:before {\n",
       "  /* Arrow on the left of the label */\n",
       "  content: \"▸\";\n",
       "  float: left;\n",
       "  margin-right: 0.25em;\n",
       "  color: var(--sklearn-color-icon);\n",
       "}\n",
       "\n",
       "#sk-container-id-5 label.sk-toggleable__label-arrow:hover:before {\n",
       "  color: var(--sklearn-color-text);\n",
       "}\n",
       "\n",
       "/* Toggleable content - dropdown */\n",
       "\n",
       "#sk-container-id-5 div.sk-toggleable__content {\n",
       "  max-height: 0;\n",
       "  max-width: 0;\n",
       "  overflow: hidden;\n",
       "  text-align: left;\n",
       "  /* unfitted */\n",
       "  background-color: var(--sklearn-color-unfitted-level-0);\n",
       "}\n",
       "\n",
       "#sk-container-id-5 div.sk-toggleable__content.fitted {\n",
       "  /* fitted */\n",
       "  background-color: var(--sklearn-color-fitted-level-0);\n",
       "}\n",
       "\n",
       "#sk-container-id-5 div.sk-toggleable__content pre {\n",
       "  margin: 0.2em;\n",
       "  border-radius: 0.25em;\n",
       "  color: var(--sklearn-color-text);\n",
       "  /* unfitted */\n",
       "  background-color: var(--sklearn-color-unfitted-level-0);\n",
       "}\n",
       "\n",
       "#sk-container-id-5 div.sk-toggleable__content.fitted pre {\n",
       "  /* unfitted */\n",
       "  background-color: var(--sklearn-color-fitted-level-0);\n",
       "}\n",
       "\n",
       "#sk-container-id-5 input.sk-toggleable__control:checked~div.sk-toggleable__content {\n",
       "  /* Expand drop-down */\n",
       "  max-height: 200px;\n",
       "  max-width: 100%;\n",
       "  overflow: auto;\n",
       "}\n",
       "\n",
       "#sk-container-id-5 input.sk-toggleable__control:checked~label.sk-toggleable__label-arrow:before {\n",
       "  content: \"▾\";\n",
       "}\n",
       "\n",
       "/* Pipeline/ColumnTransformer-specific style */\n",
       "\n",
       "#sk-container-id-5 div.sk-label input.sk-toggleable__control:checked~label.sk-toggleable__label {\n",
       "  color: var(--sklearn-color-text);\n",
       "  background-color: var(--sklearn-color-unfitted-level-2);\n",
       "}\n",
       "\n",
       "#sk-container-id-5 div.sk-label.fitted input.sk-toggleable__control:checked~label.sk-toggleable__label {\n",
       "  background-color: var(--sklearn-color-fitted-level-2);\n",
       "}\n",
       "\n",
       "/* Estimator-specific style */\n",
       "\n",
       "/* Colorize estimator box */\n",
       "#sk-container-id-5 div.sk-estimator input.sk-toggleable__control:checked~label.sk-toggleable__label {\n",
       "  /* unfitted */\n",
       "  background-color: var(--sklearn-color-unfitted-level-2);\n",
       "}\n",
       "\n",
       "#sk-container-id-5 div.sk-estimator.fitted input.sk-toggleable__control:checked~label.sk-toggleable__label {\n",
       "  /* fitted */\n",
       "  background-color: var(--sklearn-color-fitted-level-2);\n",
       "}\n",
       "\n",
       "#sk-container-id-5 div.sk-label label.sk-toggleable__label,\n",
       "#sk-container-id-5 div.sk-label label {\n",
       "  /* The background is the default theme color */\n",
       "  color: var(--sklearn-color-text-on-default-background);\n",
       "}\n",
       "\n",
       "/* On hover, darken the color of the background */\n",
       "#sk-container-id-5 div.sk-label:hover label.sk-toggleable__label {\n",
       "  color: var(--sklearn-color-text);\n",
       "  background-color: var(--sklearn-color-unfitted-level-2);\n",
       "}\n",
       "\n",
       "/* Label box, darken color on hover, fitted */\n",
       "#sk-container-id-5 div.sk-label.fitted:hover label.sk-toggleable__label.fitted {\n",
       "  color: var(--sklearn-color-text);\n",
       "  background-color: var(--sklearn-color-fitted-level-2);\n",
       "}\n",
       "\n",
       "/* Estimator label */\n",
       "\n",
       "#sk-container-id-5 div.sk-label label {\n",
       "  font-family: monospace;\n",
       "  font-weight: bold;\n",
       "  display: inline-block;\n",
       "  line-height: 1.2em;\n",
       "}\n",
       "\n",
       "#sk-container-id-5 div.sk-label-container {\n",
       "  text-align: center;\n",
       "}\n",
       "\n",
       "/* Estimator-specific */\n",
       "#sk-container-id-5 div.sk-estimator {\n",
       "  font-family: monospace;\n",
       "  border: 1px dotted var(--sklearn-color-border-box);\n",
       "  border-radius: 0.25em;\n",
       "  box-sizing: border-box;\n",
       "  margin-bottom: 0.5em;\n",
       "  /* unfitted */\n",
       "  background-color: var(--sklearn-color-unfitted-level-0);\n",
       "}\n",
       "\n",
       "#sk-container-id-5 div.sk-estimator.fitted {\n",
       "  /* fitted */\n",
       "  background-color: var(--sklearn-color-fitted-level-0);\n",
       "}\n",
       "\n",
       "/* on hover */\n",
       "#sk-container-id-5 div.sk-estimator:hover {\n",
       "  /* unfitted */\n",
       "  background-color: var(--sklearn-color-unfitted-level-2);\n",
       "}\n",
       "\n",
       "#sk-container-id-5 div.sk-estimator.fitted:hover {\n",
       "  /* fitted */\n",
       "  background-color: var(--sklearn-color-fitted-level-2);\n",
       "}\n",
       "\n",
       "/* Specification for estimator info (e.g. \"i\" and \"?\") */\n",
       "\n",
       "/* Common style for \"i\" and \"?\" */\n",
       "\n",
       ".sk-estimator-doc-link,\n",
       "a:link.sk-estimator-doc-link,\n",
       "a:visited.sk-estimator-doc-link {\n",
       "  float: right;\n",
       "  font-size: smaller;\n",
       "  line-height: 1em;\n",
       "  font-family: monospace;\n",
       "  background-color: var(--sklearn-color-background);\n",
       "  border-radius: 1em;\n",
       "  height: 1em;\n",
       "  width: 1em;\n",
       "  text-decoration: none !important;\n",
       "  margin-left: 1ex;\n",
       "  /* unfitted */\n",
       "  border: var(--sklearn-color-unfitted-level-1) 1pt solid;\n",
       "  color: var(--sklearn-color-unfitted-level-1);\n",
       "}\n",
       "\n",
       ".sk-estimator-doc-link.fitted,\n",
       "a:link.sk-estimator-doc-link.fitted,\n",
       "a:visited.sk-estimator-doc-link.fitted {\n",
       "  /* fitted */\n",
       "  border: var(--sklearn-color-fitted-level-1) 1pt solid;\n",
       "  color: var(--sklearn-color-fitted-level-1);\n",
       "}\n",
       "\n",
       "/* On hover */\n",
       "div.sk-estimator:hover .sk-estimator-doc-link:hover,\n",
       ".sk-estimator-doc-link:hover,\n",
       "div.sk-label-container:hover .sk-estimator-doc-link:hover,\n",
       ".sk-estimator-doc-link:hover {\n",
       "  /* unfitted */\n",
       "  background-color: var(--sklearn-color-unfitted-level-3);\n",
       "  color: var(--sklearn-color-background);\n",
       "  text-decoration: none;\n",
       "}\n",
       "\n",
       "div.sk-estimator.fitted:hover .sk-estimator-doc-link.fitted:hover,\n",
       ".sk-estimator-doc-link.fitted:hover,\n",
       "div.sk-label-container:hover .sk-estimator-doc-link.fitted:hover,\n",
       ".sk-estimator-doc-link.fitted:hover {\n",
       "  /* fitted */\n",
       "  background-color: var(--sklearn-color-fitted-level-3);\n",
       "  color: var(--sklearn-color-background);\n",
       "  text-decoration: none;\n",
       "}\n",
       "\n",
       "/* Span, style for the box shown on hovering the info icon */\n",
       ".sk-estimator-doc-link span {\n",
       "  display: none;\n",
       "  z-index: 9999;\n",
       "  position: relative;\n",
       "  font-weight: normal;\n",
       "  right: .2ex;\n",
       "  padding: .5ex;\n",
       "  margin: .5ex;\n",
       "  width: min-content;\n",
       "  min-width: 20ex;\n",
       "  max-width: 50ex;\n",
       "  color: var(--sklearn-color-text);\n",
       "  box-shadow: 2pt 2pt 4pt #999;\n",
       "  /* unfitted */\n",
       "  background: var(--sklearn-color-unfitted-level-0);\n",
       "  border: .5pt solid var(--sklearn-color-unfitted-level-3);\n",
       "}\n",
       "\n",
       ".sk-estimator-doc-link.fitted span {\n",
       "  /* fitted */\n",
       "  background: var(--sklearn-color-fitted-level-0);\n",
       "  border: var(--sklearn-color-fitted-level-3);\n",
       "}\n",
       "\n",
       ".sk-estimator-doc-link:hover span {\n",
       "  display: block;\n",
       "}\n",
       "\n",
       "/* \"?\"-specific style due to the `<a>` HTML tag */\n",
       "\n",
       "#sk-container-id-5 a.estimator_doc_link {\n",
       "  float: right;\n",
       "  font-size: 1rem;\n",
       "  line-height: 1em;\n",
       "  font-family: monospace;\n",
       "  background-color: var(--sklearn-color-background);\n",
       "  border-radius: 1rem;\n",
       "  height: 1rem;\n",
       "  width: 1rem;\n",
       "  text-decoration: none;\n",
       "  /* unfitted */\n",
       "  color: var(--sklearn-color-unfitted-level-1);\n",
       "  border: var(--sklearn-color-unfitted-level-1) 1pt solid;\n",
       "}\n",
       "\n",
       "#sk-container-id-5 a.estimator_doc_link.fitted {\n",
       "  /* fitted */\n",
       "  border: var(--sklearn-color-fitted-level-1) 1pt solid;\n",
       "  color: var(--sklearn-color-fitted-level-1);\n",
       "}\n",
       "\n",
       "/* On hover */\n",
       "#sk-container-id-5 a.estimator_doc_link:hover {\n",
       "  /* unfitted */\n",
       "  background-color: var(--sklearn-color-unfitted-level-3);\n",
       "  color: var(--sklearn-color-background);\n",
       "  text-decoration: none;\n",
       "}\n",
       "\n",
       "#sk-container-id-5 a.estimator_doc_link.fitted:hover {\n",
       "  /* fitted */\n",
       "  background-color: var(--sklearn-color-fitted-level-3);\n",
       "}\n",
       "</style><div id=\"sk-container-id-5\" class=\"sk-top-container\"><div class=\"sk-text-repr-fallback\"><pre>SVC(C=100, gamma=0.001)</pre><b>In a Jupyter environment, please rerun this cell to show the HTML representation or trust the notebook. <br />On GitHub, the HTML representation is unable to render, please try loading this page with nbviewer.org.</b></div><div class=\"sk-container\" hidden><div class=\"sk-item\"><div class=\"sk-estimator fitted sk-toggleable\"><input class=\"sk-toggleable__control sk-hidden--visually\" id=\"sk-estimator-id-7\" type=\"checkbox\" checked><label for=\"sk-estimator-id-7\" class=\"sk-toggleable__label fitted sk-toggleable__label-arrow fitted\">&nbsp;&nbsp;SVC<a class=\"sk-estimator-doc-link fitted\" rel=\"noreferrer\" target=\"_blank\" href=\"https://scikit-learn.org/1.4/modules/generated/sklearn.svm.SVC.html\">?<span>Documentation for SVC</span></a><span class=\"sk-estimator-doc-link fitted\">i<span>Fitted</span></span></label><div class=\"sk-toggleable__content fitted\"><pre>SVC(C=100, gamma=0.001)</pre></div> </div></div></div></div>"
      ],
      "text/plain": [
       "SVC(C=100, gamma=0.001)"
      ]
     },
     "execution_count": 189,
     "metadata": {},
     "output_type": "execute_result"
    }
   ],
   "source": [
    "from sklearn.svm import SVC\n",
    "\n",
    "# Create the SVM model with the best parameters\n",
    "svm_model = SVC(C=100, kernel='rbf', gamma=0.001)\n",
    "\n",
    "# Fit the model to the training data\n",
    "svm_model.fit(X_train, y_train)"
   ]
  },
  {
   "cell_type": "code",
   "execution_count": 217,
   "metadata": {},
   "outputs": [],
   "source": [
    "import numpy as np\n",
    "import pandas as pd\n",
    "from sklearn.model_selection import train_test_split\n",
    "from sklearn.linear_model import LogisticRegression\n",
    "from sklearn.neighbors import KNeighborsClassifier\n",
    "from sklearn.svm import SVC\n",
    "from sklearn.ensemble import StackingClassifier\n",
    "from sklearn.metrics import accuracy_score, roc_auc_score, classification_report, cohen_kappa_score, roc_curve\n",
    "from sklearn.base import BaseEstimator, ClassifierMixin\n",
    "from keras.models import Sequential\n",
    "from keras.layers import Dense, Dropout\n",
    "from keras.optimizers import Adam\n",
    "from scikeras.wrappers import KerasClassifier\n",
    "from sklearn.preprocessing import label_binarize\n",
    "from tqdm import tqdm\n",
    "import os\n",
    "import random\n",
    "import pickle\n",
    "import matplotlib.pyplot as plt\n",
    "\n",
    "# Define confidence interval function\n",
    "def confidence_interval(data):\n",
    "    return np.percentile(data, 97.5), np.percentile(data, 2.5)\n",
    "\n",
    "# Define the Keras MLP model function\n",
    "def create_mlp(input_dim):\n",
    "    model = Sequential([\n",
    "        Dense(128, input_dim=input_dim, activation='relu'),\n",
    "        Dropout(0.5),\n",
    "        Dense(128, activation='relu'),\n",
    "        Dropout(0.3),\n",
    "        Dense(128, activation='relu'),\n",
    "        Dense(5, activation='softmax')  # 5 output units for the 5 classes\n",
    "    ])\n",
    "    model.compile(optimizer=Adam(learning_rate=0.0001), \n",
    "                  loss='sparse_categorical_crossentropy',\n",
    "                  metrics=['accuracy'])\n",
    "    return model\n",
    "\n",
    "import torch\n",
    "import numpy as np\n",
    "from sklearn.base import BaseEstimator, ClassifierMixin\n",
    "from sklearn.metrics import accuracy_score\n",
    "\n",
    "class KANWrapper(BaseEstimator, ClassifierMixin):\n",
    "    def __init__(self, input_dims, grid, k, steps=100):\n",
    "        self.input_dims = input_dims\n",
    "        self.grid = grid\n",
    "        self.k = k\n",
    "        self.steps = steps\n",
    "        self.kan_model = KAN(input_dims, grid=grid, k=k)\n",
    "        \n",
    "    def fit(self, X, y):\n",
    "        if isinstance(X, pd.DataFrame):\n",
    "            X = X.to_numpy()\n",
    "        if isinstance(y, pd.Series):\n",
    "            y = y.to_numpy()\n",
    "        \n",
    "        train_input = torch.tensor(X, dtype=torch.float32)\n",
    "        train_label = torch.tensor(y, dtype=torch.long)\n",
    "        val_input = train_input  # Assuming using same data for simplicity, modify as needed\n",
    "        val_label = train_label  # Assuming using same data for simplicity, modify as needed\n",
    "        \n",
    "        # Functions for getting accuracy scores while training\n",
    "        def train_acc():\n",
    "            preds = torch.argmax(self.kan_model(train_input), dim=1)\n",
    "            return torch.mean((preds == train_label).float())\n",
    "\n",
    "        def test_acc():\n",
    "            preds = torch.argmax(self.kan_model(val_input), dim=1)\n",
    "            return torch.mean((preds == val_label).float())\n",
    "\n",
    "        # KAN model training\n",
    "        self.kan_model.train({'train_input': train_input, 'train_label': train_label, \n",
    "                              'test_input': val_input, 'test_label': val_label},\n",
    "                             metrics=(train_acc, test_acc),\n",
    "                             opt=\"LBFGS\", steps=self.steps, loss_fn=torch.nn.CrossEntropyLoss())\n",
    "        \n",
    "        return self\n",
    "    \n",
    "    def predict(self, X):\n",
    "        if isinstance(X, pd.DataFrame):\n",
    "            X = X.to_numpy()\n",
    "        test_input = torch.tensor(X, dtype=torch.float32)\n",
    "        with torch.no_grad():\n",
    "            preds = torch.argmax(self.kan_model(test_input), dim=1)\n",
    "        return preds.numpy()\n",
    "    \n",
    "    def predict_proba(self, X):\n",
    "        if isinstance(X, pd.DataFrame):\n",
    "            X = X.to_numpy()\n",
    "        test_input = torch.tensor(X, dtype=torch.float32)\n",
    "        with torch.no_grad():\n",
    "            output = self.kan_model(test_input)\n",
    "        return torch.nn.functional.softmax(output, dim=1).numpy()\n",
    "    \n",
    "    def score(self, X, y):\n",
    "        preds = self.predict(X)\n",
    "        return accuracy_score(y, preds)\n",
    "\n",
    "\n",
    "\n",
    "question_numbers = [1, 2, 3, 4, 5, 6, 7, 8]         # Numbers of questions from DASS to run through\n",
    "target = \"Anxiety_Level\"\n",
    "models_to_train = 1        # Number of models for each number of questions from DASS\n",
    "models_per_question = 1    # Number of ensembles per model\n",
    "test_split = 0.1\n",
    "model_type = \"lr\"     # Specify model type (xgb, rf, lr, svm, mlp)\n",
    "seed = 42\n",
    "random.seed(seed)\n",
    "\n",
    "\n",
    "ACCS = []\n",
    "AUCS = []\n",
    "PRES = []\n",
    "RECS = []\n",
    "F1S = []\n",
    "AUC_STDEV = []\n",
    "F1_STDEV = []\n",
    "AUC_95CI_U = []\n",
    "AUC_95CI_D = []\n",
    "F1_95CI_U = []\n",
    "F1_95CI_D = []\n",
    "KAPPAS=[]\n",
    "KAPPA_STDEV=[]\n",
    "KAPPA_95CI_U=[]\n",
    "KAPPA_95CI_D=[]\n",
    "\n",
    "\n",
    "features_df = pd.read_csv(os.path.join(data_folder, \"features.csv\"))\n",
    "labels_df = pd.read_csv(os.path.join(data_folder, \"labels.csv\"))\n",
    "questions = [40, 28, 20, 36, 9, 41, 25, 30, 7, 4]"
   ]
  },
  {
   "cell_type": "code",
   "execution_count": 218,
   "metadata": {},
   "outputs": [],
   "source": [
    "def train_acc():\n",
    "                preds = torch.argmax(kan_model(dataset['train_input']), dim=1)\n",
    "                return torch.mean((preds == dataset['train_label']).float())\n",
    "\n",
    "def test_acc():\n",
    "    preds = torch.argmax(kan_model(dataset['test_input']), dim=1)\n",
    "    return torch.mean((preds == dataset['test_label']).float())"
   ]
  },
  {
   "cell_type": "code",
   "execution_count": 220,
   "metadata": {},
   "outputs": [
    {
     "name": "stdout",
     "output_type": "stream",
     "text": [
      "Training model 0\n"
     ]
    },
    {
     "name": "stderr",
     "output_type": "stream",
     "text": [
      "Inner Loop Progress:   0%|          | 0/1 [00:00<?, ?it/s]"
     ]
    },
    {
     "name": "stdout",
     "output_type": "stream",
     "text": [
      "Training iteration 0\n",
      "NUMBER OF QUESTIONS IS:  1\n",
      "10\n"
     ]
    },
    {
     "name": "stderr",
     "output_type": "stream",
     "text": [
      "train loss: 1.16e+00 | test loss: 1.16e+00 | reg: 3.87e+01 : 100%|█| 100/100 [1:00:55<00:00, 36.56s/\n",
      "                                                                      \r"
     ]
    },
    {
     "name": "stdout",
     "output_type": "stream",
     "text": [
      "Training model 1\n"
     ]
    },
    {
     "name": "stderr",
     "output_type": "stream",
     "text": [
      "Inner Loop Progress:   0%|          | 0/1 [00:00<?, ?it/s]"
     ]
    },
    {
     "name": "stdout",
     "output_type": "stream",
     "text": [
      "Training iteration 0\n",
      "NUMBER OF QUESTIONS IS:  1\n",
      "10\n"
     ]
    },
    {
     "name": "stderr",
     "output_type": "stream",
     "text": [
      "train loss: 1.14e+00 | test loss: 1.13e+00 | reg: 3.65e+01 : 100%|█| 100/100 [59:14<00:00, 35.54s/it\n",
      "                                                                    \r"
     ]
    },
    {
     "name": "stdout",
     "output_type": "stream",
     "text": [
      "Training model 2\n"
     ]
    },
    {
     "name": "stderr",
     "output_type": "stream",
     "text": [
      "Inner Loop Progress:   0%|          | 0/1 [00:00<?, ?it/s]"
     ]
    },
    {
     "name": "stdout",
     "output_type": "stream",
     "text": [
      "Training iteration 0\n",
      "NUMBER OF QUESTIONS IS:  1\n",
      "10\n"
     ]
    },
    {
     "name": "stderr",
     "output_type": "stream",
     "text": [
      "train loss: 1.15e+00 | test loss: 1.15e+00 | reg: 3.40e+01 : 100%|█| 100/100 [1:00:55<00:00, 36.55s/\n",
      "                                                                      \r"
     ]
    },
    {
     "name": "stdout",
     "output_type": "stream",
     "text": [
      "Training model 3\n"
     ]
    },
    {
     "name": "stderr",
     "output_type": "stream",
     "text": [
      "Inner Loop Progress:   0%|          | 0/1 [00:00<?, ?it/s]"
     ]
    },
    {
     "name": "stdout",
     "output_type": "stream",
     "text": [
      "Training iteration 0\n",
      "NUMBER OF QUESTIONS IS:  1\n",
      "10\n"
     ]
    },
    {
     "name": "stderr",
     "output_type": "stream",
     "text": [
      "train loss: 1.15e+00 | test loss: 1.14e+00 | reg: 3.91e+01 : 100%|█| 100/100 [1:02:54<00:00, 37.74s/\n",
      "                                                                      \r"
     ]
    },
    {
     "name": "stdout",
     "output_type": "stream",
     "text": [
      "Training model 4\n"
     ]
    },
    {
     "name": "stderr",
     "output_type": "stream",
     "text": [
      "Inner Loop Progress:   0%|          | 0/1 [00:00<?, ?it/s]"
     ]
    },
    {
     "name": "stdout",
     "output_type": "stream",
     "text": [
      "Training iteration 0\n",
      "NUMBER OF QUESTIONS IS:  1\n",
      "10\n"
     ]
    },
    {
     "name": "stderr",
     "output_type": "stream",
     "text": [
      "train loss: 1.16e+00 | test loss: 1.16e+00 | reg: 4.02e+01 : 100%|█| 100/100 [1:07:06<00:00, 40.27s/\n",
      "                                                                      \r"
     ]
    },
    {
     "name": "stdout",
     "output_type": "stream",
     "text": [
      "Training model 5\n"
     ]
    },
    {
     "name": "stderr",
     "output_type": "stream",
     "text": [
      "Inner Loop Progress:   0%|          | 0/1 [00:00<?, ?it/s]"
     ]
    },
    {
     "name": "stdout",
     "output_type": "stream",
     "text": [
      "Training iteration 0\n",
      "NUMBER OF QUESTIONS IS:  1\n",
      "10\n"
     ]
    },
    {
     "name": "stderr",
     "output_type": "stream",
     "text": [
      "train loss: 1.17e+00 | test loss: 1.17e+00 | reg: 2.83e+01 : 100%|█| 100/100 [1:14:37<00:00, 44.78s/\n",
      "                                                                      \r"
     ]
    },
    {
     "name": "stdout",
     "output_type": "stream",
     "text": [
      "Training model 6\n"
     ]
    },
    {
     "name": "stderr",
     "output_type": "stream",
     "text": [
      "Inner Loop Progress:   0%|          | 0/1 [00:00<?, ?it/s]"
     ]
    },
    {
     "name": "stdout",
     "output_type": "stream",
     "text": [
      "Training iteration 0\n",
      "NUMBER OF QUESTIONS IS:  1\n",
      "10\n"
     ]
    },
    {
     "name": "stderr",
     "output_type": "stream",
     "text": [
      "train loss: 1.17e+00 | test loss: 1.17e+00 | reg: 3.73e+01 : 100%|█| 100/100 [1:01:15<00:00, 36.76s/\n",
      "                                                                      \r"
     ]
    },
    {
     "name": "stdout",
     "output_type": "stream",
     "text": [
      "Training model 7\n"
     ]
    },
    {
     "name": "stderr",
     "output_type": "stream",
     "text": [
      "Inner Loop Progress:   0%|          | 0/1 [00:00<?, ?it/s]"
     ]
    },
    {
     "name": "stdout",
     "output_type": "stream",
     "text": [
      "Training iteration 0\n",
      "NUMBER OF QUESTIONS IS:  1\n",
      "10\n"
     ]
    },
    {
     "name": "stderr",
     "output_type": "stream",
     "text": [
      "train loss: 1.18e+00 | test loss: 1.17e+00 | reg: 3.42e+01 : 100%|█| 100/100 [1:01:18<00:00, 36.78s/\n",
      "                                                                      \r"
     ]
    },
    {
     "name": "stdout",
     "output_type": "stream",
     "text": [
      "Training model 8\n"
     ]
    },
    {
     "name": "stderr",
     "output_type": "stream",
     "text": [
      "Inner Loop Progress:   0%|          | 0/1 [00:00<?, ?it/s]"
     ]
    },
    {
     "name": "stdout",
     "output_type": "stream",
     "text": [
      "Training iteration 0\n",
      "NUMBER OF QUESTIONS IS:  1\n",
      "10\n"
     ]
    },
    {
     "name": "stderr",
     "output_type": "stream",
     "text": [
      "train loss: 1.16e+00 | test loss: 1.16e+00 | reg: 4.04e+01 : 100%|█| 100/100 [1:00:33<00:00, 36.34s/\n",
      "                                                                      \r"
     ]
    },
    {
     "name": "stdout",
     "output_type": "stream",
     "text": [
      "Training model 9\n"
     ]
    },
    {
     "name": "stderr",
     "output_type": "stream",
     "text": [
      "Inner Loop Progress:   0%|          | 0/1 [00:00<?, ?it/s]"
     ]
    },
    {
     "name": "stdout",
     "output_type": "stream",
     "text": [
      "Training iteration 0\n",
      "NUMBER OF QUESTIONS IS:  1\n",
      "10\n"
     ]
    },
    {
     "name": "stderr",
     "output_type": "stream",
     "text": [
      "train loss: 1.17e+00 | test loss: 1.16e+00 | reg: 3.67e+01 : 100%|█| 100/100 [59:19<00:00, 35.59s/it\n",
      "                                                                    \r"
     ]
    },
    {
     "name": "stdout",
     "output_type": "stream",
     "text": [
      "\n",
      "Number of questions: 1\n",
      "Mean AUC      : 0.6271854743972032\n",
      "Stdev AUC     : 0.0\n",
      "95th CI AUC   : 0.6271854743972032 0.6271854743972032\n",
      "Mean F1-Score : 0.3733760847629005\n",
      "Stdev F1      : 0.0\n",
      "95th CI F1    : 0.3733760847629005 0.3733760847629005\n",
      "Mean Cohen's Kappa: 0.25730947047494607\n",
      "Stdev Kappa   : 0.0\n",
      "95th CI Kappa : 0.25730947047494607 0.25730947047494607\n",
      "Training model 0\n"
     ]
    },
    {
     "name": "stderr",
     "output_type": "stream",
     "text": [
      "Inner Loop Progress:   0%|          | 0/1 [00:00<?, ?it/s]"
     ]
    },
    {
     "name": "stdout",
     "output_type": "stream",
     "text": [
      "Training iteration 0\n",
      "NUMBER OF QUESTIONS IS:  2\n",
      "14\n"
     ]
    },
    {
     "name": "stderr",
     "output_type": "stream",
     "text": [
      "train loss: 1.12e+00 | test loss: 1.12e+00 | reg: 5.11e+01 : 100%|█| 100/100 [1:21:56<00:00, 49.17s/\n",
      "                                                                      \r"
     ]
    },
    {
     "name": "stdout",
     "output_type": "stream",
     "text": [
      "Training model 1\n"
     ]
    },
    {
     "name": "stderr",
     "output_type": "stream",
     "text": [
      "Inner Loop Progress:   0%|          | 0/1 [00:00<?, ?it/s]"
     ]
    },
    {
     "name": "stdout",
     "output_type": "stream",
     "text": [
      "Training iteration 0\n",
      "NUMBER OF QUESTIONS IS:  2\n",
      "14\n"
     ]
    },
    {
     "name": "stderr",
     "output_type": "stream",
     "text": [
      "train loss: 1.10e+00 | test loss: 1.11e+00 | reg: 5.06e+01 : 100%|█| 100/100 [1:18:48<00:00, 47.28s/\n",
      "                                                                      \r"
     ]
    },
    {
     "name": "stdout",
     "output_type": "stream",
     "text": [
      "Training model 2\n"
     ]
    },
    {
     "name": "stderr",
     "output_type": "stream",
     "text": [
      "Inner Loop Progress:   0%|          | 0/1 [00:00<?, ?it/s]"
     ]
    },
    {
     "name": "stdout",
     "output_type": "stream",
     "text": [
      "Training iteration 0\n",
      "NUMBER OF QUESTIONS IS:  2\n",
      "14\n"
     ]
    },
    {
     "name": "stderr",
     "output_type": "stream",
     "text": [
      "train loss: 1.09e+00 | test loss: 1.09e+00 | reg: 4.57e+01 : 100%|█| 100/100 [1:28:22<00:00, 53.03s/\n",
      "                                                                      \r"
     ]
    },
    {
     "name": "stdout",
     "output_type": "stream",
     "text": [
      "Training model 3\n"
     ]
    },
    {
     "name": "stderr",
     "output_type": "stream",
     "text": [
      "Inner Loop Progress:   0%|          | 0/1 [00:00<?, ?it/s]"
     ]
    },
    {
     "name": "stdout",
     "output_type": "stream",
     "text": [
      "Training iteration 0\n",
      "NUMBER OF QUESTIONS IS:  2\n",
      "14\n"
     ]
    },
    {
     "name": "stderr",
     "output_type": "stream",
     "text": [
      "train loss: 1.09e+00 | test loss: 1.09e+00 | reg: 3.73e+01 : 100%|█| 100/100 [1:28:18<00:00, 52.99s/\n",
      "                                                                      \r"
     ]
    },
    {
     "name": "stdout",
     "output_type": "stream",
     "text": [
      "Training model 4\n"
     ]
    },
    {
     "name": "stderr",
     "output_type": "stream",
     "text": [
      "Inner Loop Progress:   0%|          | 0/1 [00:00<?, ?it/s]"
     ]
    },
    {
     "name": "stdout",
     "output_type": "stream",
     "text": [
      "Training iteration 0\n",
      "NUMBER OF QUESTIONS IS:  2\n",
      "14\n"
     ]
    },
    {
     "name": "stderr",
     "output_type": "stream",
     "text": [
      "train loss: 1.10e+00 | test loss: 1.10e+00 | reg: 3.98e+01 : 100%|█| 100/100 [1:25:28<00:00, 51.29s/\n",
      "                                                                      \r"
     ]
    },
    {
     "name": "stdout",
     "output_type": "stream",
     "text": [
      "Training model 5\n"
     ]
    },
    {
     "name": "stderr",
     "output_type": "stream",
     "text": [
      "Inner Loop Progress:   0%|          | 0/1 [00:00<?, ?it/s]"
     ]
    },
    {
     "name": "stdout",
     "output_type": "stream",
     "text": [
      "Training iteration 0\n",
      "NUMBER OF QUESTIONS IS:  2\n",
      "14\n"
     ]
    },
    {
     "name": "stderr",
     "output_type": "stream",
     "text": [
      "train loss: 1.07e+00 | test loss: 1.07e+00 | reg: 5.22e+01 : 100%|█| 100/100 [1:22:39<00:00, 49.60s/\n",
      "                                                                      \r"
     ]
    },
    {
     "name": "stdout",
     "output_type": "stream",
     "text": [
      "Training model 6\n"
     ]
    },
    {
     "name": "stderr",
     "output_type": "stream",
     "text": [
      "Inner Loop Progress:   0%|          | 0/1 [00:00<?, ?it/s]"
     ]
    },
    {
     "name": "stdout",
     "output_type": "stream",
     "text": [
      "Training iteration 0\n",
      "NUMBER OF QUESTIONS IS:  2\n",
      "14\n"
     ]
    },
    {
     "name": "stderr",
     "output_type": "stream",
     "text": [
      "train loss: 1.07e+00 | test loss: 1.07e+00 | reg: 4.73e+01 : 100%|█| 100/100 [1:36:50<00:00, 58.10s/\n",
      "                                                                      \r"
     ]
    },
    {
     "name": "stdout",
     "output_type": "stream",
     "text": [
      "Training model 7\n"
     ]
    },
    {
     "name": "stderr",
     "output_type": "stream",
     "text": [
      "Inner Loop Progress:   0%|          | 0/1 [00:00<?, ?it/s]"
     ]
    },
    {
     "name": "stdout",
     "output_type": "stream",
     "text": [
      "Training iteration 0\n",
      "NUMBER OF QUESTIONS IS:  2\n",
      "14\n"
     ]
    },
    {
     "name": "stderr",
     "output_type": "stream",
     "text": [
      "train loss: 1.08e+00 | test loss: 1.09e+00 | reg: 4.81e+01 : 100%|█| 100/100 [1:25:02<00:00, 51.02s/\n",
      "                                                                      \r"
     ]
    },
    {
     "name": "stdout",
     "output_type": "stream",
     "text": [
      "Training model 8\n"
     ]
    },
    {
     "name": "stderr",
     "output_type": "stream",
     "text": [
      "Inner Loop Progress:   0%|          | 0/1 [00:00<?, ?it/s]"
     ]
    },
    {
     "name": "stdout",
     "output_type": "stream",
     "text": [
      "Training iteration 0\n",
      "NUMBER OF QUESTIONS IS:  2\n",
      "14\n"
     ]
    },
    {
     "name": "stderr",
     "output_type": "stream",
     "text": [
      "train loss: 1.08e+00 | test loss: 1.08e+00 | reg: 4.40e+01 : 100%|█| 100/100 [1:29:17<00:00, 53.58s/\n",
      "                                                                      \r"
     ]
    },
    {
     "name": "stdout",
     "output_type": "stream",
     "text": [
      "Training model 9\n"
     ]
    },
    {
     "name": "stderr",
     "output_type": "stream",
     "text": [
      "Inner Loop Progress:   0%|          | 0/1 [00:00<?, ?it/s]"
     ]
    },
    {
     "name": "stdout",
     "output_type": "stream",
     "text": [
      "Training iteration 0\n",
      "NUMBER OF QUESTIONS IS:  2\n",
      "14\n"
     ]
    },
    {
     "name": "stderr",
     "output_type": "stream",
     "text": [
      "train loss: 1.08e+00 | test loss: 1.08e+00 | reg: 4.83e+01 : 100%|█| 100/100 [1:21:07<00:00, 48.68s/\n",
      "                                                                      \r"
     ]
    },
    {
     "name": "stdout",
     "output_type": "stream",
     "text": [
      "\n",
      "Number of questions: 2\n",
      "Mean AUC      : 0.6710102903689872\n",
      "Stdev AUC     : 0.0\n",
      "95th CI AUC   : 0.6710102903689872 0.6710102903689872\n",
      "Mean F1-Score : 0.4662326680076621\n",
      "Stdev F1      : 0.0\n",
      "95th CI F1    : 0.4662326680076621 0.4662326680076621\n",
      "Mean Cohen's Kappa: 0.3445941926054345\n",
      "Stdev Kappa   : 0.0\n",
      "95th CI Kappa : 0.3445941926054345 0.3445941926054345\n",
      "Training model 0\n"
     ]
    },
    {
     "name": "stderr",
     "output_type": "stream",
     "text": [
      "Inner Loop Progress:   0%|          | 0/1 [00:00<?, ?it/s]"
     ]
    },
    {
     "name": "stdout",
     "output_type": "stream",
     "text": [
      "Training iteration 0\n",
      "NUMBER OF QUESTIONS IS:  3\n",
      "18\n"
     ]
    },
    {
     "name": "stderr",
     "output_type": "stream",
     "text": [
      "train loss: 1.04e+00 | test loss: 1.03e+00 | reg: 5.62e+01 : 100%|█| 100/100 [1:38:39<00:00, 59.19s/\n",
      "                                                                      \r"
     ]
    },
    {
     "name": "stdout",
     "output_type": "stream",
     "text": [
      "Training model 1\n"
     ]
    },
    {
     "name": "stderr",
     "output_type": "stream",
     "text": [
      "Inner Loop Progress:   0%|          | 0/1 [00:00<?, ?it/s]"
     ]
    },
    {
     "name": "stdout",
     "output_type": "stream",
     "text": [
      "Training iteration 0\n",
      "NUMBER OF QUESTIONS IS:  3\n",
      "18\n"
     ]
    },
    {
     "name": "stderr",
     "output_type": "stream",
     "text": [
      "train loss: 1.03e+00 | test loss: 1.03e+00 | reg: 4.85e+01 : 100%|█| 100/100 [1:57:09<00:00, 70.30s/\n",
      "                                                                      \r"
     ]
    },
    {
     "name": "stdout",
     "output_type": "stream",
     "text": [
      "Training model 2\n"
     ]
    },
    {
     "name": "stderr",
     "output_type": "stream",
     "text": [
      "Inner Loop Progress:   0%|          | 0/1 [00:00<?, ?it/s]"
     ]
    },
    {
     "name": "stdout",
     "output_type": "stream",
     "text": [
      "Training iteration 0\n",
      "NUMBER OF QUESTIONS IS:  3\n",
      "18\n"
     ]
    },
    {
     "name": "stderr",
     "output_type": "stream",
     "text": [
      "train loss: 1.04e+00 | test loss: 1.04e+00 | reg: 4.57e+01 : 100%|█| 100/100 [1:36:36<00:00, 57.97s/\n",
      "                                                                      \r"
     ]
    },
    {
     "name": "stdout",
     "output_type": "stream",
     "text": [
      "Training model 3\n"
     ]
    },
    {
     "name": "stderr",
     "output_type": "stream",
     "text": [
      "Inner Loop Progress:   0%|          | 0/1 [00:00<?, ?it/s]"
     ]
    },
    {
     "name": "stdout",
     "output_type": "stream",
     "text": [
      "Training iteration 0\n",
      "NUMBER OF QUESTIONS IS:  3\n",
      "18\n"
     ]
    },
    {
     "name": "stderr",
     "output_type": "stream",
     "text": [
      "train loss: 1.03e+00 | test loss: 1.04e+00 | reg: 5.40e+01 : 100%|█| 100/100 [1:36:57<00:00, 58.17s/\n",
      "                                                                      \r"
     ]
    },
    {
     "name": "stdout",
     "output_type": "stream",
     "text": [
      "Training model 4\n"
     ]
    },
    {
     "name": "stderr",
     "output_type": "stream",
     "text": [
      "Inner Loop Progress:   0%|          | 0/1 [00:00<?, ?it/s]"
     ]
    },
    {
     "name": "stdout",
     "output_type": "stream",
     "text": [
      "Training iteration 0\n",
      "NUMBER OF QUESTIONS IS:  3\n",
      "18\n"
     ]
    },
    {
     "name": "stderr",
     "output_type": "stream",
     "text": [
      "train loss: 1.03e+00 | test loss: 1.03e+00 | reg: 5.03e+01 : 100%|█| 100/100 [1:47:07<00:00, 64.28s/\n",
      "                                                                      \r"
     ]
    },
    {
     "name": "stdout",
     "output_type": "stream",
     "text": [
      "Training model 5\n"
     ]
    },
    {
     "name": "stderr",
     "output_type": "stream",
     "text": [
      "Inner Loop Progress:   0%|          | 0/1 [00:00<?, ?it/s]"
     ]
    },
    {
     "name": "stdout",
     "output_type": "stream",
     "text": [
      "Training iteration 0\n",
      "NUMBER OF QUESTIONS IS:  3\n",
      "18\n"
     ]
    },
    {
     "name": "stderr",
     "output_type": "stream",
     "text": [
      "train loss: 1.01e+00 | test loss: 1.01e+00 | reg: 5.61e+01 : 100%|█| 100/100 [1:38:18<00:00, 58.99s/\n",
      "                                                                      \r"
     ]
    },
    {
     "name": "stdout",
     "output_type": "stream",
     "text": [
      "Training model 6\n"
     ]
    },
    {
     "name": "stderr",
     "output_type": "stream",
     "text": [
      "Inner Loop Progress:   0%|          | 0/1 [00:00<?, ?it/s]"
     ]
    },
    {
     "name": "stdout",
     "output_type": "stream",
     "text": [
      "Training iteration 0\n",
      "NUMBER OF QUESTIONS IS:  3\n",
      "18\n"
     ]
    },
    {
     "name": "stderr",
     "output_type": "stream",
     "text": [
      "train loss: 1.01e+00 | test loss: 1.01e+00 | reg: 4.66e+01 : 100%|█| 100/100 [1:47:25<00:00, 64.45s/\n",
      "                                                                      \r"
     ]
    },
    {
     "name": "stdout",
     "output_type": "stream",
     "text": [
      "Training model 7\n"
     ]
    },
    {
     "name": "stderr",
     "output_type": "stream",
     "text": [
      "Inner Loop Progress:   0%|          | 0/1 [00:00<?, ?it/s]"
     ]
    },
    {
     "name": "stdout",
     "output_type": "stream",
     "text": [
      "Training iteration 0\n",
      "NUMBER OF QUESTIONS IS:  3\n",
      "18\n"
     ]
    },
    {
     "name": "stderr",
     "output_type": "stream",
     "text": [
      "train loss: 1.02e+00 | test loss: 1.02e+00 | reg: 5.55e+01 : 100%|█| 100/100 [1:40:35<00:00, 60.35s/\n",
      "                                                                      \r"
     ]
    },
    {
     "name": "stdout",
     "output_type": "stream",
     "text": [
      "Training model 8\n"
     ]
    },
    {
     "name": "stderr",
     "output_type": "stream",
     "text": [
      "Inner Loop Progress:   0%|          | 0/1 [00:00<?, ?it/s]"
     ]
    },
    {
     "name": "stdout",
     "output_type": "stream",
     "text": [
      "Training iteration 0\n",
      "NUMBER OF QUESTIONS IS:  3\n",
      "18\n"
     ]
    },
    {
     "name": "stderr",
     "output_type": "stream",
     "text": [
      "train loss: 1.08e+00 | test loss: 1.08e+00 | reg: 6.08e+01 : 100%|█| 100/100 [1:34:55<00:00, 56.95s/\n",
      "                                                                      \r"
     ]
    },
    {
     "name": "stdout",
     "output_type": "stream",
     "text": [
      "Training model 9\n"
     ]
    },
    {
     "name": "stderr",
     "output_type": "stream",
     "text": [
      "Inner Loop Progress:   0%|          | 0/1 [00:00<?, ?it/s]"
     ]
    },
    {
     "name": "stdout",
     "output_type": "stream",
     "text": [
      "Training iteration 0\n",
      "NUMBER OF QUESTIONS IS:  3\n",
      "18\n"
     ]
    },
    {
     "name": "stderr",
     "output_type": "stream",
     "text": [
      "train loss: 1.02e+00 | test loss: 1.02e+00 | reg: 4.89e+01 : 100%|█| 100/100 [1:45:05<00:00, 63.06s/\n",
      "                                                                      \r"
     ]
    },
    {
     "name": "stdout",
     "output_type": "stream",
     "text": [
      "\n",
      "Number of questions: 3\n",
      "Mean AUC      : 0.7025636442999182\n",
      "Stdev AUC     : 0.0\n",
      "95th CI AUC   : 0.7025636442999182 0.7025636442999182\n",
      "Mean F1-Score : 0.5225979738396126\n",
      "Stdev F1      : 0.0\n",
      "95th CI F1    : 0.5225979738396126 0.5225979738396126\n",
      "Mean Cohen's Kappa: 0.4075658385743394\n",
      "Stdev Kappa   : 0.0\n",
      "95th CI Kappa : 0.4075658385743394 0.4075658385743394\n",
      "Training model 0\n"
     ]
    },
    {
     "name": "stderr",
     "output_type": "stream",
     "text": [
      "Inner Loop Progress:   0%|          | 0/1 [00:00<?, ?it/s]"
     ]
    },
    {
     "name": "stdout",
     "output_type": "stream",
     "text": [
      "Training iteration 0\n",
      "NUMBER OF QUESTIONS IS:  4\n",
      "22\n"
     ]
    },
    {
     "name": "stderr",
     "output_type": "stream",
     "text": [
      "train loss: 9.71e-01 | test loss: 9.69e-01 | reg: 4.97e+01 : 100%|█| 100/100 [2:05:42<00:00, 75.42s/\n",
      "                                                                      \r"
     ]
    },
    {
     "name": "stdout",
     "output_type": "stream",
     "text": [
      "Training model 1\n"
     ]
    },
    {
     "name": "stderr",
     "output_type": "stream",
     "text": [
      "Inner Loop Progress:   0%|          | 0/1 [00:00<?, ?it/s]"
     ]
    },
    {
     "name": "stdout",
     "output_type": "stream",
     "text": [
      "Training iteration 0\n",
      "NUMBER OF QUESTIONS IS:  4\n",
      "22\n"
     ]
    },
    {
     "name": "stderr",
     "output_type": "stream",
     "text": [
      "train loss: 9.99e-01 | test loss: 9.98e-01 | reg: 8.87e+01 : 100%|█| 100/100 [1:48:38<00:00, 65.19s/\n",
      "                                                                      \r"
     ]
    },
    {
     "name": "stdout",
     "output_type": "stream",
     "text": [
      "Training model 2\n"
     ]
    },
    {
     "name": "stderr",
     "output_type": "stream",
     "text": [
      "Inner Loop Progress:   0%|          | 0/1 [00:00<?, ?it/s]"
     ]
    },
    {
     "name": "stdout",
     "output_type": "stream",
     "text": [
      "Training iteration 0\n",
      "NUMBER OF QUESTIONS IS:  4\n",
      "22\n"
     ]
    },
    {
     "name": "stderr",
     "output_type": "stream",
     "text": [
      "train loss: 9.74e-01 | test loss: 9.75e-01 | reg: 6.51e+01 : 100%|█| 100/100 [1:51:40<00:00, 67.01s/\n",
      "                                                                      \r"
     ]
    },
    {
     "name": "stdout",
     "output_type": "stream",
     "text": [
      "Training model 3\n"
     ]
    },
    {
     "name": "stderr",
     "output_type": "stream",
     "text": [
      "Inner Loop Progress:   0%|          | 0/1 [00:00<?, ?it/s]"
     ]
    },
    {
     "name": "stdout",
     "output_type": "stream",
     "text": [
      "Training iteration 0\n",
      "NUMBER OF QUESTIONS IS:  4\n",
      "22\n"
     ]
    },
    {
     "name": "stderr",
     "output_type": "stream",
     "text": [
      "train loss: 9.78e-01 | test loss: 9.82e-01 | reg: 5.68e+01 : 100%|█| 100/100 [1:58:59<00:00, 71.39s/\n",
      "                                                                      \r"
     ]
    },
    {
     "name": "stdout",
     "output_type": "stream",
     "text": [
      "Training model 4\n"
     ]
    },
    {
     "name": "stderr",
     "output_type": "stream",
     "text": [
      "Inner Loop Progress:   0%|          | 0/1 [00:00<?, ?it/s]"
     ]
    },
    {
     "name": "stdout",
     "output_type": "stream",
     "text": [
      "Training iteration 0\n",
      "NUMBER OF QUESTIONS IS:  4\n",
      "22\n"
     ]
    },
    {
     "name": "stderr",
     "output_type": "stream",
     "text": [
      "train loss: 9.95e-01 | test loss: 9.98e-01 | reg: 4.71e+01 : 100%|█| 100/100 [2:09:41<00:00, 77.81s/\n",
      "                                                                      \r"
     ]
    },
    {
     "name": "stdout",
     "output_type": "stream",
     "text": [
      "Training model 5\n"
     ]
    },
    {
     "name": "stderr",
     "output_type": "stream",
     "text": [
      "Inner Loop Progress:   0%|          | 0/1 [00:00<?, ?it/s]"
     ]
    },
    {
     "name": "stdout",
     "output_type": "stream",
     "text": [
      "Training iteration 0\n",
      "NUMBER OF QUESTIONS IS:  4\n",
      "22\n"
     ]
    },
    {
     "name": "stderr",
     "output_type": "stream",
     "text": [
      "train loss: 9.67e-01 | test loss: 9.67e-01 | reg: 5.85e+01 : 100%|█| 100/100 [2:06:27<00:00, 75.87s/\n",
      "                                                                      \r"
     ]
    },
    {
     "name": "stdout",
     "output_type": "stream",
     "text": [
      "Training model 6\n"
     ]
    },
    {
     "name": "stderr",
     "output_type": "stream",
     "text": [
      "Inner Loop Progress:   0%|          | 0/1 [00:00<?, ?it/s]"
     ]
    },
    {
     "name": "stdout",
     "output_type": "stream",
     "text": [
      "Training iteration 0\n",
      "NUMBER OF QUESTIONS IS:  4\n",
      "22\n"
     ]
    },
    {
     "name": "stderr",
     "output_type": "stream",
     "text": [
      "train loss: 9.73e-01 | test loss: 9.78e-01 | reg: 6.65e+01 : 100%|█| 100/100 [1:55:30<00:00, 69.30s/\n",
      "                                                                      \r"
     ]
    },
    {
     "name": "stdout",
     "output_type": "stream",
     "text": [
      "Training model 7\n"
     ]
    },
    {
     "name": "stderr",
     "output_type": "stream",
     "text": [
      "Inner Loop Progress:   0%|          | 0/1 [00:00<?, ?it/s]"
     ]
    },
    {
     "name": "stdout",
     "output_type": "stream",
     "text": [
      "Training iteration 0\n",
      "NUMBER OF QUESTIONS IS:  4\n",
      "22\n"
     ]
    },
    {
     "name": "stderr",
     "output_type": "stream",
     "text": [
      "train loss: 9.65e-01 | test loss: 9.68e-01 | reg: 5.93e+01 : 100%|█| 100/100 [1:54:34<00:00, 68.74s/\n",
      "                                                                      \r"
     ]
    },
    {
     "name": "stdout",
     "output_type": "stream",
     "text": [
      "Training model 8\n"
     ]
    },
    {
     "name": "stderr",
     "output_type": "stream",
     "text": [
      "Inner Loop Progress:   0%|          | 0/1 [00:00<?, ?it/s]"
     ]
    },
    {
     "name": "stdout",
     "output_type": "stream",
     "text": [
      "Training iteration 0\n",
      "NUMBER OF QUESTIONS IS:  4\n",
      "22\n"
     ]
    },
    {
     "name": "stderr",
     "output_type": "stream",
     "text": [
      "train loss: 9.59e-01 | test loss: 9.59e-01 | reg: 6.14e+01 : 100%|█| 100/100 [1:52:46<00:00, 67.66s/\n",
      "                                                                      \r"
     ]
    },
    {
     "name": "stdout",
     "output_type": "stream",
     "text": [
      "Training model 9\n"
     ]
    },
    {
     "name": "stderr",
     "output_type": "stream",
     "text": [
      "Inner Loop Progress:   0%|          | 0/1 [00:00<?, ?it/s]"
     ]
    },
    {
     "name": "stdout",
     "output_type": "stream",
     "text": [
      "Training iteration 0\n",
      "NUMBER OF QUESTIONS IS:  4\n",
      "22\n"
     ]
    },
    {
     "name": "stderr",
     "output_type": "stream",
     "text": [
      "train loss: 9.66e-01 | test loss: 9.71e-01 | reg: 6.50e+01 : 100%|█| 100/100 [1:52:27<00:00, 67.48s/\n",
      "                                                                      \r"
     ]
    },
    {
     "name": "stdout",
     "output_type": "stream",
     "text": [
      "\n",
      "Number of questions: 4\n",
      "Mean AUC      : 0.7338923304583849\n",
      "Stdev AUC     : 0.0\n",
      "95th CI AUC   : 0.7338923304583849 0.7338923304583849\n",
      "Mean F1-Score : 0.5759102723389169\n",
      "Stdev F1      : 0.0\n",
      "95th CI F1    : 0.5759102723389169 0.5759102723389169\n",
      "Mean Cohen's Kappa: 0.46999678566864544\n",
      "Stdev Kappa   : 0.0\n",
      "95th CI Kappa : 0.46999678566864544 0.46999678566864544\n",
      "Training model 0\n"
     ]
    },
    {
     "name": "stderr",
     "output_type": "stream",
     "text": [
      "Inner Loop Progress:   0%|          | 0/1 [00:00<?, ?it/s]"
     ]
    },
    {
     "name": "stdout",
     "output_type": "stream",
     "text": [
      "Training iteration 0\n",
      "NUMBER OF QUESTIONS IS:  5\n",
      "26\n"
     ]
    },
    {
     "name": "stderr",
     "output_type": "stream",
     "text": [
      "train loss: 9.26e-01 | test loss: 9.25e-01 | reg: 6.52e+01 : 100%|█| 100/100 [2:34:38<00:00, 92.78s/\n",
      "                                                                      \r"
     ]
    },
    {
     "name": "stdout",
     "output_type": "stream",
     "text": [
      "Training model 1\n"
     ]
    },
    {
     "name": "stderr",
     "output_type": "stream",
     "text": [
      "Inner Loop Progress:   0%|          | 0/1 [00:00<?, ?it/s]"
     ]
    },
    {
     "name": "stdout",
     "output_type": "stream",
     "text": [
      "Training iteration 0\n",
      "NUMBER OF QUESTIONS IS:  5\n",
      "26\n"
     ]
    },
    {
     "name": "stderr",
     "output_type": "stream",
     "text": [
      "train loss: 9.44e-01 | test loss: 9.49e-01 | reg: 6.31e+01 : 100%|█| 100/100 [2:13:25<00:00, 80.06s/\n",
      "                                                                      \r"
     ]
    },
    {
     "name": "stdout",
     "output_type": "stream",
     "text": [
      "Training model 2\n"
     ]
    },
    {
     "name": "stderr",
     "output_type": "stream",
     "text": [
      "Inner Loop Progress:   0%|          | 0/1 [00:00<?, ?it/s]"
     ]
    },
    {
     "name": "stdout",
     "output_type": "stream",
     "text": [
      "Training iteration 0\n",
      "NUMBER OF QUESTIONS IS:  5\n",
      "26\n"
     ]
    },
    {
     "name": "stderr",
     "output_type": "stream",
     "text": [
      "train loss: 9.41e-01 | test loss: 9.36e-01 | reg: 6.22e+01 : 100%|█| 100/100 [2:34:17<00:00, 92.57s/\n",
      "                                                                      \r"
     ]
    },
    {
     "name": "stdout",
     "output_type": "stream",
     "text": [
      "Training model 3\n"
     ]
    },
    {
     "name": "stderr",
     "output_type": "stream",
     "text": [
      "Inner Loop Progress:   0%|          | 0/1 [00:00<?, ?it/s]"
     ]
    },
    {
     "name": "stdout",
     "output_type": "stream",
     "text": [
      "Training iteration 0\n",
      "NUMBER OF QUESTIONS IS:  5\n",
      "26\n"
     ]
    },
    {
     "name": "stderr",
     "output_type": "stream",
     "text": [
      "train loss: 9.73e-01 | test loss: 9.76e-01 | reg: 5.77e+01 : 100%|█| 100/100 [2:29:17<00:00, 89.58s/\n",
      "                                                                      \r"
     ]
    },
    {
     "name": "stdout",
     "output_type": "stream",
     "text": [
      "Training model 4\n"
     ]
    },
    {
     "name": "stderr",
     "output_type": "stream",
     "text": [
      "Inner Loop Progress:   0%|          | 0/1 [00:00<?, ?it/s]"
     ]
    },
    {
     "name": "stdout",
     "output_type": "stream",
     "text": [
      "Training iteration 0\n",
      "NUMBER OF QUESTIONS IS:  5\n",
      "26\n"
     ]
    },
    {
     "name": "stderr",
     "output_type": "stream",
     "text": [
      "train loss: 9.43e-01 | test loss: 9.49e-01 | reg: 6.81e+01 : 100%|█| 100/100 [2:20:43<00:00, 84.44s/\n",
      "                                                                      \r"
     ]
    },
    {
     "name": "stdout",
     "output_type": "stream",
     "text": [
      "Training model 5\n"
     ]
    },
    {
     "name": "stderr",
     "output_type": "stream",
     "text": [
      "Inner Loop Progress:   0%|          | 0/1 [00:00<?, ?it/s]"
     ]
    },
    {
     "name": "stdout",
     "output_type": "stream",
     "text": [
      "Training iteration 0\n",
      "NUMBER OF QUESTIONS IS:  5\n",
      "26\n"
     ]
    },
    {
     "name": "stderr",
     "output_type": "stream",
     "text": [
      "train loss: 9.37e-01 | test loss: 9.34e-01 | reg: 6.75e+01 : 100%|█| 100/100 [2:47:12<00:00, 100.32s\n",
      "                                                                       \r"
     ]
    },
    {
     "name": "stdout",
     "output_type": "stream",
     "text": [
      "Training model 6\n"
     ]
    },
    {
     "name": "stderr",
     "output_type": "stream",
     "text": [
      "Inner Loop Progress:   0%|          | 0/1 [00:00<?, ?it/s]"
     ]
    },
    {
     "name": "stdout",
     "output_type": "stream",
     "text": [
      "Training iteration 0\n",
      "NUMBER OF QUESTIONS IS:  5\n",
      "26\n"
     ]
    },
    {
     "name": "stderr",
     "output_type": "stream",
     "text": [
      "train loss: 9.08e-01 | test loss: 9.08e-01 | reg: 8.13e+01 : 100%|█| 100/100 [2:52:36<00:00, 103.56s\n",
      "                                                                       \r"
     ]
    },
    {
     "name": "stdout",
     "output_type": "stream",
     "text": [
      "Training model 7\n"
     ]
    },
    {
     "name": "stderr",
     "output_type": "stream",
     "text": [
      "Inner Loop Progress:   0%|          | 0/1 [00:00<?, ?it/s]"
     ]
    },
    {
     "name": "stdout",
     "output_type": "stream",
     "text": [
      "Training iteration 0\n",
      "NUMBER OF QUESTIONS IS:  5\n",
      "26\n"
     ]
    },
    {
     "name": "stderr",
     "output_type": "stream",
     "text": [
      "train loss: 9.51e-01 | test loss: 9.59e-01 | reg: 8.24e+01 : 100%|█| 100/100 [2:29:34<00:00, 89.75s/\n",
      "                                                                      \r"
     ]
    },
    {
     "name": "stdout",
     "output_type": "stream",
     "text": [
      "Training model 8\n"
     ]
    },
    {
     "name": "stderr",
     "output_type": "stream",
     "text": [
      "Inner Loop Progress:   0%|          | 0/1 [00:00<?, ?it/s]"
     ]
    },
    {
     "name": "stdout",
     "output_type": "stream",
     "text": [
      "Training iteration 0\n",
      "NUMBER OF QUESTIONS IS:  5\n",
      "26\n"
     ]
    },
    {
     "name": "stderr",
     "output_type": "stream",
     "text": [
      "train loss: 9.31e-01 | test loss: 9.31e-01 | reg: 6.49e+01 : 100%|█| 100/100 [2:11:51<00:00, 79.11s/\n",
      "                                                                      \r"
     ]
    },
    {
     "name": "stdout",
     "output_type": "stream",
     "text": [
      "Training model 9\n"
     ]
    },
    {
     "name": "stderr",
     "output_type": "stream",
     "text": [
      "Inner Loop Progress:   0%|          | 0/1 [00:00<?, ?it/s]"
     ]
    },
    {
     "name": "stdout",
     "output_type": "stream",
     "text": [
      "Training iteration 0\n",
      "NUMBER OF QUESTIONS IS:  5\n",
      "26\n"
     ]
    },
    {
     "name": "stderr",
     "output_type": "stream",
     "text": [
      "train loss: 9.34e-01 | test loss: 9.42e-01 | reg: 6.55e+01 : 100%|█| 100/100 [2:21:22<00:00, 84.83s/\n",
      "                                                                      \r"
     ]
    },
    {
     "name": "stdout",
     "output_type": "stream",
     "text": [
      "\n",
      "Number of questions: 5\n",
      "Mean AUC      : 0.7516075157851004\n",
      "Stdev AUC     : 0.0\n",
      "95th CI AUC   : 0.7516075157851004 0.7516075157851004\n",
      "Mean F1-Score : 0.6046066697591327\n",
      "Stdev F1      : 0.0\n",
      "95th CI F1    : 0.6046066697591327 0.6046066697591327\n",
      "Mean Cohen's Kappa: 0.5050075350865064\n",
      "Stdev Kappa   : 0.0\n",
      "95th CI Kappa : 0.5050075350865064 0.5050075350865064\n",
      "Training model 0\n"
     ]
    },
    {
     "name": "stderr",
     "output_type": "stream",
     "text": [
      "Inner Loop Progress:   0%|          | 0/1 [00:00<?, ?it/s]"
     ]
    },
    {
     "name": "stdout",
     "output_type": "stream",
     "text": [
      "Training iteration 0\n",
      "NUMBER OF QUESTIONS IS:  6\n",
      "30\n"
     ]
    },
    {
     "name": "stderr",
     "output_type": "stream",
     "text": [
      "train loss: 8.92e-01 | test loss: 8.90e-01 | reg: 6.29e+01 : 100%|█| 100/100 [2:31:11<00:00, 90.71s/\n",
      "                                                                      \r"
     ]
    },
    {
     "name": "stdout",
     "output_type": "stream",
     "text": [
      "Training model 1\n"
     ]
    },
    {
     "name": "stderr",
     "output_type": "stream",
     "text": [
      "Inner Loop Progress:   0%|          | 0/1 [00:00<?, ?it/s]"
     ]
    },
    {
     "name": "stdout",
     "output_type": "stream",
     "text": [
      "Training iteration 0\n",
      "NUMBER OF QUESTIONS IS:  6\n",
      "30\n"
     ]
    },
    {
     "name": "stderr",
     "output_type": "stream",
     "text": [
      "train loss: 8.66e-01 | test loss: 8.66e-01 | reg: 7.69e+01 : 100%|█| 100/100 [2:53:44<00:00, 104.25s\n",
      "                                                                       \r"
     ]
    },
    {
     "name": "stdout",
     "output_type": "stream",
     "text": [
      "Training model 2\n"
     ]
    },
    {
     "name": "stderr",
     "output_type": "stream",
     "text": [
      "Inner Loop Progress:   0%|          | 0/1 [00:00<?, ?it/s]"
     ]
    },
    {
     "name": "stdout",
     "output_type": "stream",
     "text": [
      "Training iteration 0\n",
      "NUMBER OF QUESTIONS IS:  6\n",
      "30\n"
     ]
    },
    {
     "name": "stderr",
     "output_type": "stream",
     "text": [
      "train loss: 8.94e-01 | test loss: 9.05e-01 | reg: 7.59e+01 : 100%|█| 100/100 [2:56:52<00:00, 106.13s\n",
      "                                                                       \r"
     ]
    },
    {
     "name": "stdout",
     "output_type": "stream",
     "text": [
      "Training model 3\n"
     ]
    },
    {
     "name": "stderr",
     "output_type": "stream",
     "text": [
      "Inner Loop Progress:   0%|          | 0/1 [00:00<?, ?it/s]"
     ]
    },
    {
     "name": "stdout",
     "output_type": "stream",
     "text": [
      "Training iteration 0\n",
      "NUMBER OF QUESTIONS IS:  6\n",
      "30\n"
     ]
    },
    {
     "name": "stderr",
     "output_type": "stream",
     "text": [
      "train loss: 8.96e-01 | test loss: 9.11e-01 | reg: 6.88e+01 : 100%|█| 100/100 [2:49:35<00:00, 101.75s\n",
      "                                                                       \r"
     ]
    },
    {
     "name": "stdout",
     "output_type": "stream",
     "text": [
      "Training model 4\n"
     ]
    },
    {
     "name": "stderr",
     "output_type": "stream",
     "text": [
      "Inner Loop Progress:   0%|          | 0/1 [00:00<?, ?it/s]"
     ]
    },
    {
     "name": "stdout",
     "output_type": "stream",
     "text": [
      "Training iteration 0\n",
      "NUMBER OF QUESTIONS IS:  6\n",
      "30\n"
     ]
    },
    {
     "name": "stderr",
     "output_type": "stream",
     "text": [
      "train loss: 8.80e-01 | test loss: 8.87e-01 | reg: 7.26e+01 : 100%|█| 100/100 [2:41:02<00:00, 96.63s/\n",
      "                                                                      \r"
     ]
    },
    {
     "name": "stdout",
     "output_type": "stream",
     "text": [
      "Training model 5\n"
     ]
    },
    {
     "name": "stderr",
     "output_type": "stream",
     "text": [
      "Inner Loop Progress:   0%|          | 0/1 [00:00<?, ?it/s]"
     ]
    },
    {
     "name": "stdout",
     "output_type": "stream",
     "text": [
      "Training iteration 0\n",
      "NUMBER OF QUESTIONS IS:  6\n",
      "30\n"
     ]
    },
    {
     "name": "stderr",
     "output_type": "stream",
     "text": [
      "train loss: 8.73e-01 | test loss: 8.78e-01 | reg: 9.57e+01 : 100%|█| 100/100 [2:19:59<00:00, 84.00s/\n",
      "                                                                      \r"
     ]
    },
    {
     "name": "stdout",
     "output_type": "stream",
     "text": [
      "Training model 6\n"
     ]
    },
    {
     "name": "stderr",
     "output_type": "stream",
     "text": [
      "Inner Loop Progress:   0%|          | 0/1 [00:00<?, ?it/s]"
     ]
    },
    {
     "name": "stdout",
     "output_type": "stream",
     "text": [
      "Training iteration 0\n",
      "NUMBER OF QUESTIONS IS:  6\n",
      "30\n"
     ]
    },
    {
     "name": "stderr",
     "output_type": "stream",
     "text": [
      "train loss: 8.71e-01 | test loss: 8.78e-01 | reg: 8.14e+01 : 100%|█| 100/100 [2:33:03<00:00, 91.84s/\n",
      "                                                                      \r"
     ]
    },
    {
     "name": "stdout",
     "output_type": "stream",
     "text": [
      "Training model 7\n"
     ]
    },
    {
     "name": "stderr",
     "output_type": "stream",
     "text": [
      "Inner Loop Progress:   0%|          | 0/1 [00:00<?, ?it/s]"
     ]
    },
    {
     "name": "stdout",
     "output_type": "stream",
     "text": [
      "Training iteration 0\n",
      "NUMBER OF QUESTIONS IS:  6\n",
      "30\n"
     ]
    },
    {
     "name": "stderr",
     "output_type": "stream",
     "text": [
      "train loss: 8.92e-01 | test loss: 9.01e-01 | reg: 6.30e+01 : 100%|█| 100/100 [2:57:34<00:00, 106.55s\n",
      "                                                                       \r"
     ]
    },
    {
     "name": "stdout",
     "output_type": "stream",
     "text": [
      "Training model 8\n"
     ]
    },
    {
     "name": "stderr",
     "output_type": "stream",
     "text": [
      "Inner Loop Progress:   0%|          | 0/1 [00:00<?, ?it/s]"
     ]
    },
    {
     "name": "stdout",
     "output_type": "stream",
     "text": [
      "Training iteration 0\n",
      "NUMBER OF QUESTIONS IS:  6\n",
      "30\n"
     ]
    },
    {
     "name": "stderr",
     "output_type": "stream",
     "text": [
      "train loss: 8.75e-01 | test loss: 8.75e-01 | reg: 7.44e+01 : 100%|█| 100/100 [2:36:47<00:00, 94.08s/\n",
      "                                                                      \r"
     ]
    },
    {
     "name": "stdout",
     "output_type": "stream",
     "text": [
      "Training model 9\n"
     ]
    },
    {
     "name": "stderr",
     "output_type": "stream",
     "text": [
      "Inner Loop Progress:   0%|          | 0/1 [00:00<?, ?it/s]"
     ]
    },
    {
     "name": "stdout",
     "output_type": "stream",
     "text": [
      "Training iteration 0\n",
      "NUMBER OF QUESTIONS IS:  6\n",
      "30\n"
     ]
    },
    {
     "name": "stderr",
     "output_type": "stream",
     "text": [
      "train loss: 8.97e-01 | test loss: 9.03e-01 | reg: 6.18e+01 : 100%|█| 100/100 [2:36:51<00:00, 94.11s/\n",
      "                                                                      \r"
     ]
    },
    {
     "name": "stdout",
     "output_type": "stream",
     "text": [
      "\n",
      "Number of questions: 6\n",
      "Mean AUC      : 0.77808939752284\n",
      "Stdev AUC     : 0.0\n",
      "95th CI AUC   : 0.77808939752284 0.77808939752284\n",
      "Mean F1-Score : 0.6478386283087584\n",
      "Stdev F1      : 0.0\n",
      "95th CI F1    : 0.6478386283087584 0.6478386283087584\n",
      "Mean Cohen's Kappa: 0.5578038772902021\n",
      "Stdev Kappa   : 0.0\n",
      "95th CI Kappa : 0.5578038772902021 0.5578038772902021\n",
      "Training model 0\n"
     ]
    },
    {
     "name": "stderr",
     "output_type": "stream",
     "text": [
      "Inner Loop Progress:   0%|          | 0/1 [00:00<?, ?it/s]"
     ]
    },
    {
     "name": "stdout",
     "output_type": "stream",
     "text": [
      "Training iteration 0\n",
      "NUMBER OF QUESTIONS IS:  7\n",
      "34\n"
     ]
    },
    {
     "name": "stderr",
     "output_type": "stream",
     "text": [
      "train loss: 8.25e-01 | test loss: 8.34e-01 | reg: 8.51e+01 : 100%|█| 100/100 [3:23:25<00:00, 122.05s\n",
      "                                                                       \r"
     ]
    },
    {
     "name": "stdout",
     "output_type": "stream",
     "text": [
      "Training model 1\n"
     ]
    },
    {
     "name": "stderr",
     "output_type": "stream",
     "text": [
      "Inner Loop Progress:   0%|          | 0/1 [00:00<?, ?it/s]"
     ]
    },
    {
     "name": "stdout",
     "output_type": "stream",
     "text": [
      "Training iteration 0\n",
      "NUMBER OF QUESTIONS IS:  7\n",
      "34\n"
     ]
    },
    {
     "name": "stderr",
     "output_type": "stream",
     "text": [
      "train loss: 8.51e-01 | test loss: 8.49e-01 | reg: 8.47e+01 : 100%|█| 100/100 [2:56:15<00:00, 105.75s\n",
      "                                                                       \r"
     ]
    },
    {
     "name": "stdout",
     "output_type": "stream",
     "text": [
      "Training model 2\n"
     ]
    },
    {
     "name": "stderr",
     "output_type": "stream",
     "text": [
      "Inner Loop Progress:   0%|          | 0/1 [00:00<?, ?it/s]"
     ]
    },
    {
     "name": "stdout",
     "output_type": "stream",
     "text": [
      "Training iteration 0\n",
      "NUMBER OF QUESTIONS IS:  7\n",
      "34\n"
     ]
    },
    {
     "name": "stderr",
     "output_type": "stream",
     "text": [
      "train loss: 8.35e-01 | test loss: 8.29e-01 | reg: 6.49e+01 : 100%|█| 100/100 [3:13:00<00:00, 115.81s\n",
      "                                                                       \r"
     ]
    },
    {
     "name": "stdout",
     "output_type": "stream",
     "text": [
      "Training model 3\n"
     ]
    },
    {
     "name": "stderr",
     "output_type": "stream",
     "text": [
      "Inner Loop Progress:   0%|          | 0/1 [00:00<?, ?it/s]"
     ]
    },
    {
     "name": "stdout",
     "output_type": "stream",
     "text": [
      "Training iteration 0\n",
      "NUMBER OF QUESTIONS IS:  7\n",
      "34\n"
     ]
    },
    {
     "name": "stderr",
     "output_type": "stream",
     "text": [
      "train loss: 8.45e-01 | test loss: 8.49e-01 | reg: 8.35e+01 : 100%|█| 100/100 [2:47:52<00:00, 100.73s\n",
      "                                                                       \r"
     ]
    },
    {
     "name": "stdout",
     "output_type": "stream",
     "text": [
      "Training model 4\n"
     ]
    },
    {
     "name": "stderr",
     "output_type": "stream",
     "text": [
      "Inner Loop Progress:   0%|          | 0/1 [00:00<?, ?it/s]"
     ]
    },
    {
     "name": "stdout",
     "output_type": "stream",
     "text": [
      "Training iteration 0\n",
      "NUMBER OF QUESTIONS IS:  7\n",
      "34\n"
     ]
    },
    {
     "name": "stderr",
     "output_type": "stream",
     "text": [
      "train loss: 8.51e-01 | test loss: 8.58e-01 | reg: 7.41e+01 : 100%|█| 100/100 [3:23:59<00:00, 122.39s\n",
      "                                                                       \r"
     ]
    },
    {
     "name": "stdout",
     "output_type": "stream",
     "text": [
      "Training model 5\n"
     ]
    },
    {
     "name": "stderr",
     "output_type": "stream",
     "text": [
      "Inner Loop Progress:   0%|          | 0/1 [00:00<?, ?it/s]"
     ]
    },
    {
     "name": "stdout",
     "output_type": "stream",
     "text": [
      "Training iteration 0\n",
      "NUMBER OF QUESTIONS IS:  7\n",
      "34\n"
     ]
    },
    {
     "name": "stderr",
     "output_type": "stream",
     "text": [
      "train loss: 8.30e-01 | test loss: 8.30e-01 | reg: 6.91e+01 : 100%|█| 100/100 [3:07:25<00:00, 112.45s\n",
      "                                                                       \r"
     ]
    },
    {
     "name": "stdout",
     "output_type": "stream",
     "text": [
      "Training model 6\n"
     ]
    },
    {
     "name": "stderr",
     "output_type": "stream",
     "text": [
      "Inner Loop Progress:   0%|          | 0/1 [00:00<?, ?it/s]"
     ]
    },
    {
     "name": "stdout",
     "output_type": "stream",
     "text": [
      "Training iteration 0\n",
      "NUMBER OF QUESTIONS IS:  7\n",
      "34\n"
     ]
    },
    {
     "name": "stderr",
     "output_type": "stream",
     "text": [
      "train loss: 8.46e-01 | test loss: 8.50e-01 | reg: 1.06e+02 : 100%|█| 100/100 [3:15:01<00:00, 117.01s\n",
      "                                                                       \r"
     ]
    },
    {
     "name": "stdout",
     "output_type": "stream",
     "text": [
      "Training model 7\n"
     ]
    },
    {
     "name": "stderr",
     "output_type": "stream",
     "text": [
      "Inner Loop Progress:   0%|          | 0/1 [00:00<?, ?it/s]"
     ]
    },
    {
     "name": "stdout",
     "output_type": "stream",
     "text": [
      "Training iteration 0\n",
      "NUMBER OF QUESTIONS IS:  7\n",
      "34\n"
     ]
    },
    {
     "name": "stderr",
     "output_type": "stream",
     "text": [
      "train loss: 8.41e-01 | test loss: 8.44e-01 | reg: 6.18e+01 : 100%|█| 100/100 [3:16:32<00:00, 117.93s\n",
      "                                                                       \r"
     ]
    },
    {
     "name": "stdout",
     "output_type": "stream",
     "text": [
      "Training model 8\n"
     ]
    },
    {
     "name": "stderr",
     "output_type": "stream",
     "text": [
      "Inner Loop Progress:   0%|          | 0/1 [00:00<?, ?it/s]"
     ]
    },
    {
     "name": "stdout",
     "output_type": "stream",
     "text": [
      "Training iteration 0\n",
      "NUMBER OF QUESTIONS IS:  7\n",
      "34\n"
     ]
    },
    {
     "name": "stderr",
     "output_type": "stream",
     "text": [
      "train loss: 8.28e-01 | test loss: 8.32e-01 | reg: 7.84e+01 : 100%|█| 100/100 [3:02:42<00:00, 109.63s\n",
      "                                                                       \r"
     ]
    },
    {
     "name": "stdout",
     "output_type": "stream",
     "text": [
      "Training model 9\n"
     ]
    },
    {
     "name": "stderr",
     "output_type": "stream",
     "text": [
      "Inner Loop Progress:   0%|          | 0/1 [00:00<?, ?it/s]"
     ]
    },
    {
     "name": "stdout",
     "output_type": "stream",
     "text": [
      "Training iteration 0\n",
      "NUMBER OF QUESTIONS IS:  7\n",
      "34\n"
     ]
    },
    {
     "name": "stderr",
     "output_type": "stream",
     "text": [
      "train loss: 8.56e-01 | test loss: 8.72e-01 | reg: 7.63e+01 : 100%|█| 100/100 [3:03:13<00:00, 109.93s\n",
      "                                                                       \r"
     ]
    },
    {
     "name": "stdout",
     "output_type": "stream",
     "text": [
      "\n",
      "Number of questions: 7\n",
      "Mean AUC      : 0.7999398552670021\n",
      "Stdev AUC     : 0.0\n",
      "95th CI AUC   : 0.7999398552670021 0.7999398552670021\n",
      "Mean F1-Score : 0.6829712516592549\n",
      "Stdev F1      : 0.0\n",
      "95th CI F1    : 0.6829712516592549 0.6829712516592549\n",
      "Mean Cohen's Kappa: 0.6014599693493901\n",
      "Stdev Kappa   : 0.0\n",
      "95th CI Kappa : 0.6014599693493901 0.6014599693493901\n",
      "Training model 0\n"
     ]
    },
    {
     "name": "stderr",
     "output_type": "stream",
     "text": [
      "Inner Loop Progress:   0%|          | 0/1 [00:00<?, ?it/s]"
     ]
    },
    {
     "name": "stdout",
     "output_type": "stream",
     "text": [
      "Training iteration 0\n",
      "NUMBER OF QUESTIONS IS:  8\n",
      "38\n"
     ]
    },
    {
     "name": "stderr",
     "output_type": "stream",
     "text": [
      "train loss: 8.05e-01 | test loss: 8.03e-01 | reg: 6.66e+01 : 100%|█| 100/100 [3:25:47<00:00, 123.47s\n",
      "                                                                       \r"
     ]
    },
    {
     "name": "stdout",
     "output_type": "stream",
     "text": [
      "Training model 1\n"
     ]
    },
    {
     "name": "stderr",
     "output_type": "stream",
     "text": [
      "Inner Loop Progress:   0%|          | 0/1 [00:00<?, ?it/s]"
     ]
    },
    {
     "name": "stdout",
     "output_type": "stream",
     "text": [
      "Training iteration 0\n",
      "NUMBER OF QUESTIONS IS:  8\n",
      "38\n"
     ]
    },
    {
     "name": "stderr",
     "output_type": "stream",
     "text": []
    }
   ],
   "source": [
    "# For different numbers of questions from DASS-42\n",
    "for num_questions in range(1, 11):\n",
    "    \n",
    "    models_info = {}\n",
    "\n",
    "    accs = []\n",
    "    aucs = []\n",
    "    pres = []\n",
    "    recs = []\n",
    "    f1s = []\n",
    "    kappas = []  # List to store mean Cohen's Kappa scores\n",
    "    auc_stdev = []\n",
    "    f1_stdev = []\n",
    "    kappa_stdev = []  # List to store Cohen's Kappa standard deviations\n",
    "    auc_95ci_u = []\n",
    "    auc_95ci_d = []\n",
    "    f1_95ci_u = []\n",
    "    f1_95ci_d = []\n",
    "    kappa_95ci_u = []  # List to store upper confidence intervals of Cohen's Kappa\n",
    "    kappa_95ci_d = []  # List to store lower confidence intervals of Cohen's Kappa\n",
    "    lst_comb = []\n",
    "\n",
    "    model_num = 0\n",
    "    for a in range(10):  # Adjust the number of models to train as needed\n",
    "        model = {}\n",
    "\n",
    "        print(\"Training model\", a)\n",
    "        cols = [\"gender_m\", \"gender_f\", \"region_other\", \n",
    "                \"region_east\", \"region_west\", \"age_norm\"]\n",
    "\n",
    "        if num_questions == 1:\n",
    "            if a >= len(questions):\n",
    "                break\n",
    "            question_nums = [questions[a]]\n",
    "        else:\n",
    "            question_nums = random.sample(questions, num_questions)\n",
    "            question_nums.sort()\n",
    "            while question_nums in lst_comb:\n",
    "                question_nums = random.sample(questions, num_questions)\n",
    "            lst_comb.append(question_nums)\n",
    "\n",
    "        for q in question_nums:\n",
    "            for j in range(4):\n",
    "                col_name = f\"Q{q}A_{j}\"  # Adjust column name formatting as necessary\n",
    "                if col_name in features_df.columns:\n",
    "                    cols.append(col_name)\n",
    "                else:\n",
    "                    print(f\"Warning: Column {col_name} not found in features_df. Skipping this column.\")\n",
    "\n",
    "        features = features_df[cols]\n",
    "\n",
    "        labels = labels_df.copy()\n",
    "\n",
    "        np.random.seed(seed)\n",
    "        shufId = np.random.permutation(len(labels))\n",
    "        index = int(test_split * len(labels))\n",
    "\n",
    "        df_prist = features.iloc[shufId[0:index]]\n",
    "        df_trainvalid = features.iloc[shufId[index:]]\n",
    "\n",
    "        gt_prist = labels.iloc[shufId[0:index]]\n",
    "        gt_trainvalid = labels.iloc[shufId[index:]]\n",
    "\n",
    "        df_prist.to_csv(os.path.join(data_folder, \"prist_features.csv\"), index=False)\n",
    "        gt_prist.to_csv(os.path.join(data_folder, \"prist_labels.csv\"), index=False)\n",
    "\n",
    "        accs1 = []\n",
    "        aucs1 = []\n",
    "        pres1 = []\n",
    "        recs1 = []\n",
    "        f1s1 = []\n",
    "        kappas1 = []  # List to store Cohen's Kappa scores for this iteration\n",
    "        ensemble_models = []\n",
    "\n",
    "        for b in tqdm(range(1), desc=\"Inner Loop Progress\", leave=False):  # Adjust the number of iterations as needed\n",
    "            if b % 10 == 0:\n",
    "                print(\"Training iteration\", b)\n",
    "\n",
    "            np.random.seed(b)\n",
    "            shufId = np.random.permutation(len(gt_trainvalid))\n",
    "            index = int((1/9) * len(gt_trainvalid))\n",
    "\n",
    "            df_valid = df_trainvalid.iloc[shufId[0:index]]\n",
    "            df_train = df_trainvalid.iloc[shufId[index:]]\n",
    "\n",
    "            gt_valid = gt_trainvalid.iloc[shufId[0:index]]\n",
    "            gt_train = gt_trainvalid.iloc[shufId[index:]]\n",
    "\n",
    "            df_valid = df_valid.reset_index(drop=True)\n",
    "            df_train = df_train.reset_index(drop=True)\n",
    "\n",
    "            gt_valid = gt_valid.reset_index(drop=True)\n",
    "            gt_train = gt_train.reset_index(drop=True)\n",
    "            # Convert DataFrame and Series objects to NumPy arrays\n",
    "            train_input_np = df_train.to_numpy()\n",
    "            train_label_np = gt_train.to_numpy().squeeze()\n",
    "            val_input_np = df_valid.to_numpy()\n",
    "            val_label_np = gt_valid.to_numpy().squeeze()\n",
    "            test_input_np = df_prist.to_numpy()\n",
    "            test_label_np = gt_prist.to_numpy().squeeze()\n",
    "\n",
    "            # Convert NumPy arrays to PyTorch tensors\n",
    "            train_input = torch.tensor(train_input_np, dtype=torch.float32)\n",
    "            train_label = torch.tensor(train_label_np, dtype=torch.long)\n",
    "            val_input = torch.tensor(val_input_np, dtype=torch.float32)\n",
    "            val_label = torch.tensor(val_label_np, dtype=torch.long)\n",
    "            test_input = torch.tensor(test_input_np, dtype=torch.float32)\n",
    "            test_label = torch.tensor(test_label_np, dtype=torch.long)\n",
    "\n",
    "            # Create a dictionary to store these tensors\n",
    "            dataset = {\n",
    "                'train_input': train_input,\n",
    "                'train_label': train_label,\n",
    "                'val_input': val_input,\n",
    "                'val_label': val_label,\n",
    "                'test_input': test_input,\n",
    "                'test_label': test_label\n",
    "            }\n",
    "            print(\"NUMBER OF QUESTIONS IS: \", num_questions)\n",
    "            kan_model = KAN([train_input.shape[1], 7, 5], grid=10, k=3)\n",
    "            print(train_input.shape[1])\n",
    "            \n",
    "            kan_model.train(dataset,\n",
    "                      metrics=(train_acc, test_acc),\n",
    "                      opt=\"LBFGS\", steps=100, loss_fn=torch.nn.CrossEntropyLoss())\n",
    "\n",
    "            # # Define the individual models\n",
    "            # knn = KNeighborsClassifier(n_neighbors=5, metric='minkowski', p=2)\n",
    "            # knn.fit(df_train, gt_train.values.ravel())\n",
    "            # svm_model = SVC(C=100, kernel='rbf', gamma=0.001)\n",
    "            # svm_model.fit(df_train, gt_train.values.ravel())\n",
    "\n",
    "            # xgbpprist = svm_model.predict(df_prist)\n",
    "            # xgbpprist = pd.DataFrame(xgbpprist)\n",
    "            test_preds = torch.argmax(kan_model.forward(test_input).detach(),dim=1)\n",
    "            # Store the evaluation results\n",
    "            acc_score = accuracy_score(gt_prist, test_preds)\n",
    "            auc_score = roc_auc_score(label_binarize(gt_prist, classes=[0, 1, 2, 3, 4]),\n",
    "                                      label_binarize(test_preds, classes=[0, 1, 2, 3, 4]), multi_class='ovr')\n",
    "            fpr, tpr, thresh = roc_curve(label_binarize(gt_prist, classes=[0, 1, 2, 3, 4]).ravel(),\n",
    "                                         label_binarize(test_preds, classes=[0, 1, 2, 3, 4]).ravel())\n",
    "            plt.plot(fpr, tpr)\n",
    "\n",
    "            # Evaluation\n",
    "            target_names = ['class1', 'class2', 'class3', 'class4', 'class5']  # Adjust class names as needed\n",
    "            cr = classification_report(gt_prist, test_preds, target_names=target_names, output_dict=True)\n",
    "            precision = cr[\"weighted avg\"][\"precision\"]\n",
    "            recall = cr[\"weighted avg\"][\"recall\"]\n",
    "            f1score = cr[\"weighted avg\"][\"f1-score\"]\n",
    "\n",
    "            kappa_score = cohen_kappa_score(gt_prist, test_preds)  # Calculate Cohen's Kappa score  \n",
    "\n",
    "            accs1.append(acc_score)\n",
    "            aucs1.append(auc_score)\n",
    "            pres1.append(precision)\n",
    "            recs1.append(recall)\n",
    "            f1s1.append(f1score)\n",
    "            kappas1.append(kappa_score)  # Append Cohen's Kappa score\n",
    "            ensemble_models.append(kan_model)\n",
    "\n",
    "        mean_acc1 = np.mean(accs1)\n",
    "        mean_auc1 = np.mean(aucs1)\n",
    "        stdev_auc1 = np.std(aucs1)\n",
    "        ci_auc1_u, ci_auc1_d = confidence_interval(aucs1)\n",
    "        mean_pre1 = np.mean(pres1)\n",
    "        mean_rec1 = np.mean(recs1)\n",
    "        mean_f11 = np.mean(f1s1)\n",
    "        stdev_f11 = np.std(f1s1)\n",
    "        ci_f11_u, ci_f11_d = confidence_interval(f1s1)\n",
    "        mean_kappa1 = np.mean(kappas1)  # Mean Cohen's Kappa\n",
    "        stdev_kappa1 = np.std(kappas1)  # Standard deviation of Cohen's Kappa\n",
    "        ci_kappa1_u, ci_kappa1_d = confidence_interval(kappas1)  # Confidence interval for Cohen's Kappa\n",
    "\n",
    "        accs.append(mean_acc1)\n",
    "        aucs.append(mean_auc1)\n",
    "        auc_stdev.append(stdev_auc1)\n",
    "        auc_95ci_u.append(ci_auc1_u)\n",
    "        auc_95ci_d.append(ci_auc1_d)\n",
    "        pres.append(mean_pre1)\n",
    "        recs.append(mean_rec1)\n",
    "        f1s.append(mean_f11)\n",
    "        f1_stdev.append(stdev_f11)\n",
    "        f1_95ci_u.append(ci_f11_u)\n",
    "        f1_95ci_d.append(ci_f11_d)\n",
    "        kappas.append(mean_kappa1)  # Append mean Cohen's Kappa\n",
    "        kappa_stdev.append(stdev_kappa1)  # Append Cohen's Kappa standard deviation\n",
    "        kappa_95ci_u.append(ci_kappa1_u)  # Append upper confidence interval for Cohen's Kappa\n",
    "        kappa_95ci_d.append(ci_kappa1_d)  # Append lower confidence interval for Cohen's Kappa\n",
    "\n",
    "        model[\"questions\"] = question_nums\n",
    "        # model[\"knn_params\"] = kan_model.get_params()\n",
    "        model[\"acc_score\"] = acc_score\n",
    "        model[\"auc_score\"] = mean_auc1\n",
    "        model[\"f1_score\"] = mean_f11\n",
    "        model[\"kappa_score\"] = mean_kappa1  # Store mean Cohen's Kappa\n",
    "\n",
    "        models_info[model_num] = model\n",
    "        model_num += 1\n",
    "\n",
    "    mean_acc = np.mean(accs)\n",
    "    mean_auc = np.mean(aucs)\n",
    "    stdev_auc = np.mean(auc_stdev)\n",
    "    ci_auc_u = np.mean(auc_95ci_u)\n",
    "    ci_auc_d = np.mean(auc_95ci_d)\n",
    "    mean_pre = np.mean(pres)\n",
    "    mean_rec = np.mean(recs)\n",
    "    mean_f1  = np.mean(f1s)\n",
    "    stdev_f1 = np.mean(f1_stdev)\n",
    "    ci_f1_u = np.mean(f1_95ci_u)\n",
    "    ci_f1_d = np.mean(f1_95ci_d)\n",
    "    mean_kappa = np.mean(kappas)  # Mean Cohen's Kappa\n",
    "    stdev_kappa = np.mean(kappa_stdev)  # Standard deviation of Cohen's Kappa\n",
    "    ci_kappa_u = np.mean(kappa_95ci_u)  # Upper confidence interval for Cohen's Kappa\n",
    "    ci_kappa_d = np.mean(kappa_95ci_d)  # Lower confidence interval for Cohen's Kappa\n",
    "\n",
    "    percentile_list = pd.DataFrame(\n",
    "    {\n",
    "        'accuracy': accs,\n",
    "        'auc_roc': aucs,\n",
    "        'auc_stdev': auc_stdev,\n",
    "        'auc_95ci_u': auc_95ci_u,\n",
    "        'auc_95ci_d': auc_95ci_d,\n",
    "        'precision': pres,\n",
    "        'recall': recs,\n",
    "        'f1_score': f1s,\n",
    "        'f1_stdev': f1_stdev,\n",
    "        'f1_95ci_u': f1_95ci_u,\n",
    "        'f1_95ci_d': f1_95ci_d,\n",
    "        'kappa_score': kappas,  # Add Cohen's Kappa scores\n",
    "        'kappa_stdev': kappa_stdev,  # Add Cohen's Kappa standard deviation\n",
    "        'kappa_95ci_u': kappa_95ci_u,  # Add upper confidence interval for Cohen's Kappa\n",
    "        'kappa_95ci_d': kappa_95ci_d,  # Add lower confidence interval for Cohen's Kappa\n",
    "    })\n",
    "    percentile_list.to_csv('./data/results_{}.csv'.format(model_type), mode='a', header=True)\n",
    "\n",
    "    print(\"\\nNumber of questions:\", num_questions)\n",
    "    print(\"Mean AUC      :\", mean_auc)\n",
    "    print(\"Stdev AUC     :\", stdev_auc)\n",
    "    print(\"95th CI AUC   :\", ci_auc_u, ci_auc_d)\n",
    "    print(\"Mean F1-Score :\", mean_f1)\n",
    "    print(\"Stdev F1      :\", stdev_f1)\n",
    "    print(\"95th CI F1    :\", ci_f1_u, ci_f1_d)\n",
    "    print(\"Mean Cohen's Kappa:\", mean_kappa)  # Print mean Cohen's Kappa\n",
    "    print(\"Stdev Kappa   :\", stdev_kappa)  # Print standard deviation of Cohen's Kappa\n",
    "    print(\"95th CI Kappa :\", ci_kappa_u, ci_kappa_d)  # Print confidence interval for Cohen's Kappa\n",
    "\n",
    "    ACCS.append(mean_acc)\n",
    "    AUCS.append(mean_auc)\n",
    "    AUC_STDEV.append(stdev_auc)\n",
    "    AUC_95CI_U.append(ci_auc_u)\n",
    "    AUC_95CI_D.append(ci_auc_d)\n",
    "    PRES.append(mean_pre)\n",
    "    RECS.append(mean_rec)\n",
    "    F1S.append(mean_f1)\n",
    "    F1_STDEV.append(stdev_f1)\n",
    "    F1_95CI_U.append(ci_f1_u)\n",
    "    F1_95CI_D.append(ci_f1_d)\n",
    "    KAPPAS.append(mean_kappa)  # Append mean Cohen's Kappa\n",
    "    KAPPA_STDEV.append(stdev_kappa)  # Append Cohen's Kappa standard deviation\n",
    "    KAPPA_95CI_U.append(ci_kappa_u)  # Append upper confidence interval for Cohen's Kappa\n",
    "    KAPPA_95CI_D.append(ci_kappa_d)  # Append lower confidence interval for Cohen's Kappa\n",
    "\n",
    "    with open(\"./data/models_{}.bin\".format(model_type), \"wb\") as f:\n",
    "        pickle.dump(models_info, f)"
   ]
  }
 ],
 "metadata": {
  "kernelspec": {
   "display_name": "Python 3",
   "language": "python",
   "name": "python3"
  },
  "language_info": {
   "codemirror_mode": {
    "name": "ipython",
    "version": 3
   },
   "file_extension": ".py",
   "mimetype": "text/x-python",
   "name": "python",
   "nbconvert_exporter": "python",
   "pygments_lexer": "ipython3",
   "version": "3.10.14"
  }
 },
 "nbformat": 4,
 "nbformat_minor": 2
}
